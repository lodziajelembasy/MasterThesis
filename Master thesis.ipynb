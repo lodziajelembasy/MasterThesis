{
 "cells": [
  {
   "cell_type": "code",
   "execution_count": 2,
   "metadata": {},
   "outputs": [],
   "source": [
    "from collections import Counter\n",
    "import urllib\n",
    "import codecs\n",
    "import nltk\n",
    "import numpy as np \n",
    "\n",
    "import pandas as pd\n",
    "\n",
    "#downloading the webpage\n",
    "import requests\n",
    "import datetime\n",
    "\n",
    "#parsing a page\n",
    "from bs4 import BeautifulSoup\n",
    "import re\n",
    "#presentation handling\n",
    "from pptx import Presentation\n",
    "\n",
    "#file handling\n",
    "from os import listdir\n",
    "\n",
    "#WordCloud\n",
    "from wordcloud import WordCloud\n",
    "import matplotlib.pyplot as plt\n",
    "\n",
    "#Translator\n",
    "from googletrans import Translator\n",
    "\n",
    "import string"
   ]
  },
  {
   "cell_type": "markdown",
   "metadata": {},
   "source": [
    "## Plan\n",
    "1. Mieć czysty zestaw danych\n",
    "2. Tokenizacja\n",
    "3. Czyszczenie"
   ]
  },
  {
   "cell_type": "markdown",
   "metadata": {},
   "source": [
    "#### Inicjalizacja pd.DataFrame dla piosenek"
   ]
  },
  {
   "cell_type": "code",
   "execution_count": 3,
   "metadata": {},
   "outputs": [
    {
     "data": {
      "text/html": [
       "<div>\n",
       "<style scoped>\n",
       "    .dataframe tbody tr th:only-of-type {\n",
       "        vertical-align: middle;\n",
       "    }\n",
       "\n",
       "    .dataframe tbody tr th {\n",
       "        vertical-align: top;\n",
       "    }\n",
       "\n",
       "    .dataframe thead th {\n",
       "        text-align: right;\n",
       "    }\n",
       "</style>\n",
       "<table border=\"1\" class=\"dataframe\">\n",
       "  <thead>\n",
       "    <tr style=\"text-align: right;\">\n",
       "      <th></th>\n",
       "      <th>Tytuł</th>\n",
       "      <th>Tekst</th>\n",
       "    </tr>\n",
       "  </thead>\n",
       "  <tbody>\n",
       "  </tbody>\n",
       "</table>\n",
       "</div>"
      ],
      "text/plain": [
       "Empty DataFrame\n",
       "Columns: [Tytuł, Tekst]\n",
       "Index: []"
      ]
     },
     "execution_count": 3,
     "metadata": {},
     "output_type": "execute_result"
    }
   ],
   "source": [
    "df_p = pd.DataFrame(data=None, index=None, #pd.date_range('1/1/2019', periods=10, freq='D'), \n",
    "                  columns = [\"Tytuł\",\"Tekst\"])\n",
    "df_p.head()"
   ]
  },
  {
   "cell_type": "code",
   "execution_count": 4,
   "metadata": {},
   "outputs": [],
   "source": [
    "def parse_presentation(presentation_path):\n",
    "    prs = Presentation(presentation_path)\n",
    "    text = str()\n",
    "    for slide in prs.slides:\n",
    "        for shape in slide.shapes:\n",
    "            if not shape.has_text_frame:\n",
    "                continue\n",
    "            for paragraph in shape.text_frame.paragraphs:\n",
    "                for run in paragraph.runs:\n",
    "                    text = text + run.text + ' '\n",
    "    return text"
   ]
  },
  {
   "cell_type": "code",
   "execution_count": 5,
   "metadata": {},
   "outputs": [],
   "source": [
    "i=0\n",
    "for file in listdir('prezentacje'):\n",
    "    path = 'prezentacje/' + file\n",
    "    song_name = file[:-5]\n",
    "    text = parse_presentation(path)\n",
    "    df_p.loc[i] = [song_name, text]\n",
    "    i=i+1"
   ]
  },
  {
   "cell_type": "code",
   "execution_count": 6,
   "metadata": {},
   "outputs": [
    {
     "data": {
      "text/plain": [
       "187"
      ]
     },
     "execution_count": 6,
     "metadata": {},
     "output_type": "execute_result"
    }
   ],
   "source": [
    "i"
   ]
  },
  {
   "cell_type": "code",
   "execution_count": 7,
   "metadata": {},
   "outputs": [
    {
     "data": {
      "text/plain": [
       "'Ty wyzwoliłeś nas Panie  z kajdan i samych siebie,  a Chrystus stając się bratem  nauczył nas wołać do Ciebie:  Abba Ojcze! Abba Ojcze! Abba Ojcze! 2. Bo Kościół jak drzewo życia w wieczności zapuszcza korzenie, przenika naszą codzienność i pokazuje nam Ciebie. Abba Ojcze! Abba Ojcze! Abba Ojcze! 3. Bóg hojnym Dawcą jest życia, on wyswobodził nas z śmierci i przygarniając do siebie uczynił swoimi dziećmi. Abba Ojcze! Abba Ojcze! Abba Ojcze! 4. Wszyscy jesteśmy braćmi, jesteśmy jedną rodziną. Tej prawdy nic już nie zaćmi i teraz jest jej godzina. Abba Ojcze! Abba Ojcze! Abba Ojcze! '"
      ]
     },
     "execution_count": 7,
     "metadata": {},
     "output_type": "execute_result"
    }
   ],
   "source": [
    "path = 'prezentacje/Abba Ojcze.pptx'\n",
    "parse_presentation(path)"
   ]
  },
  {
   "cell_type": "code",
   "execution_count": 8,
   "metadata": {},
   "outputs": [
    {
     "data": {
      "text/html": [
       "<div>\n",
       "<style scoped>\n",
       "    .dataframe tbody tr th:only-of-type {\n",
       "        vertical-align: middle;\n",
       "    }\n",
       "\n",
       "    .dataframe tbody tr th {\n",
       "        vertical-align: top;\n",
       "    }\n",
       "\n",
       "    .dataframe thead th {\n",
       "        text-align: right;\n",
       "    }\n",
       "</style>\n",
       "<table border=\"1\" class=\"dataframe\">\n",
       "  <thead>\n",
       "    <tr style=\"text-align: right;\">\n",
       "      <th></th>\n",
       "      <th>Tytuł</th>\n",
       "      <th>Tekst</th>\n",
       "    </tr>\n",
       "  </thead>\n",
       "  <tbody>\n",
       "    <tr>\n",
       "      <th>0</th>\n",
       "      <td>Abba Ojcze</td>\n",
       "      <td>Ty wyzwoliłeś nas Panie  z kajdan i samych sie...</td>\n",
       "    </tr>\n",
       "    <tr>\n",
       "      <th>1</th>\n",
       "      <td>Alleluja (Niech zabrzmi Panu)</td>\n",
       "      <td>Ref. Alleluja, Alleluja, Alleluja, Alleluja.  ...</td>\n",
       "    </tr>\n",
       "    <tr>\n",
       "      <th>2</th>\n",
       "      <td>Alleluja, Alleluja, Amen Amen, Alleluja</td>\n",
       "      <td>Ref. Alleluja, Alleluja,  Amen, Amen, Alleluja...</td>\n",
       "    </tr>\n",
       "    <tr>\n",
       "      <th>3</th>\n",
       "      <td>Blisko, blisko, blisko jesteś</td>\n",
       "      <td>1. Blisko, blisko, blisko Jesteś Panie mój Bli...</td>\n",
       "    </tr>\n",
       "    <tr>\n",
       "      <th>4</th>\n",
       "      <td>Bo góry mogą ustąpić</td>\n",
       "      <td>1. Bo góry mogą ustąpić i pagórki się zachwiać...</td>\n",
       "    </tr>\n",
       "  </tbody>\n",
       "</table>\n",
       "</div>"
      ],
      "text/plain": [
       "                                     Tytuł  \\\n",
       "0                               Abba Ojcze   \n",
       "1            Alleluja (Niech zabrzmi Panu)   \n",
       "2  Alleluja, Alleluja, Amen Amen, Alleluja   \n",
       "3            Blisko, blisko, blisko jesteś   \n",
       "4                     Bo góry mogą ustąpić   \n",
       "\n",
       "                                               Tekst  \n",
       "0  Ty wyzwoliłeś nas Panie  z kajdan i samych sie...  \n",
       "1  Ref. Alleluja, Alleluja, Alleluja, Alleluja.  ...  \n",
       "2  Ref. Alleluja, Alleluja,  Amen, Amen, Alleluja...  \n",
       "3  1. Blisko, blisko, blisko Jesteś Panie mój Bli...  \n",
       "4  1. Bo góry mogą ustąpić i pagórki się zachwiać...  "
      ]
     },
     "execution_count": 8,
     "metadata": {},
     "output_type": "execute_result"
    }
   ],
   "source": [
    "df_p.head()"
   ]
  },
  {
   "cell_type": "markdown",
   "metadata": {},
   "source": [
    "## Czytania danego dnia"
   ]
  },
  {
   "cell_type": "code",
   "execution_count": 9,
   "metadata": {},
   "outputs": [],
   "source": [
    "#czytanie na dziś\n",
    "now = datetime.datetime.now()\n",
    "today = datetime.date.today()\n",
    "year = str(now.year)\n",
    "month = str(now.month)\n",
    "if len(month) == 1:\n",
    "    month = \"0\" + month\n",
    "\n",
    "day = str(now.day)\n",
    "if len(day) == 1:\n",
    "    day = \"0\" + day\n",
    "\n",
    "ymd = year+month+day\n",
    "today_name = now.strftime(\"%A\")\n",
    "day_name = today_name\n",
    "#today_name = 'Sunday'\n",
    "\n",
    "address = \"http://mateusz.pl/czytania/\" + year + \"/\" + ymd + \".html\"\n",
    "#address = \"http://mateusz.pl/czytania/2018/20181021.html\" #niedziela\n",
    "\n",
    "#print(address)"
   ]
  },
  {
   "cell_type": "code",
   "execution_count": 10,
   "metadata": {},
   "outputs": [
    {
     "data": {
      "text/plain": [
       "'Monday'"
      ]
     },
     "execution_count": 10,
     "metadata": {},
     "output_type": "execute_result"
    }
   ],
   "source": [
    "today_name"
   ]
  },
  {
   "cell_type": "code",
   "execution_count": 11,
   "metadata": {},
   "outputs": [],
   "source": [
    "def get_adresses(n):\n",
    "    adresses = []\n",
    "    date_list = [base - datetime.timedelta(days=x) for x in range(0, n)]\n",
    "    dates_cleaned = [str(x).replace('-','') for x in date_list]\n",
    "    for date in dates_cleaned:\n",
    "        ymd = date\n",
    "        address = \"http://mateusz.pl/czytania/\" + ymd[:4]+ \"/\" + ymd + \".html\"\n",
    "        adresses.append(address)\n",
    "    return adresses"
   ]
  },
  {
   "cell_type": "code",
   "execution_count": 12,
   "metadata": {},
   "outputs": [],
   "source": [
    "#get_adresses(5)"
   ]
  },
  {
   "cell_type": "code",
   "execution_count": 13,
   "metadata": {},
   "outputs": [],
   "source": [
    "def get_readings(address, day_name):\n",
    "    page = requests.get(address)\n",
    "    soup = BeautifulSoup(page.content, 'html.parser')\n",
    "    #print(soup.prettify()) \n",
    "    #Exception handling for more readings\n",
    "    try:\n",
    "        #section = list(soup.children)[9]\n",
    "        #section_content = section.find_all('p')   \n",
    "        section = list(soup.children)\n",
    "        section_content1 = section[2].find_all('p')\n",
    "        if day_name == 'Sunday':\n",
    "            section_content2 = section[6]\n",
    "            section_content3 = section[8]\n",
    "            section_content4 = section[12]\n",
    "        else:\n",
    "            section_content2 = None\n",
    "            section_content3 = section[4]\n",
    "            section_content4 = section[8]\n",
    "            \n",
    "        pierwsze_czytanie = str(section_content1[6])\n",
    "        drugie_czytanie = str(section_content2)\n",
    "        tekst_przed_ewangelia = str(section_content3)\n",
    "        psalm_ref = str(section_content1[7])\n",
    "        psalm = \"\"\n",
    "        i = 8\n",
    "        while i < len(section_content1):\n",
    "            psalm += str(section_content1[i])\n",
    "            i += 1\n",
    "        ewangelia = str(section_content4)\n",
    "        document = [pierwsze_czytanie,psalm_ref,psalm, drugie_czytanie, tekst_przed_ewangelia, ewangelia]\n",
    "        return document\n",
    "    except:\n",
    "        pass\n",
    "        section = soup.find_all('section')[0]\n",
    "        section_content =section.find_all('p')"
   ]
  },
  {
   "cell_type": "markdown",
   "metadata": {},
   "source": [
    "#### Inicjalizacja pd.DataFrame dla czytań"
   ]
  },
  {
   "cell_type": "code",
   "execution_count": 21,
   "metadata": {},
   "outputs": [
    {
     "data": {
      "text/html": [
       "<div>\n",
       "<style scoped>\n",
       "    .dataframe tbody tr th:only-of-type {\n",
       "        vertical-align: middle;\n",
       "    }\n",
       "\n",
       "    .dataframe tbody tr th {\n",
       "        vertical-align: top;\n",
       "    }\n",
       "\n",
       "    .dataframe thead th {\n",
       "        text-align: right;\n",
       "    }\n",
       "</style>\n",
       "<table border=\"1\" class=\"dataframe\">\n",
       "  <thead>\n",
       "    <tr style=\"text-align: right;\">\n",
       "      <th></th>\n",
       "      <th>Dzień tygodnia</th>\n",
       "      <th>Pierwsze czytanie</th>\n",
       "      <th>Psalm_ref</th>\n",
       "      <th>Psalm</th>\n",
       "      <th>Drugie czytanie</th>\n",
       "      <th>Werset przed Ewangelią</th>\n",
       "      <th>Ewangelia</th>\n",
       "    </tr>\n",
       "  </thead>\n",
       "  <tbody>\n",
       "  </tbody>\n",
       "</table>\n",
       "</div>"
      ],
      "text/plain": [
       "Empty DataFrame\n",
       "Columns: [Dzień tygodnia, Pierwsze czytanie, Psalm_ref, Psalm, Drugie czytanie, Werset przed Ewangelią, Ewangelia]\n",
       "Index: []"
      ]
     },
     "execution_count": 21,
     "metadata": {},
     "output_type": "execute_result"
    }
   ],
   "source": [
    "df_raw = pd.DataFrame(data=None, index=None, #pd.date_range('1/1/2019', periods=10, freq='D'), \n",
    "                  columns = [\"Dzień tygodnia\",\"Pierwsze czytanie\", \"Psalm_ref\", \"Psalm\", \"Drugie czytanie\", \n",
    "                                                    \"Werset przed Ewangelią\", \"Ewangelia\"])\n",
    "df_raw.head()"
   ]
  },
  {
   "cell_type": "markdown",
   "metadata": {},
   "source": [
    "## Noise removal // Cleaning"
   ]
  },
  {
   "cell_type": "code",
   "execution_count": 234,
   "metadata": {},
   "outputs": [],
   "source": [
    "#first phase - for easy reading\n",
    "def clean_html(raw):\n",
    "    cleaner = re.compile('<.*?>')\n",
    "    cleantext = re.sub(cleaner, '', raw)\n",
    "    return cleantext\n",
    "\n",
    "def clean_proverbs (raw):\n",
    "    cleaner = re.compile('\\([^)]*\\)')\n",
    "    cleantext = re.sub(cleaner, '',raw)\n",
    "    return cleantext\n",
    "\n",
    "def clean_indent(raw):\n",
    "    cleaner = re.compile('^\\s+')\n",
    "    cleantext = re.sub(cleaner, '',raw)\n",
    "    return cleantext\n",
    "\n",
    "def clean_rest(text):\n",
    "    cleaner = re.compile('\\\\r\\\\n\\s+')\n",
    "    cleantext = re.sub(cleaner, '',text)\n",
    "    return cleantext\n",
    "\n",
    "def clean_rest2(text):\n",
    "    cleaner = re.compile('(\\\\r\\\\n)')\n",
    "    cleantext = re.sub(cleaner, ' ',text)\n",
    "    return cleantext\n",
    "\n",
    "def clean_carriage(text):\n",
    "    cleaner = re.compile('(.*)\\n')\n",
    "    cleantext = re.sub(cleaner, '',text)\n",
    "    return cleantext\n",
    "\n",
    "def clean_psalmus(text):\n",
    "    cleaner = re.compile('Aklamacja|REFREN\\:\\s|Bracia\\:\\s')\n",
    "    cleantext = re.sub(cleaner, '',text)\n",
    "    return cleantext\n",
    "\n",
    "def clean_text(raw):\n",
    "    text = clean_html(raw)\n",
    "    text = clean_proverbs(text)\n",
    "    text = clean_indent(text)\n",
    "    text = clean_rest(text)\n",
    "    text = clean_rest2(text)\n",
    "    text = clean_carriage(text)\n",
    "    text = clean_psalmus(text)\n",
    "    return text\n"
   ]
  },
  {
   "cell_type": "code",
   "execution_count": 287,
   "metadata": {},
   "outputs": [],
   "source": [
    "def remove_punct(text):\n",
    "    text_nopunct = \"\".join([char for char in text if char not in string.punctuation])\n",
    "    return text_nopunct"
   ]
  },
  {
   "cell_type": "code",
   "execution_count": 236,
   "metadata": {},
   "outputs": [],
   "source": [
    "n=5\n",
    "base = datetime.date.today()\n",
    "date_list = [base - datetime.timedelta(days=x) for x in range(0, n)]\n",
    "#print(date_list)\n",
    "dates_cleaned = [str(x).replace('-','') for x in date_list]\n",
    "#print(dates_cleaned)\n",
    "dates_names = [x.strftime(\"%A\") for x in date_list]\n",
    "#print(dates_names)\n",
    "adresses = get_adresses(n)\n",
    "#print(adresses)\n",
    "\n",
    "for i in range(n):\n",
    "        doc = get_readings(adresses[i], dates_names[i])\n",
    "        #doc_cleaned = [clean_text(str(text)) for text in doc]\n",
    "        input_row = [dates_names[i]]\n",
    "        for each in doc: #doc_cleaned:\n",
    "            input_row.append(each)\n",
    "        df_raw.loc[date_list[i]] = input_row\n",
    "\n"
   ]
  },
  {
   "cell_type": "code",
   "execution_count": 237,
   "metadata": {},
   "outputs": [
    {
     "data": {
      "text/html": [
       "<div>\n",
       "<style scoped>\n",
       "    .dataframe tbody tr th:only-of-type {\n",
       "        vertical-align: middle;\n",
       "    }\n",
       "\n",
       "    .dataframe tbody tr th {\n",
       "        vertical-align: top;\n",
       "    }\n",
       "\n",
       "    .dataframe thead th {\n",
       "        text-align: right;\n",
       "    }\n",
       "</style>\n",
       "<table border=\"1\" class=\"dataframe\">\n",
       "  <thead>\n",
       "    <tr style=\"text-align: right;\">\n",
       "      <th></th>\n",
       "      <th>Dzień tygodnia</th>\n",
       "      <th>Pierwsze czytanie</th>\n",
       "      <th>Psalm_ref</th>\n",
       "      <th>Psalm</th>\n",
       "      <th>Drugie czytanie</th>\n",
       "      <th>Werset przed Ewangelią</th>\n",
       "      <th>Ewangelia</th>\n",
       "    </tr>\n",
       "  </thead>\n",
       "  <tbody>\n",
       "    <tr>\n",
       "      <th>2019-01-28</th>\n",
       "      <td>Monday</td>\n",
       "      <td>&lt;p&gt;\\r\\n                        (Hbr 9, 15. 24-...</td>\n",
       "      <td>&lt;p&gt;\\r\\n                        (Ps 98 (97), 1b...</td>\n",
       "      <td>&lt;p&gt;Śpiewajcie Panu pieśń nową,&lt;br/&gt;\\r\\nalbowie...</td>\n",
       "      <td>None</td>\n",
       "      <td>&lt;p&gt;\\r\\n                            Aklamacja (...</td>\n",
       "      <td>&lt;p&gt;\\r\\n                        (Mk 3, 22-30) &lt;...</td>\n",
       "    </tr>\n",
       "    <tr>\n",
       "      <th>2019-01-27</th>\n",
       "      <td>Sunday</td>\n",
       "      <td>&lt;p&gt;\\r\\n                        (Ne 8, 2-4a. 5-...</td>\n",
       "      <td>&lt;p&gt;\\r\\n                        (Ps 19 (18), 8-...</td>\n",
       "      <td>&lt;p&gt;Prawo Pańskie jest doskonałe i pokrzepia du...</td>\n",
       "      <td>&lt;p&gt;\\r\\n                        (1 Kor 12, 12-3...</td>\n",
       "      <td>&lt;p&gt;\\r\\n                            Aklamacja (...</td>\n",
       "      <td>&lt;p&gt;\\r\\n                        (Łk 1, 1-4; 4, ...</td>\n",
       "    </tr>\n",
       "    <tr>\n",
       "      <th>2019-01-26</th>\n",
       "      <td>Saturday</td>\n",
       "      <td>&lt;p&gt;\\r\\n                        (Tt 1,1-5) &lt;br/...</td>\n",
       "      <td>&lt;p&gt;\\r\\n                        (Ps 96,1-2.3.7-...</td>\n",
       "      <td>&lt;p&gt;Śpiewajcie Panu pieśń nową&lt;br/&gt;\\r\\nśpiewaj ...</td>\n",
       "      <td>None</td>\n",
       "      <td>&lt;p&gt;\\r\\n                            Aklamacja (...</td>\n",
       "      <td>&lt;p&gt;\\r\\n                        (Łk 10, 1-9) &lt;b...</td>\n",
       "    </tr>\n",
       "    <tr>\n",
       "      <th>2019-01-25</th>\n",
       "      <td>Friday</td>\n",
       "      <td>&lt;p&gt;\\r\\n                        (Dz 22, 3-16) &lt;...</td>\n",
       "      <td>&lt;p&gt;\\r\\n                        (Ps 117, 1-2) &lt;...</td>\n",
       "      <td>&lt;p&gt;Chwalcie Pana, wszystkie narody,&lt;br/&gt;\\r\\nwy...</td>\n",
       "      <td>None</td>\n",
       "      <td>&lt;p&gt;\\r\\n                            Aklamacja (...</td>\n",
       "      <td>&lt;p&gt;\\r\\n                        (Mk 16, 15-18) ...</td>\n",
       "    </tr>\n",
       "    <tr>\n",
       "      <th>2019-01-24</th>\n",
       "      <td>Thursday</td>\n",
       "      <td>&lt;p&gt;\\r\\n                        (Hbr 7, 25 – 8,...</td>\n",
       "      <td>&lt;p&gt;\\r\\n                        (Ps 40 (39), 7-...</td>\n",
       "      <td>&lt;p&gt;Nie chciałeś ofiary krwawej ani z płodów zi...</td>\n",
       "      <td>None</td>\n",
       "      <td>&lt;p&gt;\\r\\n                            Aklamacja (...</td>\n",
       "      <td>&lt;p&gt;\\r\\n                        (Mk 3, 7-12) &lt;b...</td>\n",
       "    </tr>\n",
       "  </tbody>\n",
       "</table>\n",
       "</div>"
      ],
      "text/plain": [
       "           Dzień tygodnia                                  Pierwsze czytanie  \\\n",
       "2019-01-28         Monday  <p>\\r\\n                        (Hbr 9, 15. 24-...   \n",
       "2019-01-27         Sunday  <p>\\r\\n                        (Ne 8, 2-4a. 5-...   \n",
       "2019-01-26       Saturday  <p>\\r\\n                        (Tt 1,1-5) <br/...   \n",
       "2019-01-25         Friday  <p>\\r\\n                        (Dz 22, 3-16) <...   \n",
       "2019-01-24       Thursday  <p>\\r\\n                        (Hbr 7, 25 – 8,...   \n",
       "\n",
       "                                                    Psalm_ref  \\\n",
       "2019-01-28  <p>\\r\\n                        (Ps 98 (97), 1b...   \n",
       "2019-01-27  <p>\\r\\n                        (Ps 19 (18), 8-...   \n",
       "2019-01-26  <p>\\r\\n                        (Ps 96,1-2.3.7-...   \n",
       "2019-01-25  <p>\\r\\n                        (Ps 117, 1-2) <...   \n",
       "2019-01-24  <p>\\r\\n                        (Ps 40 (39), 7-...   \n",
       "\n",
       "                                                        Psalm  \\\n",
       "2019-01-28  <p>Śpiewajcie Panu pieśń nową,<br/>\\r\\nalbowie...   \n",
       "2019-01-27  <p>Prawo Pańskie jest doskonałe i pokrzepia du...   \n",
       "2019-01-26  <p>Śpiewajcie Panu pieśń nową<br/>\\r\\nśpiewaj ...   \n",
       "2019-01-25  <p>Chwalcie Pana, wszystkie narody,<br/>\\r\\nwy...   \n",
       "2019-01-24  <p>Nie chciałeś ofiary krwawej ani z płodów zi...   \n",
       "\n",
       "                                              Drugie czytanie  \\\n",
       "2019-01-28                                               None   \n",
       "2019-01-27  <p>\\r\\n                        (1 Kor 12, 12-3...   \n",
       "2019-01-26                                               None   \n",
       "2019-01-25                                               None   \n",
       "2019-01-24                                               None   \n",
       "\n",
       "                                       Werset przed Ewangelią  \\\n",
       "2019-01-28  <p>\\r\\n                            Aklamacja (...   \n",
       "2019-01-27  <p>\\r\\n                            Aklamacja (...   \n",
       "2019-01-26  <p>\\r\\n                            Aklamacja (...   \n",
       "2019-01-25  <p>\\r\\n                            Aklamacja (...   \n",
       "2019-01-24  <p>\\r\\n                            Aklamacja (...   \n",
       "\n",
       "                                                    Ewangelia  \n",
       "2019-01-28  <p>\\r\\n                        (Mk 3, 22-30) <...  \n",
       "2019-01-27  <p>\\r\\n                        (Łk 1, 1-4; 4, ...  \n",
       "2019-01-26  <p>\\r\\n                        (Łk 10, 1-9) <b...  \n",
       "2019-01-25  <p>\\r\\n                        (Mk 16, 15-18) ...  \n",
       "2019-01-24  <p>\\r\\n                        (Mk 3, 7-12) <b...  "
      ]
     },
     "execution_count": 237,
     "metadata": {},
     "output_type": "execute_result"
    }
   ],
   "source": [
    "df_raw.head()"
   ]
  },
  {
   "cell_type": "code",
   "execution_count": 238,
   "metadata": {},
   "outputs": [
    {
     "name": "stdout",
     "output_type": "stream",
     "text": [
      "<class 'pandas.core.frame.DataFrame'>\n",
      "Index: 5 entries, 2019-01-28 to 2019-01-24\n",
      "Data columns (total 7 columns):\n",
      "Dzień tygodnia            5 non-null object\n",
      "Pierwsze czytanie         5 non-null object\n",
      "Psalm_ref                 5 non-null object\n",
      "Psalm                     5 non-null object\n",
      "Drugie czytanie           5 non-null object\n",
      "Werset przed Ewangelią    5 non-null object\n",
      "Ewangelia                 5 non-null object\n",
      "dtypes: object(7)\n",
      "memory usage: 480.0+ bytes\n"
     ]
    }
   ],
   "source": [
    "df_raw.info()"
   ]
  },
  {
   "cell_type": "code",
   "execution_count": 240,
   "metadata": {},
   "outputs": [],
   "source": [
    "df_cleaned = df_raw.copy()"
   ]
  },
  {
   "cell_type": "code",
   "execution_count": 241,
   "metadata": {},
   "outputs": [],
   "source": [
    "for each in df_cleaned.columns:\n",
    "    df_cleaned[each] = df_cleaned[each].apply(lambda x: clean_text(x))"
   ]
  },
  {
   "cell_type": "code",
   "execution_count": 242,
   "metadata": {},
   "outputs": [
    {
     "data": {
      "text/html": [
       "<div>\n",
       "<style scoped>\n",
       "    .dataframe tbody tr th:only-of-type {\n",
       "        vertical-align: middle;\n",
       "    }\n",
       "\n",
       "    .dataframe tbody tr th {\n",
       "        vertical-align: top;\n",
       "    }\n",
       "\n",
       "    .dataframe thead th {\n",
       "        text-align: right;\n",
       "    }\n",
       "</style>\n",
       "<table border=\"1\" class=\"dataframe\">\n",
       "  <thead>\n",
       "    <tr style=\"text-align: right;\">\n",
       "      <th></th>\n",
       "      <th>Dzień tygodnia</th>\n",
       "      <th>Pierwsze czytanie</th>\n",
       "      <th>Psalm_ref</th>\n",
       "      <th>Psalm</th>\n",
       "      <th>Drugie czytanie</th>\n",
       "      <th>Werset przed Ewangelią</th>\n",
       "      <th>Ewangelia</th>\n",
       "    </tr>\n",
       "  </thead>\n",
       "  <tbody>\n",
       "    <tr>\n",
       "      <th>2019-01-28</th>\n",
       "      <td>Monday</td>\n",
       "      <td>Chrystus jest pośrednikiem Nowego Przymierza, ...</td>\n",
       "      <td>Śpiewajcie Panu, bo uczynił cuda</td>\n",
       "      <td>Śpiewajcie Panu pieśń nową, albowiem uczynił c...</td>\n",
       "      <td>None</td>\n",
       "      <td>Nasz Zbawiciel, Jezus Chrystus, śmierć zwyci...</td>\n",
       "      <td>Uczeni w Piśmie, którzy przyszli z Jerozolimy,...</td>\n",
       "    </tr>\n",
       "    <tr>\n",
       "      <th>2019-01-27</th>\n",
       "      <td>Sunday</td>\n",
       "      <td>Kapłan Ezdrasz przyniósł Prawo przed zgromadze...</td>\n",
       "      <td>Słowa Twe, Panie, są duchem i życiem</td>\n",
       "      <td>Prawo Pańskie jest doskonałe i pokrzepia duszę...</td>\n",
       "      <td>Podobnie jak jedno jest ciało, choć składa się...</td>\n",
       "      <td>Pan posłał Mnie, abym ubogim niósł dobrą now...</td>\n",
       "      <td>Wielu już starało się ułożyć opowiadanie o zda...</td>\n",
       "    </tr>\n",
       "    <tr>\n",
       "      <th>2019-01-26</th>\n",
       "      <td>Saturday</td>\n",
       "      <td>Paweł, sługa Boga i apostoł Jezusa Chrystusa, ...</td>\n",
       "      <td>Głoście cześć Pana wśród wszystkich narodów</td>\n",
       "      <td>Śpiewajcie Panu pieśń nową śpiewaj Panu, ziemi...</td>\n",
       "      <td>None</td>\n",
       "      <td>Pan posłał Mnie, abym ubogim głosił dobrą no...</td>\n",
       "      <td>Następnie wyznaczył Pan jeszcze innych siedemd...</td>\n",
       "    </tr>\n",
       "    <tr>\n",
       "      <th>2019-01-25</th>\n",
       "      <td>Friday</td>\n",
       "      <td>Paweł powiedział do ludu: \"Ja jestem Żydem, ur...</td>\n",
       "      <td>Idźcie i głoście światu Ewangelię</td>\n",
       "      <td>Chwalcie Pana, wszystkie narody, wysławiajcie ...</td>\n",
       "      <td>None</td>\n",
       "      <td>Nie wyście Mnie wybrali, ale Ja was wybrałem...</td>\n",
       "      <td>Po swoim zmartwychwstaniu Jezus ukazał się Jed...</td>\n",
       "    </tr>\n",
       "    <tr>\n",
       "      <th>2019-01-24</th>\n",
       "      <td>Thursday</td>\n",
       "      <td>Jezus może całkowicie zbawiać na wieki tych, k...</td>\n",
       "      <td>Przychodzę, Boże, pełnić Twoją wolę</td>\n",
       "      <td>Nie chciałeś ofiary krwawej ani z płodów ziemi...</td>\n",
       "      <td>None</td>\n",
       "      <td>Nasz Zbawiciel, Jezus Chrystus, śmierć zwyci...</td>\n",
       "      <td>Jezus oddalił się ze swymi uczniami w stronę j...</td>\n",
       "    </tr>\n",
       "  </tbody>\n",
       "</table>\n",
       "</div>"
      ],
      "text/plain": [
       "           Dzień tygodnia                                  Pierwsze czytanie  \\\n",
       "2019-01-28         Monday  Chrystus jest pośrednikiem Nowego Przymierza, ...   \n",
       "2019-01-27         Sunday  Kapłan Ezdrasz przyniósł Prawo przed zgromadze...   \n",
       "2019-01-26       Saturday  Paweł, sługa Boga i apostoł Jezusa Chrystusa, ...   \n",
       "2019-01-25         Friday  Paweł powiedział do ludu: \"Ja jestem Żydem, ur...   \n",
       "2019-01-24       Thursday  Jezus może całkowicie zbawiać na wieki tych, k...   \n",
       "\n",
       "                                              Psalm_ref  \\\n",
       "2019-01-28             Śpiewajcie Panu, bo uczynił cuda   \n",
       "2019-01-27         Słowa Twe, Panie, są duchem i życiem   \n",
       "2019-01-26  Głoście cześć Pana wśród wszystkich narodów   \n",
       "2019-01-25            Idźcie i głoście światu Ewangelię   \n",
       "2019-01-24          Przychodzę, Boże, pełnić Twoją wolę   \n",
       "\n",
       "                                                        Psalm  \\\n",
       "2019-01-28  Śpiewajcie Panu pieśń nową, albowiem uczynił c...   \n",
       "2019-01-27  Prawo Pańskie jest doskonałe i pokrzepia duszę...   \n",
       "2019-01-26  Śpiewajcie Panu pieśń nową śpiewaj Panu, ziemi...   \n",
       "2019-01-25  Chwalcie Pana, wszystkie narody, wysławiajcie ...   \n",
       "2019-01-24  Nie chciałeś ofiary krwawej ani z płodów ziemi...   \n",
       "\n",
       "                                              Drugie czytanie  \\\n",
       "2019-01-28                                               None   \n",
       "2019-01-27  Podobnie jak jedno jest ciało, choć składa się...   \n",
       "2019-01-26                                               None   \n",
       "2019-01-25                                               None   \n",
       "2019-01-24                                               None   \n",
       "\n",
       "                                       Werset przed Ewangelią  \\\n",
       "2019-01-28    Nasz Zbawiciel, Jezus Chrystus, śmierć zwyci...   \n",
       "2019-01-27    Pan posłał Mnie, abym ubogim niósł dobrą now...   \n",
       "2019-01-26    Pan posłał Mnie, abym ubogim głosił dobrą no...   \n",
       "2019-01-25    Nie wyście Mnie wybrali, ale Ja was wybrałem...   \n",
       "2019-01-24    Nasz Zbawiciel, Jezus Chrystus, śmierć zwyci...   \n",
       "\n",
       "                                                    Ewangelia  \n",
       "2019-01-28  Uczeni w Piśmie, którzy przyszli z Jerozolimy,...  \n",
       "2019-01-27  Wielu już starało się ułożyć opowiadanie o zda...  \n",
       "2019-01-26  Następnie wyznaczył Pan jeszcze innych siedemd...  \n",
       "2019-01-25  Po swoim zmartwychwstaniu Jezus ukazał się Jed...  \n",
       "2019-01-24  Jezus oddalił się ze swymi uczniami w stronę j...  "
      ]
     },
     "execution_count": 242,
     "metadata": {},
     "output_type": "execute_result"
    }
   ],
   "source": [
    "df_cleaned"
   ]
  },
  {
   "cell_type": "code",
   "execution_count": 255,
   "metadata": {},
   "outputs": [],
   "source": [
    "doc = df_cleaned.loc[today]\n",
    "pierwsze_czytanie = doc[1]\n",
    "psalm_ref = doc[2]\n",
    "psalm = doc[3]\n",
    "drugie_czytanie = doc[4]\n",
    "werset = doc[5]\n",
    "ewangelia = doc[6]"
   ]
  },
  {
   "cell_type": "code",
   "execution_count": 266,
   "metadata": {},
   "outputs": [
    {
     "name": "stdout",
     "output_type": "stream",
     "text": [
      "Uczeni w Piśmie, którzy przyszli z Jerozolimy, mówili o Jezusie: \"Ma Belzebuba i mocą władcy złych duchów wyrzuca złe duchy\". Wtedy Jezus przywołał ich do siebie i mówił im w przypowieściach: \"Jak może Szatan wyrzucać Szatana? Jeśli jakieś królestwo jest wewnętrznie skłócone, takie królestwo nie może się ostać. I jeśli dom wewnętrznie jest skłócony, to taki dom nie będzie mógł się ostać. Jeśli więc Szatan powstał przeciw sobie i jest z sobą skłócony, to nie może się ostać, lecz koniec z nim. Nikt nie może wejść do domu mocarza i sprzęt mu zagrabić, jeśli mocarza wpierw nie zwiąże, i dopiero wtedy dom jego ograbi. Zaprawdę, powiadam wam: Wszystkie grzechy i bluźnierstwa, których by się ludzie dopuścili, będą im odpuszczone. Kto by jednak zbluźnił przeciw Duchowi Świętemu, nigdy nie otrzyma odpuszczenia, lecz winien jest grzechu wiecznego\". Mówili bowiem: \"Ma ducha nieczystego\".\n"
     ]
    }
   ],
   "source": [
    "text = doc[6]\n",
    "print(text)"
   ]
  },
  {
   "cell_type": "markdown",
   "metadata": {},
   "source": [
    "### Tłumaczenie"
   ]
  },
  {
   "cell_type": "code",
   "execution_count": 267,
   "metadata": {},
   "outputs": [],
   "source": [
    "translator = Translator()\n",
    "t = translator.translate(text)"
   ]
  },
  {
   "cell_type": "code",
   "execution_count": 268,
   "metadata": {},
   "outputs": [
    {
     "data": {
      "text/plain": [
       "'The scribes who came from Jerusalem spoke of Jesus: \"He has Beelzebub and casts out evil spirits by the power of the ruler of evil spirits.\" Then Jesus called them to them and told them in the parables, \"How can Satan cast out Satan?\" If a kingdom is inwardly quarreled, such a kingdom can not stand, and if a house is divided against itself, then such a house will not be able to stand. therefore Satan stood against himself and is divided against himself, he can not stand, but end with him, no one can enter a strong man\\'s house and rob him, if he does not bind him first, and then he will plunder his house. to you: All sins and blasphemies that would be committed by people will be forgiven them, but whoever would blaspheme against the Holy Spirit will never receive remission, but he must be eternal. \" For they said: \"He has an unclean spirit.\"'"
      ]
     },
     "execution_count": 268,
     "metadata": {},
     "output_type": "execute_result"
    }
   ],
   "source": [
    "t.text"
   ]
  },
  {
   "cell_type": "code",
   "execution_count": 286,
   "metadata": {},
   "outputs": [],
   "source": [
    "text = t.text"
   ]
  },
  {
   "cell_type": "markdown",
   "metadata": {},
   "source": [
    "## Tokenization & Segmentation"
   ]
  },
  {
   "cell_type": "code",
   "execution_count": 288,
   "metadata": {},
   "outputs": [
    {
     "data": {
      "text/plain": [
       "['The scribes who came from Jerusalem spoke of Jesus: \"He has Beelzebub and casts out evil spirits by the power of the ruler of evil spirits.\"',\n",
       " 'Then Jesus called them to them and told them in the parables, \"How can Satan cast out Satan?\"',\n",
       " 'If a kingdom is inwardly quarreled, such a kingdom can not stand, and if a house is divided against itself, then such a house will not be able to stand.',\n",
       " \"therefore Satan stood against himself and is divided against himself, he can not stand, but end with him, no one can enter a strong man's house and rob him, if he does not bind him first, and then he will plunder his house.\",\n",
       " 'to you: All sins and blasphemies that would be committed by people will be forgiven them, but whoever would blaspheme against the Holy Spirit will never receive remission, but he must be eternal. \"']"
      ]
     },
     "execution_count": 288,
     "metadata": {},
     "output_type": "execute_result"
    }
   ],
   "source": [
    "sentences = nltk.sent_tokenize(text)\n",
    "sentences[:5]"
   ]
  },
  {
   "cell_type": "code",
   "execution_count": 275,
   "metadata": {},
   "outputs": [
    {
     "name": "stdout",
     "output_type": "stream",
     "text": [
      "['the', 'scribes', 'who', 'came', 'from', 'jerusalem', 'spoke', 'of', 'jesus', ':', '``', 'he', 'has', 'beelzebub', 'and', 'casts', 'out', 'evil', 'spirits', 'by', 'the', 'power', 'of', 'the', 'ruler', 'of', 'evil', 'spirits', '.', \"''\", 'then', 'jesus', 'called', 'them', 'to', 'them', 'and', 'told', 'them', 'in', 'the', 'parables', ',', '``', 'how', 'can', 'satan', 'cast', 'out', 'satan', '?', \"''\", 'if', 'a', 'kingdom', 'is', 'inwardly', 'quarreled', ',', 'such', 'a', 'kingdom', 'can', 'not', 'stand', ',', 'and', 'if', 'a', 'house', 'is', 'divided', 'against', 'itself', ',', 'then', 'such', 'a', 'house', 'will', 'not', 'be', 'able', 'to', 'stand', '.', 'therefore', 'satan', 'stood', 'against', 'himself', 'and', 'is', 'divided', 'against', 'himself', ',', 'he', 'can', 'not', 'stand', ',', 'but', 'end', 'with', 'him', ',', 'no', 'one', 'can', 'enter', 'a', 'strong', 'man', \"'s\", 'house', 'and', 'rob', 'him', ',', 'if', 'he', 'does', 'not', 'bind', 'him', 'first', ',', 'and', 'then', 'he', 'will', 'plunder', 'his', 'house', '.', 'to', 'you', ':', 'all', 'sins', 'and', 'blasphemies', 'that', 'would', 'be', 'committed', 'by', 'people', 'will', 'be', 'forgiven', 'them', ',', 'but', 'whoever', 'would', 'blaspheme', 'against', 'the', 'holy', 'spirit', 'will', 'never', 'receive', 'remission', ',', 'but', 'he', 'must', 'be', 'eternal.', '``', 'for', 'they', 'said', ':', '``', 'he', 'has', 'an', 'unclean', 'spirit', '.', \"''\"]\n"
     ]
    }
   ],
   "source": [
    "tokens = nltk.word_tokenize(text)\n",
    "lower_tokens = [t.lower() for t in tokens]\n",
    "print(lower_tokens)"
   ]
  },
  {
   "cell_type": "markdown",
   "metadata": {},
   "source": [
    "## Normalization / Preprocessing\n",
    "\n",
    "#### Lemmatyzacja (lemmatisation) \n",
    "Algorytm znajdowania lemmy, formy podstawowej wyrazu w obszarze części mowy którą reprezentuje. Inaczej: wyszukiwanie formy kanonicznej leksemu. W komputerowej analizie języka naturalnego lemmatyzacja jest operacją bardziej precyzyjną niż stemmatyzacja. \n",
    "\n",
    "#### Stemmatyzacja (stemming) \n",
    "Sprowadzenie wyrazu reprezentującego dowolną część mowy do stemu, rdzenia postaci źródłowej, najczęściej rzeczownika, bądź niekiedy nawet sekwencji znaków nie mającej samodzielnego znaczenia w języku naturalnym. "
   ]
  },
  {
   "cell_type": "code",
   "execution_count": 276,
   "metadata": {},
   "outputs": [
    {
     "name": "stdout",
     "output_type": "stream",
     "text": [
      "['the', 'scribes', 'who', 'came', 'from', 'jerusalem', 'spoke', 'of', 'jesus', 'he', 'has', 'beelzebub', 'and', 'casts', 'out', 'evil', 'spirits', 'by', 'the', 'power', 'of', 'the', 'ruler', 'of', 'evil', 'spirits', 'then', 'jesus', 'called', 'them', 'to', 'them', 'and', 'told', 'them', 'in', 'the', 'parables', 'how', 'can', 'satan', 'cast', 'out', 'satan', 'if', 'a', 'kingdom', 'is', 'inwardly', 'quarreled', 'such', 'a', 'kingdom', 'can', 'not', 'stand', 'and', 'if', 'a', 'house', 'is', 'divided', 'against', 'itself', 'then', 'such', 'a', 'house', 'will', 'not', 'be', 'able', 'to', 'stand', 'therefore', 'satan', 'stood', 'against', 'himself', 'and', 'is', 'divided', 'against', 'himself', 'he', 'can', 'not', 'stand', 'but', 'end', 'with', 'him', 'no', 'one', 'can', 'enter', 'a', 'strong', 'man', 'house', 'and', 'rob', 'him', 'if', 'he', 'does', 'not', 'bind', 'him', 'first', 'and', 'then', 'he', 'will', 'plunder', 'his', 'house', 'to', 'you', 'all', 'sins', 'and', 'blasphemies', 'that', 'would', 'be', 'committed', 'by', 'people', 'will', 'be', 'forgiven', 'them', 'but', 'whoever', 'would', 'blaspheme', 'against', 'the', 'holy', 'spirit', 'will', 'never', 'receive', 'remission', 'but', 'he', 'must', 'be', 'for', 'they', 'said', 'he', 'has', 'an', 'unclean', 'spirit']\n"
     ]
    }
   ],
   "source": [
    "# Retain alphabetic words: alpha_only\n",
    "alpha_only = [t for t in lower_tokens if t.isalpha()]\n",
    "print(alpha_only)"
   ]
  },
  {
   "cell_type": "code",
   "execution_count": 279,
   "metadata": {},
   "outputs": [],
   "source": [
    "polish_stops = codecs.open(\"polishStopWords\",'r','utf-8')\n",
    "stopwords = nltk.corpus.stopwords.words('english')\n",
    "#stopwords = polish_stops.read().split('\\n')\n",
    "polish_stops.close()"
   ]
  },
  {
   "cell_type": "code",
   "execution_count": 280,
   "metadata": {},
   "outputs": [
    {
     "name": "stdout",
     "output_type": "stream",
     "text": [
      "['scribes', 'came', 'jerusalem', 'spoke', 'jesus', 'beelzebub', 'casts', 'evil', 'spirits', 'power', 'ruler', 'evil', 'spirits', 'jesus', 'called', 'told', 'parables', 'satan', 'cast', 'satan', 'kingdom', 'inwardly', 'quarreled', 'kingdom', 'stand', 'house', 'divided', 'house', 'able', 'stand', 'therefore', 'satan', 'stood', 'divided', 'stand', 'end', 'one', 'enter', 'strong', 'man', 'house', 'rob', 'bind', 'first', 'plunder', 'house', 'sins', 'blasphemies', 'would', 'committed', 'people', 'forgiven', 'whoever', 'would', 'blaspheme', 'holy', 'spirit', 'never', 'receive', 'remission', 'must', 'said', 'unclean', 'spirit']\n"
     ]
    }
   ],
   "source": [
    "# Remove all stop words: no_stops\n",
    "no_stops = [t for t in alpha_only if t not in stopwords]\n",
    "print(no_stops)"
   ]
  },
  {
   "cell_type": "code",
   "execution_count": 322,
   "metadata": {},
   "outputs": [],
   "source": [
    "#z linked in\n",
    "def clean_text2(text):\n",
    "    text = \"\".join([word for word in text if word not in string.punctuation])\n",
    "    tokens = re.split('\\W+', text)\n",
    "    text = [ps.stem(word) for word in tokens if word not in stopwords]\n",
    "    return text"
   ]
  },
  {
   "cell_type": "code",
   "execution_count": 323,
   "metadata": {},
   "outputs": [],
   "source": [
    "def clean_text3(text):\n",
    "    text = \"\".join([word for word in text if word not in string.punctuation])\n",
    "    tokens = re.split('\\W+', text)\n",
    "    #text = [ps.stem(word) for word in tokens if word not in stopwords]\n",
    "    return tokens"
   ]
  },
  {
   "cell_type": "markdown",
   "metadata": {},
   "source": [
    "#### Stemming"
   ]
  },
  {
   "cell_type": "code",
   "execution_count": 281,
   "metadata": {},
   "outputs": [],
   "source": [
    "ps = nltk.PorterStemmer()\n",
    "def stemming(tokenized_text):\n",
    "    text = [ps.stem(word) for word in tokenized_text]\n",
    "    return text"
   ]
  },
  {
   "cell_type": "code",
   "execution_count": 282,
   "metadata": {},
   "outputs": [
    {
     "name": "stdout",
     "output_type": "stream",
     "text": [
      "['scribe', 'came', 'jerusalem', 'spoke', 'jesu', 'beelzebub', 'cast', 'evil', 'spirit', 'power', 'ruler', 'evil', 'spirit', 'jesu', 'call', 'told', 'parabl', 'satan', 'cast', 'satan', 'kingdom', 'inwardli', 'quarrel', 'kingdom', 'stand', 'hous', 'divid', 'hous', 'abl', 'stand', 'therefor', 'satan', 'stood', 'divid', 'stand', 'end', 'one', 'enter', 'strong', 'man', 'hous', 'rob', 'bind', 'first', 'plunder', 'hous', 'sin', 'blasphemi', 'would', 'commit', 'peopl', 'forgiven', 'whoever', 'would', 'blasphem', 'holi', 'spirit', 'never', 'receiv', 'remiss', 'must', 'said', 'unclean', 'spirit']\n"
     ]
    }
   ],
   "source": [
    "print(stemming(no_stops))"
   ]
  },
  {
   "cell_type": "markdown",
   "metadata": {},
   "source": [
    "#### Lemmatizing"
   ]
  },
  {
   "cell_type": "code",
   "execution_count": 294,
   "metadata": {},
   "outputs": [],
   "source": [
    "wn = nltk.WordNetLemmatizer()\n",
    "def lemmatizing(tokenized_text):\n",
    "    text = [wn.lemmatize(word) for word in tokenized_text]\n",
    "    return text"
   ]
  },
  {
   "cell_type": "code",
   "execution_count": 295,
   "metadata": {},
   "outputs": [
    {
     "name": "stdout",
     "output_type": "stream",
     "text": [
      "['scribe', 'came', 'jerusalem', 'spoke', 'jesus', 'beelzebub', 'cast', 'evil', 'spirit', 'power', 'ruler', 'evil', 'spirit', 'jesus', 'called', 'told', 'parable', 'satan', 'cast', 'satan', 'kingdom', 'inwardly', 'quarreled', 'kingdom', 'stand', 'house', 'divided', 'house', 'able', 'stand', 'therefore', 'satan', 'stood', 'divided', 'stand', 'end', 'one', 'enter', 'strong', 'man', 'house', 'rob', 'bind', 'first', 'plunder', 'house', 'sin', 'blasphemy', 'would', 'committed', 'people', 'forgiven', 'whoever', 'would', 'blaspheme', 'holy', 'spirit', 'never', 'receive', 'remission', 'must', 'said', 'unclean', 'spirit']\n"
     ]
    }
   ],
   "source": [
    "print(lemmatizing(no_stops))"
   ]
  },
  {
   "cell_type": "code",
   "execution_count": 296,
   "metadata": {},
   "outputs": [],
   "source": [
    "txt = lemmatizing(no_stops)"
   ]
  },
  {
   "cell_type": "markdown",
   "metadata": {},
   "source": [
    "### Bag of words"
   ]
  },
  {
   "cell_type": "code",
   "execution_count": 297,
   "metadata": {},
   "outputs": [],
   "source": [
    "bow = Counter(txt)"
   ]
  },
  {
   "cell_type": "code",
   "execution_count": 298,
   "metadata": {},
   "outputs": [
    {
     "data": {
      "text/plain": [
       "[('spirit', 4),\n",
       " ('house', 4),\n",
       " ('satan', 3),\n",
       " ('stand', 3),\n",
       " ('jesus', 2),\n",
       " ('cast', 2),\n",
       " ('evil', 2),\n",
       " ('kingdom', 2),\n",
       " ('divided', 2),\n",
       " ('would', 2)]"
      ]
     },
     "execution_count": 298,
     "metadata": {},
     "output_type": "execute_result"
    }
   ],
   "source": [
    "bow.most_common(10)"
   ]
  },
  {
   "cell_type": "markdown",
   "metadata": {},
   "source": [
    "### Word cloud"
   ]
  },
  {
   "cell_type": "code",
   "execution_count": 299,
   "metadata": {},
   "outputs": [
    {
     "data": {
      "image/png": "[encoded data removed]",
      "text/plain": [
       "<Figure size 432x288 with 1 Axes>"
      ]
     },
     "metadata": {
      "needs_background": "light"
     },
     "output_type": "display_data"
    }
   ],
   "source": [
    "# Create and generate a word cloud image:\n",
    "wordcloud = WordCloud(stopwords = stopwords, \n",
    "                      max_font_size=150, \n",
    "                      max_words=10, \n",
    "                      background_color=\"white\").generate(clean_text(text))\n",
    "\n",
    "# Display the generated image:\n",
    "plt.imshow(wordcloud, interpolation='bilinear')\n",
    "plt.axis(\"off\")\n",
    "plt.show()"
   ]
  },
  {
   "cell_type": "markdown",
   "metadata": {},
   "source": [
    "### Statystyki"
   ]
  },
  {
   "cell_type": "markdown",
   "metadata": {},
   "source": [
    "#### Term frequency"
   ]
  },
  {
   "cell_type": "code",
   "execution_count": 301,
   "metadata": {},
   "outputs": [],
   "source": [
    "fdist = nltk.probability.FreqDist(txt)"
   ]
  },
  {
   "cell_type": "code",
   "execution_count": 302,
   "metadata": {
    "scrolled": true
   },
   "outputs": [
    {
     "data": {
      "image/png": "[encoded data removed]",
      "text/plain": [
       "<Figure size 1152x288 with 1 Axes>"
      ]
     },
     "metadata": {
      "needs_background": "light"
     },
     "output_type": "display_data"
    }
   ],
   "source": [
    "plt.figure(figsize=(16,4))\n",
    "fdist_plot = fdist.plot()\n",
    "plt.show()"
   ]
  },
  {
   "cell_type": "code",
   "execution_count": 303,
   "metadata": {},
   "outputs": [
    {
     "name": "stdout",
     "output_type": "stream",
     "text": [
      "['scribe', 'came', 'jerusalem', 'spoke', 'beelzebub', 'power', 'ruler', 'called', 'told', 'parable', 'inwardly', 'quarreled', 'able', 'therefore', 'stood', 'end', 'one', 'enter', 'strong', 'man', 'rob', 'bind', 'first', 'plunder', 'sin', 'blasphemy', 'committed', 'people', 'forgiven', 'whoever', 'blaspheme', 'holy', 'never', 'receive', 'remission', 'must', 'said', 'unclean']\n"
     ]
    }
   ],
   "source": [
    "#occurs only once\n",
    "print(fdist.hapaxes())"
   ]
  },
  {
   "cell_type": "code",
   "execution_count": 304,
   "metadata": {},
   "outputs": [],
   "source": [
    "def lexical_diversity(text):\n",
    "    return len(text)/len(set(text))\n",
    "\n",
    "def percentage(count,total):\n",
    "    return 100 * count/total"
   ]
  },
  {
   "cell_type": "code",
   "execution_count": 305,
   "metadata": {},
   "outputs": [
    {
     "data": {
      "text/plain": [
       "21.846153846153847"
      ]
     },
     "execution_count": 305,
     "metadata": {},
     "output_type": "execute_result"
    }
   ],
   "source": [
    "lexical_diversity(text)"
   ]
  },
  {
   "cell_type": "code",
   "execution_count": 306,
   "metadata": {},
   "outputs": [
    {
     "data": {
      "text/plain": [
       "0.352112676056338"
      ]
     },
     "execution_count": 306,
     "metadata": {},
     "output_type": "execute_result"
    }
   ],
   "source": [
    "percentage(text.count(bow.most_common(1)[0][0]),len(text))"
   ]
  },
  {
   "cell_type": "code",
   "execution_count": 307,
   "metadata": {},
   "outputs": [],
   "source": [
    "#to fix\n",
    "#text.dispersion_plot(keys)"
   ]
  },
  {
   "cell_type": "markdown",
   "metadata": {},
   "source": [
    "### N-Grams"
   ]
  },
  {
   "cell_type": "code",
   "execution_count": 308,
   "metadata": {},
   "outputs": [],
   "source": [
    "from sklearn.feature_extraction.text import CountVectorizer"
   ]
  },
  {
   "cell_type": "code",
   "execution_count": 314,
   "metadata": {},
   "outputs": [
    {
     "name": "stdout",
     "output_type": "stream",
     "text": [
      "(5, 556)\n",
      "['aby czytać', 'aby go', 'aby na', 'abym obwoływał', 'abym ubogim', 'abym uciśnionych', 'abyś się', 'ale robotników', 'ani sandałów', 'ani torby']\n"
     ]
    }
   ],
   "source": [
    "#PL\n",
    "ngram_vect = CountVectorizer(ngram_range=(2,2))\n",
    "X_counts = ngram_vect.fit_transform(df_raw['Ewangelia'].apply(lambda x: clean_text(x)))\n",
    "\n",
    "print(X_counts.shape)\n",
    "print(ngram_vect.get_feature_names()[:10])"
   ]
  },
  {
   "cell_type": "code",
   "execution_count": 315,
   "metadata": {},
   "outputs": [
    {
     "name": "stdout",
     "output_type": "stream",
     "text": [
      "(5, 678)\n",
      "['able to', 'about how', 'about the', 'absolute certainty', 'accept you', 'acted so', 'after his', 'against him', 'against himself', 'against itself']\n"
     ]
    }
   ],
   "source": [
    "#ENG\n",
    "ngram_vect = CountVectorizer(ngram_range=(2,2))\n",
    "X_counts = ngram_vect.fit_transform(df_raw['Ewangelia'].apply(lambda x: str(translator.translate(clean_text(x)))))\n",
    "\n",
    "print(X_counts.shape)\n",
    "print(ngram_vect.get_feature_names()[:10])"
   ]
  },
  {
   "cell_type": "code",
   "execution_count": 316,
   "metadata": {},
   "outputs": [
    {
     "name": "stdout",
     "output_type": "stream",
     "text": [
      "(187, 6883)\n",
      "['abba ojcze', 'abrahama izaaka', 'abrahama pomny', 'abrahama ref', 'abrahamowi jego', 'aby każdy', 'aby nami', 'aby nas', 'aby niewinnie', 'aby twój']\n"
     ]
    }
   ],
   "source": [
    "#PL\n",
    "ngram_vect_p = CountVectorizer(ngram_range=(2,2))\n",
    "X_counts_p = ngram_vect_p.fit_transform(df_p['Tekst'])\n",
    "\n",
    "print(X_counts_p.shape)\n",
    "print(ngram_vect_p.get_feature_names()[:10])"
   ]
  },
  {
   "cell_type": "code",
   "execution_count": 319,
   "metadata": {},
   "outputs": [
    {
     "name": "stdout",
     "output_type": "stream",
     "text": [
      "(187, 6569)\n",
      "['abandoned home', 'abba father', 'abides in', 'able to', 'about beauty', 'about hallelujah', 'about jesus', 'about me', 'about my', 'about the']\n"
     ]
    }
   ],
   "source": [
    "#ENG\n",
    "ngram_vect_p = CountVectorizer(ngram_range=(2,2))\n",
    "X_counts_p = ngram_vect_p.fit_transform(df_p['Tekst'].apply(lambda x: str(translator.translate(x))))\n",
    "\n",
    "print(X_counts_p.shape)\n",
    "print(ngram_vect_p.get_feature_names()[:10])"
   ]
  },
  {
   "cell_type": "markdown",
   "metadata": {},
   "source": [
    "### Tf-idf \n",
    "\n",
    "#### Term frequency - inverse document frequency\n",
    "Ważenie częstością termów - odwrotna częstość w dokumentach - jedna z metod obliczania wagi słów w oparciu o liczbę ich wystąpień, należąca do grupy algorytmów obliczających statystyczne wagi termów. \n",
    "- Każdy dokument reprezentowany jest przez wektor, składający się z wag słów występujących w tym dokumencie. \n",
    "- TFIDF informuje o częstości wystąpienia termów uwzględniając jednocześnie odpowiednie wyważenie znaczenia lokalnego termu i jego znaczenia w kontekście pełnej kolekcji dokumentów. \n",
    "\n",
    "https://pl.wikipedia.org/wiki/TFIDF\n",
    "\n",
    "- Pozwala na określenie rzadkich, ale ważnych słów każdym dokumencie\n",
    "\n",
    "$$w(i,j) = tf(i,j) * log(\\frac{N}{df(i)})$$\n",
    "\n",
    "gdzie:\n",
    "\n",
    ">* w(i,f) - waga tokenu i w dokumencie j\n",
    ">* tf(i,j) - liczba wystąpień tokenu i w dokumencie j\n",
    ">* df(i) - licza dokumentów zawierających token i\n",
    ">*N - liczba wszystkich dokumentów"
   ]
  },
  {
   "cell_type": "code",
   "execution_count": 320,
   "metadata": {},
   "outputs": [],
   "source": [
    "from sklearn.feature_extraction.text import TfidfVectorizer"
   ]
  },
  {
   "cell_type": "code",
   "execution_count": 324,
   "metadata": {},
   "outputs": [
    {
     "name": "stdout",
     "output_type": "stream",
     "text": [
      "(5, 404)\n",
      "['5', 'A', 'Belzebuba', 'Boże', 'Boży', 'Duch', 'Ducha', 'Duchowi', 'Dziś', 'Ewangelię']\n"
     ]
    }
   ],
   "source": [
    "#PL\n",
    "tfidf_vect = TfidfVectorizer(analyzer=clean_text3)\n",
    "X_tfidf = tfidf_vect.fit_transform(df_raw['Ewangelia'].apply(lambda x: clean_text(x)))\n",
    "print(X_tfidf.shape)\n",
    "print(tfidf_vect.get_feature_names()[:10])"
   ]
  },
  {
   "cell_type": "code",
   "execution_count": 325,
   "metadata": {},
   "outputs": [
    {
     "data": {
      "text/html": [
       "<div>\n",
       "<style scoped>\n",
       "    .dataframe tbody tr th:only-of-type {\n",
       "        vertical-align: middle;\n",
       "    }\n",
       "\n",
       "    .dataframe tbody tr th {\n",
       "        vertical-align: top;\n",
       "    }\n",
       "\n",
       "    .dataframe thead th {\n",
       "        text-align: right;\n",
       "    }\n",
       "</style>\n",
       "<table border=\"1\" class=\"dataframe\">\n",
       "  <thead>\n",
       "    <tr style=\"text-align: right;\">\n",
       "      <th></th>\n",
       "      <th>5</th>\n",
       "      <th>A</th>\n",
       "      <th>Belzebuba</th>\n",
       "      <th>Boże</th>\n",
       "      <th>Boży</th>\n",
       "      <th>Duch</th>\n",
       "      <th>Ducha</th>\n",
       "      <th>Duchowi</th>\n",
       "      <th>Dziś</th>\n",
       "      <th>Ewangelię</th>\n",
       "      <th>...</th>\n",
       "      <th>złych</th>\n",
       "      <th>łaski</th>\n",
       "      <th>łódka</th>\n",
       "      <th>Świętemu</th>\n",
       "      <th>świadkami</th>\n",
       "      <th>świat</th>\n",
       "      <th>Żniwo</th>\n",
       "      <th>żeby</th>\n",
       "      <th>żniwa</th>\n",
       "      <th>żniwo</th>\n",
       "    </tr>\n",
       "  </thead>\n",
       "  <tbody>\n",
       "    <tr>\n",
       "      <th>0</th>\n",
       "      <td>0.000000</td>\n",
       "      <td>0.000000</td>\n",
       "      <td>0.072116</td>\n",
       "      <td>0.000000</td>\n",
       "      <td>0.000000</td>\n",
       "      <td>0.000000</td>\n",
       "      <td>0.000000</td>\n",
       "      <td>0.072116</td>\n",
       "      <td>0.000000</td>\n",
       "      <td>0.000000</td>\n",
       "      <td>...</td>\n",
       "      <td>0.072116</td>\n",
       "      <td>0.000000</td>\n",
       "      <td>0.000000</td>\n",
       "      <td>0.072116</td>\n",
       "      <td>0.000000</td>\n",
       "      <td>0.000000</td>\n",
       "      <td>0.000000</td>\n",
       "      <td>0.000000</td>\n",
       "      <td>0.000000</td>\n",
       "      <td>0.000000</td>\n",
       "    </tr>\n",
       "    <tr>\n",
       "      <th>1</th>\n",
       "      <td>0.000000</td>\n",
       "      <td>0.000000</td>\n",
       "      <td>0.000000</td>\n",
       "      <td>0.000000</td>\n",
       "      <td>0.000000</td>\n",
       "      <td>0.069782</td>\n",
       "      <td>0.069782</td>\n",
       "      <td>0.000000</td>\n",
       "      <td>0.069782</td>\n",
       "      <td>0.000000</td>\n",
       "      <td>...</td>\n",
       "      <td>0.000000</td>\n",
       "      <td>0.069782</td>\n",
       "      <td>0.000000</td>\n",
       "      <td>0.000000</td>\n",
       "      <td>0.069782</td>\n",
       "      <td>0.000000</td>\n",
       "      <td>0.000000</td>\n",
       "      <td>0.000000</td>\n",
       "      <td>0.000000</td>\n",
       "      <td>0.000000</td>\n",
       "    </tr>\n",
       "    <tr>\n",
       "      <th>2</th>\n",
       "      <td>0.075682</td>\n",
       "      <td>0.000000</td>\n",
       "      <td>0.000000</td>\n",
       "      <td>0.075682</td>\n",
       "      <td>0.000000</td>\n",
       "      <td>0.000000</td>\n",
       "      <td>0.000000</td>\n",
       "      <td>0.000000</td>\n",
       "      <td>0.000000</td>\n",
       "      <td>0.000000</td>\n",
       "      <td>...</td>\n",
       "      <td>0.000000</td>\n",
       "      <td>0.000000</td>\n",
       "      <td>0.000000</td>\n",
       "      <td>0.000000</td>\n",
       "      <td>0.000000</td>\n",
       "      <td>0.000000</td>\n",
       "      <td>0.075682</td>\n",
       "      <td>0.061060</td>\n",
       "      <td>0.075682</td>\n",
       "      <td>0.075682</td>\n",
       "    </tr>\n",
       "    <tr>\n",
       "      <th>3</th>\n",
       "      <td>0.000000</td>\n",
       "      <td>0.000000</td>\n",
       "      <td>0.000000</td>\n",
       "      <td>0.000000</td>\n",
       "      <td>0.000000</td>\n",
       "      <td>0.000000</td>\n",
       "      <td>0.000000</td>\n",
       "      <td>0.000000</td>\n",
       "      <td>0.000000</td>\n",
       "      <td>0.111422</td>\n",
       "      <td>...</td>\n",
       "      <td>0.000000</td>\n",
       "      <td>0.000000</td>\n",
       "      <td>0.000000</td>\n",
       "      <td>0.000000</td>\n",
       "      <td>0.000000</td>\n",
       "      <td>0.111422</td>\n",
       "      <td>0.000000</td>\n",
       "      <td>0.000000</td>\n",
       "      <td>0.000000</td>\n",
       "      <td>0.000000</td>\n",
       "    </tr>\n",
       "    <tr>\n",
       "      <th>4</th>\n",
       "      <td>0.000000</td>\n",
       "      <td>0.091603</td>\n",
       "      <td>0.000000</td>\n",
       "      <td>0.000000</td>\n",
       "      <td>0.091603</td>\n",
       "      <td>0.000000</td>\n",
       "      <td>0.000000</td>\n",
       "      <td>0.000000</td>\n",
       "      <td>0.000000</td>\n",
       "      <td>0.000000</td>\n",
       "      <td>...</td>\n",
       "      <td>0.000000</td>\n",
       "      <td>0.000000</td>\n",
       "      <td>0.091603</td>\n",
       "      <td>0.000000</td>\n",
       "      <td>0.000000</td>\n",
       "      <td>0.000000</td>\n",
       "      <td>0.000000</td>\n",
       "      <td>0.147809</td>\n",
       "      <td>0.000000</td>\n",
       "      <td>0.000000</td>\n",
       "    </tr>\n",
       "  </tbody>\n",
       "</table>\n",
       "<p>5 rows × 404 columns</p>\n",
       "</div>"
      ],
      "text/plain": [
       "          5         A  Belzebuba      Boże      Boży      Duch     Ducha  \\\n",
       "0  0.000000  0.000000   0.072116  0.000000  0.000000  0.000000  0.000000   \n",
       "1  0.000000  0.000000   0.000000  0.000000  0.000000  0.069782  0.069782   \n",
       "2  0.075682  0.000000   0.000000  0.075682  0.000000  0.000000  0.000000   \n",
       "3  0.000000  0.000000   0.000000  0.000000  0.000000  0.000000  0.000000   \n",
       "4  0.000000  0.091603   0.000000  0.000000  0.091603  0.000000  0.000000   \n",
       "\n",
       "    Duchowi      Dziś  Ewangelię    ...        złych     łaski     łódka  \\\n",
       "0  0.072116  0.000000   0.000000    ...     0.072116  0.000000  0.000000   \n",
       "1  0.000000  0.069782   0.000000    ...     0.000000  0.069782  0.000000   \n",
       "2  0.000000  0.000000   0.000000    ...     0.000000  0.000000  0.000000   \n",
       "3  0.000000  0.000000   0.111422    ...     0.000000  0.000000  0.000000   \n",
       "4  0.000000  0.000000   0.000000    ...     0.000000  0.000000  0.091603   \n",
       "\n",
       "   Świętemu  świadkami     świat     Żniwo      żeby     żniwa     żniwo  \n",
       "0  0.072116   0.000000  0.000000  0.000000  0.000000  0.000000  0.000000  \n",
       "1  0.000000   0.069782  0.000000  0.000000  0.000000  0.000000  0.000000  \n",
       "2  0.000000   0.000000  0.000000  0.075682  0.061060  0.075682  0.075682  \n",
       "3  0.000000   0.000000  0.111422  0.000000  0.000000  0.000000  0.000000  \n",
       "4  0.000000   0.000000  0.000000  0.000000  0.147809  0.000000  0.000000  \n",
       "\n",
       "[5 rows x 404 columns]"
      ]
     },
     "execution_count": 325,
     "metadata": {},
     "output_type": "execute_result"
    }
   ],
   "source": [
    "X_tfidf_df = pd.DataFrame(X_tfidf.toarray())\n",
    "X_tfidf_df.columns = tfidf_vect.get_feature_names()\n",
    "X_tfidf_df"
   ]
  },
  {
   "cell_type": "code",
   "execution_count": 328,
   "metadata": {},
   "outputs": [
    {
     "name": "stdout",
     "output_type": "stream",
     "text": [
      "(5, 341)\n",
      "['A', 'All', 'Also', 'And', 'At', 'Beelzebub', 'But', 'Even', 'For', 'Galilee']\n"
     ]
    }
   ],
   "source": [
    "tfidf_vect_eng = TfidfVectorizer(analyzer=clean_text3)\n",
    "X_tfidf_eng = tfidf_vect_eng.fit_transform(df_raw['Ewangelia'].apply(lambda x: str(translator.translate(clean_text(x)))))\n",
    "print(X_tfidf_eng.shape)\n",
    "print(tfidf_vect_eng.get_feature_names()[:10])"
   ]
  },
  {
   "cell_type": "code",
   "execution_count": null,
   "metadata": {},
   "outputs": [],
   "source": []
  }
 ],
 "metadata": {
  "kernelspec": {
   "display_name": "Python 3",
   "language": "python",
   "name": "python3"
  },
  "language_info": {
   "codemirror_mode": {
    "name": "ipython",
    "version": 3
   },
   "file_extension": ".py",
   "mimetype": "text/x-python",
   "name": "python",
   "nbconvert_exporter": "python",
   "pygments_lexer": "ipython3",
   "version": "3.6.8"
  }
 },
 "nbformat": 4,
 "nbformat_minor": 2
}
