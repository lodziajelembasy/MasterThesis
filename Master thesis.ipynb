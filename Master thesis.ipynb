{
 "cells": [
  {
   "cell_type": "code",
   "execution_count": 1,
   "metadata": {},
   "outputs": [],
   "source": [
    "from nltk.tokenize import word_tokenize, sent_tokenize, regexp_tokenize \n",
    "from matplotlib.pyplot import hist, show\n",
    "from collections import Counter\n",
    "import urllib\n",
    "import codecs\n",
    "from nltk.stem import WordNetLemmatizer"
   ]
  },
  {
   "cell_type": "markdown",
   "metadata": {},
   "source": [
    "## Czytania danego dnia"
   ]
  },
  {
   "cell_type": "code",
   "execution_count": 2,
   "metadata": {},
   "outputs": [],
   "source": [
    "#downloading the webpage\n",
    "import requests\n",
    "import datetime\n",
    "\n",
    "now = datetime.datetime.now()\n",
    "year = str(now.year)\n",
    "month = str(now.month)\n",
    "if len(month) == 1:\n",
    "    month = \"0\" + month\n",
    "day = str(now.day)\n",
    "ymd = year+month+day\n",
    "\n",
    "    \n",
    "address = \"http://mateusz.pl/czytania/\" + year + \"/\" + ymd + \".html\"\n",
    "#address = \"http://mateusz.pl/czytania/2018/20180909.html\" #niedziela\n",
    "page = requests.get(address)"
   ]
  },
  {
   "cell_type": "code",
   "execution_count": 3,
   "metadata": {},
   "outputs": [],
   "source": [
    "#parsing a page\n",
    "from bs4 import BeautifulSoup\n",
    "soup = BeautifulSoup(page.content, 'html.parser')"
   ]
  },
  {
   "cell_type": "code",
   "execution_count": 4,
   "metadata": {},
   "outputs": [],
   "source": [
    "#print(soup.prettify()) \n",
    "#Exception handling for more readings\n",
    "try:\n",
    "    section = list(soup.children)[9]\n",
    "    section_content = section.find_all('p')\n",
    "except:\n",
    "    section = soup.find_all('section')[0]\n",
    "    section_content =section.find_all('p')"
   ]
  },
  {
   "cell_type": "code",
   "execution_count": 5,
   "metadata": {},
   "outputs": [
    {
     "data": {
      "text/plain": [
       "7"
      ]
     },
     "execution_count": 5,
     "metadata": {},
     "output_type": "execute_result"
    }
   ],
   "source": [
    "len(section_content)"
   ]
  },
  {
   "cell_type": "code",
   "execution_count": 6,
   "metadata": {},
   "outputs": [
    {
     "data": {
      "text/plain": [
       "<p>(1 Kor 7, 25-31)<br/>\n",
       "    Bracia: Nie mam nakazu Pańskiego co do dziewic, lecz daję radę jako ten, który – wskutek doznanego od Pana miłosierdzia – godzien jest, aby mu wierzono. Uważam, iż przy obecnych utrapieniach dobrze jest tak zostać, dobrze to dla człowieka tak żyć. Jesteś związany z żoną? Nie usiłuj odłączać się od niej! Jesteś wolny? Nie szukaj żony! Ale jeśli się ożenisz, nie grzeszysz. Podobnie i dziewica, jeśli wychodzi za mąż, nie grzeszy. Tacy jednak cierpieć będą udręki ciała, a ja chciałbym ich wam oszczędzić. Mówię wam, bracia, czas jest krótki. Trzeba więc, aby ci, którzy mają żony, tak żyli, jakby byli nieżonaci, a ci, którzy płaczą, tak jakby nie płakali, ci zaś, którzy się radują, tak jakby się nie radowali; ci zaś, którzy nabywają, jak gdyby nie posiadali; ci, którzy używają tego świata, tak jakby z niego nie korzystali. Przemija bowiem postać tego świata.</p>"
      ]
     },
     "execution_count": 6,
     "metadata": {},
     "output_type": "execute_result"
    }
   ],
   "source": [
    "pierwsze_czytanie = section_content[0]\n",
    "pierwsze_czytanie"
   ]
  },
  {
   "cell_type": "code",
   "execution_count": 12,
   "metadata": {},
   "outputs": [
    {
     "data": {
      "text/plain": [
       "<p>(Łk 6, 20-26)<br/>\n",
       "\t\tJezus podniósł oczy na swoich uczniów i mówił: \"Błogosławieni jesteście, ubodzy, albowiem do was należy królestwo Boże. Błogosławieni, którzy teraz głodujecie, albowiem będziecie nasyceni. Błogosławieni, którzy teraz płaczecie, albowiem śmiać się będziecie. Błogosławieni jesteście, gdy ludzie was znienawidzą i gdy was wyłączą spośród siebie, gdy zelżą was i z powodu Syna Człowieczego odrzucą z pogardą wasze imię jako niecne: cieszcie się i radujcie w owym dniu, bo wielka jest wasza nagroda w niebie. Tak samo bowiem przodkowie ich czynili prorokom. Natomiast biada wam, bogaczom, bo odebraliście już pociechę waszą. Biada wam, którzy teraz jesteście syci, albowiem głód cierpieć będziecie. Biada wam, którzy się teraz śmiejecie, albowiem smucić się i płakać będziecie Biada wam, gdy wszyscy ludzie chwalić was będą. Tak samo bowiem przodkowie ich czynili fałszywym prorokom\".</p>"
      ]
     },
     "execution_count": 12,
     "metadata": {},
     "output_type": "execute_result"
    }
   ],
   "source": [
    "ewangelia = section_content[len(section_content)-1]\n",
    "ewangelia"
   ]
  },
  {
   "cell_type": "markdown",
   "metadata": {},
   "source": [
    "## Noise removal"
   ]
  },
  {
   "cell_type": "code",
   "execution_count": 32,
   "metadata": {},
   "outputs": [],
   "source": [
    "import re\n",
    "\n",
    "text = str(ewangelia)\n",
    "\n",
    "#removing html tags\n",
    "def cleanhtml(raw_html):\n",
    "    cleanr = re.compile('<.*?>')\n",
    "    cleantext = re.sub(cleanr, '', raw_html)\n",
    "    return cleantext\n",
    "\n",
    "#removing proverbs\n",
    "def cleanbrackets (raw):\n",
    "    cleaner = re.compile('\\([^)]*\\)')\n",
    "    cleantext = re.sub(cleaner, '',raw)\n",
    "    return cleantext"
   ]
  },
  {
   "cell_type": "code",
   "execution_count": 33,
   "metadata": {},
   "outputs": [
    {
     "name": "stdout",
     "output_type": "stream",
     "text": [
      "\r\n",
      "\t\tJezus podniósł oczy na swoich uczniów i mówił: \"Błogosławieni jesteście, ubodzy, albowiem do was należy królestwo Boże. Błogosławieni, którzy teraz głodujecie, albowiem będziecie nasyceni. Błogosławieni, którzy teraz płaczecie, albowiem śmiać się będziecie. Błogosławieni jesteście, gdy ludzie was znienawidzą i gdy was wyłączą spośród siebie, gdy zelżą was i z powodu Syna Człowieczego odrzucą z pogardą wasze imię jako niecne: cieszcie się i radujcie w owym dniu, bo wielka jest wasza nagroda w niebie. Tak samo bowiem przodkowie ich czynili prorokom. Natomiast biada wam, bogaczom, bo odebraliście już pociechę waszą. Biada wam, którzy teraz jesteście syci, albowiem głód cierpieć będziecie. Biada wam, którzy się teraz śmiejecie, albowiem smucić się i płakać będziecie Biada wam, gdy wszyscy ludzie chwalić was będą. Tak samo bowiem przodkowie ich czynili fałszywym prorokom\".\n"
     ]
    }
   ],
   "source": [
    "clean_text = cleanhtml(text)\n",
    "clean_text = cleanbrackets(clean_text)\n",
    "print(clean_text)"
   ]
  },
  {
   "cell_type": "markdown",
   "metadata": {},
   "source": [
    "## Tokenization & Segmentation\n",
    "\n",
    "To do: \n",
    "- tokenize the text"
   ]
  },
  {
   "cell_type": "markdown",
   "metadata": {},
   "source": [
    "## Normalization\n",
    "\n",
    "To do:\n",
    "- stemming and lemmatisation"
   ]
  },
  {
   "cell_type": "markdown",
   "metadata": {},
   "source": [
    "### Lemmatyzacja (lemmatisation) \n",
    "Algorytm znajdowania lemmy, formy podstawowej wyrazu w obszarze części mowy którą reprezentuje. Inaczej: wyszukiwanie formy kanonicznej leksemu. W komputerowej analizie języka naturalnego lemmatyzacja jest operacją bardziej precyzyjną niż stemmatyzacja. \n",
    "\n",
    "### Stemmatyzacja (stemming) \n",
    "Sprowadzenie wyrazu reprezentującego dowolną część mowy do stemu, rdzenia postaci źródłowej, najczęściej rzeczownika, bądź niekiedy nawet sekwencji znaków nie mającej samodzielnego znaczenia w języku naturalnym. "
   ]
  },
  {
   "cell_type": "markdown",
   "metadata": {},
   "source": [
    "### Stop words"
   ]
  },
  {
   "cell_type": "code",
   "execution_count": 8,
   "metadata": {},
   "outputs": [],
   "source": [
    "polish_stops = codecs.open(\"polishStopWords\",'r','utf-8')"
   ]
  },
  {
   "cell_type": "code",
   "execution_count": 9,
   "metadata": {},
   "outputs": [],
   "source": [
    "ps = polish_stops.read().split('\\r\\n')"
   ]
  },
  {
   "cell_type": "code",
   "execution_count": 10,
   "metadata": {},
   "outputs": [],
   "source": [
    "milosc = codecs.open(\"milosc\",'r','utf-8')"
   ]
  },
  {
   "cell_type": "code",
   "execution_count": 11,
   "metadata": {},
   "outputs": [],
   "source": [
    "milujcie = codecs.open(\"milujcie\",'r','utf-8')"
   ]
  },
  {
   "cell_type": "code",
   "execution_count": 12,
   "metadata": {},
   "outputs": [],
   "source": [
    "milujcie_sent = milujcie.read().split('\\r\\n')"
   ]
  },
  {
   "cell_type": "code",
   "execution_count": 13,
   "metadata": {},
   "outputs": [],
   "source": [
    "song = \"\"\n",
    "for sentence in milujcie_sent:\n",
    "    song = song + sentence"
   ]
  },
  {
   "cell_type": "code",
   "execution_count": 14,
   "metadata": {},
   "outputs": [],
   "source": [
    "text = milosc.read()\n",
    "#text = song"
   ]
  },
  {
   "cell_type": "code",
   "execution_count": 15,
   "metadata": {},
   "outputs": [],
   "source": [
    "tokens = word_tokenize(text)\n",
    "lower_tokens = [t.lower() for t in tokens]"
   ]
  },
  {
   "cell_type": "markdown",
   "metadata": {},
   "source": [
    "### Lemmatization"
   ]
  },
  {
   "cell_type": "code",
   "execution_count": 16,
   "metadata": {},
   "outputs": [],
   "source": [
    "# Retain alphabetic words: alpha_only\n",
    "alpha_only = [t for t in lower_tokens if t.isalpha()]"
   ]
  },
  {
   "cell_type": "code",
   "execution_count": 17,
   "metadata": {},
   "outputs": [],
   "source": [
    "# Remove all stop words: no_stops\n",
    "no_stops = [t for t in alpha_only if t not in ps]"
   ]
  },
  {
   "cell_type": "code",
   "execution_count": 18,
   "metadata": {},
   "outputs": [],
   "source": [
    "#bag of words\n",
    "bow = Counter(no_stops)"
   ]
  },
  {
   "cell_type": "code",
   "execution_count": 19,
   "metadata": {},
   "outputs": [
    {
     "data": {
      "text/plain": [
       "[('czyńcie', 3),\n",
       " ('należy', 3),\n",
       " ('wdzięczność', 3),\n",
       " ('grzesznicy', 3),\n",
       " ('będziecie', 3),\n",
       " ('miłujcie', 2),\n",
       " ('waszych', 2),\n",
       " ('nieprzyjaciół', 2),\n",
       " ('zwrotu', 2),\n",
       " ('miłują', 2),\n",
       " ('jakaż', 2),\n",
       " ('czynią', 2),\n",
       " ('samo', 2),\n",
       " ('powiadam', 1),\n",
       " ('słuchacie', 1),\n",
       " ('nienawidzą', 1),\n",
       " ('błogosławcie', 1),\n",
       " ('przeklinają', 1),\n",
       " ('módlcie', 1),\n",
       " ('oczerniają', 1)]"
      ]
     },
     "execution_count": 19,
     "metadata": {},
     "output_type": "execute_result"
    }
   ],
   "source": [
    "bow.most_common(20)"
   ]
  },
  {
   "cell_type": "code",
   "execution_count": 20,
   "metadata": {},
   "outputs": [
    {
     "data": {
      "text/plain": [
       "<function BufferedReader.close>"
      ]
     },
     "execution_count": 20,
     "metadata": {},
     "output_type": "execute_result"
    }
   ],
   "source": [
    "milosc.close\n",
    "milujcie.close"
   ]
  },
  {
   "cell_type": "markdown",
   "metadata": {},
   "source": [
    "## Topic identification\n",
    "\n",
    "To do:\n",
    "- bag of words\n",
    "- tf-idf\n",
    "- Named-entity recognition"
   ]
  },
  {
   "cell_type": "markdown",
   "metadata": {},
   "source": [
    "## Classification ?"
   ]
  },
  {
   "cell_type": "code",
   "execution_count": null,
   "metadata": {},
   "outputs": [],
   "source": []
  }
 ],
 "metadata": {
  "kernelspec": {
   "display_name": "Python 3",
   "language": "python",
   "name": "python3"
  },
  "language_info": {
   "codemirror_mode": {
    "name": "ipython",
    "version": 3
   },
   "file_extension": ".py",
   "mimetype": "text/x-python",
   "name": "python",
   "nbconvert_exporter": "python",
   "pygments_lexer": "ipython3",
   "version": "3.6.6"
  }
 },
 "nbformat": 4,
 "nbformat_minor": 2
}
