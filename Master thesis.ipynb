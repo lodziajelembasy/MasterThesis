{
 "cells": [
  {
   "cell_type": "code",
   "execution_count": 10,
   "metadata": {},
   "outputs": [],
   "source": [
    "from matplotlib.pyplot import hist, show\n",
    "from collections import Counter\n",
    "import urllib\n",
    "import codecs\n",
    "from nltk.stem import WordNetLemmatizer"
   ]
  },
  {
   "cell_type": "markdown",
   "metadata": {},
   "source": [
    "## Czytania danego dnia"
   ]
  },
  {
   "cell_type": "code",
   "execution_count": 17,
   "metadata": {},
   "outputs": [],
   "source": [
    "#downloading the webpage\n",
    "import requests\n",
    "import datetime\n",
    "\n",
    "now = datetime.datetime.now()\n",
    "year = str(now.year)\n",
    "month = str(now.month)\n",
    "if len(month) == 1:\n",
    "    month = \"0\" + month\n",
    "day = str(now.day)\n",
    "ymd = year+month+day\n",
    "\n",
    "    \n",
    "#address = \"http://mateusz.pl/czytania/\" + year + \"/\" + ymd + \".html\"\n",
    "address = \"http://mateusz.pl/czytania/2018/20180909.html\" #niedziela\n",
    "page = requests.get(address)"
   ]
  },
  {
   "cell_type": "code",
   "execution_count": 18,
   "metadata": {},
   "outputs": [],
   "source": [
    "#parsing a page\n",
    "from bs4 import BeautifulSoup\n",
    "soup = BeautifulSoup(page.content, 'html.parser')"
   ]
  },
  {
   "cell_type": "code",
   "execution_count": 19,
   "metadata": {},
   "outputs": [],
   "source": [
    "#print(soup.prettify()) \n",
    "#Exception handling for more readings\n",
    "try:\n",
    "    section = list(soup.children)[9]\n",
    "    section_content = section.find_all('p')\n",
    "except:\n",
    "    section = soup.find_all('section')[0]\n",
    "    section_content =section.find_all('p')"
   ]
  },
  {
   "cell_type": "code",
   "execution_count": 20,
   "metadata": {},
   "outputs": [
    {
     "data": {
      "text/plain": [
       "8"
      ]
     },
     "execution_count": 20,
     "metadata": {},
     "output_type": "execute_result"
    }
   ],
   "source": [
    "len(section_content)"
   ]
  },
  {
   "cell_type": "code",
   "execution_count": 21,
   "metadata": {},
   "outputs": [
    {
     "data": {
      "text/plain": [
       "<p>(Iz 35, 4-7a)<br/>\n",
       "      Powiedzcie małodusznym: \"Odwagi! Nie bójcie się! Oto wasz Bóg, oto pomsta; przychodzi Boża odpłata; On sam przychodzi, by was zbawić\". Wtedy przejrzą oczy niewidomych i uszy głuchych się otworzą. Wtedy chromy wyskoczy jak jeleń i język niemych wesoło wykrzyknie. Bo trysną zdroje wód na pustyni i strumienie na stepie; spieczona ziemia zmieni się w pojezierze, spragniony kraj w krynice wód.</p>"
      ]
     },
     "execution_count": 21,
     "metadata": {},
     "output_type": "execute_result"
    }
   ],
   "source": [
    "pierwsze_czytanie = section_content[0]\n",
    "pierwsze_czytanie"
   ]
  },
  {
   "cell_type": "code",
   "execution_count": 22,
   "metadata": {},
   "outputs": [
    {
     "data": {
      "text/plain": [
       "<p>(Mk 7, 31-37)<br/>\n",
       "\t\tJezus opuścił okolice Tyru i przez Sydon przyszedł nad Jezioro Galilejskie, przemierzając posiadłości Dekapolu. Przyprowadzili Mu głuchoniemego i prosili Go, żeby położył na niego rękę. On wziął go na bok, z dala od tłumu, włożył palce w jego uszy i śliną dotknął mu języka; a spojrzawszy w niebo, westchnął i rzekł do niego: \"Effatha\", to znaczy: Otwórz się. Zaraz otworzyły się jego uszy, więzy języka się rozwiązały i mógł prawidłowo mówić. Jezus przykazał im, żeby nikomu nie mówili. Lecz im bardziej przykazywał, tym gorliwiej to rozgłaszali. I przepełnieni zdumieniem mówili: \"Dobrze wszystko uczynił. Nawet głuchym słuch przywraca i niemym mowę\".</p>"
      ]
     },
     "execution_count": 22,
     "metadata": {},
     "output_type": "execute_result"
    }
   ],
   "source": [
    "ewangelia = section_content[len(section_content)-1]\n",
    "ewangelia"
   ]
  },
  {
   "cell_type": "markdown",
   "metadata": {},
   "source": [
    "## Noise removal"
   ]
  },
  {
   "cell_type": "code",
   "execution_count": 23,
   "metadata": {},
   "outputs": [],
   "source": [
    "import re\n",
    "text = str(ewangelia)\n",
    "\n",
    "def clean_html(raw):\n",
    "    cleaner = re.compile('<.*?>')\n",
    "    cleantext = re.sub(cleaner, '', raw)\n",
    "    return cleantext\n",
    "\n",
    "def clean_proverbs (raw):\n",
    "    cleaner = re.compile('\\([^)]*\\)')\n",
    "    cleantext = re.sub(cleaner, '',raw)\n",
    "    return cleantext\n",
    "\n",
    "def clean_indent(raw):\n",
    "    cleaner = re.compile('^\\s+')\n",
    "    cleantext = re.sub(cleaner, '',raw)\n",
    "    return cleantext\n",
    "\n",
    "def clean_text(raw):\n",
    "    text = clean_html(raw)\n",
    "    text = clean_proverbs(text)\n",
    "    text = clean_indent(text)\n",
    "    return text"
   ]
  },
  {
   "cell_type": "code",
   "execution_count": 24,
   "metadata": {},
   "outputs": [
    {
     "data": {
      "text/plain": [
       "'Jezus opuścił okolice Tyru i przez Sydon przyszedł nad Jezioro Galilejskie, przemierzając posiadłości Dekapolu. Przyprowadzili Mu głuchoniemego i prosili Go, żeby położył na niego rękę. On wziął go na bok, z dala od tłumu, włożył palce w jego uszy i śliną dotknął mu języka; a spojrzawszy w niebo, westchnął i rzekł do niego: \"Effatha\", to znaczy: Otwórz się. Zaraz otworzyły się jego uszy, więzy języka się rozwiązały i mógł prawidłowo mówić. Jezus przykazał im, żeby nikomu nie mówili. Lecz im bardziej przykazywał, tym gorliwiej to rozgłaszali. I przepełnieni zdumieniem mówili: \"Dobrze wszystko uczynił. Nawet głuchym słuch przywraca i niemym mowę\".'"
      ]
     },
     "execution_count": 24,
     "metadata": {},
     "output_type": "execute_result"
    }
   ],
   "source": [
    "clean_text = clean_text(text)\n",
    "clean_text"
   ]
  },
  {
   "cell_type": "markdown",
   "metadata": {},
   "source": [
    "## Tokenization & Segmentation"
   ]
  },
  {
   "cell_type": "code",
   "execution_count": 25,
   "metadata": {},
   "outputs": [],
   "source": [
    "from nltk.tokenize import word_tokenize, sent_tokenize\n",
    "text = clean_text"
   ]
  },
  {
   "cell_type": "code",
   "execution_count": 26,
   "metadata": {},
   "outputs": [],
   "source": [
    "sentences = sent_tokenize(text)\n",
    "#sentences"
   ]
  },
  {
   "cell_type": "code",
   "execution_count": 27,
   "metadata": {},
   "outputs": [],
   "source": [
    "tokens = word_tokenize(text)\n",
    "lower_tokens = [t.lower() for t in tokens]\n",
    "#lower_tokens"
   ]
  },
  {
   "cell_type": "markdown",
   "metadata": {},
   "source": [
    "## Normalization / Preprocessing\n",
    "\n",
    "#### Lemmatyzacja (lemmatisation) \n",
    "Algorytm znajdowania lemmy, formy podstawowej wyrazu w obszarze części mowy którą reprezentuje. Inaczej: wyszukiwanie formy kanonicznej leksemu. W komputerowej analizie języka naturalnego lemmatyzacja jest operacją bardziej precyzyjną niż stemmatyzacja. \n",
    "\n",
    "#### Stemmatyzacja (stemming) \n",
    "Sprowadzenie wyrazu reprezentującego dowolną część mowy do stemu, rdzenia postaci źródłowej, najczęściej rzeczownika, bądź niekiedy nawet sekwencji znaków nie mającej samodzielnego znaczenia w języku naturalnym. "
   ]
  },
  {
   "cell_type": "code",
   "execution_count": 28,
   "metadata": {},
   "outputs": [],
   "source": [
    "# Retain alphabetic words: alpha_only\n",
    "alpha_only = [t for t in lower_tokens if t.isalpha()]\n",
    "#alpha_only"
   ]
  },
  {
   "cell_type": "code",
   "execution_count": 37,
   "metadata": {},
   "outputs": [],
   "source": [
    "#Read polish stopwords file\n",
    "polish_stops = codecs.open(\"polishStopWords\",'r','utf-8')\n",
    "ps = polish_stops.read().split('\\n')\n",
    "polish_stops.close()"
   ]
  },
  {
   "cell_type": "code",
   "execution_count": 30,
   "metadata": {},
   "outputs": [],
   "source": [
    "# Remove all stop words: no_stops\n",
    "no_stops = [t for t in alpha_only if t not in ps]\n",
    "#no_stops"
   ]
  },
  {
   "cell_type": "markdown",
   "metadata": {},
   "source": [
    "## Topic identification\n",
    "To do:\n",
    "- tf-idf\n",
    "- Named-entity recognition"
   ]
  },
  {
   "cell_type": "markdown",
   "metadata": {},
   "source": [
    "### Bag of words"
   ]
  },
  {
   "cell_type": "code",
   "execution_count": 31,
   "metadata": {},
   "outputs": [],
   "source": [
    "bow = Counter(no_stops)"
   ]
  },
  {
   "cell_type": "code",
   "execution_count": 32,
   "metadata": {},
   "outputs": [
    {
     "data": {
      "text/plain": [
       "[('jezus', 2),\n",
       " ('uszy', 2),\n",
       " ('języka', 2),\n",
       " ('mówili', 2),\n",
       " ('opuścił', 1),\n",
       " ('okolice', 1),\n",
       " ('tyru', 1),\n",
       " ('sydon', 1),\n",
       " ('przyszedł', 1),\n",
       " ('jezioro', 1)]"
      ]
     },
     "execution_count": 32,
     "metadata": {},
     "output_type": "execute_result"
    }
   ],
   "source": [
    "bow.most_common(10)"
   ]
  },
  {
   "cell_type": "markdown",
   "metadata": {},
   "source": [
    "### Word cloud"
   ]
  },
  {
   "cell_type": "code",
   "execution_count": 33,
   "metadata": {},
   "outputs": [],
   "source": [
    "from wordcloud import WordCloud, STOPWORDS\n",
    "import matplotlib.pyplot as plt"
   ]
  },
  {
   "cell_type": "code",
   "execution_count": 36,
   "metadata": {},
   "outputs": [
    {
     "data": {
      "image/png": "[encoded data removed]",
      "text/plain": [
       "<Figure size 432x288 with 1 Axes>"
      ]
     },
     "metadata": {},
     "output_type": "display_data"
    }
   ],
   "source": [
    "text = clean_text\n",
    "\n",
    "# Create and generate a word cloud image:\n",
    "wordcloud = WordCloud(stopwords = ps, max_font_size=200, max_words=20, background_color=\"white\").generate(text)\n",
    "\n",
    "# Display the generated image:\n",
    "plt.imshow(wordcloud, interpolation='bilinear')\n",
    "plt.axis(\"off\")\n",
    "plt.show()"
   ]
  },
  {
   "cell_type": "markdown",
   "metadata": {},
   "source": [
    "### Term frequency"
   ]
  },
  {
   "cell_type": "code",
   "execution_count": null,
   "metadata": {},
   "outputs": [],
   "source": [
    "from nltk.probability import FreqDist"
   ]
  },
  {
   "cell_type": "code",
   "execution_count": 49,
   "metadata": {},
   "outputs": [],
   "source": [
    "fdist = FreqDist(no_stops)"
   ]
  },
  {
   "cell_type": "code",
   "execution_count": 50,
   "metadata": {},
   "outputs": [
    {
     "data": {
      "text/plain": [
       "FreqDist({'jezus': 2, 'uszy': 2, 'języka': 2, 'mówili': 2, 'opuścił': 1, 'okolice': 1, 'tyru': 1, 'sydon': 1, 'przyszedł': 1, 'jezioro': 1, ...})"
      ]
     },
     "execution_count": 50,
     "metadata": {},
     "output_type": "execute_result"
    }
   ],
   "source": [
    "fdist"
   ]
  },
  {
   "cell_type": "code",
   "execution_count": 78,
   "metadata": {},
   "outputs": [
    {
     "data": {
      "image/png": "[encoded data removed]",
      "text/plain": [
       "<Figure size 1152x288 with 1 Axes>"
      ]
     },
     "metadata": {},
     "output_type": "display_data"
    }
   ],
   "source": [
    "plt.figure(figsize=(16,4))\n",
    "fdist_plot = fdist.plot()\n",
    "plt.show()"
   ]
  },
  {
   "cell_type": "markdown",
   "metadata": {},
   "source": [
    "### Tf-idf \n",
    "\n",
    "#### Term frequency - inverse document frequency\n",
    "Ważenie częstością termów - odwrotna częstość w dokumentach - jedna z metod obliczania wagi słów w oparciu o liczbę ich wystąpień, należąca do grupy algorytmów obliczających statystyczne wagi termów. \n",
    "- Każdy dokument reprezentowany jest przez wektor, składający się z wag słów występujących w tym dokumencie. \n",
    "- TFIDF informuje o częstości wystąpienia termów uwzględniając jednocześnie odpowiednie wyważenie znaczenia lokalnego termu i jego znaczenia w kontekście pełnej kolekcji dokumentów. \n",
    "\n",
    "https://pl.wikipedia.org/wiki/TFIDF"
   ]
  },
  {
   "cell_type": "code",
   "execution_count": 43,
   "metadata": {},
   "outputs": [],
   "source": [
    "from nltk.corpus import stopwords"
   ]
  },
  {
   "cell_type": "code",
   "execution_count": 44,
   "metadata": {},
   "outputs": [
    {
     "name": "stdout",
     "output_type": "stream",
     "text": [
      "<WordListCorpusReader in '.../corpora/stopwords' (not loaded yet)>\n"
     ]
    }
   ],
   "source": [
    "print(stopwords)"
   ]
  },
  {
   "cell_type": "markdown",
   "metadata": {},
   "source": [
    "## Classification ?"
   ]
  },
  {
   "cell_type": "markdown",
   "metadata": {},
   "source": [
    "### Other stuff"
   ]
  },
  {
   "cell_type": "code",
   "execution_count": 18,
   "metadata": {},
   "outputs": [
    {
     "ename": "NameError",
     "evalue": "name 'milujcie' is not defined",
     "output_type": "error",
     "traceback": [
      "\u001b[1;31m---------------------------------------------------------------------------\u001b[0m",
      "\u001b[1;31mNameError\u001b[0m                                 Traceback (most recent call last)",
      "\u001b[1;32m<ipython-input-18-879fff5c0139>\u001b[0m in \u001b[0;36m<module>\u001b[1;34m()\u001b[0m\n\u001b[1;32m----> 1\u001b[1;33m \u001b[0mmilujcie_sent\u001b[0m \u001b[1;33m=\u001b[0m \u001b[0mmilujcie\u001b[0m\u001b[1;33m.\u001b[0m\u001b[0mread\u001b[0m\u001b[1;33m(\u001b[0m\u001b[1;33m)\u001b[0m\u001b[1;33m.\u001b[0m\u001b[0msplit\u001b[0m\u001b[1;33m(\u001b[0m\u001b[1;34m'\\r\\n'\u001b[0m\u001b[1;33m)\u001b[0m\u001b[1;33m\u001b[0m\u001b[0m\n\u001b[0m",
      "\u001b[1;31mNameError\u001b[0m: name 'milujcie' is not defined"
     ]
    }
   ],
   "source": [
    "milujcie_sent = milujcie.read().split('\\r\\n')"
   ]
  },
  {
   "cell_type": "code",
   "execution_count": null,
   "metadata": {},
   "outputs": [],
   "source": [
    "song = \"\"\n",
    "for sentence in milujcie_sent:\n",
    "    song = song + sentence"
   ]
  },
  {
   "cell_type": "code",
   "execution_count": null,
   "metadata": {},
   "outputs": [],
   "source": [
    "text = milosc.read()\n",
    "#text = song"
   ]
  },
  {
   "cell_type": "code",
   "execution_count": null,
   "metadata": {},
   "outputs": [],
   "source": [
    "milujcie = codecs.open(\"milujcie\",'r','utf-8')"
   ]
  }
 ],
 "metadata": {
  "kernelspec": {
   "display_name": "Python 3",
   "language": "python",
   "name": "python3"
  },
  "language_info": {
   "codemirror_mode": {
    "name": "ipython",
    "version": 3
   },
   "file_extension": ".py",
   "mimetype": "text/x-python",
   "name": "python",
   "nbconvert_exporter": "python",
   "pygments_lexer": "ipython3",
   "version": "3.6.6"
  }
 },
 "nbformat": 4,
 "nbformat_minor": 2
}
