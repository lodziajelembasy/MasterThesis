{
 "cells": [
  {
   "cell_type": "code",
   "execution_count": 103,
   "metadata": {},
   "outputs": [],
   "source": [
    "from matplotlib.pyplot import hist, show\n",
    "from collections import Counter\n",
    "import urllib\n",
    "import codecs\n",
    "from nltk.stem import WordNetLemmatizer\n",
    "import numpy as np \n",
    "from nltk import Text\n",
    "import pandas as pd\n",
    "\n",
    "#downloading the webpage\n",
    "import requests\n",
    "import datetime\n",
    "\n",
    "#parsing a page\n",
    "from bs4 import BeautifulSoup\n",
    "\n",
    "import re"
   ]
  },
  {
   "cell_type": "markdown",
   "metadata": {},
   "source": [
    "## Zestaw czytań do pracy magisterskiej\n",
    "\n",
    "Przykład\n",
    "\n",
    "|Id | Data | Dzień tygodnia | Pierwsze czytanie | Psalm | Drugie czytanie | Werset przed Ewangelią | Ewangelia | \n",
    "|---|---|---|---|---|---|---|---|\n",
    "|1|21-01-2019|Niedziela| Przez wzgląd na Syjon nie umilknę, przez wzgląd na Jerozolimę nie spocznę, dopóki jej sprawiedliwość nie błyśnie jak zorza i zbawienie jej nie zapłonie jak pochodnia. Wówczas narody ujrzą twą sprawiedliwość i chwałę twoją wszyscy królowie. I nazwą cię nowym imieniem, które usta Pana określą. Będziesz prześliczną koroną w rękach Pana, królewskim diademem w dłoni twego Boga. Nie będą więcej mówić o tobie \"Porzucona\", o krainie twej już nie powiedzą \"Spustoszona\". Raczej cię nazwą \"Moje w niej upodobanie\", a krainę twoją – \"Poślubiona\". Albowiem spodobałaś się Panu i twoja kraina otrzyma męża. Bo jak młodzieniec poślubia dziewicę, tak twój Budowniczy ciebie poślubi, i jak oblubieniec weseli się z oblubienicy, tak Bóg twój tobą się rozraduje.|---| Bracia: Różne są dary łaski, lecz ten sam Duch; różne też są rodzaje posługiwania, ale jeden Pan; różne są wreszcie działania, lecz ten sam Bóg, sprawca wszystkiego we wszystkich. Wszystkim zaś objawia się Duch dla wspólnego dobra. Jednemu dany jest przez Ducha dar mądrości słowa, drugiemu umiejętność poznawania według tego samego Ducha, innemu jeszcze dar wiary w tymże Duchu, innemu łaska uzdrawiania przez tego samego Ducha, innemu dar czynienia cudów, innemu proroctwo, innemu rozpoznawanie duchów, innemu dar języków i wreszcie innemu łaska tłumaczenia języków. Wszystko zaś sprawia jeden i ten sam Duch, udzielając każdemu tak, jak chce.|Żywe jest słowo Boże i skuteczne, zdolne osądzić pragnienia i myśli serca.|W Kanie Galilejskiej odbywało się wesele i była tam Matka Jezusa. Zaproszono na to wesele także Jezusa i Jego uczniów. A kiedy zabrakło wina, Matka Jezusa rzekła do Niego: \"Nie mają wina\". Jezus Jej odpowiedział: \"Czyż to moja lub Twoja sprawa, Niewiasto? Czy jeszcze nie nadeszła godzina moja?\" Wtedy Matka Jego powiedziała do sług: \"Zróbcie wszystko, cokolwiek wam powie\". Stało zaś tam sześć stągwi kamiennych przeznaczonych do żydowskich oczyszczeń, z których każda mogła pomieścić dwie lub trzy miary. Jezus rzekł do sług: \"Napełnijcie stągwie wodą\". I napełnili je aż po brzegi. Potem powiedział do nich: \"Zaczerpnijcie teraz i zanieście staroście weselnemu\". Ci więc zanieśli. Gdy zaś starosta weselny skosztował wody, która stała się winem – a nie wiedział, skąd ono pochodzi, ale słudzy, którzy czerpali wodę, wiedzieli – przywołał pana młodego i powiedział do niego: \"Każdy człowiek stawia najpierw dobre wino, a gdy się napiją, wówczas gorsze. Ty zachowałeś dobre wino aż do tej pory\". Taki to początek znaków uczynił Jezus w Kanie Galilejskiej. Objawił swoją chwałę i uwierzyli w Niego Jego uczniowie.|"
   ]
  },
  {
   "cell_type": "markdown",
   "metadata": {},
   "source": [
    "## Czytania danego dnia"
   ]
  },
  {
   "cell_type": "code",
   "execution_count": 284,
   "metadata": {},
   "outputs": [],
   "source": [
    "now = datetime.datetime.now()\n",
    "today = datetime.date.today()\n",
    "year = str(now.year)\n",
    "month = str(now.month)\n",
    "if len(month) == 1:\n",
    "    month = \"0\" + month\n",
    "\n",
    "day = str(now.day)\n",
    "if len(day) == 1:\n",
    "    day = \"0\" + day\n",
    "\n",
    "ymd = year+month+day\n",
    "today_name = now.strftime(\"%A\")\n",
    "day_name = today_name\n",
    "#day_name = 'Sunday'\n",
    "\n",
    "address = \"http://mateusz.pl/czytania/\" + year + \"/\" + ymd + \".html\"\n",
    "#address = \"http://mateusz.pl/czytania/2018/20181021.html\" #niedziela\n",
    "page = requests.get(address)\n",
    "#print(address)"
   ]
  },
  {
   "cell_type": "code",
   "execution_count": 285,
   "metadata": {},
   "outputs": [],
   "source": [
    "soup = BeautifulSoup(page.content, 'html.parser')\n",
    "#print(soup.prettify()) \n",
    "#Exception handling for more readings\n",
    "try:\n",
    "    #section = list(soup.children)[9]\n",
    "    #section_content = section.find_all('p')   \n",
    "    section = list(soup.children)\n",
    "    section_content1 = section[2].find_all('p')\n",
    "    if day_name == 'Sunday':\n",
    "        section_content2 = section[6]\n",
    "        section_content3 = section[8]\n",
    "        section_content4 = section[12]\n",
    "    else:\n",
    "        section_content2 = None\n",
    "        section_content3 = section[4]\n",
    "        section_content4 = section[8]\n",
    "except:\n",
    "    pass\n",
    "    section = soup.find_all('section')[0]\n",
    "    section_content =section.find_all('p')"
   ]
  },
  {
   "cell_type": "code",
   "execution_count": 286,
   "metadata": {},
   "outputs": [
    {
     "data": {
      "text/plain": [
       "<p>\n",
       "                        (Hbr 5, 1-10) <br/>\n",
       "                        Każdy arcykapłan, spomiędzy ludzi brany, dla ludzi jest ustanawiany w sprawach odnoszących się do Boga, aby składał dary i ofiary za grzechy. Może on współczuć tym, którzy nie wiedzą i błądzą, ponieważ sam podlega słabości. I ze względu na nią powinien tak za lud, jak i za samego siebie składać ofiary za grzechy. A nikt sam sobie nie bierze tej godności, lecz tylko ten, kto jest powołany przez Boga jak Aaron. Podobnie i Chrystus nie sam siebie okrył sławą przez to, iż stał się arcykapłanem, ale uczynił to Ten, który powiedział do Niego: \"Ty jesteś moim Synem, Ja Cię dziś zrodziłem\", jak i w innym miejscu: \"Ty jesteś kapłanem na wieki na wzór Melchizedeka\". Z głośnym wołaniem i płaczem, za swych dni doczesnych, zanosił On gorące prośby i błagania do Tego, który mógł Go wybawić od śmierci, i został wysłuchany dzięki swej uległości. I chociaż był Synem, nauczył się posłuszeństwa przez to, co wycierpiał. A gdy wszystko wykonał, stał się sprawcą zbawienia wiecznego dla wszystkich, którzy Go słuchają, nazwany przez Boga arcykapłanem na wzór Melchizedeka.\n",
       "                    </p>"
      ]
     },
     "execution_count": 286,
     "metadata": {},
     "output_type": "execute_result"
    }
   ],
   "source": [
    "pierwsze_czytanie = section_content1[6]\n",
    "pierwsze_czytanie"
   ]
  },
  {
   "cell_type": "code",
   "execution_count": 287,
   "metadata": {},
   "outputs": [],
   "source": [
    "drugie_czytanie = section_content2\n",
    "drugie_czytanie"
   ]
  },
  {
   "cell_type": "code",
   "execution_count": 288,
   "metadata": {},
   "outputs": [
    {
     "data": {
      "text/plain": [
       "<p>\n",
       "                        (Ps 110 (109), 1b-2. 3-4) <br/>\n",
       "<small>REFREN:</small> Jesteś kapłanem, tak jak Melchizedek</p>"
      ]
     },
     "execution_count": 288,
     "metadata": {},
     "output_type": "execute_result"
    }
   ],
   "source": [
    "psalm_ref = section_content1[7]\n",
    "psalm_ref"
   ]
  },
  {
   "cell_type": "code",
   "execution_count": 289,
   "metadata": {},
   "outputs": [
    {
     "data": {
      "text/plain": [
       "<p>\n",
       "                            Aklamacja (Hbr 4, 12) <br>\n",
       "                        Żywe jest słowo Boże i skuteczne, zdolne osądzić pragnienia i myśli serca.\n",
       "                    </br></p>"
      ]
     },
     "execution_count": 289,
     "metadata": {},
     "output_type": "execute_result"
    }
   ],
   "source": [
    "tekst_przed_ewangelia = section_content3\n",
    "tekst_przed_ewangelia"
   ]
  },
  {
   "cell_type": "code",
   "execution_count": 290,
   "metadata": {},
   "outputs": [
    {
     "data": {
      "text/plain": [
       "<p>\n",
       "                        (Mk 2, 18-22) <br>\n",
       "                        Uczniowie Jana i faryzeusze mieli właśnie post. Przyszli więc do Jezusa i pytali: \"Dlaczego uczniowie Jana i uczniowie faryzeuszów poszczą, a Twoi uczniowie nie poszczą?\" Jezus im odpowiedział: \"Czy goście weselni mogą pościć, dopóki pan młody jest z nimi? Nie mogą pościć, jak długo mają pośród siebie pana młodego. Lecz przyjdzie czas, kiedy zabiorą im pana młodego, a wtedy, w ów dzień, będą pościć. Nikt nie przyszywa łaty z surowego sukna do starego ubrania. W przeciwnym razie nowa łata obrywa jeszcze część ze starego ubrania i gorsze staje się przedarcie. Nikt też młodego wina nie wlewa do starych bukłaków. W przeciwnym razie wino rozerwie bukłaki. Wino się wylewa i bukłaki przepadną. Raczej młode wino należy wlewać do nowych bukłaków\".\n",
       "                    </br></p>"
      ]
     },
     "execution_count": 290,
     "metadata": {},
     "output_type": "execute_result"
    }
   ],
   "source": [
    "ewangelia = section_content4\n",
    "ewangelia"
   ]
  },
  {
   "cell_type": "code",
   "execution_count": 291,
   "metadata": {},
   "outputs": [],
   "source": [
    "document = [pierwsze_czytanie, psalm_ref, drugie_czytanie, tekst_przed_ewangelia, ewangelia]"
   ]
  },
  {
   "cell_type": "markdown",
   "metadata": {},
   "source": [
    "#### Inicjalizacja pd.DataFrame"
   ]
  },
  {
   "cell_type": "code",
   "execution_count": 293,
   "metadata": {},
   "outputs": [
    {
     "data": {
      "text/html": [
       "<div>\n",
       "<style scoped>\n",
       "    .dataframe tbody tr th:only-of-type {\n",
       "        vertical-align: middle;\n",
       "    }\n",
       "\n",
       "    .dataframe tbody tr th {\n",
       "        vertical-align: top;\n",
       "    }\n",
       "\n",
       "    .dataframe thead th {\n",
       "        text-align: right;\n",
       "    }\n",
       "</style>\n",
       "<table border=\"1\" class=\"dataframe\">\n",
       "  <thead>\n",
       "    <tr style=\"text-align: right;\">\n",
       "      <th></th>\n",
       "      <th>Dzień tygodnia</th>\n",
       "      <th>Pierwsze czytanie</th>\n",
       "      <th>Psalm</th>\n",
       "      <th>Drugie czytanie</th>\n",
       "      <th>Werset przed Ewangelią</th>\n",
       "      <th>Ewangelia</th>\n",
       "    </tr>\n",
       "  </thead>\n",
       "  <tbody>\n",
       "  </tbody>\n",
       "</table>\n",
       "</div>"
      ],
      "text/plain": [
       "Empty DataFrame\n",
       "Columns: [Dzień tygodnia, Pierwsze czytanie, Psalm, Drugie czytanie, Werset przed Ewangelią, Ewangelia]\n",
       "Index: []"
      ]
     },
     "execution_count": 293,
     "metadata": {},
     "output_type": "execute_result"
    }
   ],
   "source": [
    "df = pd.DataFrame(data=None, index=None, #pd.date_range('1/1/2019', periods=10, freq='D'), \n",
    "                  columns = [\"Dzień tygodnia\",\"Pierwsze czytanie\", \"Psalm\", \"Drugie czytanie\", \n",
    "                                                    \"Werset przed Ewangelią\", \"Ewangelia\"])\n",
    "df.head()"
   ]
  },
  {
   "cell_type": "markdown",
   "metadata": {},
   "source": [
    "## Noise removal // Cleaning"
   ]
  },
  {
   "cell_type": "code",
   "execution_count": 294,
   "metadata": {},
   "outputs": [],
   "source": [
    "def clean_html(raw):\n",
    "    cleaner = re.compile('<.*?>')\n",
    "    cleantext = re.sub(cleaner, '', raw)\n",
    "    return cleantext\n",
    "\n",
    "def clean_proverbs (raw):\n",
    "    cleaner = re.compile('\\([^)]*\\)')\n",
    "    cleantext = re.sub(cleaner, '',raw)\n",
    "    return cleantext\n",
    "\n",
    "def clean_indent(raw):\n",
    "    cleaner = re.compile('^\\s+')\n",
    "    cleantext = re.sub(cleaner, '',raw)\n",
    "    return cleantext\n",
    "\n",
    "def clean_text(raw):\n",
    "    text = clean_html(raw)\n",
    "    text = clean_proverbs(text)\n",
    "    text = clean_indent(text)\n",
    "    return text"
   ]
  },
  {
   "cell_type": "code",
   "execution_count": 295,
   "metadata": {},
   "outputs": [],
   "source": [
    "document_cleaned = [clean_text(str(text)) for text in document]\n",
    "input_row = [day_name]\n",
    "for each in document_cleaned:\n",
    "    #print(type(each))\n",
    "    input_row.append(each)"
   ]
  },
  {
   "cell_type": "code",
   "execution_count": 296,
   "metadata": {},
   "outputs": [],
   "source": [
    "df.loc[today] = input_row"
   ]
  },
  {
   "cell_type": "code",
   "execution_count": 297,
   "metadata": {},
   "outputs": [
    {
     "data": {
      "text/html": [
       "<div>\n",
       "<style scoped>\n",
       "    .dataframe tbody tr th:only-of-type {\n",
       "        vertical-align: middle;\n",
       "    }\n",
       "\n",
       "    .dataframe tbody tr th {\n",
       "        vertical-align: top;\n",
       "    }\n",
       "\n",
       "    .dataframe thead th {\n",
       "        text-align: right;\n",
       "    }\n",
       "</style>\n",
       "<table border=\"1\" class=\"dataframe\">\n",
       "  <thead>\n",
       "    <tr style=\"text-align: right;\">\n",
       "      <th></th>\n",
       "      <th>Dzień tygodnia</th>\n",
       "      <th>Pierwsze czytanie</th>\n",
       "      <th>Psalm</th>\n",
       "      <th>Drugie czytanie</th>\n",
       "      <th>Werset przed Ewangelią</th>\n",
       "      <th>Ewangelia</th>\n",
       "    </tr>\n",
       "  </thead>\n",
       "  <tbody>\n",
       "    <tr>\n",
       "      <th>2019-01-21</th>\n",
       "      <td>Monday</td>\n",
       "      <td>Każdy arcykapłan, spomiędzy ludzi brany, dla l...</td>\n",
       "      <td>, 1b-2. 3-4) \\nREFREN: Jesteś kapłanem, tak ja...</td>\n",
       "      <td>None</td>\n",
       "      <td>Aklamacja  \\r\\n                        Żywe je...</td>\n",
       "      <td>Uczniowie Jana i faryzeusze mieli właśnie post...</td>\n",
       "    </tr>\n",
       "  </tbody>\n",
       "</table>\n",
       "</div>"
      ],
      "text/plain": [
       "           Dzień tygodnia                                  Pierwsze czytanie  \\\n",
       "2019-01-21         Monday  Każdy arcykapłan, spomiędzy ludzi brany, dla l...   \n",
       "\n",
       "                                                        Psalm Drugie czytanie  \\\n",
       "2019-01-21  , 1b-2. 3-4) \\nREFREN: Jesteś kapłanem, tak ja...            None   \n",
       "\n",
       "                                       Werset przed Ewangelią  \\\n",
       "2019-01-21  Aklamacja  \\r\\n                        Żywe je...   \n",
       "\n",
       "                                                    Ewangelia  \n",
       "2019-01-21  Uczniowie Jana i faryzeusze mieli właśnie post...  "
      ]
     },
     "execution_count": 297,
     "metadata": {},
     "output_type": "execute_result"
    }
   ],
   "source": [
    "df"
   ]
  },
  {
   "cell_type": "code",
   "execution_count": 329,
   "metadata": {},
   "outputs": [
    {
     "data": {
      "text/plain": [
       "'Uczniowie Jana i faryzeusze mieli właśnie post. Przyszli więc do Jezusa i pytali: \"Dlaczego uczniowie Jana i uczniowie faryzeuszów poszczą, a Twoi uczniowie nie poszczą?\" Jezus im odpowiedział: \"Czy goście weselni mogą pościć, dopóki pan młody jest z nimi? Nie mogą pościć, jak długo mają pośród siebie pana młodego. Lecz przyjdzie czas, kiedy zabiorą im pana młodego, a wtedy, w ów dzień, będą pościć. Nikt nie przyszywa łaty z surowego sukna do starego ubrania. W przeciwnym razie nowa łata obrywa jeszcze część ze starego ubrania i gorsze staje się przedarcie. Nikt też młodego wina nie wlewa do starych bukłaków. W przeciwnym razie wino rozerwie bukłaki. Wino się wylewa i bukłaki przepadną. Raczej młode wino należy wlewać do nowych bukłaków\".\\r\\n                    '"
      ]
     },
     "execution_count": 329,
     "metadata": {},
     "output_type": "execute_result"
    }
   ],
   "source": [
    "clean_text = df.loc[today,'Ewangelia']\n",
    "clean_text"
   ]
  },
  {
   "cell_type": "code",
   "execution_count": 300,
   "metadata": {},
   "outputs": [],
   "source": [
    "from googletrans import Translator"
   ]
  },
  {
   "cell_type": "code",
   "execution_count": 301,
   "metadata": {},
   "outputs": [],
   "source": [
    "translator = Translator()\n",
    "t = translator.translate(clean_text)"
   ]
  },
  {
   "cell_type": "code",
   "execution_count": 302,
   "metadata": {},
   "outputs": [
    {
     "data": {
      "text/plain": [
       "'The disciples of John and the Pharisees were fasting. So they came to Jesus and asked, \"Why do the disciples of John and the disciples of the Pharisees fast, and let your disciples not fast?\" Jesus answered them, \"Can the wedding guests fast if they are married to them?\" They can not fast as long as they have the bridegroom among them, but the time will come when they take their bridegroom, and then, on that day, they will fast. Nobody sews patches from raw cloth into old clothes, otherwise the new patch will take some of the old clothes off and the tear will be worse. Nobody pours new wine into old wineskins, otherwise the wine will rip off the wineskins. Rather, young wine should be poured into new wineskins. \"'"
      ]
     },
     "execution_count": 302,
     "metadata": {},
     "output_type": "execute_result"
    }
   ],
   "source": [
    "t.text"
   ]
  },
  {
   "cell_type": "markdown",
   "metadata": {},
   "source": [
    "## Tokenization & Segmentation"
   ]
  },
  {
   "cell_type": "code",
   "execution_count": 330,
   "metadata": {},
   "outputs": [],
   "source": [
    "from nltk.tokenize import word_tokenize, sent_tokenize\n",
    "text = clean_text"
   ]
  },
  {
   "cell_type": "code",
   "execution_count": 331,
   "metadata": {},
   "outputs": [],
   "source": [
    "sentences = sent_tokenize(text)\n",
    "#sentences"
   ]
  },
  {
   "cell_type": "code",
   "execution_count": 332,
   "metadata": {},
   "outputs": [],
   "source": [
    "tokens = word_tokenize(text)\n",
    "lower_tokens = [t.lower() for t in tokens]\n",
    "#lower_tokens"
   ]
  },
  {
   "cell_type": "markdown",
   "metadata": {},
   "source": [
    "## Normalization / Preprocessing\n",
    "\n",
    "#### Lemmatyzacja (lemmatisation) \n",
    "Algorytm znajdowania lemmy, formy podstawowej wyrazu w obszarze części mowy którą reprezentuje. Inaczej: wyszukiwanie formy kanonicznej leksemu. W komputerowej analizie języka naturalnego lemmatyzacja jest operacją bardziej precyzyjną niż stemmatyzacja. \n",
    "\n",
    "#### Stemmatyzacja (stemming) \n",
    "Sprowadzenie wyrazu reprezentującego dowolną część mowy do stemu, rdzenia postaci źródłowej, najczęściej rzeczownika, bądź niekiedy nawet sekwencji znaków nie mającej samodzielnego znaczenia w języku naturalnym. "
   ]
  },
  {
   "cell_type": "code",
   "execution_count": 333,
   "metadata": {},
   "outputs": [],
   "source": [
    "# Retain alphabetic words: alpha_only\n",
    "alpha_only = [t for t in lower_tokens if t.isalpha()]\n",
    "#alpha_only"
   ]
  },
  {
   "cell_type": "code",
   "execution_count": 334,
   "metadata": {},
   "outputs": [],
   "source": [
    "#Read polish stopwords file\n",
    "polish_stops = codecs.open(\"polishStopWords\",'r','utf-8')\n",
    "ps = polish_stops.read().split('\\n')\n",
    "polish_stops.close()"
   ]
  },
  {
   "cell_type": "code",
   "execution_count": 335,
   "metadata": {},
   "outputs": [],
   "source": [
    "# Remove all stop words: no_stops\n",
    "no_stops = [t for t in alpha_only if t not in ps]\n",
    "#no_stops"
   ]
  },
  {
   "cell_type": "markdown",
   "metadata": {},
   "source": [
    "### Bag of words"
   ]
  },
  {
   "cell_type": "code",
   "execution_count": 336,
   "metadata": {},
   "outputs": [],
   "source": [
    "bow = Counter(no_stops)"
   ]
  },
  {
   "cell_type": "code",
   "execution_count": 337,
   "metadata": {},
   "outputs": [
    {
     "data": {
      "text/plain": [
       "[('uczniowie', 4),\n",
       " ('pościć', 3),\n",
       " ('młodego', 3),\n",
       " ('wino', 3),\n",
       " ('jana', 2),\n",
       " ('poszczą', 2),\n",
       " ('nikt', 2),\n",
       " ('starego', 2),\n",
       " ('ubrania', 2),\n",
       " ('przeciwnym', 2)]"
      ]
     },
     "execution_count": 337,
     "metadata": {},
     "output_type": "execute_result"
    }
   ],
   "source": [
    "bow.most_common(10)"
   ]
  },
  {
   "cell_type": "markdown",
   "metadata": {},
   "source": [
    "### Word cloud"
   ]
  },
  {
   "cell_type": "code",
   "execution_count": 338,
   "metadata": {},
   "outputs": [],
   "source": [
    "from wordcloud import WordCloud\n",
    "import matplotlib.pyplot as plt"
   ]
  },
  {
   "cell_type": "code",
   "execution_count": 339,
   "metadata": {},
   "outputs": [
    {
     "data": {
      "image/png": "[encoded data removed]",
      "text/plain": [
       "<Figure size 432x288 with 1 Axes>"
      ]
     },
     "metadata": {
      "needs_background": "light"
     },
     "output_type": "display_data"
    }
   ],
   "source": [
    "text = clean_text\n",
    "# Create and generate a word cloud image:\n",
    "wordcloud = WordCloud(stopwords = ps, max_font_size=150, max_words=10, background_color=\"white\").generate(text)\n",
    "\n",
    "# Display the generated image:\n",
    "plt.imshow(wordcloud, interpolation='bilinear')\n",
    "plt.axis(\"off\")\n",
    "plt.show()"
   ]
  },
  {
   "cell_type": "markdown",
   "metadata": {},
   "source": [
    "### Term frequency"
   ]
  },
  {
   "cell_type": "code",
   "execution_count": 340,
   "metadata": {},
   "outputs": [],
   "source": [
    "from nltk.probability import FreqDist"
   ]
  },
  {
   "cell_type": "code",
   "execution_count": 341,
   "metadata": {},
   "outputs": [],
   "source": [
    "fdist = FreqDist(no_stops)"
   ]
  },
  {
   "cell_type": "code",
   "execution_count": 342,
   "metadata": {},
   "outputs": [
    {
     "data": {
      "text/plain": [
       "dict_keys(['uczniowie', 'jana', 'faryzeusze', 'mieli', 'post', 'przyszli', 'jezusa', 'pytali', 'faryzeuszów', 'poszczą', 'jezus', 'odpowiedział', 'goście', 'weselni', 'pościć', 'dopóki', 'młody', 'długo', 'pośród', 'siebie', 'młodego', 'przyjdzie', 'czas', 'zabiorą', 'dzień', 'nikt', 'przyszywa', 'łaty', 'surowego', 'sukna', 'starego', 'ubrania', 'przeciwnym', 'razie', 'nowa', 'łata', 'obrywa', 'część', 'gorsze', 'staje', 'przedarcie', 'wina', 'wlewa', 'starych', 'bukłaków', 'wino', 'rozerwie', 'bukłaki', 'wylewa', 'przepadną', 'raczej', 'młode', 'należy', 'wlewać', 'nowych'])"
      ]
     },
     "execution_count": 342,
     "metadata": {},
     "output_type": "execute_result"
    }
   ],
   "source": [
    "fdist.keys()"
   ]
  },
  {
   "cell_type": "code",
   "execution_count": 343,
   "metadata": {
    "scrolled": true
   },
   "outputs": [
    {
     "data": {
      "image/png": "[encoded data removed]",
      "text/plain": [
       "<Figure size 1152x288 with 1 Axes>"
      ]
     },
     "metadata": {
      "needs_background": "light"
     },
     "output_type": "display_data"
    }
   ],
   "source": [
    "plt.figure(figsize=(16,4))\n",
    "fdist_plot = fdist.plot()\n",
    "plt.show()"
   ]
  },
  {
   "cell_type": "code",
   "execution_count": 344,
   "metadata": {},
   "outputs": [
    {
     "data": {
      "text/plain": [
       "['faryzeusze',\n",
       " 'mieli',\n",
       " 'post',\n",
       " 'przyszli',\n",
       " 'jezusa',\n",
       " 'pytali',\n",
       " 'faryzeuszów',\n",
       " 'jezus',\n",
       " 'odpowiedział',\n",
       " 'goście',\n",
       " 'weselni',\n",
       " 'dopóki',\n",
       " 'młody',\n",
       " 'długo',\n",
       " 'pośród',\n",
       " 'siebie',\n",
       " 'przyjdzie',\n",
       " 'czas',\n",
       " 'zabiorą',\n",
       " 'dzień',\n",
       " 'przyszywa',\n",
       " 'łaty',\n",
       " 'surowego',\n",
       " 'sukna',\n",
       " 'nowa',\n",
       " 'łata',\n",
       " 'obrywa',\n",
       " 'część',\n",
       " 'gorsze',\n",
       " 'staje',\n",
       " 'przedarcie',\n",
       " 'wina',\n",
       " 'wlewa',\n",
       " 'starych',\n",
       " 'rozerwie',\n",
       " 'wylewa',\n",
       " 'przepadną',\n",
       " 'raczej',\n",
       " 'młode',\n",
       " 'należy',\n",
       " 'wlewać',\n",
       " 'nowych']"
      ]
     },
     "execution_count": 344,
     "metadata": {},
     "output_type": "execute_result"
    }
   ],
   "source": [
    "#occurs only once\n",
    "fdist.hapaxes()"
   ]
  },
  {
   "cell_type": "code",
   "execution_count": 345,
   "metadata": {},
   "outputs": [],
   "source": [
    "x = bow.most_common(5)\n",
    "keys = []\n",
    "for each in x:\n",
    "    #print(each)\n",
    "    keys.append(each[0])"
   ]
  },
  {
   "cell_type": "code",
   "execution_count": 346,
   "metadata": {},
   "outputs": [],
   "source": [
    "#to fix\n",
    "#text.dispersion_plot(keys)"
   ]
  },
  {
   "cell_type": "markdown",
   "metadata": {},
   "source": [
    "### N-Grams"
   ]
  },
  {
   "cell_type": "code",
   "execution_count": 347,
   "metadata": {},
   "outputs": [],
   "source": [
    "from sklearn.feature_extraction.text import CountVectorizer"
   ]
  },
  {
   "cell_type": "code",
   "execution_count": 348,
   "metadata": {},
   "outputs": [],
   "source": [
    "#z linked in\n",
    "def clean_text(text):\n",
    "    text = \"\".join([word for word in text if word not in string.punctuation])\n",
    "    tokens = re.split('\\W+', text)\n",
    "    text = [ps.stem(word) for word in tokens if word not in stopwords]\n",
    "    return text"
   ]
  },
  {
   "cell_type": "code",
   "execution_count": 349,
   "metadata": {},
   "outputs": [
    {
     "name": "stdout",
     "output_type": "stream",
     "text": [
      "(1, 101)\n",
      "['bukłaki przepadną', 'bukłaki wino', 'bukłaków przeciwnym', 'będą pościć', 'czas kiedy', 'czy goście', 'część ze', 'dlaczego uczniowie', 'do jezusa', 'do nowych', 'do starego', 'do starych', 'dopóki pan', 'dzień będą', 'długo mają', 'faryzeusze mieli', 'faryzeuszów poszczą', 'gorsze staje', 'goście weselni', 'im odpowiedział', 'im pana', 'jak długo', 'jana faryzeusze', 'jana uczniowie', 'jest nimi', 'jeszcze część', 'jezus im', 'jezusa pytali', 'kiedy zabiorą', 'lecz przyjdzie', 'mają pośród', 'mieli właśnie', 'mogą pościć', 'młode wino', 'młodego lecz', 'młodego wina', 'młodego wtedy', 'młody jest', 'należy wlewać', 'nie mogą', 'nie poszczą', 'nie przyszywa', 'nie wlewa', 'nikt nie', 'nikt też', 'nimi nie', 'nowa łata', 'nowych bukłaków', 'obrywa jeszcze', 'odpowiedział czy', 'pan młody', 'pana młodego', 'post przyszli', 'poszczą jezus', 'poszczą twoi', 'pościć dopóki', 'pościć jak', 'pościć nikt', 'pośród siebie', 'przeciwnym razie', 'przedarcie nikt', 'przepadną raczej', 'przyjdzie czas', 'przyszli więc', 'przyszywa łaty', 'pytali dlaczego', 'raczej młode', 'razie nowa', 'razie wino', 'rozerwie bukłaki', 'siebie pana', 'się przedarcie', 'się wylewa', 'staje się', 'starego ubrania', 'starych bukłaków', 'sukna do', 'surowego sukna', 'też młodego', 'twoi uczniowie', 'ubrania gorsze', 'ubrania przeciwnym', 'uczniowie faryzeuszów', 'uczniowie jana', 'uczniowie nie', 'weselni mogą', 'wina nie', 'wino należy', 'wino rozerwie', 'wino się', 'więc do', 'wlewa do', 'wlewać do', 'wtedy ów', 'wylewa bukłaki', 'właśnie post', 'zabiorą im', 'ze starego', 'ów dzień', 'łata obrywa', 'łaty surowego']\n"
     ]
    }
   ],
   "source": [
    "ngram_vect = CountVectorizer(ngram_range=(2,2))\n",
    "X_counts = ngram_vect.fit_transform(df['Ewangelia'])\n",
    "\n",
    "print(X_counts.shape)\n",
    "print(ngram_vect.get_feature_names())"
   ]
  },
  {
   "cell_type": "markdown",
   "metadata": {},
   "source": [
    "### Statystyki"
   ]
  },
  {
   "cell_type": "code",
   "execution_count": 88,
   "metadata": {},
   "outputs": [],
   "source": [
    "def lexical_diversity(text):\n",
    "    return len(text)/len(set(text))\n",
    "\n",
    "def percentage(count,total):\n",
    "    return 100 * count/total"
   ]
  },
  {
   "cell_type": "code",
   "execution_count": 89,
   "metadata": {},
   "outputs": [
    {
     "data": {
      "text/plain": [
       "15.714285714285714"
      ]
     },
     "execution_count": 89,
     "metadata": {},
     "output_type": "execute_result"
    }
   ],
   "source": [
    "lexical_diversity(text)"
   ]
  },
  {
   "cell_type": "code",
   "execution_count": 90,
   "metadata": {},
   "outputs": [
    {
     "data": {
      "text/plain": [
       "0.38961038961038963"
      ]
     },
     "execution_count": 90,
     "metadata": {},
     "output_type": "execute_result"
    }
   ],
   "source": [
    "percentage(text.count(bow.most_common(1)[0][0]),len(text))"
   ]
  },
  {
   "cell_type": "markdown",
   "metadata": {},
   "source": [
    "### Tf-idf \n",
    "\n",
    "#### Term frequency - inverse document frequency\n",
    "Ważenie częstością termów - odwrotna częstość w dokumentach - jedna z metod obliczania wagi słów w oparciu o liczbę ich wystąpień, należąca do grupy algorytmów obliczających statystyczne wagi termów. \n",
    "- Każdy dokument reprezentowany jest przez wektor, składający się z wag słów występujących w tym dokumencie. \n",
    "- TFIDF informuje o częstości wystąpienia termów uwzględniając jednocześnie odpowiednie wyważenie znaczenia lokalnego termu i jego znaczenia w kontekście pełnej kolekcji dokumentów. \n",
    "\n",
    "https://pl.wikipedia.org/wiki/TFIDF\n",
    "\n",
    "- Pozwala na określenie rzadkich, ale ważnych słów każdym dokumencie\n",
    "\n",
    "$$w(i,j) = tf(i,j) * log(\\frac{N}{df(i)})$$\n",
    "\n",
    "gdzie:\n",
    "\n",
    ">* w(i,f) - waga tokenu i w dokumencie j\n",
    ">* tf(i,j) - liczba wystąpień tokenu i w dokumencie j\n",
    ">* df(i) - licza dokumentów zawierających token i\n",
    ">*N - liczba wszystkich dokumentów"
   ]
  },
  {
   "cell_type": "code",
   "execution_count": 91,
   "metadata": {},
   "outputs": [
    {
     "name": "stderr",
     "output_type": "stream",
     "text": [
      "F:\\ProgramData\\Anaconda3\\envs\\NLP\\lib\\site-packages\\gensim\\utils.py:1197: UserWarning: detected Windows; aliasing chunkize to chunkize_serial\n",
      "  warnings.warn(\"detected Windows; aliasing chunkize to chunkize_serial\")\n"
     ]
    }
   ],
   "source": [
    "from gensim.models.tfidfmodel import TfidfModel\n",
    "from nltk.corpus import wordnet as wn"
   ]
  },
  {
   "cell_type": "code",
   "execution_count": 92,
   "metadata": {},
   "outputs": [
    {
     "data": {
      "text/plain": [
       "'Uczniowie Jana i faryzeusze mieli właśnie post. Przyszli więc do Jezusa i pytali: \"Dlaczego uczniowie Jana i uczniowie faryzeuszów poszczą, a Twoi uczniowie nie poszczą?\" Jezus im odpowiedział: \"Czy goście weselni mogą pościć, dopóki pan młody jest z nimi? Nie mogą pościć, jak długo mają pośród siebie pana młodego. Lecz przyjdzie czas, kiedy zabiorą im pana młodego, a wtedy, w ów dzień, będą pościć. Nikt nie przyszywa łaty z surowego sukna do starego ubrania. W przeciwnym razie nowa łata obrywa jeszcze część ze starego ubrania i gorsze staje się przedarcie. Nikt też młodego wina nie wlewa do starych bukłaków. W przeciwnym razie wino rozerwie bukłaki. Wino się wylewa i bukłaki przepadną. Raczej młode wino należy wlewać do nowych bukłaków\".\\r\\n                    '"
      ]
     },
     "execution_count": 92,
     "metadata": {},
     "output_type": "execute_result"
    }
   ],
   "source": [
    "clean_text"
   ]
  },
  {
   "cell_type": "code",
   "execution_count": 93,
   "metadata": {},
   "outputs": [],
   "source": [
    "#corpus = "
   ]
  },
  {
   "cell_type": "code",
   "execution_count": 94,
   "metadata": {},
   "outputs": [],
   "source": [
    "#tfidf = TfidfModel(corpus)"
   ]
  },
  {
   "cell_type": "code",
   "execution_count": 95,
   "metadata": {},
   "outputs": [],
   "source": [
    "from nltk.stem.porter import *\n",
    "\n",
    "def stem_tokens(tokens, stemmer):\n",
    "    stemmed = []\n",
    "    for item in tokens:\n",
    "        stemmed.append(stemmer.stem(item))\n",
    "    return stemmed\n",
    "\n",
    "stemmer = PorterStemmer()\n",
    "stemmed = stem_tokens(no_stops, stemmer)\n",
    "count = Counter(stemmed)"
   ]
  },
  {
   "cell_type": "code",
   "execution_count": 96,
   "metadata": {},
   "outputs": [
    {
     "name": "stdout",
     "output_type": "stream",
     "text": [
      "[('uczniowi', 4), ('pościć', 3), ('młodego', 3), ('wino', 3), ('jana', 2), ('poszczą', 2), ('nikt', 2), ('starego', 2), ('ubrania', 2), ('przeciwnym', 2), ('razi', 2), ('bukłaków', 2), ('bukłaki', 2), ('faryzeusz', 1), ('mieli', 1), ('post', 1), ('przyszli', 1), ('jezusa', 1), ('pytali', 1), ('faryzeuszów', 1)]\n"
     ]
    }
   ],
   "source": [
    "print(count.most_common(20))"
   ]
  },
  {
   "cell_type": "code",
   "execution_count": 97,
   "metadata": {},
   "outputs": [
    {
     "name": "stdout",
     "output_type": "stream",
     "text": [
      "[('uczniowie', 4), ('pościć', 3), ('młodego', 3), ('wino', 3), ('jana', 2), ('poszczą', 2), ('nikt', 2), ('starego', 2), ('ubrania', 2), ('przeciwnym', 2), ('razie', 2), ('bukłaków', 2), ('bukłaki', 2), ('faryzeusze', 1), ('mieli', 1), ('post', 1), ('przyszli', 1), ('jezusa', 1), ('pytali', 1), ('faryzeuszów', 1)]\n"
     ]
    }
   ],
   "source": [
    "print(bow.most_common(20))"
   ]
  },
  {
   "cell_type": "code",
   "execution_count": null,
   "metadata": {},
   "outputs": [],
   "source": []
  }
 ],
 "metadata": {
  "kernelspec": {
   "display_name": "Python 3",
   "language": "python",
   "name": "python3"
  },
  "language_info": {
   "codemirror_mode": {
    "name": "ipython",
    "version": 3
   },
   "file_extension": ".py",
   "mimetype": "text/x-python",
   "name": "python",
   "nbconvert_exporter": "python",
   "pygments_lexer": "ipython3",
   "version": "3.6.8"
  }
 },
 "nbformat": 4,
 "nbformat_minor": 2
}
