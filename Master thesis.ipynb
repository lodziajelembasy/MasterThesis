{
 "cells": [
  {
   "cell_type": "code",
   "execution_count": 45,
   "metadata": {},
   "outputs": [],
   "source": [
    "from matplotlib.pyplot import hist, show\n",
    "from collections import Counter\n",
    "import urllib\n",
    "import codecs\n",
    "from nltk.stem import WordNetLemmatizer\n",
    "import numpy as np \n",
    "from nltk import Text\n",
    "import pandas as pd\n",
    "\n",
    "#downloading the webpage\n",
    "import requests\n",
    "import datetime\n",
    "\n",
    "#parsing a page\n",
    "from bs4 import BeautifulSoup\n",
    "\n",
    "import re\n",
    "#presentation handling\n",
    "from pptx import Presentation"
   ]
  },
  {
   "cell_type": "markdown",
   "metadata": {},
   "source": [
    "## Zestaw czytań do pracy magisterskiej\n",
    "\n",
    "Przykład\n",
    "\n",
    "|Data| Dzień tygodnia | Pierwsze czytanie | Psalm | Drugie czytanie | Werset przed Ewangelią | Ewangelia | \n",
    "|---|---|---|---|---|---|---|\n",
    "|21-01-2019|Niedziela| Przez wzgląd na Syjon nie umilknę, przez wzgląd na Jerozolimę nie spocznę, dopóki jej sprawiedliwość nie błyśnie jak zorza i zbawienie jej nie zapłonie jak pochodnia. Wówczas narody ujrzą twą sprawiedliwość i chwałę twoją wszyscy królowie. I nazwą cię nowym imieniem, które usta Pana określą. Będziesz prześliczną koroną w rękach Pana, królewskim diademem w dłoni twego Boga. Nie będą więcej mówić o tobie \"Porzucona\", o krainie twej już nie powiedzą \"Spustoszona\". Raczej cię nazwą \"Moje w niej upodobanie\", a krainę twoją – \"Poślubiona\". Albowiem spodobałaś się Panu i twoja kraina otrzyma męża. Bo jak młodzieniec poślubia dziewicę, tak twój Budowniczy ciebie poślubi, i jak oblubieniec weseli się z oblubienicy, tak Bóg twój tobą się rozraduje.|---| Bracia: Różne są dary łaski, lecz ten sam Duch; różne też są rodzaje posługiwania, ale jeden Pan; różne są wreszcie działania, lecz ten sam Bóg, sprawca wszystkiego we wszystkich. Wszystkim zaś objawia się Duch dla wspólnego dobra. Jednemu dany jest przez Ducha dar mądrości słowa, drugiemu umiejętność poznawania według tego samego Ducha, innemu jeszcze dar wiary w tymże Duchu, innemu łaska uzdrawiania przez tego samego Ducha, innemu dar czynienia cudów, innemu proroctwo, innemu rozpoznawanie duchów, innemu dar języków i wreszcie innemu łaska tłumaczenia języków. Wszystko zaś sprawia jeden i ten sam Duch, udzielając każdemu tak, jak chce.|Żywe jest słowo Boże i skuteczne, zdolne osądzić pragnienia i myśli serca.|W Kanie Galilejskiej odbywało się wesele i była tam Matka Jezusa. Zaproszono na to wesele także Jezusa i Jego uczniów. A kiedy zabrakło wina, Matka Jezusa rzekła do Niego: \"Nie mają wina\". Jezus Jej odpowiedział: \"Czyż to moja lub Twoja sprawa, Niewiasto? Czy jeszcze nie nadeszła godzina moja?\" Wtedy Matka Jego powiedziała do sług: \"Zróbcie wszystko, cokolwiek wam powie\". Stało zaś tam sześć stągwi kamiennych przeznaczonych do żydowskich oczyszczeń, z których każda mogła pomieścić dwie lub trzy miary. Jezus rzekł do sług: \"Napełnijcie stągwie wodą\". I napełnili je aż po brzegi. Potem powiedział do nich: \"Zaczerpnijcie teraz i zanieście staroście weselnemu\". Ci więc zanieśli. Gdy zaś starosta weselny skosztował wody, która stała się winem – a nie wiedział, skąd ono pochodzi, ale słudzy, którzy czerpali wodę, wiedzieli – przywołał pana młodego i powiedział do niego: \"Każdy człowiek stawia najpierw dobre wino, a gdy się napiją, wówczas gorsze. Ty zachowałeś dobre wino aż do tej pory\". Taki to początek znaków uczynił Jezus w Kanie Galilejskiej. Objawił swoją chwałę i uwierzyli w Niego Jego uczniowie.|"
   ]
  },
  {
   "cell_type": "markdown",
   "metadata": {},
   "source": [
    "## Zestaw pieśni do pracy magisterskiej\n",
    "\n",
    "Przykład, wersja jako całość tekstu (bez podziału na refren i zwrotki)\n",
    "\n",
    "|Id_piosenki | Tytuł|Tekst|\n",
    "|---|---|---|\n",
    "|1|Błogosław Duszo moja Pana| ... |\n"
   ]
  },
  {
   "cell_type": "markdown",
   "metadata": {},
   "source": [
    "#### Inicjalizacja pd.DataFrame dla piosenek"
   ]
  },
  {
   "cell_type": "code",
   "execution_count": 46,
   "metadata": {},
   "outputs": [
    {
     "data": {
      "text/html": [
       "<div>\n",
       "<style scoped>\n",
       "    .dataframe tbody tr th:only-of-type {\n",
       "        vertical-align: middle;\n",
       "    }\n",
       "\n",
       "    .dataframe tbody tr th {\n",
       "        vertical-align: top;\n",
       "    }\n",
       "\n",
       "    .dataframe thead th {\n",
       "        text-align: right;\n",
       "    }\n",
       "</style>\n",
       "<table border=\"1\" class=\"dataframe\">\n",
       "  <thead>\n",
       "    <tr style=\"text-align: right;\">\n",
       "      <th></th>\n",
       "      <th>Tytuł</th>\n",
       "      <th>Tekst</th>\n",
       "    </tr>\n",
       "  </thead>\n",
       "  <tbody>\n",
       "  </tbody>\n",
       "</table>\n",
       "</div>"
      ],
      "text/plain": [
       "Empty DataFrame\n",
       "Columns: [Tytuł, Tekst]\n",
       "Index: []"
      ]
     },
     "execution_count": 46,
     "metadata": {},
     "output_type": "execute_result"
    }
   ],
   "source": [
    "df_p = pd.DataFrame(data=None, index=None, #pd.date_range('1/1/2019', periods=10, freq='D'), \n",
    "                  columns = [\"Tytuł\",\"Tekst\"])\n",
    "df_p.head()"
   ]
  },
  {
   "cell_type": "code",
   "execution_count": 48,
   "metadata": {},
   "outputs": [],
   "source": [
    "def parse_presentation(presentation_path):\n",
    "    prs = Presentation(presentation_path)\n",
    "    text = str()\n",
    "    for slide in prs.slides:\n",
    "        for shape in slide.shapes:\n",
    "            if not shape.has_text_frame:\n",
    "                continue\n",
    "            for paragraph in shape.text_frame.paragraphs:\n",
    "                for run in paragraph.runs:\n",
    "                    text = text + run.text + ' '\n",
    "    return text"
   ]
  },
  {
   "cell_type": "code",
   "execution_count": 54,
   "metadata": {},
   "outputs": [],
   "source": [
    "from os import listdir"
   ]
  },
  {
   "cell_type": "code",
   "execution_count": 64,
   "metadata": {},
   "outputs": [
    {
     "ename": "KeyError",
     "evalue": "'the label [1] is not in the [index]'",
     "output_type": "error",
     "traceback": [
      "\u001b[1;31m---------------------------------------------------------------------------\u001b[0m",
      "\u001b[1;31mKeyError\u001b[0m                                  Traceback (most recent call last)",
      "\u001b[1;32mF:\\ProgramData\\Anaconda3\\envs\\NLP\\lib\\site-packages\\pandas\\core\\indexing.py\u001b[0m in \u001b[0;36m_validate_key\u001b[1;34m(self, key, axis)\u001b[0m\n\u001b[0;32m   1789\u001b[0m                 \u001b[1;32mif\u001b[0m \u001b[1;32mnot\u001b[0m \u001b[0max\u001b[0m\u001b[1;33m.\u001b[0m\u001b[0mcontains\u001b[0m\u001b[1;33m(\u001b[0m\u001b[0mkey\u001b[0m\u001b[1;33m)\u001b[0m\u001b[1;33m:\u001b[0m\u001b[1;33m\u001b[0m\u001b[1;33m\u001b[0m\u001b[0m\n\u001b[1;32m-> 1790\u001b[1;33m                     \u001b[0merror\u001b[0m\u001b[1;33m(\u001b[0m\u001b[1;33m)\u001b[0m\u001b[1;33m\u001b[0m\u001b[1;33m\u001b[0m\u001b[0m\n\u001b[0m\u001b[0;32m   1791\u001b[0m             \u001b[1;32mexcept\u001b[0m \u001b[0mTypeError\u001b[0m \u001b[1;32mas\u001b[0m \u001b[0me\u001b[0m\u001b[1;33m:\u001b[0m\u001b[1;33m\u001b[0m\u001b[1;33m\u001b[0m\u001b[0m\n",
      "\u001b[1;32mF:\\ProgramData\\Anaconda3\\envs\\NLP\\lib\\site-packages\\pandas\\core\\indexing.py\u001b[0m in \u001b[0;36merror\u001b[1;34m()\u001b[0m\n\u001b[0;32m   1784\u001b[0m                                .format(key=key,\n\u001b[1;32m-> 1785\u001b[1;33m                                        axis=self.obj._get_axis_name(axis)))\n\u001b[0m\u001b[0;32m   1786\u001b[0m \u001b[1;33m\u001b[0m\u001b[0m\n",
      "\u001b[1;31mKeyError\u001b[0m: 'the label [1] is not in the [index]'",
      "\nDuring handling of the above exception, another exception occurred:\n",
      "\u001b[1;31mKeyError\u001b[0m                                  Traceback (most recent call last)",
      "\u001b[1;32m<ipython-input-64-a4746d87fabe>\u001b[0m in \u001b[0;36m<module>\u001b[1;34m\u001b[0m\n\u001b[1;32m----> 1\u001b[1;33m \u001b[0mdf_p\u001b[0m\u001b[1;33m.\u001b[0m\u001b[0mloc\u001b[0m\u001b[1;33m[\u001b[0m\u001b[1;36m1\u001b[0m\u001b[1;33m]\u001b[0m\u001b[1;33m\u001b[0m\u001b[1;33m\u001b[0m\u001b[0m\n\u001b[0m",
      "\u001b[1;32mF:\\ProgramData\\Anaconda3\\envs\\NLP\\lib\\site-packages\\pandas\\core\\indexing.py\u001b[0m in \u001b[0;36m__getitem__\u001b[1;34m(self, key)\u001b[0m\n\u001b[0;32m   1476\u001b[0m \u001b[1;33m\u001b[0m\u001b[0m\n\u001b[0;32m   1477\u001b[0m             \u001b[0mmaybe_callable\u001b[0m \u001b[1;33m=\u001b[0m \u001b[0mcom\u001b[0m\u001b[1;33m.\u001b[0m\u001b[0m_apply_if_callable\u001b[0m\u001b[1;33m(\u001b[0m\u001b[0mkey\u001b[0m\u001b[1;33m,\u001b[0m \u001b[0mself\u001b[0m\u001b[1;33m.\u001b[0m\u001b[0mobj\u001b[0m\u001b[1;33m)\u001b[0m\u001b[1;33m\u001b[0m\u001b[1;33m\u001b[0m\u001b[0m\n\u001b[1;32m-> 1478\u001b[1;33m             \u001b[1;32mreturn\u001b[0m \u001b[0mself\u001b[0m\u001b[1;33m.\u001b[0m\u001b[0m_getitem_axis\u001b[0m\u001b[1;33m(\u001b[0m\u001b[0mmaybe_callable\u001b[0m\u001b[1;33m,\u001b[0m \u001b[0maxis\u001b[0m\u001b[1;33m=\u001b[0m\u001b[0maxis\u001b[0m\u001b[1;33m)\u001b[0m\u001b[1;33m\u001b[0m\u001b[1;33m\u001b[0m\u001b[0m\n\u001b[0m\u001b[0;32m   1479\u001b[0m \u001b[1;33m\u001b[0m\u001b[0m\n\u001b[0;32m   1480\u001b[0m     \u001b[1;32mdef\u001b[0m \u001b[0m_is_scalar_access\u001b[0m\u001b[1;33m(\u001b[0m\u001b[0mself\u001b[0m\u001b[1;33m,\u001b[0m \u001b[0mkey\u001b[0m\u001b[1;33m)\u001b[0m\u001b[1;33m:\u001b[0m\u001b[1;33m\u001b[0m\u001b[1;33m\u001b[0m\u001b[0m\n",
      "\u001b[1;32mF:\\ProgramData\\Anaconda3\\envs\\NLP\\lib\\site-packages\\pandas\\core\\indexing.py\u001b[0m in \u001b[0;36m_getitem_axis\u001b[1;34m(self, key, axis)\u001b[0m\n\u001b[0;32m   1909\u001b[0m \u001b[1;33m\u001b[0m\u001b[0m\n\u001b[0;32m   1910\u001b[0m         \u001b[1;31m# fall thru to straight lookup\u001b[0m\u001b[1;33m\u001b[0m\u001b[1;33m\u001b[0m\u001b[1;33m\u001b[0m\u001b[0m\n\u001b[1;32m-> 1911\u001b[1;33m         \u001b[0mself\u001b[0m\u001b[1;33m.\u001b[0m\u001b[0m_validate_key\u001b[0m\u001b[1;33m(\u001b[0m\u001b[0mkey\u001b[0m\u001b[1;33m,\u001b[0m \u001b[0maxis\u001b[0m\u001b[1;33m)\u001b[0m\u001b[1;33m\u001b[0m\u001b[1;33m\u001b[0m\u001b[0m\n\u001b[0m\u001b[0;32m   1912\u001b[0m         \u001b[1;32mreturn\u001b[0m \u001b[0mself\u001b[0m\u001b[1;33m.\u001b[0m\u001b[0m_get_label\u001b[0m\u001b[1;33m(\u001b[0m\u001b[0mkey\u001b[0m\u001b[1;33m,\u001b[0m \u001b[0maxis\u001b[0m\u001b[1;33m=\u001b[0m\u001b[0maxis\u001b[0m\u001b[1;33m)\u001b[0m\u001b[1;33m\u001b[0m\u001b[1;33m\u001b[0m\u001b[0m\n\u001b[0;32m   1913\u001b[0m \u001b[1;33m\u001b[0m\u001b[0m\n",
      "\u001b[1;32mF:\\ProgramData\\Anaconda3\\envs\\NLP\\lib\\site-packages\\pandas\\core\\indexing.py\u001b[0m in \u001b[0;36m_validate_key\u001b[1;34m(self, key, axis)\u001b[0m\n\u001b[0;32m   1796\u001b[0m                 \u001b[1;32mraise\u001b[0m\u001b[1;33m\u001b[0m\u001b[1;33m\u001b[0m\u001b[0m\n\u001b[0;32m   1797\u001b[0m             \u001b[1;32mexcept\u001b[0m\u001b[1;33m:\u001b[0m\u001b[1;33m\u001b[0m\u001b[1;33m\u001b[0m\u001b[0m\n\u001b[1;32m-> 1798\u001b[1;33m                 \u001b[0merror\u001b[0m\u001b[1;33m(\u001b[0m\u001b[1;33m)\u001b[0m\u001b[1;33m\u001b[0m\u001b[1;33m\u001b[0m\u001b[0m\n\u001b[0m\u001b[0;32m   1799\u001b[0m \u001b[1;33m\u001b[0m\u001b[0m\n\u001b[0;32m   1800\u001b[0m     \u001b[1;32mdef\u001b[0m \u001b[0m_is_scalar_access\u001b[0m\u001b[1;33m(\u001b[0m\u001b[0mself\u001b[0m\u001b[1;33m,\u001b[0m \u001b[0mkey\u001b[0m\u001b[1;33m)\u001b[0m\u001b[1;33m:\u001b[0m\u001b[1;33m\u001b[0m\u001b[1;33m\u001b[0m\u001b[0m\n",
      "\u001b[1;32mF:\\ProgramData\\Anaconda3\\envs\\NLP\\lib\\site-packages\\pandas\\core\\indexing.py\u001b[0m in \u001b[0;36merror\u001b[1;34m()\u001b[0m\n\u001b[0;32m   1783\u001b[0m                 raise KeyError(u\"the label [{key}] is not in the [{axis}]\"\n\u001b[0;32m   1784\u001b[0m                                .format(key=key,\n\u001b[1;32m-> 1785\u001b[1;33m                                        axis=self.obj._get_axis_name(axis)))\n\u001b[0m\u001b[0;32m   1786\u001b[0m \u001b[1;33m\u001b[0m\u001b[0m\n\u001b[0;32m   1787\u001b[0m             \u001b[1;32mtry\u001b[0m\u001b[1;33m:\u001b[0m\u001b[1;33m\u001b[0m\u001b[1;33m\u001b[0m\u001b[0m\n",
      "\u001b[1;31mKeyError\u001b[0m: 'the label [1] is not in the [index]'"
     ]
    }
   ],
   "source": [
    "df_p.loc[1]"
   ]
  },
  {
   "cell_type": "code",
   "execution_count": 67,
   "metadata": {},
   "outputs": [],
   "source": [
    "i=0\n",
    "for file in listdir('prezentacje'):\n",
    "    path = 'prezentacje/' + file\n",
    "    song_name = file[:-5]\n",
    "    text = parse_presentation(path)\n",
    "    df_p.loc[i] = [song_name, text]\n",
    "    i=i+1"
   ]
  },
  {
   "cell_type": "code",
   "execution_count": 69,
   "metadata": {},
   "outputs": [
    {
     "data": {
      "text/plain": [
       "187"
      ]
     },
     "execution_count": 69,
     "metadata": {},
     "output_type": "execute_result"
    }
   ],
   "source": [
    "i"
   ]
  },
  {
   "cell_type": "code",
   "execution_count": 49,
   "metadata": {},
   "outputs": [
    {
     "data": {
      "text/plain": [
       "'Ty wyzwoliłeś nas Panie  z kajdan i samych siebie,  a Chrystus stając się bratem  nauczył nas wołać do Ciebie:  Abba Ojcze! Abba Ojcze! Abba Ojcze! 2. Bo Kościół jak drzewo życia w wieczności zapuszcza korzenie, przenika naszą codzienność i pokazuje nam Ciebie. Abba Ojcze! Abba Ojcze! Abba Ojcze! 3. Bóg hojnym Dawcą jest życia, on wyswobodził nas z śmierci i przygarniając do siebie uczynił swoimi dziećmi. Abba Ojcze! Abba Ojcze! Abba Ojcze! 4. Wszyscy jesteśmy braćmi, jesteśmy jedną rodziną. Tej prawdy nic już nie zaćmi i teraz jest jej godzina. Abba Ojcze! Abba Ojcze! Abba Ojcze! '"
      ]
     },
     "execution_count": 49,
     "metadata": {},
     "output_type": "execute_result"
    }
   ],
   "source": [
    "path = 'prezentacje/Abba Ojcze.pptx'\n",
    "parse_presentation(path)"
   ]
  },
  {
   "cell_type": "code",
   "execution_count": 59,
   "metadata": {},
   "outputs": [
    {
     "data": {
      "text/plain": [
       "'prezentacje/Abba Ojcze'"
      ]
     },
     "execution_count": 59,
     "metadata": {},
     "output_type": "execute_result"
    }
   ],
   "source": [
    "path[:-5]"
   ]
  },
  {
   "cell_type": "markdown",
   "metadata": {},
   "source": [
    "#### Inicjalizacja pd.DataFrame dla czytań"
   ]
  },
  {
   "cell_type": "code",
   "execution_count": 4,
   "metadata": {},
   "outputs": [
    {
     "data": {
      "text/html": [
       "<div>\n",
       "<style scoped>\n",
       "    .dataframe tbody tr th:only-of-type {\n",
       "        vertical-align: middle;\n",
       "    }\n",
       "\n",
       "    .dataframe tbody tr th {\n",
       "        vertical-align: top;\n",
       "    }\n",
       "\n",
       "    .dataframe thead th {\n",
       "        text-align: right;\n",
       "    }\n",
       "</style>\n",
       "<table border=\"1\" class=\"dataframe\">\n",
       "  <thead>\n",
       "    <tr style=\"text-align: right;\">\n",
       "      <th></th>\n",
       "      <th>Dzień tygodnia</th>\n",
       "      <th>Pierwsze czytanie</th>\n",
       "      <th>Psalm</th>\n",
       "      <th>Drugie czytanie</th>\n",
       "      <th>Werset przed Ewangelią</th>\n",
       "      <th>Ewangelia</th>\n",
       "    </tr>\n",
       "  </thead>\n",
       "  <tbody>\n",
       "  </tbody>\n",
       "</table>\n",
       "</div>"
      ],
      "text/plain": [
       "Empty DataFrame\n",
       "Columns: [Dzień tygodnia, Pierwsze czytanie, Psalm, Drugie czytanie, Werset przed Ewangelią, Ewangelia]\n",
       "Index: []"
      ]
     },
     "execution_count": 4,
     "metadata": {},
     "output_type": "execute_result"
    }
   ],
   "source": [
    "df = pd.DataFrame(data=None, index=None, #pd.date_range('1/1/2019', periods=10, freq='D'), \n",
    "                  columns = [\"Dzień tygodnia\",\"Pierwsze czytanie\", \"Psalm\", \"Drugie czytanie\", \n",
    "                                                    \"Werset przed Ewangelią\", \"Ewangelia\"])\n",
    "df.head()"
   ]
  },
  {
   "cell_type": "code",
   "execution_count": 5,
   "metadata": {},
   "outputs": [],
   "source": [
    "numdays = 10\n",
    "base = datetime.date.today()\n",
    "date_list = [base - datetime.timedelta(days=x) for x in range(0, numdays)]\n",
    "dates_cleaned = [str(x).replace('-','') for x in date_list]\n",
    "dates_names = [x.strftime(\"%A\") for x in date_list]"
   ]
  },
  {
   "cell_type": "code",
   "execution_count": 6,
   "metadata": {},
   "outputs": [
    {
     "name": "stdout",
     "output_type": "stream",
     "text": [
      "[datetime.date(2019, 1, 22), datetime.date(2019, 1, 21), datetime.date(2019, 1, 20), datetime.date(2019, 1, 19), datetime.date(2019, 1, 18), datetime.date(2019, 1, 17), datetime.date(2019, 1, 16), datetime.date(2019, 1, 15), datetime.date(2019, 1, 14), datetime.date(2019, 1, 13)]\n",
      "['20190122', '20190121', '20190120', '20190119', '20190118', '20190117', '20190116', '20190115', '20190114', '20190113']\n",
      "['Tuesday', 'Monday', 'Sunday', 'Saturday', 'Friday', 'Thursday', 'Wednesday', 'Tuesday', 'Monday', 'Sunday']\n"
     ]
    }
   ],
   "source": [
    "print(date_list)\n",
    "print(dates_cleaned)\n",
    "print(dates_names)"
   ]
  },
  {
   "cell_type": "markdown",
   "metadata": {},
   "source": [
    "## Czytania danego dnia"
   ]
  },
  {
   "cell_type": "code",
   "execution_count": 7,
   "metadata": {},
   "outputs": [],
   "source": [
    "#czytanie na dziś\n",
    "now = datetime.datetime.now()\n",
    "today = datetime.date.today()\n",
    "year = str(now.year)\n",
    "month = str(now.month)\n",
    "if len(month) == 1:\n",
    "    month = \"0\" + month\n",
    "\n",
    "day = str(now.day)\n",
    "if len(day) == 1:\n",
    "    day = \"0\" + day\n",
    "\n",
    "ymd = year+month+day\n",
    "today_name = now.strftime(\"%A\")\n",
    "day_name = today_name\n",
    "#day_name = 'Sunday'\n",
    "\n",
    "address = \"http://mateusz.pl/czytania/\" + year + \"/\" + ymd + \".html\"\n",
    "#address = \"http://mateusz.pl/czytania/2018/20181021.html\" #niedziela\n",
    "\n",
    "#print(address)"
   ]
  },
  {
   "cell_type": "code",
   "execution_count": 8,
   "metadata": {},
   "outputs": [],
   "source": [
    "def get_adresses(n):\n",
    "    adresses = []\n",
    "    date_list = [base - datetime.timedelta(days=x) for x in range(0, n)]\n",
    "    dates_cleaned = [str(x).replace('-','') for x in date_list]\n",
    "    for date in dates_cleaned:\n",
    "        ymd = date\n",
    "        address = \"http://mateusz.pl/czytania/\" + ymd[:4]+ \"/\" + ymd + \".html\"\n",
    "        adresses.append(address)\n",
    "    return adresses"
   ]
  },
  {
   "cell_type": "code",
   "execution_count": 9,
   "metadata": {},
   "outputs": [
    {
     "data": {
      "text/plain": [
       "['http://mateusz.pl/czytania/2019/20190122.html',\n",
       " 'http://mateusz.pl/czytania/2019/20190121.html',\n",
       " 'http://mateusz.pl/czytania/2019/20190120.html',\n",
       " 'http://mateusz.pl/czytania/2019/20190119.html',\n",
       " 'http://mateusz.pl/czytania/2019/20190118.html']"
      ]
     },
     "execution_count": 9,
     "metadata": {},
     "output_type": "execute_result"
    }
   ],
   "source": [
    "get_adresses(5)"
   ]
  },
  {
   "cell_type": "code",
   "execution_count": 10,
   "metadata": {},
   "outputs": [],
   "source": [
    "def get_readings(address, day_name):\n",
    "    page = requests.get(address)\n",
    "    soup = BeautifulSoup(page.content, 'html.parser')\n",
    "    #print(soup.prettify()) \n",
    "    #Exception handling for more readings\n",
    "    try:\n",
    "        #section = list(soup.children)[9]\n",
    "        #section_content = section.find_all('p')   \n",
    "        section = list(soup.children)\n",
    "        section_content1 = section[2].find_all('p')\n",
    "        if day_name == 'Sunday':\n",
    "            section_content2 = section[6]\n",
    "            section_content3 = section[8]\n",
    "            section_content4 = section[12]\n",
    "        else:\n",
    "            section_content2 = None\n",
    "            section_content3 = section[4]\n",
    "            section_content4 = section[8]\n",
    "            \n",
    "        pierwsze_czytanie = str(section_content1[6])\n",
    "        drugie_czytanie = str(section_content2)\n",
    "        tekst_przed_ewangelia = str(section_content3)\n",
    "        psalm_ref = str(section_content1[7])\n",
    "        ewangelia = str(section_content4)\n",
    "        document = [pierwsze_czytanie, psalm_ref, drugie_czytanie, tekst_przed_ewangelia, ewangelia]\n",
    "        return document\n",
    "    except:\n",
    "        pass\n",
    "        section = soup.find_all('section')[0]\n",
    "        section_content =section.find_all('p')"
   ]
  },
  {
   "cell_type": "code",
   "execution_count": 11,
   "metadata": {},
   "outputs": [
    {
     "data": {
      "text/html": [
       "<div>\n",
       "<style scoped>\n",
       "    .dataframe tbody tr th:only-of-type {\n",
       "        vertical-align: middle;\n",
       "    }\n",
       "\n",
       "    .dataframe tbody tr th {\n",
       "        vertical-align: top;\n",
       "    }\n",
       "\n",
       "    .dataframe thead th {\n",
       "        text-align: right;\n",
       "    }\n",
       "</style>\n",
       "<table border=\"1\" class=\"dataframe\">\n",
       "  <thead>\n",
       "    <tr style=\"text-align: right;\">\n",
       "      <th></th>\n",
       "      <th>Dzień tygodnia</th>\n",
       "      <th>Pierwsze czytanie</th>\n",
       "      <th>Psalm</th>\n",
       "      <th>Drugie czytanie</th>\n",
       "      <th>Werset przed Ewangelią</th>\n",
       "      <th>Ewangelia</th>\n",
       "    </tr>\n",
       "  </thead>\n",
       "  <tbody>\n",
       "  </tbody>\n",
       "</table>\n",
       "</div>"
      ],
      "text/plain": [
       "Empty DataFrame\n",
       "Columns: [Dzień tygodnia, Pierwsze czytanie, Psalm, Drugie czytanie, Werset przed Ewangelią, Ewangelia]\n",
       "Index: []"
      ]
     },
     "execution_count": 11,
     "metadata": {},
     "output_type": "execute_result"
    }
   ],
   "source": [
    "df.head()"
   ]
  },
  {
   "cell_type": "code",
   "execution_count": 12,
   "metadata": {},
   "outputs": [],
   "source": [
    "#df.to_csv('readings_sample.csv', sep='\\t')"
   ]
  },
  {
   "cell_type": "code",
   "execution_count": 13,
   "metadata": {},
   "outputs": [],
   "source": [
    "document = get_readings(address, today)\n",
    "pierwsze_czytanie = document[0]\n",
    "psalm_ref = document[1]\n",
    "drugie_czytanie = document[2]\n",
    "tekst_przed_ewangelia = document[3]\n",
    "ewangelia = document[4]"
   ]
  },
  {
   "cell_type": "code",
   "execution_count": 14,
   "metadata": {},
   "outputs": [
    {
     "data": {
      "text/plain": [
       "'<p>\\r\\n                        (Hbr 6, 10-20) <br/>\\r\\n                        Bracia: Nie jest Bóg niesprawiedliwy, aby zapomniał o czynie waszym i miłości, którą okazaliście dla imienia Jego, gdy usługiwaliście świętym i jeszcze usługujecie. Pragniemy zaś, by każdy z was okazywał tę samą gorliwość w doskonaleniu nadziei aż do końca, abyście nie stali się ospałymi, ale naśladowali tych, którzy przez wiarę i cierpliwość stają się dziedzicami obietnic. Albowiem gdy Bóg Abrahamowi uczynił obietnicę, nie mając nikogo większego, na kogo mógłby przysiąc, poprzysiągł na samego siebie, mówiąc: \"Zaiste, hojnie cię pobłogosławię i ponad miarę rozmnożę\". A ponieważ Abraham tak cierpliwie oczekiwał, otrzymał to, co było obiecane. Ludzie przysięgają na kogoś wyższego, a przysięga dla stwierdzenia prawdy jest zakończeniem każdego sporu między nimi. Dlatego Bóg, pragnąc okazać dziedzicom obietnicy ponad wszelką miarę niezmienność swego postanowienia, wzmocnił je przysięgą, abyśmy przez dwie rzeczy niezmienne, co do których niemożliwe jest, by skłamał Bóg, mieli trwałą pociechę, my, którzy uciekliśmy się do uchwycenia zaofiarowanej nadziei. Trzymajmy się jej jak bezpiecznej i silnej dla duszy kotwicy, która przenika poza zasłonę, gdzie Jezus jako poprzednik wszedł za nas, stawszy się arcykapłanem na wieki na wzór Melchizedeka.\\r\\n                    </p>'"
      ]
     },
     "execution_count": 14,
     "metadata": {},
     "output_type": "execute_result"
    }
   ],
   "source": [
    "pierwsze_czytanie"
   ]
  },
  {
   "cell_type": "code",
   "execution_count": 15,
   "metadata": {},
   "outputs": [
    {
     "data": {
      "text/plain": [
       "'None'"
      ]
     },
     "execution_count": 15,
     "metadata": {},
     "output_type": "execute_result"
    }
   ],
   "source": [
    "drugie_czytanie"
   ]
  },
  {
   "cell_type": "code",
   "execution_count": 16,
   "metadata": {},
   "outputs": [
    {
     "data": {
      "text/plain": [
       "'<p>\\r\\n                        (Ps 111 (110), 1b-2. 4-5. 9 i 10c) <br/>\\n<small>REFREN:</small> Pan Bóg pamięta o swoim przymierzu</p>'"
      ]
     },
     "execution_count": 16,
     "metadata": {},
     "output_type": "execute_result"
    }
   ],
   "source": [
    "psalm_ref"
   ]
  },
  {
   "cell_type": "code",
   "execution_count": 17,
   "metadata": {},
   "outputs": [
    {
     "data": {
      "text/plain": [
       "'<p>\\r\\n                            Aklamacja (Ef 1, 17-18 <br>\\r\\n                        Niech Ojciec Pana naszego, Jezusa Chrystusa, przeniknie nasze serca swoim światłem, abyśmy wiedzieli, czym jest nadzieja naszego powołania.\\r\\n                    </br></p>'"
      ]
     },
     "execution_count": 17,
     "metadata": {},
     "output_type": "execute_result"
    }
   ],
   "source": [
    "tekst_przed_ewangelia"
   ]
  },
  {
   "cell_type": "code",
   "execution_count": 18,
   "metadata": {},
   "outputs": [
    {
     "data": {
      "text/plain": [
       "'<p>\\r\\n                        (Mk 2, 23-28) <br>\\r\\n                        Pewnego razu, gdy Jezus przechodził w szabat pośród zbóż, uczniowie Jego zaczęli po drodze zrywać kłosy. Na to faryzeusze mówili do Niego: \"Patrz, czemu oni czynią w szabat to, czego nie wolno?\" On im odpowiedział: \"Czy nigdy nie czytaliście, co uczynił Dawid, kiedy znalazł się w potrzebie i poczuł głód, on i jego towarzysze? Jak wszedł do domu Bożego za Abiatara, najwyższego kapłana, i jadł chleby pokładne, które tylko kapłanom jeść wolno; i dał również swoim towarzyszom\". I dodał: \"To szabat został ustanowiony dla człowieka, a nie człowiek dla szabatu. Zatem Syn Człowieczy jest Panem także szabatu\".\\r\\n                    </br></p>'"
      ]
     },
     "execution_count": 18,
     "metadata": {},
     "output_type": "execute_result"
    }
   ],
   "source": [
    "ewangelia"
   ]
  },
  {
   "cell_type": "markdown",
   "metadata": {},
   "source": [
    "## Noise removal // Cleaning"
   ]
  },
  {
   "cell_type": "code",
   "execution_count": 19,
   "metadata": {},
   "outputs": [],
   "source": [
    "#first phase\n",
    "def clean_html(raw):\n",
    "    cleaner = re.compile('<.*?>')\n",
    "    cleantext = re.sub(cleaner, '', raw)\n",
    "    return cleantext\n",
    "\n",
    "def clean_proverbs (raw):\n",
    "    cleaner = re.compile('\\([^)]*\\)')\n",
    "    cleantext = re.sub(cleaner, '',raw)\n",
    "    return cleantext\n",
    "\n",
    "def clean_indent(raw):\n",
    "    cleaner = re.compile('^\\s+')\n",
    "    cleantext = re.sub(cleaner, '',raw)\n",
    "    return cleantext\n",
    "\n",
    "def clean_text(raw):\n",
    "    text = clean_html(raw)\n",
    "    text = clean_proverbs(text)\n",
    "    text = clean_indent(text)\n",
    "    return text"
   ]
  },
  {
   "cell_type": "code",
   "execution_count": 20,
   "metadata": {},
   "outputs": [],
   "source": [
    "n=5\n",
    "date_list = [base - datetime.timedelta(days=x) for x in range(0, n)]\n",
    "dates_cleaned = [str(x).replace('-','') for x in date_list]\n",
    "dates_names = [x.strftime(\"%A\") for x in date_list]\n",
    "adresses = get_adresses(n)\n",
    "documents = []\n",
    "for i in range(len(adresses)):\n",
    "    doc = get_readings(adresses[i], dates_names[i])\n",
    "    doc_cleaned = [clean_text(str(text)) for text in doc]\n",
    "    input_row = [dates_names[i]]\n",
    "    for each in doc_cleaned:\n",
    "        input_row.append(each)\n",
    "    df.loc[date_list[i]] = input_row\n",
    "        \n"
   ]
  },
  {
   "cell_type": "code",
   "execution_count": 21,
   "metadata": {},
   "outputs": [
    {
     "data": {
      "text/html": [
       "<div>\n",
       "<style scoped>\n",
       "    .dataframe tbody tr th:only-of-type {\n",
       "        vertical-align: middle;\n",
       "    }\n",
       "\n",
       "    .dataframe tbody tr th {\n",
       "        vertical-align: top;\n",
       "    }\n",
       "\n",
       "    .dataframe thead th {\n",
       "        text-align: right;\n",
       "    }\n",
       "</style>\n",
       "<table border=\"1\" class=\"dataframe\">\n",
       "  <thead>\n",
       "    <tr style=\"text-align: right;\">\n",
       "      <th></th>\n",
       "      <th>Dzień tygodnia</th>\n",
       "      <th>Pierwsze czytanie</th>\n",
       "      <th>Psalm</th>\n",
       "      <th>Drugie czytanie</th>\n",
       "      <th>Werset przed Ewangelią</th>\n",
       "      <th>Ewangelia</th>\n",
       "    </tr>\n",
       "  </thead>\n",
       "  <tbody>\n",
       "    <tr>\n",
       "      <th>2019-01-22</th>\n",
       "      <td>Tuesday</td>\n",
       "      <td>Bracia: Nie jest Bóg niesprawiedliwy, aby zapo...</td>\n",
       "      <td>, 1b-2. 4-5. 9 i 10c) \\nREFREN: Pan Bóg pamięt...</td>\n",
       "      <td>None</td>\n",
       "      <td>Aklamacja (Ef 1, 17-18 \\r\\n                   ...</td>\n",
       "      <td>Pewnego razu, gdy Jezus przechodził w szabat p...</td>\n",
       "    </tr>\n",
       "    <tr>\n",
       "      <th>2019-01-21</th>\n",
       "      <td>Monday</td>\n",
       "      <td>Każdy arcykapłan, spomiędzy ludzi brany, dla l...</td>\n",
       "      <td>, 1b-2. 3-4) \\nREFREN: Jesteś kapłanem, tak ja...</td>\n",
       "      <td>None</td>\n",
       "      <td>Aklamacja  \\r\\n                        Żywe je...</td>\n",
       "      <td>Uczniowie Jana i faryzeusze mieli właśnie post...</td>\n",
       "    </tr>\n",
       "    <tr>\n",
       "      <th>2019-01-20</th>\n",
       "      <td>Sunday</td>\n",
       "      <td>Przez wzgląd na Syjon nie umilknę, przez wzglą...</td>\n",
       "      <td>, 1-2a. 2b-3. 7-8. 9 i 10ac) \\nREFREN: Pośród ...</td>\n",
       "      <td>Bracia: Różne są dary łaski, lecz ten sam Duch...</td>\n",
       "      <td>Aklamacja  \\r\\n                        Bóg wez...</td>\n",
       "      <td>W Kanie Galilejskiej odbywało się wesele i był...</td>\n",
       "    </tr>\n",
       "    <tr>\n",
       "      <th>2019-01-19</th>\n",
       "      <td>Saturday</td>\n",
       "      <td>Bracia: Żywe jest słowo Boże, skuteczne i ostr...</td>\n",
       "      <td>, 8-9. 10 i 15) \\nREFREN: Słowa Twe, Panie, są...</td>\n",
       "      <td>None</td>\n",
       "      <td>Aklamacja  \\r\\n                        Pan pos...</td>\n",
       "      <td>Jezus wyszedł znowu nad jezioro. Cały lud przy...</td>\n",
       "    </tr>\n",
       "    <tr>\n",
       "      <th>2019-01-18</th>\n",
       "      <td>Friday</td>\n",
       "      <td>Bracia: Lękajmy się, gdy jeszcze trwa obietnic...</td>\n",
       "      <td>, 3 i 4bc. 6-7. 8) \\nREFREN: Wielkich dzieł Bo...</td>\n",
       "      <td>None</td>\n",
       "      <td>Aklamacja  \\r\\n                        Wielki ...</td>\n",
       "      <td>Gdy po pewnym czasie Jezus wrócił do Kafarnaum...</td>\n",
       "    </tr>\n",
       "  </tbody>\n",
       "</table>\n",
       "</div>"
      ],
      "text/plain": [
       "           Dzień tygodnia                                  Pierwsze czytanie  \\\n",
       "2019-01-22        Tuesday  Bracia: Nie jest Bóg niesprawiedliwy, aby zapo...   \n",
       "2019-01-21         Monday  Każdy arcykapłan, spomiędzy ludzi brany, dla l...   \n",
       "2019-01-20         Sunday  Przez wzgląd na Syjon nie umilknę, przez wzglą...   \n",
       "2019-01-19       Saturday  Bracia: Żywe jest słowo Boże, skuteczne i ostr...   \n",
       "2019-01-18         Friday  Bracia: Lękajmy się, gdy jeszcze trwa obietnic...   \n",
       "\n",
       "                                                        Psalm  \\\n",
       "2019-01-22  , 1b-2. 4-5. 9 i 10c) \\nREFREN: Pan Bóg pamięt...   \n",
       "2019-01-21  , 1b-2. 3-4) \\nREFREN: Jesteś kapłanem, tak ja...   \n",
       "2019-01-20  , 1-2a. 2b-3. 7-8. 9 i 10ac) \\nREFREN: Pośród ...   \n",
       "2019-01-19  , 8-9. 10 i 15) \\nREFREN: Słowa Twe, Panie, są...   \n",
       "2019-01-18  , 3 i 4bc. 6-7. 8) \\nREFREN: Wielkich dzieł Bo...   \n",
       "\n",
       "                                              Drugie czytanie  \\\n",
       "2019-01-22                                               None   \n",
       "2019-01-21                                               None   \n",
       "2019-01-20  Bracia: Różne są dary łaski, lecz ten sam Duch...   \n",
       "2019-01-19                                               None   \n",
       "2019-01-18                                               None   \n",
       "\n",
       "                                       Werset przed Ewangelią  \\\n",
       "2019-01-22  Aklamacja (Ef 1, 17-18 \\r\\n                   ...   \n",
       "2019-01-21  Aklamacja  \\r\\n                        Żywe je...   \n",
       "2019-01-20  Aklamacja  \\r\\n                        Bóg wez...   \n",
       "2019-01-19  Aklamacja  \\r\\n                        Pan pos...   \n",
       "2019-01-18  Aklamacja  \\r\\n                        Wielki ...   \n",
       "\n",
       "                                                    Ewangelia  \n",
       "2019-01-22  Pewnego razu, gdy Jezus przechodził w szabat p...  \n",
       "2019-01-21  Uczniowie Jana i faryzeusze mieli właśnie post...  \n",
       "2019-01-20  W Kanie Galilejskiej odbywało się wesele i był...  \n",
       "2019-01-19  Jezus wyszedł znowu nad jezioro. Cały lud przy...  \n",
       "2019-01-18  Gdy po pewnym czasie Jezus wrócił do Kafarnaum...  "
      ]
     },
     "execution_count": 21,
     "metadata": {},
     "output_type": "execute_result"
    }
   ],
   "source": [
    "df.head()"
   ]
  },
  {
   "cell_type": "code",
   "execution_count": 39,
   "metadata": {},
   "outputs": [
    {
     "data": {
      "text/plain": [
       "datetime.date(2019, 1, 21)"
      ]
     },
     "execution_count": 39,
     "metadata": {},
     "output_type": "execute_result"
    }
   ],
   "source": [
    "df.index[1]"
   ]
  },
  {
   "cell_type": "code",
   "execution_count": 79,
   "metadata": {},
   "outputs": [
    {
     "data": {
      "text/plain": [
       "', 1-2a. 2b-3. 7-8. 9 i 10ac) \\nREFREN: Pośród narodów głoście chwałę Pana'"
      ]
     },
     "execution_count": 79,
     "metadata": {},
     "output_type": "execute_result"
    }
   ],
   "source": [
    "text = df.loc[datetime.date(2019, 1, 20),'Psalm']\n",
    "text"
   ]
  },
  {
   "cell_type": "code",
   "execution_count": 29,
   "metadata": {},
   "outputs": [],
   "source": [
    "from googletrans import Translator"
   ]
  },
  {
   "cell_type": "code",
   "execution_count": 30,
   "metadata": {},
   "outputs": [],
   "source": [
    "translator = Translator()\n",
    "t = translator.translate(clean_text)"
   ]
  },
  {
   "cell_type": "code",
   "execution_count": 31,
   "metadata": {},
   "outputs": [
    {
     "data": {
      "text/plain": [
       "'Once, when Jesus passed on the sabbath among the grains, his disciples began to pick up the ears on the way. The Pharisees said to him, \"Look, why do they do what is not allowed on the Sabbath?\" He said to them, \"Have you never read what David did when he found himself in need and felt hunger, he and his companions?\" When he entered the house of God for Abiathar the high priest, he ate bread that only the priests could eat; and he also gave his companions. \" He added: \"This Sabbath was established for man, and not man for the Sabbath, so the Son of Man is also the Lord of the Sabbath.\"'"
      ]
     },
     "execution_count": 31,
     "metadata": {},
     "output_type": "execute_result"
    }
   ],
   "source": [
    "t.text"
   ]
  },
  {
   "cell_type": "markdown",
   "metadata": {},
   "source": [
    "## Tokenization & Segmentation"
   ]
  },
  {
   "cell_type": "code",
   "execution_count": 32,
   "metadata": {},
   "outputs": [],
   "source": [
    "from nltk.tokenize import word_tokenize, sent_tokenize\n",
    "text = clean_text"
   ]
  },
  {
   "cell_type": "code",
   "execution_count": 33,
   "metadata": {},
   "outputs": [],
   "source": [
    "sentences = sent_tokenize(text)\n",
    "#sentences"
   ]
  },
  {
   "cell_type": "code",
   "execution_count": 34,
   "metadata": {},
   "outputs": [],
   "source": [
    "tokens = word_tokenize(text)\n",
    "lower_tokens = [t.lower() for t in tokens]\n",
    "#lower_tokens"
   ]
  },
  {
   "cell_type": "markdown",
   "metadata": {},
   "source": [
    "## Normalization / Preprocessing\n",
    "\n",
    "#### Lemmatyzacja (lemmatisation) \n",
    "Algorytm znajdowania lemmy, formy podstawowej wyrazu w obszarze części mowy którą reprezentuje. Inaczej: wyszukiwanie formy kanonicznej leksemu. W komputerowej analizie języka naturalnego lemmatyzacja jest operacją bardziej precyzyjną niż stemmatyzacja. \n",
    "\n",
    "#### Stemmatyzacja (stemming) \n",
    "Sprowadzenie wyrazu reprezentującego dowolną część mowy do stemu, rdzenia postaci źródłowej, najczęściej rzeczownika, bądź niekiedy nawet sekwencji znaków nie mającej samodzielnego znaczenia w języku naturalnym. "
   ]
  },
  {
   "cell_type": "code",
   "execution_count": 35,
   "metadata": {},
   "outputs": [],
   "source": [
    "# Retain alphabetic words: alpha_only\n",
    "alpha_only = [t for t in lower_tokens if t.isalpha()]\n",
    "#alpha_only"
   ]
  },
  {
   "cell_type": "code",
   "execution_count": 36,
   "metadata": {},
   "outputs": [],
   "source": [
    "#Read polish stopwords file\n",
    "polish_stops = codecs.open(\"polishStopWords\",'r','utf-8')\n",
    "ps = polish_stops.read().split('\\n')\n",
    "polish_stops.close()"
   ]
  },
  {
   "cell_type": "code",
   "execution_count": 37,
   "metadata": {},
   "outputs": [],
   "source": [
    "# Remove all stop words: no_stops\n",
    "no_stops = [t for t in alpha_only if t not in ps]\n",
    "#no_stops"
   ]
  },
  {
   "cell_type": "markdown",
   "metadata": {},
   "source": [
    "### Bag of words"
   ]
  },
  {
   "cell_type": "code",
   "execution_count": 38,
   "metadata": {},
   "outputs": [],
   "source": [
    "bow = Counter(no_stops)"
   ]
  },
  {
   "cell_type": "code",
   "execution_count": 39,
   "metadata": {},
   "outputs": [
    {
     "data": {
      "text/plain": [
       "[('szabat', 3),\n",
       " ('wolno', 2),\n",
       " ('szabatu', 2),\n",
       " ('pewnego', 1),\n",
       " ('razu', 1),\n",
       " ('jezus', 1),\n",
       " ('przechodził', 1),\n",
       " ('pośród', 1),\n",
       " ('zbóż', 1),\n",
       " ('uczniowie', 1)]"
      ]
     },
     "execution_count": 39,
     "metadata": {},
     "output_type": "execute_result"
    }
   ],
   "source": [
    "bow.most_common(10)"
   ]
  },
  {
   "cell_type": "markdown",
   "metadata": {},
   "source": [
    "### Word cloud"
   ]
  },
  {
   "cell_type": "code",
   "execution_count": 40,
   "metadata": {},
   "outputs": [],
   "source": [
    "from wordcloud import WordCloud\n",
    "import matplotlib.pyplot as plt"
   ]
  },
  {
   "cell_type": "code",
   "execution_count": 41,
   "metadata": {},
   "outputs": [
    {
     "data": {
      "image/png": "[encoded data removed]",
      "text/plain": [
       "<Figure size 432x288 with 1 Axes>"
      ]
     },
     "metadata": {
      "needs_background": "light"
     },
     "output_type": "display_data"
    }
   ],
   "source": [
    "text = clean_text\n",
    "# Create and generate a word cloud image:\n",
    "wordcloud = WordCloud(stopwords = ps, max_font_size=150, max_words=10, background_color=\"white\").generate(text)\n",
    "\n",
    "# Display the generated image:\n",
    "plt.imshow(wordcloud, interpolation='bilinear')\n",
    "plt.axis(\"off\")\n",
    "plt.show()"
   ]
  },
  {
   "cell_type": "markdown",
   "metadata": {},
   "source": [
    "### Term frequency"
   ]
  },
  {
   "cell_type": "code",
   "execution_count": 42,
   "metadata": {},
   "outputs": [],
   "source": [
    "from nltk.probability import FreqDist"
   ]
  },
  {
   "cell_type": "code",
   "execution_count": 43,
   "metadata": {},
   "outputs": [],
   "source": [
    "fdist = FreqDist(no_stops)"
   ]
  },
  {
   "cell_type": "code",
   "execution_count": 44,
   "metadata": {},
   "outputs": [
    {
     "data": {
      "text/plain": [
       "dict_keys(['pewnego', 'razu', 'jezus', 'przechodził', 'szabat', 'pośród', 'zbóż', 'uczniowie', 'zaczęli', 'drodze', 'zrywać', 'kłosy', 'faryzeusze', 'mówili', 'patrz', 'czynią', 'czego', 'wolno', 'odpowiedział', 'czytaliście', 'uczynił', 'dawid', 'znalazł', 'potrzebie', 'poczuł', 'głód', 'towarzysze', 'wszedł', 'domu', 'bożego', 'abiatara', 'najwyższego', 'kapłana', 'jadł', 'chleby', 'pokładne', 'kapłanom', 'jeść', 'dał', 'swoim', 'towarzyszom', 'dodał', 'ustanowiony', 'człowieka', 'człowiek', 'szabatu', 'zatem', 'syn', 'człowieczy', 'panem'])"
      ]
     },
     "execution_count": 44,
     "metadata": {},
     "output_type": "execute_result"
    }
   ],
   "source": [
    "fdist.keys()"
   ]
  },
  {
   "cell_type": "code",
   "execution_count": 45,
   "metadata": {
    "scrolled": true
   },
   "outputs": [
    {
     "data": {
      "image/png": "[encoded data removed]",
      "text/plain": [
       "<Figure size 1152x288 with 1 Axes>"
      ]
     },
     "metadata": {
      "needs_background": "light"
     },
     "output_type": "display_data"
    }
   ],
   "source": [
    "plt.figure(figsize=(16,4))\n",
    "fdist_plot = fdist.plot()\n",
    "plt.show()"
   ]
  },
  {
   "cell_type": "code",
   "execution_count": 46,
   "metadata": {},
   "outputs": [
    {
     "data": {
      "text/plain": [
       "['pewnego',\n",
       " 'razu',\n",
       " 'jezus',\n",
       " 'przechodził',\n",
       " 'pośród',\n",
       " 'zbóż',\n",
       " 'uczniowie',\n",
       " 'zaczęli',\n",
       " 'drodze',\n",
       " 'zrywać',\n",
       " 'kłosy',\n",
       " 'faryzeusze',\n",
       " 'mówili',\n",
       " 'patrz',\n",
       " 'czynią',\n",
       " 'czego',\n",
       " 'odpowiedział',\n",
       " 'czytaliście',\n",
       " 'uczynił',\n",
       " 'dawid',\n",
       " 'znalazł',\n",
       " 'potrzebie',\n",
       " 'poczuł',\n",
       " 'głód',\n",
       " 'towarzysze',\n",
       " 'wszedł',\n",
       " 'domu',\n",
       " 'bożego',\n",
       " 'abiatara',\n",
       " 'najwyższego',\n",
       " 'kapłana',\n",
       " 'jadł',\n",
       " 'chleby',\n",
       " 'pokładne',\n",
       " 'kapłanom',\n",
       " 'jeść',\n",
       " 'dał',\n",
       " 'swoim',\n",
       " 'towarzyszom',\n",
       " 'dodał',\n",
       " 'ustanowiony',\n",
       " 'człowieka',\n",
       " 'człowiek',\n",
       " 'zatem',\n",
       " 'syn',\n",
       " 'człowieczy',\n",
       " 'panem']"
      ]
     },
     "execution_count": 46,
     "metadata": {},
     "output_type": "execute_result"
    }
   ],
   "source": [
    "#occurs only once\n",
    "fdist.hapaxes()"
   ]
  },
  {
   "cell_type": "code",
   "execution_count": 47,
   "metadata": {},
   "outputs": [],
   "source": [
    "x = bow.most_common(5)\n",
    "keys = []\n",
    "for each in x:\n",
    "    #print(each)\n",
    "    keys.append(each[0])"
   ]
  },
  {
   "cell_type": "code",
   "execution_count": 48,
   "metadata": {},
   "outputs": [],
   "source": [
    "#to fix\n",
    "#text.dispersion_plot(keys)"
   ]
  },
  {
   "cell_type": "markdown",
   "metadata": {},
   "source": [
    "### N-Grams"
   ]
  },
  {
   "cell_type": "code",
   "execution_count": 49,
   "metadata": {},
   "outputs": [],
   "source": [
    "from sklearn.feature_extraction.text import CountVectorizer"
   ]
  },
  {
   "cell_type": "code",
   "execution_count": 50,
   "metadata": {},
   "outputs": [],
   "source": [
    "#z linked in\n",
    "def clean_text2(text):\n",
    "    text = \"\".join([word for word in text if word not in string.punctuation])\n",
    "    tokens = re.split('\\W+', text)\n",
    "    text = [ps.stem(word) for word in tokens if word not in stopwords]\n",
    "    return text"
   ]
  },
  {
   "cell_type": "code",
   "execution_count": 51,
   "metadata": {},
   "outputs": [
    {
     "name": "stdout",
     "output_type": "stream",
     "text": [
      "(5, 579)\n",
      "['abiatara najwyższego', 'aby powołać', 'ale grzeszników', 'ale słudzy', 'alfeusza siedzącego', 'aż do', 'aż po', 'bluźni któż', 'boga jezus', 'boga mówiąc', 'bowiem było', 'bożego za', 'brzegi potem', 'bukłaki przepadną', 'bukłaki wino', 'bukłaków przeciwnym', 'była tam', 'było miejsca', 'było tych', 'będą pościć', 'cały lud', 'celnej rzekł', 'celnikami grzesznikami', 'celnikami mówili', 'celników grzeszników', 'chleby pokładne', 'chodź otóż', 'chwałę uwierzyli', 'ci którzy', 'ci więc', 'ci wstań', 'co uczynił', 'cokolwiek wam', 'czas kiedy', 'czasie jezus', 'czego nie', 'czegoś podobnego', 'czemu myśli', 'czemu on', 'czemu oni', 'czerpali wodę', 'czterech nie', 'czy goście', 'czy jeszcze', 'czy nigdy', 'czy też', 'czynią szabat', 'czytaliście co', 'czyż to', 'część ze', 'człowieczy jest', 'człowieczy ma', 'człowiek dla', 'człowiek stawia', 'człowieka nie', 'cóż jest', 'dach nad', 'dawid kiedy', 'dał również', 'dla człowieka', 'dla szabatu', 'dlaczego uczniowie', 'do domu', 'do jego', 'do jezusa', 'do kafarnaum', 'do nich', 'do niego', 'do nowych', 'do paralityka', 'do starego', 'do starych', 'do swego', 'do sług', 'do tej', 'do żydowskich', 'dobre wino', 'dodał to', 'domu bożego', 'domu on', 'domu przy', 'domu zebrało', 'dopóki pan', 'drodze zrywać', 'drzwiami nie', 'duchu że', 'dwie lub', 'dziecko odpuszczone', 'dzień będą', 'długo mają', 'faryzeusze mieli', 'faryzeusze mówili', 'faryzeuszów poszczą', 'faryzeuszów widząc', 'galilejskiej objawił', 'galilejskiej odbywało', 'gdy jezus', 'gdy po', 'gdy się', 'gdy zaś', 'gdzie jezus', 'go do', 'go nauczał', 'godzina moja', 'gorsze staje', 'gorsze ty', 'goście weselni', 'grzechy czy', 'grzechy prócz', 'grzechy siedziało', 'grzechów rzekł', 'grzesznikami celnikami', 'grzesznikami jezus', 'grzeszników siedziało', 'głosił im', 'głód on', 'ich wiarę', 'idź do', 'im naukę', 'im odpowiedział', 'im pana', 'iż syn', 'jadł chleby', 'jak długo', 'jak wszedł', 'jana faryzeusze', 'jana uczniowie', 'je aż', 'je grzesznikami', 'je pije', 'jednego boga', 'jego domu', 'jego powiedziała', 'jego towarzysze', 'jego uczniami', 'jego uczniowie', 'jego uczniów', 'jego zaczęli', 'jej odpowiedział', 'jest domu', 'jest nimi', 'jest panem', 'jest łatwiej', 'jeszcze część', 'jeszcze nie', 'jezioro cały', 'jezus im', 'jezus jej', 'jezus kanie', 'jezus poznał', 'jezus przechodził', 'jezus rzekł', 'jezus siedział', 'jezus się', 'jezus usłyszawszy', 'jezus widząc', 'jezus wrócił', 'jezus wyszedł', 'jezusa jego', 'jezusa pytali', 'jezusa rzekła', 'jezusa zaproszono', 'jezusem jego', 'jeść wolno', 'kafarnaum posłyszano', 'kamiennych przeznaczonych', 'kanie galilejskiej', 'kapłana jadł', 'kapłanom jeść', 'każda mogła', 'każdy człowiek', 'kiedy zabiorą', 'kiedy zabrakło', 'kiedy znalazł', 'kilku uczonych', 'komorze celnej', 'która stała', 'które tylko', 'którego niosło', 'których każda', 'których leżał', 'którzy czerpali', 'którzy myśleli', 'którzy się', 'którzy szli', 'któż może', 'kłosy na', 'lecz ci', 'lecz przyjdzie', 'lekarza zdrowi', 'lewiego syna', 'leżał paralityk', 'lub trzy', 'lub twoja', 'lud przychodził', 'ludzi że', 'ma na', 'mają nie', 'mają pośród', 'mają wina', 'matka jego', 'matka jezusa', 'miary jezus', 'miejsca on', 'miejscem gdzie', 'mieli właśnie', 'mną ten', 'mogą pościć', 'mogąc powodu', 'mogła pomieścić', 'moja lub', 'moja wtedy', 'może odpuszczać', 'myśleli sercach', 'myśli te', 'myślą rzekł', 'mówi on', 'mówili do', 'mówiąc nigdy', 'mówię ci', 'młode wino', 'młodego lecz', 'młodego powiedział', 'młodego wina', 'młodego wtedy', 'młody jest', 'na komorze', 'na których', 'na oczach', 'na to', 'na ziemi', 'nad jezioro', 'nad miejscem', 'nadeszła godzina', 'najpierw dobre', 'najwyższego kapłana', 'należy wlewać', 'napełnijcie stągwie', 'napełnili je', 'napiją wówczas', 'nauczał przechodząc', 'naukę przyszli', 'nawet przed', 'nich czemu', 'nich nie', 'nich zaczerpnijcie', 'nie było', 'nie czytaliście', 'nie człowiek', 'nie mają', 'nie mogą', 'nie mogąc', 'nie nadeszła', 'nie poszczą', 'nie potrzebują', 'nie przyszedłem', 'nie przyszywa', 'nie widzieliśmy', 'nie wiedział', 'nie wlewa', 'nie wolno', 'niego jego', 'niego każdy', 'niego nie', 'niego odkryli', 'niego on', 'niego paralitykiem', 'niego patrz', 'niego pójdź', 'niektórzy uczeni', 'niewiasto czy', 'nigdy jeszcze', 'nigdy nie', 'nikt nie', 'nikt też', 'nim gdy', 'nim niektórzy', 'nimi nie', 'niosło czterech', 'nosze chodź', 'nosze idź', 'nosze na', 'nosze wyszedł', 'nowa łata', 'nowych bukłaków', 'nurtują waszych', 'objawił swoją', 'obrywa jeszcze', 'oczach wszystkich', 'oczyszczeń których', 'odbywało się', 'odkryli dach', 'odpowiedział czy', 'odpowiedział czyż', 'odpuszczania grzechów', 'odpuszczać grzechy', 'odpuszczone są', 'on bluźni', 'on go', 'on głosił', 'on im', 'on je', 'on jego', 'on tak', 'on wstał', 'oni czynią', 'ono pochodzi', 'otwór spuścili', 'otóż żebyście', 'pan młody', 'pana młodego', 'panem także', 'paralityk jezus', 'paralityka dziecko', 'paralityka mówię', 'paralitykiem którego', 'paralitykowi odpuszczone', 'patrz czemu', 'pewnego razu', 'pewnym czasie', 'pije celnikami', 'piśmie którzy', 'piśmie spośród', 'po brzegi', 'po drodze', 'po pewnym', 'pochodzi ale', 'poczuł głód', 'początek znaków', 'pokładne które', 'pomieścić dwie', 'pory taki', 'post przyszli', 'poszczą jezus', 'poszczą twoi', 'poszedł za', 'posłyszano że', 'potem powiedział', 'potrzebie poczuł', 'potrzebują lekarza', 'powie stało', 'powiedział do', 'powiedziała do', 'powiedzieć paralitykowi', 'powiedzieć wstań', 'powodu tłumu', 'powołać sprawiedliwych', 'poznał zaraz', 'pościć dopóki', 'pościć jak', 'pościć nikt', 'pośród siebie', 'pośród zbóż', 'przechodził szabat', 'przechodząc ujrzał', 'przeciwnym razie', 'przed drzwiami', 'przedarcie nikt', 'przepadną raczej', 'przez otwór', 'przeznaczonych do', 'przy stole', 'przychodził do', 'przyjdzie czas', 'przynieść go', 'przyszedłem aby', 'przyszli do', 'przyszli więc', 'przyszywa łaty', 'przywołał pana', 'prócz jednego', 'pytali dlaczego', 'pójdź za', 'raczej młode', 'razem jezusem', 'razie nowa', 'razie wino', 'razu gdy', 'rozerwie bukłaki', 'rzekł do', 'rzekła do', 'również swoim', 'sercach cóż', 'sercach swoich', 'siebie pana', 'siedział jego', 'siedziało razem', 'siedziało tam', 'siedzącego na', 'się napiją', 'się potrzebie', 'się przedarcie', 'się wesele', 'się winem', 'się wszyscy', 'się wylewa', 'się zatem', 'się znajdował', 'się źle', 'skosztował wody', 'skąd ono', 'spośród faryzeuszów', 'sprawa niewiasto', 'sprawiedliwych ale', 'spuścili nosze', 'staje się', 'starego ubrania', 'starosta weselny', 'staroście weselnemu', 'starych bukłaków', 'stawia najpierw', 'stała się', 'stało zaś', 'stole wielu', 'stągwi kamiennych', 'stągwie wodą', 'sukna do', 'surowego sukna', 'swego domu', 'swoich czemu', 'swoim towarzyszom', 'swoje nosze', 'swoją chwałę', 'swym duchu', 'syn człowieczy', 'syna alfeusza', 'szabat pośród', 'szabat to', 'szabat został', 'szabatu zatem', 'sześć stągwi', 'szli za', 'są twoje', 'słudzy którzy', 'sług napełnijcie', 'sług zróbcie', 'tak myślą', 'tak mówi', 'taki to', 'także jezusa', 'także szabatu', 'tam kilku', 'tam matka', 'tam sześć', 'te nurtują', 'tej pory', 'ten wstał', 'teraz zanieście', 'też młodego', 'też powiedzieć', 'to czego', 'to faryzeusze', 'to moja', 'to początek', 'to rzekł', 'to szabat', 'to wesele', 'towarzysze jak', 'towarzyszom dodał', 'trzy miary', 'twoi uczniowie', 'twoja sprawa', 'twoje grzechy', 'ty zachowałeś', 'tych którzy', 'tylko kapłanom', 'tylu ludzi', 'tłumu przynieść', 'ubrania gorsze', 'ubrania przeciwnym', 'uczeni piśmie', 'uczniami wielu', 'uczniowie faryzeuszów', 'uczniowie jana', 'uczniowie jego', 'uczniowie nie', 'uczniów czemu', 'uczniów kiedy', 'uczonych piśmie', 'uczynił dawid', 'uczynił jezus', 'ujrzał lewiego', 'ustanowiony dla', 'usłyszawszy to', 'uwierzyli niego', 'wam powie', 'waszych sercach', 'wesele była', 'wesele także', 'weselnemu ci', 'weselni mogą', 'weselny skosztował', 'weź swoje', 'wiarę rzekł', 'widzieliśmy czegoś', 'widząc ich', 'widząc że', 'wiedział skąd', 'wiedzieli iż', 'wiedzieli przywołał', 'wielbili boga', 'wielu bowiem', 'wielu celników', 'wina jezus', 'wina matka', 'wina nie', 'winem nie', 'wino aż', 'wino gdy', 'wino należy', 'wino rozerwie', 'wino się', 'więc do', 'więc zanieśli', 'wlewa do', 'wlewać do', 'wody która', 'wodą napełnili', 'wodę wiedzieli', 'wolno dał', 'wolno on', 'wrócił do', 'wstał poszedł', 'wstał wziął', 'wstań weź', 'wszedł do', 'wszyscy wielbili', 'wszystkich zdumieli', 'wszystko cokolwiek', 'wtedy matka', 'wtedy ów', 'wylewa bukłaki', 'wyszedł na', 'wyszedł znowu', 'wziął zaraz', 'wówczas gorsze', 'władzę odpuszczania', 'właśnie post', 'za abiatara', 'za mną', 'za nim', 'zabiorą im', 'zabrakło wina', 'zachowałeś dobre', 'zaczerpnijcie teraz', 'zaczęli po', 'zanieście staroście', 'zanieśli gdy', 'zaproszono na', 'zaraz swoje', 'zaraz swym', 'zatem syn', 'zatem tylu', 'zaś starosta', 'zaś tam', 'zbóż uczniowie', 'zdrowi lecz', 'zdumieli się', 'ze starego', 'zebrało się', 'ziemi władzę', 'znajdował przez', 'znaków uczynił', 'znalazł się', 'znowu nad', 'został ustanowiony', 'zrywać kłosy', 'zróbcie wszystko', 'ów dzień', 'łata obrywa', 'łatwiej powiedzieć', 'łaty surowego', 'źle mają', 'że je', 'że jest', 'że nawet', 'że tak', 'żebyście wiedzieli', 'żydowskich oczyszczeń']\n"
     ]
    }
   ],
   "source": [
    "ngram_vect = CountVectorizer(ngram_range=(2,2))\n",
    "X_counts = ngram_vect.fit_transform(df['Ewangelia'])\n",
    "\n",
    "print(X_counts.shape)\n",
    "print(ngram_vect.get_feature_names())"
   ]
  },
  {
   "cell_type": "markdown",
   "metadata": {},
   "source": [
    "### Statystyki"
   ]
  },
  {
   "cell_type": "code",
   "execution_count": 52,
   "metadata": {},
   "outputs": [],
   "source": [
    "def lexical_diversity(text):\n",
    "    return len(text)/len(set(text))\n",
    "\n",
    "def percentage(count,total):\n",
    "    return 100 * count/total"
   ]
  },
  {
   "cell_type": "code",
   "execution_count": 53,
   "metadata": {},
   "outputs": [
    {
     "data": {
      "text/plain": [
       "12.352941176470589"
      ]
     },
     "execution_count": 53,
     "metadata": {},
     "output_type": "execute_result"
    }
   ],
   "source": [
    "lexical_diversity(text)"
   ]
  },
  {
   "cell_type": "code",
   "execution_count": 54,
   "metadata": {},
   "outputs": [
    {
     "data": {
      "text/plain": [
       "0.7936507936507936"
      ]
     },
     "execution_count": 54,
     "metadata": {},
     "output_type": "execute_result"
    }
   ],
   "source": [
    "percentage(text.count(bow.most_common(1)[0][0]),len(text))"
   ]
  },
  {
   "cell_type": "markdown",
   "metadata": {},
   "source": [
    "### Tf-idf \n",
    "\n",
    "#### Term frequency - inverse document frequency\n",
    "Ważenie częstością termów - odwrotna częstość w dokumentach - jedna z metod obliczania wagi słów w oparciu o liczbę ich wystąpień, należąca do grupy algorytmów obliczających statystyczne wagi termów. \n",
    "- Każdy dokument reprezentowany jest przez wektor, składający się z wag słów występujących w tym dokumencie. \n",
    "- TFIDF informuje o częstości wystąpienia termów uwzględniając jednocześnie odpowiednie wyważenie znaczenia lokalnego termu i jego znaczenia w kontekście pełnej kolekcji dokumentów. \n",
    "\n",
    "https://pl.wikipedia.org/wiki/TFIDF\n",
    "\n",
    "- Pozwala na określenie rzadkich, ale ważnych słów każdym dokumencie\n",
    "\n",
    "$$w(i,j) = tf(i,j) * log(\\frac{N}{df(i)})$$\n",
    "\n",
    "gdzie:\n",
    "\n",
    ">* w(i,f) - waga tokenu i w dokumencie j\n",
    ">* tf(i,j) - liczba wystąpień tokenu i w dokumencie j\n",
    ">* df(i) - licza dokumentów zawierających token i\n",
    ">*N - liczba wszystkich dokumentów"
   ]
  },
  {
   "cell_type": "code",
   "execution_count": 47,
   "metadata": {},
   "outputs": [
    {
     "name": "stderr",
     "output_type": "stream",
     "text": [
      "F:\\ProgramData\\Anaconda3\\envs\\NLP\\lib\\site-packages\\gensim\\utils.py:1197: UserWarning: detected Windows; aliasing chunkize to chunkize_serial\n",
      "  warnings.warn(\"detected Windows; aliasing chunkize to chunkize_serial\")\n"
     ]
    }
   ],
   "source": [
    "from gensim.models.tfidfmodel import TfidfModel\n",
    "from nltk.corpus import wordnet as wn"
   ]
  },
  {
   "cell_type": "code",
   "execution_count": 49,
   "metadata": {},
   "outputs": [],
   "source": [
    "#corpus = "
   ]
  },
  {
   "cell_type": "code",
   "execution_count": 50,
   "metadata": {},
   "outputs": [],
   "source": [
    "#tfidf = TfidfModel(corpus)"
   ]
  },
  {
   "cell_type": "code",
   "execution_count": 56,
   "metadata": {},
   "outputs": [],
   "source": [
    "from nltk.stem.porter import *\n",
    "\n",
    "def stem_tokens(tokens, stemmer):\n",
    "    stemmed = []\n",
    "    for item in tokens:\n",
    "        stemmed.append(stemmer.stem(item))\n",
    "    return stemmed\n",
    "\n",
    "stemmer = PorterStemmer()\n",
    "stemmed = stem_tokens(no_stops, stemmer)\n",
    "count = Counter(stemmed)"
   ]
  },
  {
   "cell_type": "code",
   "execution_count": 57,
   "metadata": {},
   "outputs": [
    {
     "name": "stdout",
     "output_type": "stream",
     "text": [
      "[('szabat', 3), ('wolno', 2), ('szabatu', 2), ('pewnego', 1), ('razu', 1), ('jezu', 1), ('przechodził', 1), ('pośród', 1), ('zbóż', 1), ('uczniowi', 1), ('zaczęli', 1), ('drodz', 1), ('zrywać', 1), ('kłosi', 1), ('faryzeusz', 1), ('mówili', 1), ('patrz', 1), ('czynią', 1), ('czego', 1), ('odpowiedział', 1)]\n"
     ]
    }
   ],
   "source": [
    "print(count.most_common(20))"
   ]
  },
  {
   "cell_type": "code",
   "execution_count": 58,
   "metadata": {},
   "outputs": [
    {
     "name": "stdout",
     "output_type": "stream",
     "text": [
      "[('szabat', 3), ('wolno', 2), ('szabatu', 2), ('pewnego', 1), ('razu', 1), ('jezus', 1), ('przechodził', 1), ('pośród', 1), ('zbóż', 1), ('uczniowie', 1), ('zaczęli', 1), ('drodze', 1), ('zrywać', 1), ('kłosy', 1), ('faryzeusze', 1), ('mówili', 1), ('patrz', 1), ('czynią', 1), ('czego', 1), ('odpowiedział', 1)]\n"
     ]
    }
   ],
   "source": [
    "print(bow.most_common(20))"
   ]
  },
  {
   "cell_type": "code",
   "execution_count": null,
   "metadata": {},
   "outputs": [],
   "source": []
  }
 ],
 "metadata": {
  "kernelspec": {
   "display_name": "Python 3",
   "language": "python",
   "name": "python3"
  },
  "language_info": {
   "codemirror_mode": {
    "name": "ipython",
    "version": 3
   },
   "file_extension": ".py",
   "mimetype": "text/x-python",
   "name": "python",
   "nbconvert_exporter": "python",
   "pygments_lexer": "ipython3",
   "version": "3.6.8"
  }
 },
 "nbformat": 4,
 "nbformat_minor": 2
}
