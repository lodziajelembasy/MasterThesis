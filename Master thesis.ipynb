{
 "cells": [
  {
   "cell_type": "code",
   "execution_count": 202,
   "metadata": {},
   "outputs": [],
   "source": [
    "from matplotlib.pyplot import hist, show\n",
    "from collections import Counter\n",
    "import urllib\n",
    "import codecs\n",
    "from nltk.stem import WordNetLemmatizer\n",
    "import numpy as np \n",
    "from nltk import Text\n",
    "import pandas as pd\n",
    "\n",
    "#downloading the webpage\n",
    "import requests\n",
    "import datetime\n",
    "\n",
    "#parsing a page\n",
    "from bs4 import BeautifulSoup\n",
    "import re\n",
    "#presentation handling\n",
    "from pptx import Presentation\n",
    "\n",
    "#file handling\n",
    "from os import listdir\n",
    "\n",
    "#WordCloud\n",
    "from wordcloud import WordCloud\n",
    "import matplotlib.pyplot as plt\n",
    "\n",
    "#Translator\n",
    "from googletrans import Translator\n",
    "\n",
    "from nltk.probability import FreqDist\n",
    "import string"
   ]
  },
  {
   "cell_type": "markdown",
   "metadata": {},
   "source": [
    "## Plan\n",
    "1. Mieć czysty zestaw danych\n",
    "2. Tokenizacja\n",
    "3. Czyszczenie"
   ]
  },
  {
   "cell_type": "markdown",
   "metadata": {},
   "source": [
    "## Zestaw czytań do pracy magisterskiej\n",
    "\n",
    "Przykład\n",
    "\n",
    "|Data| Dzień tygodnia | Pierwsze czytanie | Psalm | Drugie czytanie | Werset przed Ewangelią | Ewangelia | \n",
    "|---|---|---|---|---|---|---|\n",
    "|21-01-2019|Niedziela| Przez wzgląd na Syjon nie umilknę, przez wzgląd na Jerozolimę nie spocznę, dopóki jej sprawiedliwość nie błyśnie jak zorza i zbawienie jej nie zapłonie jak pochodnia. Wówczas narody ujrzą twą sprawiedliwość i chwałę twoją wszyscy królowie. I nazwą cię nowym imieniem, które usta Pana określą. Będziesz prześliczną koroną w rękach Pana, królewskim diademem w dłoni twego Boga. Nie będą więcej mówić o tobie \"Porzucona\", o krainie twej już nie powiedzą \"Spustoszona\". Raczej cię nazwą \"Moje w niej upodobanie\", a krainę twoją – \"Poślubiona\". Albowiem spodobałaś się Panu i twoja kraina otrzyma męża. Bo jak młodzieniec poślubia dziewicę, tak twój Budowniczy ciebie poślubi, i jak oblubieniec weseli się z oblubienicy, tak Bóg twój tobą się rozraduje.|---| Bracia: Różne są dary łaski, lecz ten sam Duch; różne też są rodzaje posługiwania, ale jeden Pan; różne są wreszcie działania, lecz ten sam Bóg, sprawca wszystkiego we wszystkich. Wszystkim zaś objawia się Duch dla wspólnego dobra. Jednemu dany jest przez Ducha dar mądrości słowa, drugiemu umiejętność poznawania według tego samego Ducha, innemu jeszcze dar wiary w tymże Duchu, innemu łaska uzdrawiania przez tego samego Ducha, innemu dar czynienia cudów, innemu proroctwo, innemu rozpoznawanie duchów, innemu dar języków i wreszcie innemu łaska tłumaczenia języków. Wszystko zaś sprawia jeden i ten sam Duch, udzielając każdemu tak, jak chce.|Żywe jest słowo Boże i skuteczne, zdolne osądzić pragnienia i myśli serca.|W Kanie Galilejskiej odbywało się wesele i była tam Matka Jezusa. Zaproszono na to wesele także Jezusa i Jego uczniów. A kiedy zabrakło wina, Matka Jezusa rzekła do Niego: \"Nie mają wina\". Jezus Jej odpowiedział: \"Czyż to moja lub Twoja sprawa, Niewiasto? Czy jeszcze nie nadeszła godzina moja?\" Wtedy Matka Jego powiedziała do sług: \"Zróbcie wszystko, cokolwiek wam powie\". Stało zaś tam sześć stągwi kamiennych przeznaczonych do żydowskich oczyszczeń, z których każda mogła pomieścić dwie lub trzy miary. Jezus rzekł do sług: \"Napełnijcie stągwie wodą\". I napełnili je aż po brzegi. Potem powiedział do nich: \"Zaczerpnijcie teraz i zanieście staroście weselnemu\". Ci więc zanieśli. Gdy zaś starosta weselny skosztował wody, która stała się winem – a nie wiedział, skąd ono pochodzi, ale słudzy, którzy czerpali wodę, wiedzieli – przywołał pana młodego i powiedział do niego: \"Każdy człowiek stawia najpierw dobre wino, a gdy się napiją, wówczas gorsze. Ty zachowałeś dobre wino aż do tej pory\". Taki to początek znaków uczynił Jezus w Kanie Galilejskiej. Objawił swoją chwałę i uwierzyli w Niego Jego uczniowie.|"
   ]
  },
  {
   "cell_type": "markdown",
   "metadata": {},
   "source": [
    "## Zestaw pieśni do pracy magisterskiej\n",
    "\n",
    "Przykład, wersja jako całość tekstu (bez podziału na refren i zwrotki)\n",
    "\n",
    "|Id_piosenki | Tytuł|Tekst|\n",
    "|---|---|---|\n",
    "|1|Błogosław Duszo moja Pana| ... |\n"
   ]
  },
  {
   "cell_type": "markdown",
   "metadata": {},
   "source": [
    "#### Inicjalizacja pd.DataFrame dla piosenek"
   ]
  },
  {
   "cell_type": "code",
   "execution_count": 203,
   "metadata": {},
   "outputs": [
    {
     "data": {
      "text/html": [
       "<div>\n",
       "<style scoped>\n",
       "    .dataframe tbody tr th:only-of-type {\n",
       "        vertical-align: middle;\n",
       "    }\n",
       "\n",
       "    .dataframe tbody tr th {\n",
       "        vertical-align: top;\n",
       "    }\n",
       "\n",
       "    .dataframe thead th {\n",
       "        text-align: right;\n",
       "    }\n",
       "</style>\n",
       "<table border=\"1\" class=\"dataframe\">\n",
       "  <thead>\n",
       "    <tr style=\"text-align: right;\">\n",
       "      <th></th>\n",
       "      <th>Tytuł</th>\n",
       "      <th>Tekst</th>\n",
       "    </tr>\n",
       "  </thead>\n",
       "  <tbody>\n",
       "  </tbody>\n",
       "</table>\n",
       "</div>"
      ],
      "text/plain": [
       "Empty DataFrame\n",
       "Columns: [Tytuł, Tekst]\n",
       "Index: []"
      ]
     },
     "execution_count": 203,
     "metadata": {},
     "output_type": "execute_result"
    }
   ],
   "source": [
    "df_p = pd.DataFrame(data=None, index=None, #pd.date_range('1/1/2019', periods=10, freq='D'), \n",
    "                  columns = [\"Tytuł\",\"Tekst\"])\n",
    "df_p.head()"
   ]
  },
  {
   "cell_type": "code",
   "execution_count": 204,
   "metadata": {},
   "outputs": [],
   "source": [
    "def parse_presentation(presentation_path):\n",
    "    prs = Presentation(presentation_path)\n",
    "    text = str()\n",
    "    for slide in prs.slides:\n",
    "        for shape in slide.shapes:\n",
    "            if not shape.has_text_frame:\n",
    "                continue\n",
    "            for paragraph in shape.text_frame.paragraphs:\n",
    "                for run in paragraph.runs:\n",
    "                    text = text + run.text + ' '\n",
    "    return text"
   ]
  },
  {
   "cell_type": "code",
   "execution_count": 205,
   "metadata": {},
   "outputs": [],
   "source": [
    "i=0\n",
    "for file in listdir('prezentacje'):\n",
    "    path = 'prezentacje/' + file\n",
    "    song_name = file[:-5]\n",
    "    text = parse_presentation(path)\n",
    "    df_p.loc[i] = [song_name, text]\n",
    "    i=i+1"
   ]
  },
  {
   "cell_type": "code",
   "execution_count": 206,
   "metadata": {},
   "outputs": [
    {
     "data": {
      "text/plain": [
       "187"
      ]
     },
     "execution_count": 206,
     "metadata": {},
     "output_type": "execute_result"
    }
   ],
   "source": [
    "i"
   ]
  },
  {
   "cell_type": "code",
   "execution_count": 207,
   "metadata": {},
   "outputs": [
    {
     "data": {
      "text/plain": [
       "'Ty wyzwoliłeś nas Panie  z kajdan i samych siebie,  a Chrystus stając się bratem  nauczył nas wołać do Ciebie:  Abba Ojcze! Abba Ojcze! Abba Ojcze! 2. Bo Kościół jak drzewo życia w wieczności zapuszcza korzenie, przenika naszą codzienność i pokazuje nam Ciebie. Abba Ojcze! Abba Ojcze! Abba Ojcze! 3. Bóg hojnym Dawcą jest życia, on wyswobodził nas z śmierci i przygarniając do siebie uczynił swoimi dziećmi. Abba Ojcze! Abba Ojcze! Abba Ojcze! 4. Wszyscy jesteśmy braćmi, jesteśmy jedną rodziną. Tej prawdy nic już nie zaćmi i teraz jest jej godzina. Abba Ojcze! Abba Ojcze! Abba Ojcze! '"
      ]
     },
     "execution_count": 207,
     "metadata": {},
     "output_type": "execute_result"
    }
   ],
   "source": [
    "path = 'prezentacje/Abba Ojcze.pptx'\n",
    "parse_presentation(path)"
   ]
  },
  {
   "cell_type": "code",
   "execution_count": 208,
   "metadata": {},
   "outputs": [
    {
     "data": {
      "text/html": [
       "<div>\n",
       "<style scoped>\n",
       "    .dataframe tbody tr th:only-of-type {\n",
       "        vertical-align: middle;\n",
       "    }\n",
       "\n",
       "    .dataframe tbody tr th {\n",
       "        vertical-align: top;\n",
       "    }\n",
       "\n",
       "    .dataframe thead th {\n",
       "        text-align: right;\n",
       "    }\n",
       "</style>\n",
       "<table border=\"1\" class=\"dataframe\">\n",
       "  <thead>\n",
       "    <tr style=\"text-align: right;\">\n",
       "      <th></th>\n",
       "      <th>Tytuł</th>\n",
       "      <th>Tekst</th>\n",
       "    </tr>\n",
       "  </thead>\n",
       "  <tbody>\n",
       "    <tr>\n",
       "      <th>0</th>\n",
       "      <td>Abba Ojcze</td>\n",
       "      <td>Ty wyzwoliłeś nas Panie  z kajdan i samych sie...</td>\n",
       "    </tr>\n",
       "    <tr>\n",
       "      <th>1</th>\n",
       "      <td>Alleluja (Niech zabrzmi Panu)</td>\n",
       "      <td>Ref. Alleluja, Alleluja, Alleluja, Alleluja.  ...</td>\n",
       "    </tr>\n",
       "    <tr>\n",
       "      <th>2</th>\n",
       "      <td>Alleluja, Alleluja, Amen Amen, Alleluja</td>\n",
       "      <td>Ref. Alleluja, Alleluja,  Amen, Amen, Alleluja...</td>\n",
       "    </tr>\n",
       "    <tr>\n",
       "      <th>3</th>\n",
       "      <td>Blisko, blisko, blisko jesteś</td>\n",
       "      <td>1. Blisko, blisko, blisko Jesteś Panie mój Bli...</td>\n",
       "    </tr>\n",
       "    <tr>\n",
       "      <th>4</th>\n",
       "      <td>Bo góry mogą ustąpić</td>\n",
       "      <td>1. Bo góry mogą ustąpić i pagórki się zachwiać...</td>\n",
       "    </tr>\n",
       "  </tbody>\n",
       "</table>\n",
       "</div>"
      ],
      "text/plain": [
       "                                     Tytuł  \\\n",
       "0                               Abba Ojcze   \n",
       "1            Alleluja (Niech zabrzmi Panu)   \n",
       "2  Alleluja, Alleluja, Amen Amen, Alleluja   \n",
       "3            Blisko, blisko, blisko jesteś   \n",
       "4                     Bo góry mogą ustąpić   \n",
       "\n",
       "                                               Tekst  \n",
       "0  Ty wyzwoliłeś nas Panie  z kajdan i samych sie...  \n",
       "1  Ref. Alleluja, Alleluja, Alleluja, Alleluja.  ...  \n",
       "2  Ref. Alleluja, Alleluja,  Amen, Amen, Alleluja...  \n",
       "3  1. Blisko, blisko, blisko Jesteś Panie mój Bli...  \n",
       "4  1. Bo góry mogą ustąpić i pagórki się zachwiać...  "
      ]
     },
     "execution_count": 208,
     "metadata": {},
     "output_type": "execute_result"
    }
   ],
   "source": [
    "df_p.head()"
   ]
  },
  {
   "cell_type": "markdown",
   "metadata": {},
   "source": [
    "#### Inicjalizacja pd.DataFrame dla czytań"
   ]
  },
  {
   "cell_type": "code",
   "execution_count": 415,
   "metadata": {},
   "outputs": [
    {
     "data": {
      "text/html": [
       "<div>\n",
       "<style scoped>\n",
       "    .dataframe tbody tr th:only-of-type {\n",
       "        vertical-align: middle;\n",
       "    }\n",
       "\n",
       "    .dataframe tbody tr th {\n",
       "        vertical-align: top;\n",
       "    }\n",
       "\n",
       "    .dataframe thead th {\n",
       "        text-align: right;\n",
       "    }\n",
       "</style>\n",
       "<table border=\"1\" class=\"dataframe\">\n",
       "  <thead>\n",
       "    <tr style=\"text-align: right;\">\n",
       "      <th></th>\n",
       "      <th>Dzień tygodnia</th>\n",
       "      <th>Pierwsze czytanie</th>\n",
       "      <th>Psalm_ref</th>\n",
       "      <th>Psalm</th>\n",
       "      <th>Drugie czytanie</th>\n",
       "      <th>Werset przed Ewangelią</th>\n",
       "      <th>Ewangelia</th>\n",
       "    </tr>\n",
       "  </thead>\n",
       "  <tbody>\n",
       "  </tbody>\n",
       "</table>\n",
       "</div>"
      ],
      "text/plain": [
       "Empty DataFrame\n",
       "Columns: [Dzień tygodnia, Pierwsze czytanie, Psalm_ref, Psalm, Drugie czytanie, Werset przed Ewangelią, Ewangelia]\n",
       "Index: []"
      ]
     },
     "execution_count": 415,
     "metadata": {},
     "output_type": "execute_result"
    }
   ],
   "source": [
    "df_raw = pd.DataFrame(data=None, index=None, #pd.date_range('1/1/2019', periods=10, freq='D'), \n",
    "                  columns = [\"Dzień tygodnia\",\"Pierwsze czytanie\", \"Psalm_ref\", \"Psalm\", \"Drugie czytanie\", \n",
    "                                                    \"Werset przed Ewangelią\", \"Ewangelia\"])\n",
    "df_raw.head()"
   ]
  },
  {
   "cell_type": "markdown",
   "metadata": {},
   "source": [
    "## Czytania danego dnia"
   ]
  },
  {
   "cell_type": "code",
   "execution_count": 352,
   "metadata": {},
   "outputs": [],
   "source": [
    "#czytanie na dziś\n",
    "now = datetime.datetime.now()\n",
    "today = datetime.date.today()\n",
    "year = str(now.year)\n",
    "month = str(now.month)\n",
    "if len(month) == 1:\n",
    "    month = \"0\" + month\n",
    "\n",
    "day = str(now.day)\n",
    "if len(day) == 1:\n",
    "    day = \"0\" + day\n",
    "\n",
    "ymd = year+month+day\n",
    "today_name = now.strftime(\"%A\")\n",
    "day_name = today_name\n",
    "#today_name = 'Sunday'\n",
    "\n",
    "address = \"http://mateusz.pl/czytania/\" + year + \"/\" + ymd + \".html\"\n",
    "#address = \"http://mateusz.pl/czytania/2018/20181021.html\" #niedziela\n",
    "\n",
    "#print(address)"
   ]
  },
  {
   "cell_type": "code",
   "execution_count": 353,
   "metadata": {},
   "outputs": [
    {
     "data": {
      "text/plain": [
       "'Monday'"
      ]
     },
     "execution_count": 353,
     "metadata": {},
     "output_type": "execute_result"
    }
   ],
   "source": [
    "today_name"
   ]
  },
  {
   "cell_type": "code",
   "execution_count": 354,
   "metadata": {},
   "outputs": [],
   "source": [
    "def get_adresses(n):\n",
    "    adresses = []\n",
    "    date_list = [base - datetime.timedelta(days=x) for x in range(0, n)]\n",
    "    dates_cleaned = [str(x).replace('-','') for x in date_list]\n",
    "    for date in dates_cleaned:\n",
    "        ymd = date\n",
    "        address = \"http://mateusz.pl/czytania/\" + ymd[:4]+ \"/\" + ymd + \".html\"\n",
    "        adresses.append(address)\n",
    "    return adresses"
   ]
  },
  {
   "cell_type": "code",
   "execution_count": 355,
   "metadata": {},
   "outputs": [],
   "source": [
    "#get_adresses(5)"
   ]
  },
  {
   "cell_type": "code",
   "execution_count": 356,
   "metadata": {},
   "outputs": [],
   "source": [
    "def get_readings(address, day_name):\n",
    "    page = requests.get(address)\n",
    "    soup = BeautifulSoup(page.content, 'html.parser')\n",
    "    #print(soup.prettify()) \n",
    "    #Exception handling for more readings\n",
    "    try:\n",
    "        #section = list(soup.children)[9]\n",
    "        #section_content = section.find_all('p')   \n",
    "        section = list(soup.children)\n",
    "        section_content1 = section[2].find_all('p')\n",
    "        if day_name == 'Sunday':\n",
    "            section_content2 = section[6]\n",
    "            section_content3 = section[8]\n",
    "            section_content4 = section[12]\n",
    "        else:\n",
    "            section_content2 = None\n",
    "            section_content3 = section[4]\n",
    "            section_content4 = section[8]\n",
    "            \n",
    "        pierwsze_czytanie = str(section_content1[6])\n",
    "        drugie_czytanie = str(section_content2)\n",
    "        tekst_przed_ewangelia = str(section_content3)\n",
    "        psalm_ref = str(section_content1[7])\n",
    "        psalm = \"\"\n",
    "        i = 8\n",
    "        while i < len(section_content1):\n",
    "            psalm += str(section_content1[i])\n",
    "            i += 1\n",
    "        ewangelia = str(section_content4)\n",
    "        document = [pierwsze_czytanie,psalm_ref,psalm, drugie_czytanie, tekst_przed_ewangelia, ewangelia]\n",
    "        return document\n",
    "    except:\n",
    "        pass\n",
    "        section = soup.find_all('section')[0]\n",
    "        section_content =section.find_all('p')"
   ]
  },
  {
   "cell_type": "code",
   "execution_count": 357,
   "metadata": {},
   "outputs": [],
   "source": [
    "document = get_readings(address, today_name)\n",
    "pierwsze_czytanie = document[0]\n",
    "psalm_ref = document[1]\n",
    "psalm = document[2]\n",
    "drugie_czytanie = document[3]\n",
    "tekst_przed_ewangelia = document[4]\n",
    "ewangelia = document[5]"
   ]
  },
  {
   "cell_type": "code",
   "execution_count": 358,
   "metadata": {},
   "outputs": [
    {
     "data": {
      "text/plain": [
       "'<p>\\r\\n                        (Hbr 9, 15. 24-28) <br/>\\r\\n                        Bracia: Chrystus jest pośrednikiem Nowego Przymierza, ażeby przez śmierć, poniesioną dla odkupienia przestępstw popełnionych za pierwszego przymierza, ci, którzy są wezwani do wiecznego dziedzictwa, dostąpili spełnienia obietnicy. Chrystus bowiem wszedł nie do świątyni zbudowanej rękami ludzkimi, będącej odbiciem prawdziwej świątyni, ale do samego nieba, aby teraz wstawiać się za nami przed obliczem Boga, ani nie po to, aby się wielekroć sam miał ofiarować, jak arcykapłan, który co roku wchodzi do świątyni z krwią cudzą, gdyż w takim przypadku musiałby cierpieć wiele razy od stworzenia świata. A tymczasem raz jeden ukazał się teraz na końcu wieków, aby zgładzić grzech przez ofiarę z samego siebie. A jak postanowione ludziom raz umrzeć, potem zaś sąd, tak Chrystus raz jeden był ofiarowany dla zgładzenia grzechów wielu, drugi raz ukaże się nie w związku z grzechem, lecz dla zbawienia tych, którzy Go oczekują.\\r\\n                    </p>'"
      ]
     },
     "execution_count": 358,
     "metadata": {},
     "output_type": "execute_result"
    }
   ],
   "source": [
    "pierwsze_czytanie"
   ]
  },
  {
   "cell_type": "code",
   "execution_count": 359,
   "metadata": {},
   "outputs": [
    {
     "data": {
      "text/plain": [
       "'None'"
      ]
     },
     "execution_count": 359,
     "metadata": {},
     "output_type": "execute_result"
    }
   ],
   "source": [
    "drugie_czytanie"
   ]
  },
  {
   "cell_type": "code",
   "execution_count": 360,
   "metadata": {},
   "outputs": [
    {
     "data": {
      "text/plain": [
       "'<p>\\r\\n                        (Ps 98 (97), 1bcde. 2-3b. 3c-4. 5-6) <br/>\\n<small>REFREN:</small> Śpiewajcie Panu, bo uczynił cuda</p>'"
      ]
     },
     "execution_count": 360,
     "metadata": {},
     "output_type": "execute_result"
    }
   ],
   "source": [
    "psalm_ref"
   ]
  },
  {
   "cell_type": "code",
   "execution_count": 361,
   "metadata": {},
   "outputs": [
    {
     "data": {
      "text/plain": [
       "'<p>Śpiewajcie Panu pieśń nową,<br/>\\r\\nalbowiem uczynił cuda.<br/>\\r\\nZwycięstwo Mu zgotowała Jego prawica<br/>\\r\\ni święte ramię Jego.</p><p>Pan okazał swoje zbawienie,<br/>\\r\\nna oczach pogan objawił swą sprawiedliwość.<br/>\\r\\nWspomniał na dobroć i na wierność swoją<br/>\\r\\ndla domu Izraela.</p><p>Ujrzały wszystkie krańce ziemi<br/>\\r\\nzbawienie Boga naszego.<br/>\\r\\nWołaj z radości na cześć Pana, cała ziemio,<br/>\\r\\ncieszcie się, weselcie i grajcie.</p><p>Śpiewajcie Panu przy wtórze cytry,<br/>\\r\\nprzy wtórze cytry i przy dźwięku harfy.<br/>\\r\\nPrzy trąbach i przy głosie rogu,<br/>\\r\\nna oczach Pana, Króla, się radujcie.</p>'"
      ]
     },
     "execution_count": 361,
     "metadata": {},
     "output_type": "execute_result"
    }
   ],
   "source": [
    "psalm"
   ]
  },
  {
   "cell_type": "code",
   "execution_count": 362,
   "metadata": {},
   "outputs": [
    {
     "data": {
      "text/plain": [
       "'<p>\\r\\n                            Aklamacja (2 Tm 1, 10b) <br>\\r\\n                        Nasz Zbawiciel, Jezus Chrystus, śmierć zwyciężył, a na życie rzucił światło przez Ewangelię.\\r\\n                    </br></p>'"
      ]
     },
     "execution_count": 362,
     "metadata": {},
     "output_type": "execute_result"
    }
   ],
   "source": [
    "tekst_przed_ewangelia"
   ]
  },
  {
   "cell_type": "code",
   "execution_count": 363,
   "metadata": {},
   "outputs": [
    {
     "data": {
      "text/plain": [
       "'<p>\\r\\n                        (Mk 3, 22-30) <br>\\r\\n                        Uczeni w Piśmie, którzy przyszli z Jerozolimy, mówili o Jezusie: \"Ma Belzebuba i mocą władcy złych duchów wyrzuca złe duchy\". Wtedy Jezus przywołał ich do siebie i mówił im w przypowieściach: \"Jak może Szatan wyrzucać Szatana? Jeśli jakieś królestwo jest wewnętrznie skłócone, takie królestwo nie może się ostać. I jeśli dom wewnętrznie jest skłócony, to taki dom nie będzie mógł się ostać. Jeśli więc Szatan powstał przeciw sobie i jest z sobą skłócony, to nie może się ostać, lecz koniec z nim. Nikt nie może wejść do domu mocarza i sprzęt mu zagrabić, jeśli mocarza wpierw nie zwiąże, i dopiero wtedy dom jego ograbi. Zaprawdę, powiadam wam: Wszystkie grzechy i bluźnierstwa, których by się ludzie dopuścili, będą im odpuszczone. Kto by jednak zbluźnił przeciw Duchowi Świętemu, nigdy nie otrzyma odpuszczenia, lecz winien jest grzechu wiecznego\". Mówili bowiem: \"Ma ducha nieczystego\".\\r\\n                    </br></p>'"
      ]
     },
     "execution_count": 363,
     "metadata": {},
     "output_type": "execute_result"
    }
   ],
   "source": [
    "ewangelia"
   ]
  },
  {
   "cell_type": "markdown",
   "metadata": {},
   "source": [
    "## Noise removal // Cleaning"
   ]
  },
  {
   "cell_type": "code",
   "execution_count": 364,
   "metadata": {},
   "outputs": [],
   "source": [
    "#first phase\n",
    "def clean_html(raw):\n",
    "    cleaner = re.compile('<.*?>')\n",
    "    cleantext = re.sub(cleaner, '', raw)\n",
    "    return cleantext\n",
    "\n",
    "def clean_proverbs (raw):\n",
    "    cleaner = re.compile('\\([^)]*\\)')\n",
    "    cleantext = re.sub(cleaner, '',raw)\n",
    "    return cleantext\n",
    "\n",
    "def clean_indent(raw):\n",
    "    cleaner = re.compile('^\\s+')\n",
    "    cleantext = re.sub(cleaner, '',raw)\n",
    "    return cleantext\n",
    "\n",
    "def remove_punct(text):\n",
    "    text_nopunct = \"\".join([char for char in text if char not in string.punctuation])\n",
    "    return text_nopunct\n",
    "\n",
    "def clean_rest(text):\n",
    "    cleaner = re.compile('\\\\r\\\\n\\s+')\n",
    "    cleantext = re.sub(cleaner, '',text)\n",
    "    return cleantext\n",
    "\n",
    "def clean_rest2(text):\n",
    "    cleaner = re.compile('(\\\\r\\\\n)')\n",
    "    cleantext = re.sub(cleaner, ' ',text)\n",
    "    return cleantext\n",
    "\n",
    "def clean_text(raw):\n",
    "    text = clean_html(raw)\n",
    "    text = clean_proverbs(text)\n",
    "    text = clean_indent(text)\n",
    "    #text = remove_punct(text)\n",
    "    text = clean_rest(text)\n",
    "    text = clean_rest2(text)\n",
    "    return text\n"
   ]
  },
  {
   "cell_type": "code",
   "execution_count": 420,
   "metadata": {},
   "outputs": [],
   "source": [
    "n=10\n",
    "base = datetime.date.today()\n",
    "date_list = [base - datetime.timedelta(days=x) for x in range(0, n)]\n",
    "#print(date_list)\n",
    "dates_cleaned = [str(x).replace('-','') for x in date_list]\n",
    "#print(dates_cleaned)\n",
    "dates_names = [x.strftime(\"%A\") for x in date_list]\n",
    "#print(dates_names)\n",
    "adresses = get_adresses(n)\n",
    "#print(adresses)\n",
    "\n",
    "for i in range(n):\n",
    "        doc = get_readings(adresses[i], dates_names[i])\n",
    "        #doc_cleaned = [clean_text(str(text)) for text in doc]\n",
    "        input_row = [dates_names[i]]\n",
    "        for each in doc: #doc_cleaned:\n",
    "            input_row.append(each)\n",
    "        df_raw.loc[date_list[i]] = input_row\n",
    "\n"
   ]
  },
  {
   "cell_type": "code",
   "execution_count": 421,
   "metadata": {},
   "outputs": [
    {
     "data": {
      "text/html": [
       "<div>\n",
       "<style scoped>\n",
       "    .dataframe tbody tr th:only-of-type {\n",
       "        vertical-align: middle;\n",
       "    }\n",
       "\n",
       "    .dataframe tbody tr th {\n",
       "        vertical-align: top;\n",
       "    }\n",
       "\n",
       "    .dataframe thead th {\n",
       "        text-align: right;\n",
       "    }\n",
       "</style>\n",
       "<table border=\"1\" class=\"dataframe\">\n",
       "  <thead>\n",
       "    <tr style=\"text-align: right;\">\n",
       "      <th></th>\n",
       "      <th>Dzień tygodnia</th>\n",
       "      <th>Pierwsze czytanie</th>\n",
       "      <th>Psalm_ref</th>\n",
       "      <th>Psalm</th>\n",
       "      <th>Drugie czytanie</th>\n",
       "      <th>Werset przed Ewangelią</th>\n",
       "      <th>Ewangelia</th>\n",
       "    </tr>\n",
       "  </thead>\n",
       "  <tbody>\n",
       "    <tr>\n",
       "      <th>2019-01-28</th>\n",
       "      <td>Monday</td>\n",
       "      <td>&lt;p&gt;\\r\\n                        (Hbr 9, 15. 24-...</td>\n",
       "      <td>&lt;p&gt;\\r\\n                        (Ps 98 (97), 1b...</td>\n",
       "      <td>&lt;p&gt;Śpiewajcie Panu pieśń nową,&lt;br/&gt;\\r\\nalbowie...</td>\n",
       "      <td>None</td>\n",
       "      <td>&lt;p&gt;\\r\\n                            Aklamacja (...</td>\n",
       "      <td>&lt;p&gt;\\r\\n                        (Mk 3, 22-30) &lt;...</td>\n",
       "    </tr>\n",
       "    <tr>\n",
       "      <th>2019-01-27</th>\n",
       "      <td>Sunday</td>\n",
       "      <td>&lt;p&gt;\\r\\n                        (Ne 8, 2-4a. 5-...</td>\n",
       "      <td>&lt;p&gt;\\r\\n                        (Ps 19 (18), 8-...</td>\n",
       "      <td>&lt;p&gt;Prawo Pańskie jest doskonałe i pokrzepia du...</td>\n",
       "      <td>&lt;p&gt;\\r\\n                        (1 Kor 12, 12-3...</td>\n",
       "      <td>&lt;p&gt;\\r\\n                            Aklamacja (...</td>\n",
       "      <td>&lt;p&gt;\\r\\n                        (Łk 1, 1-4; 4, ...</td>\n",
       "    </tr>\n",
       "    <tr>\n",
       "      <th>2019-01-26</th>\n",
       "      <td>Saturday</td>\n",
       "      <td>&lt;p&gt;\\r\\n                        (Tt 1,1-5) &lt;br/...</td>\n",
       "      <td>&lt;p&gt;\\r\\n                        (Ps 96,1-2.3.7-...</td>\n",
       "      <td>&lt;p&gt;Śpiewajcie Panu pieśń nową&lt;br/&gt;\\r\\nśpiewaj ...</td>\n",
       "      <td>None</td>\n",
       "      <td>&lt;p&gt;\\r\\n                            Aklamacja (...</td>\n",
       "      <td>&lt;p&gt;\\r\\n                        (Łk 10, 1-9) &lt;b...</td>\n",
       "    </tr>\n",
       "    <tr>\n",
       "      <th>2019-01-25</th>\n",
       "      <td>Friday</td>\n",
       "      <td>&lt;p&gt;\\r\\n                        (Dz 22, 3-16) &lt;...</td>\n",
       "      <td>&lt;p&gt;\\r\\n                        (Ps 117, 1-2) &lt;...</td>\n",
       "      <td>&lt;p&gt;Chwalcie Pana, wszystkie narody,&lt;br/&gt;\\r\\nwy...</td>\n",
       "      <td>None</td>\n",
       "      <td>&lt;p&gt;\\r\\n                            Aklamacja (...</td>\n",
       "      <td>&lt;p&gt;\\r\\n                        (Mk 16, 15-18) ...</td>\n",
       "    </tr>\n",
       "    <tr>\n",
       "      <th>2019-01-24</th>\n",
       "      <td>Thursday</td>\n",
       "      <td>&lt;p&gt;\\r\\n                        (Hbr 7, 25 – 8,...</td>\n",
       "      <td>&lt;p&gt;\\r\\n                        (Ps 40 (39), 7-...</td>\n",
       "      <td>&lt;p&gt;Nie chciałeś ofiary krwawej ani z płodów zi...</td>\n",
       "      <td>None</td>\n",
       "      <td>&lt;p&gt;\\r\\n                            Aklamacja (...</td>\n",
       "      <td>&lt;p&gt;\\r\\n                        (Mk 3, 7-12) &lt;b...</td>\n",
       "    </tr>\n",
       "  </tbody>\n",
       "</table>\n",
       "</div>"
      ],
      "text/plain": [
       "           Dzień tygodnia                                  Pierwsze czytanie  \\\n",
       "2019-01-28         Monday  <p>\\r\\n                        (Hbr 9, 15. 24-...   \n",
       "2019-01-27         Sunday  <p>\\r\\n                        (Ne 8, 2-4a. 5-...   \n",
       "2019-01-26       Saturday  <p>\\r\\n                        (Tt 1,1-5) <br/...   \n",
       "2019-01-25         Friday  <p>\\r\\n                        (Dz 22, 3-16) <...   \n",
       "2019-01-24       Thursday  <p>\\r\\n                        (Hbr 7, 25 – 8,...   \n",
       "\n",
       "                                                    Psalm_ref  \\\n",
       "2019-01-28  <p>\\r\\n                        (Ps 98 (97), 1b...   \n",
       "2019-01-27  <p>\\r\\n                        (Ps 19 (18), 8-...   \n",
       "2019-01-26  <p>\\r\\n                        (Ps 96,1-2.3.7-...   \n",
       "2019-01-25  <p>\\r\\n                        (Ps 117, 1-2) <...   \n",
       "2019-01-24  <p>\\r\\n                        (Ps 40 (39), 7-...   \n",
       "\n",
       "                                                        Psalm  \\\n",
       "2019-01-28  <p>Śpiewajcie Panu pieśń nową,<br/>\\r\\nalbowie...   \n",
       "2019-01-27  <p>Prawo Pańskie jest doskonałe i pokrzepia du...   \n",
       "2019-01-26  <p>Śpiewajcie Panu pieśń nową<br/>\\r\\nśpiewaj ...   \n",
       "2019-01-25  <p>Chwalcie Pana, wszystkie narody,<br/>\\r\\nwy...   \n",
       "2019-01-24  <p>Nie chciałeś ofiary krwawej ani z płodów zi...   \n",
       "\n",
       "                                              Drugie czytanie  \\\n",
       "2019-01-28                                               None   \n",
       "2019-01-27  <p>\\r\\n                        (1 Kor 12, 12-3...   \n",
       "2019-01-26                                               None   \n",
       "2019-01-25                                               None   \n",
       "2019-01-24                                               None   \n",
       "\n",
       "                                       Werset przed Ewangelią  \\\n",
       "2019-01-28  <p>\\r\\n                            Aklamacja (...   \n",
       "2019-01-27  <p>\\r\\n                            Aklamacja (...   \n",
       "2019-01-26  <p>\\r\\n                            Aklamacja (...   \n",
       "2019-01-25  <p>\\r\\n                            Aklamacja (...   \n",
       "2019-01-24  <p>\\r\\n                            Aklamacja (...   \n",
       "\n",
       "                                                    Ewangelia  \n",
       "2019-01-28  <p>\\r\\n                        (Mk 3, 22-30) <...  \n",
       "2019-01-27  <p>\\r\\n                        (Łk 1, 1-4; 4, ...  \n",
       "2019-01-26  <p>\\r\\n                        (Łk 10, 1-9) <b...  \n",
       "2019-01-25  <p>\\r\\n                        (Mk 16, 15-18) ...  \n",
       "2019-01-24  <p>\\r\\n                        (Mk 3, 7-12) <b...  "
      ]
     },
     "execution_count": 421,
     "metadata": {},
     "output_type": "execute_result"
    }
   ],
   "source": [
    "df_raw.head()"
   ]
  },
  {
   "cell_type": "code",
   "execution_count": 422,
   "metadata": {},
   "outputs": [
    {
     "name": "stdout",
     "output_type": "stream",
     "text": [
      "<class 'pandas.core.frame.DataFrame'>\n",
      "Index: 10 entries, 2019-01-28 to 2019-01-19\n",
      "Data columns (total 7 columns):\n",
      "Dzień tygodnia            10 non-null object\n",
      "Pierwsze czytanie         10 non-null object\n",
      "Psalm_ref                 10 non-null object\n",
      "Psalm                     10 non-null object\n",
      "Drugie czytanie           10 non-null object\n",
      "Werset przed Ewangelią    10 non-null object\n",
      "Ewangelia                 10 non-null object\n",
      "dtypes: object(7)\n",
      "memory usage: 960.0+ bytes\n"
     ]
    }
   ],
   "source": [
    "df_raw.info()"
   ]
  },
  {
   "cell_type": "code",
   "execution_count": 419,
   "metadata": {},
   "outputs": [
    {
     "data": {
      "text/plain": [
       "datetime.date(2019, 1, 27)"
      ]
     },
     "execution_count": 419,
     "metadata": {},
     "output_type": "execute_result"
    }
   ],
   "source": [
    "df_raw.index[1]"
   ]
  },
  {
   "cell_type": "code",
   "execution_count": 412,
   "metadata": {},
   "outputs": [
    {
     "data": {
      "text/plain": [
       "'Uczeni w Piśmie, którzy przyszli z Jerozolimy, mówili o Jezusie: \"Ma Belzebuba i mocą władcy złych duchów wyrzuca złe duchy\". Wtedy Jezus przywołał ich do siebie i mówił im w przypowieściach: \"Jak może Szatan wyrzucać Szatana? Jeśli jakieś królestwo jest wewnętrznie skłócone, takie królestwo nie może się ostać. I jeśli dom wewnętrznie jest skłócony, to taki dom nie będzie mógł się ostać. Jeśli więc Szatan powstał przeciw sobie i jest z sobą skłócony, to nie może się ostać, lecz koniec z nim. Nikt nie może wejść do domu mocarza i sprzęt mu zagrabić, jeśli mocarza wpierw nie zwiąże, i dopiero wtedy dom jego ograbi. Zaprawdę, powiadam wam: Wszystkie grzechy i bluźnierstwa, których by się ludzie dopuścili, będą im odpuszczone. Kto by jednak zbluźnił przeciw Duchowi Świętemu, nigdy nie otrzyma odpuszczenia, lecz winien jest grzechu wiecznego\". Mówili bowiem: \"Ma ducha nieczystego\".'"
      ]
     },
     "execution_count": 412,
     "metadata": {},
     "output_type": "execute_result"
    }
   ],
   "source": [
    "text = df.loc[base,'Ewangelia']\n",
    "text"
   ]
  },
  {
   "cell_type": "markdown",
   "metadata": {},
   "source": [
    "### Tłumaczenie"
   ]
  },
  {
   "cell_type": "code",
   "execution_count": 413,
   "metadata": {},
   "outputs": [],
   "source": [
    "translator = Translator()\n",
    "t = translator.translate(text)"
   ]
  },
  {
   "cell_type": "code",
   "execution_count": 414,
   "metadata": {},
   "outputs": [
    {
     "data": {
      "text/plain": [
       "'The scribes who came from Jerusalem spoke of Jesus: \"He has Beelzebub and casts out evil spirits by the power of the ruler of evil spirits.\" Then Jesus called them to them and told them in the parables, \"How can Satan cast out Satan?\" If a kingdom is inwardly quarreled, such a kingdom can not stand, and if a house is divided against itself, then such a house will not be able to stand. therefore Satan stood against himself and is divided against himself, he can not stand, but end with him, no one can enter a strong man\\'s house and rob him, if he does not bind him first, and then he will plunder his house. to you: All sins and blasphemies that would be committed by people will be forgiven them, but whoever would blaspheme against the Holy Spirit will never receive remission, but he must be eternal. \" For they said: \"He has an unclean spirit.\"'"
      ]
     },
     "execution_count": 414,
     "metadata": {},
     "output_type": "execute_result"
    }
   ],
   "source": [
    "t.text"
   ]
  },
  {
   "cell_type": "markdown",
   "metadata": {},
   "source": [
    "## Tokenization & Segmentation"
   ]
  },
  {
   "cell_type": "code",
   "execution_count": 33,
   "metadata": {},
   "outputs": [],
   "source": [
    "from nltk.tokenize import word_tokenize, sent_tokenize"
   ]
  },
  {
   "cell_type": "code",
   "execution_count": 34,
   "metadata": {},
   "outputs": [
    {
     "data": {
      "text/plain": [
       "['Jezus oddalił się ze swymi uczniami w stronę jeziora.',\n",
       " 'A przyszło za Nim wielkie mnóstwo ludzi z Galilei.',\n",
       " 'Także z Judei, z Jerozolimy, z Idumei i Zajordania oraz z okolic Tyru i Sydonu szło do Niego mnóstwo wielkie na wieść o tym, jak wiele działał.',\n",
       " 'Toteż polecił swym uczniom, żeby łódka była dla Niego stale w pogotowiu ze względu na tłum, aby na Niego nie napierano.',\n",
       " 'Wielu bowiem uzdrowił i wskutek tego wszyscy, którzy mieli jakieś choroby, cisnęli się do Niego, aby Go dotknąć.']"
      ]
     },
     "execution_count": 34,
     "metadata": {},
     "output_type": "execute_result"
    }
   ],
   "source": [
    "sentences = sent_tokenize(text)\n",
    "sentences[:5]"
   ]
  },
  {
   "cell_type": "code",
   "execution_count": 35,
   "metadata": {},
   "outputs": [
    {
     "data": {
      "text/plain": [
       "['jezus', 'oddalił', 'się', 'ze', 'swymi']"
      ]
     },
     "execution_count": 35,
     "metadata": {},
     "output_type": "execute_result"
    }
   ],
   "source": [
    "tokens = word_tokenize(text)\n",
    "lower_tokens = [t.lower() for t in tokens]\n",
    "lower_tokens[:5]"
   ]
  },
  {
   "cell_type": "markdown",
   "metadata": {},
   "source": [
    "## Normalization / Preprocessing\n",
    "\n",
    "#### Lemmatyzacja (lemmatisation) \n",
    "Algorytm znajdowania lemmy, formy podstawowej wyrazu w obszarze części mowy którą reprezentuje. Inaczej: wyszukiwanie formy kanonicznej leksemu. W komputerowej analizie języka naturalnego lemmatyzacja jest operacją bardziej precyzyjną niż stemmatyzacja. \n",
    "\n",
    "#### Stemmatyzacja (stemming) \n",
    "Sprowadzenie wyrazu reprezentującego dowolną część mowy do stemu, rdzenia postaci źródłowej, najczęściej rzeczownika, bądź niekiedy nawet sekwencji znaków nie mającej samodzielnego znaczenia w języku naturalnym. "
   ]
  },
  {
   "cell_type": "code",
   "execution_count": 37,
   "metadata": {},
   "outputs": [
    {
     "data": {
      "text/plain": [
       "['jezus', 'oddalił', 'się', 'ze', 'swymi']"
      ]
     },
     "execution_count": 37,
     "metadata": {},
     "output_type": "execute_result"
    }
   ],
   "source": [
    "# Retain alphabetic words: alpha_only\n",
    "alpha_only = [t for t in lower_tokens if t.isalpha()]\n",
    "alpha_only[:5]"
   ]
  },
  {
   "cell_type": "code",
   "execution_count": 38,
   "metadata": {},
   "outputs": [],
   "source": [
    "#Read polish stopwords file\n",
    "polish_stops = codecs.open(\"polishStopWords\",'r','utf-8')\n",
    "ps = polish_stops.read().split('\\n')\n",
    "polish_stops.close()"
   ]
  },
  {
   "cell_type": "code",
   "execution_count": 39,
   "metadata": {},
   "outputs": [
    {
     "data": {
      "text/plain": [
       "['jezus', 'oddalił', 'swymi', 'uczniami', 'stronę']"
      ]
     },
     "execution_count": 39,
     "metadata": {},
     "output_type": "execute_result"
    }
   ],
   "source": [
    "# Remove all stop words: no_stops\n",
    "no_stops = [t for t in alpha_only if t not in ps]\n",
    "no_stops[:5]"
   ]
  },
  {
   "cell_type": "code",
   "execution_count": 40,
   "metadata": {},
   "outputs": [],
   "source": [
    "from nltk.stem.porter import *\n",
    "\n",
    "def stem_tokens(tokens, stemmer):\n",
    "    stemmed = []\n",
    "    for item in tokens:\n",
    "        stemmed.append(stemmer.stem(item))\n",
    "    return stemmed\n",
    "\n",
    "stemmer = PorterStemmer()\n",
    "stemmed = stem_tokens(no_stops, stemmer)\n",
    "count = Counter(stemmed)"
   ]
  },
  {
   "cell_type": "markdown",
   "metadata": {},
   "source": [
    "### Bag of words"
   ]
  },
  {
   "cell_type": "code",
   "execution_count": 41,
   "metadata": {},
   "outputs": [],
   "source": [
    "bow = Counter(no_stops)"
   ]
  },
  {
   "cell_type": "code",
   "execution_count": 42,
   "metadata": {},
   "outputs": [
    {
     "data": {
      "text/plain": [
       "[('wielkie', 2),\n",
       " ('mnóstwo', 2),\n",
       " ('jezus', 1),\n",
       " ('oddalił', 1),\n",
       " ('swymi', 1),\n",
       " ('uczniami', 1),\n",
       " ('stronę', 1),\n",
       " ('jeziora', 1),\n",
       " ('przyszło', 1),\n",
       " ('ludzi', 1)]"
      ]
     },
     "execution_count": 42,
     "metadata": {},
     "output_type": "execute_result"
    }
   ],
   "source": [
    "bow.most_common(10)"
   ]
  },
  {
   "cell_type": "markdown",
   "metadata": {},
   "source": [
    "### Word cloud"
   ]
  },
  {
   "cell_type": "code",
   "execution_count": 43,
   "metadata": {},
   "outputs": [
    {
     "data": {
      "image/png": "[encoded data removed]",
      "text/plain": [
       "<Figure size 432x288 with 1 Axes>"
      ]
     },
     "metadata": {
      "needs_background": "light"
     },
     "output_type": "display_data"
    }
   ],
   "source": [
    "# Create and generate a word cloud image:\n",
    "wordcloud = WordCloud(stopwords = ps, \n",
    "                      max_font_size=150, \n",
    "                      max_words=10, \n",
    "                      background_color=\"white\").generate(clean_text(text))\n",
    "\n",
    "# Display the generated image:\n",
    "plt.imshow(wordcloud, interpolation='bilinear')\n",
    "plt.axis(\"off\")\n",
    "plt.show()"
   ]
  },
  {
   "cell_type": "markdown",
   "metadata": {},
   "source": [
    "### Term frequency"
   ]
  },
  {
   "cell_type": "code",
   "execution_count": 44,
   "metadata": {},
   "outputs": [],
   "source": [
    "fdist = FreqDist(no_stops)"
   ]
  },
  {
   "cell_type": "code",
   "execution_count": 45,
   "metadata": {
    "scrolled": true
   },
   "outputs": [
    {
     "data": {
      "image/png": "[encoded data removed]",
      "text/plain": [
       "<Figure size 1152x288 with 1 Axes>"
      ]
     },
     "metadata": {
      "needs_background": "light"
     },
     "output_type": "display_data"
    }
   ],
   "source": [
    "plt.figure(figsize=(16,4))\n",
    "fdist_plot = fdist.plot()\n",
    "plt.show()"
   ]
  },
  {
   "cell_type": "code",
   "execution_count": 46,
   "metadata": {},
   "outputs": [
    {
     "data": {
      "text/plain": [
       "['jezus',\n",
       " 'oddalił',\n",
       " 'swymi',\n",
       " 'uczniami',\n",
       " 'stronę',\n",
       " 'jeziora',\n",
       " 'przyszło',\n",
       " 'ludzi',\n",
       " 'galilei',\n",
       " 'judei',\n",
       " 'jerozolimy',\n",
       " 'idumei',\n",
       " 'zajordania',\n",
       " 'okolic',\n",
       " 'tyru',\n",
       " 'sydonu',\n",
       " 'szło',\n",
       " 'wieść',\n",
       " 'działał',\n",
       " 'polecił',\n",
       " 'swym',\n",
       " 'uczniom',\n",
       " 'łódka',\n",
       " 'stale',\n",
       " 'pogotowiu',\n",
       " 'względu',\n",
       " 'tłum',\n",
       " 'napierano',\n",
       " 'uzdrowił',\n",
       " 'wskutek',\n",
       " 'mieli',\n",
       " 'jakieś',\n",
       " 'choroby',\n",
       " 'cisnęli',\n",
       " 'dotknąć',\n",
       " 'duchy',\n",
       " 'nieczyste',\n",
       " 'widok',\n",
       " 'padały',\n",
       " 'wołały',\n",
       " 'jesteś',\n",
       " 'syn',\n",
       " 'boży',\n",
       " 'surowo',\n",
       " 'zabraniał',\n",
       " 'ujawniały']"
      ]
     },
     "execution_count": 46,
     "metadata": {},
     "output_type": "execute_result"
    }
   ],
   "source": [
    "#occurs only once\n",
    "fdist.hapaxes()"
   ]
  },
  {
   "cell_type": "code",
   "execution_count": 47,
   "metadata": {},
   "outputs": [],
   "source": [
    "x = bow.most_common(5)\n",
    "keys = []\n",
    "for each in x:\n",
    "    #print(each)\n",
    "    keys.append(each[0])"
   ]
  },
  {
   "cell_type": "code",
   "execution_count": 48,
   "metadata": {},
   "outputs": [],
   "source": [
    "#to fix\n",
    "#text.dispersion_plot(keys)"
   ]
  },
  {
   "cell_type": "markdown",
   "metadata": {},
   "source": [
    "### N-Grams"
   ]
  },
  {
   "cell_type": "code",
   "execution_count": 49,
   "metadata": {},
   "outputs": [],
   "source": [
    "from sklearn.feature_extraction.text import CountVectorizer"
   ]
  },
  {
   "cell_type": "code",
   "execution_count": 50,
   "metadata": {},
   "outputs": [],
   "source": [
    "#z linked in\n",
    "def clean_text2(text):\n",
    "    text = \"\".join([word for word in text if word not in string.punctuation])\n",
    "    tokens = re.split('\\W+', text)\n",
    "    text = [ps.stem(word) for word in tokens if word not in stopwords]\n",
    "    return text"
   ]
  },
  {
   "cell_type": "code",
   "execution_count": 51,
   "metadata": {},
   "outputs": [
    {
     "name": "stdout",
     "output_type": "stream",
     "text": [
      "(11, 1126)\n",
      "['abiatara najwyższego', 'aby go', 'aby na', 'aby powołać', 'abym tam', 'abyś nikomu', 'ale grzeszników', 'ale idź', 'ale słudzy', 'alfeusza siedzącego', 'andrzeja jak', 'andrzeja teściowa', 'aż do', 'aż po', 'bacz abyś', 'bliskie jest', 'bluźni któż', 'bo po', 'boga jezus', 'boga lecz', 'boga mówiąc', 'bowiem było', 'bowiem jak', 'bowiem rybakami', 'bowiem uzdrowił', 'boże nawracajcie', 'bożego za', 'boży lecz', 'bożą mówił', 'brata jego', 'brata szymonowego', 'brzegi potem', 'bukłaki przepadną', 'bukłaki wino', 'bukłaków przeciwnym', 'byli bowiem', 'byli łodzi', 'był tam', 'był właśnie', 'była dla', 'była tam', 'było ciemno', 'było miejsca', 'było tych', 'bądź oczyszczony', 'będą pościć', 'całe miasto', 'całej galilei', 'całej okolicznej', 'cały lud', 'celnej rzekł', 'celnikami grzesznikami', 'celnikami mówili', 'celników grzeszników', 'chcesz od', 'chcę bądź', 'chleby pokładne', 'chodził po', 'chodź otóż', 'chorobami wiele', 'choroby cisnęli', 'chorych opętanych', 'chwałę uwierzyli', 'ci którzy', 'ci więc', 'ci wstań', 'ciemno wstał', 'cisnęli się', 'cię szukają', 'co to', 'co uczynił', 'co wolno', 'co zaszło', 'cokolwiek wam', 'coś dobrego', 'coś złego', 'czas kiedy', 'czas się', 'czasie jezus', 'czego chcesz', 'czego nie', 'czegoś podobnego', 'czemu myśli', 'czemu on', 'czemu oni', 'czerpali wodę', 'czterech nie', 'czy coś', 'czy goście', 'czy jeszcze', 'czy nigdy', 'czy też', 'czy uzdrowi', 'czy zabić', 'czynią szabat', 'czytaliście co', 'czyż to', 'część ze', 'człowieczy jest', 'człowieczy ma', 'człowiek dla', 'człowiek który', 'człowiek opętany', 'człowiek stawia', 'człowieka nie', 'człowieka uschłą', 'człowieka wyciągnij', 'cóż jest', 'dach nad', 'dalej ujrzał', 'dawid kiedy', 'dał również', 'dla człowieka', 'dla nich', 'dla niego', 'dla szabatu', 'dlaczego uczniowie', 'dnia przyszedł', 'do człowieka', 'do domu', 'do galilei', 'do jego', 'do jezusa', 'do kafarnaum', 'do miasta', 'do nich', 'do niego', 'do nowych', 'do paralityka', 'do starego', 'do starych', 'do swego', 'do synagogi', 'do sąsiednich', 'do sług', 'do tej', 'do żydowskich', 'dobre wino', 'dobrego czy', 'dodał to', 'dokoła gniewem', 'domu bożego', 'domu on', 'domu przy', 'domu szymona', 'domu zebrało', 'dopóki pan', 'dotkniętych rozmaitymi', 'dotknąć nawet', 'dotknął go', 'drodze zrywać', 'drugiego pytał', 'drzwi uzdrowił', 'drzwiami nie', 'duch nieczysty', 'ducha nieczystego', 'duchom mówić', 'duchom nieczystym', 'duchu że', 'duchy nieczyste', 'duchów wyrzucił', 'dwie lub', 'działał toteż', 'dziecko odpuszczone', 'dzień będą', 'dzień szabatu', 'długo mają', 'ewangelię bożą', 'ewangelię przechodząc', 'faryzeusze mieli', 'faryzeusze mówili', 'faryzeusze wyszli', 'faryzeuszów poszczą', 'faryzeuszów widząc', 'galilei głosił', 'galilei nauczając', 'galilei także', 'galilejskiego ujrzał', 'galilejskiej objawił', 'galilejskiej odbywało', 'gdy go', 'gdy jan', 'gdy jezus', 'gdy po', 'gdy się', 'gdy słońce', 'gdy zaś', 'gdzie indziej', 'gdzie jezus', 'gniewem zasmucony', 'go czy', 'go do', 'go dotknąć', 'go jeśli', 'go nauczał', 'go nie', 'go odprawił', 'go opuścił', 'go oskarżyć', 'go rzekł', 'go szabat', 'go zgładzić', 'go znaleźli', 'go znały', 'godzina moja', 'gorsze staje', 'gorsze ty', 'gorączce zaraz', 'gorączka usługiwała', 'goście weselni', 'grzechy czy', 'grzechy prócz', 'grzechy siedziało', 'grzechów rzekł', 'grzesznikami celnikami', 'grzesznikami jezus', 'grzeszników siedziało', 'głosił ewangelię', 'głosił im', 'głośnym krzykiem', 'głód on', 'heroda zaraz', 'ich bowiem', 'ich powołał', 'ich serc', 'ich synagodze', 'ich synagogach', 'ich wiarę', 'idumei zajordania', 'idąc nieco', 'idź do', 'idź pokaż', 'im nastaniem', 'im naukę', 'im odpowiedział', 'im pana', 'im zabraniał', 'indziej do', 'iż syn', 'jadł chleby', 'jak długo', 'jak ten', 'jak uczeni', 'jak wiele', 'jak wszedł', 'jak zarzucali', 'jakaś nauka', 'jaki sposób', 'jakieś choroby', 'jakuba syna', 'jakubem janem', 'jan został', 'jana faryzeusze', 'jana którzy', 'jana uczniowie', 'janem do', 'jawnie wejść', 'je aż', 'je grzesznikami', 'je pije', 'jeden drugiego', 'jednego boga', 'jego domu', 'jego jana', 'jego nauką', 'jego powiedziała', 'jego stała', 'jego towarzysze', 'jego uczniami', 'jego uczniowie', 'jego uczniów', 'jego widok', 'jego zaczęli', 'jej odpowiedział', 'jerozolimy idumei', 'jest domu', 'jest królestwo', 'jest nimi', 'jest nowa', 'jest panem', 'jest łatwiej', 'jesteś syn', 'jesteś święty', 'jeszcze było', 'jeszcze część', 'jeszcze nie', 'jeziora galilejskiego', 'jeziora przyszło', 'jezioro byli', 'jezioro cały', 'jezus im', 'jezus jej', 'jezus kanie', 'jezus nie', 'jezus oddalił', 'jezus poznał', 'jezus przechodził', 'jezus przyszedł', 'jezus pójdźcie', 'jezus rozkazał', 'jezus rzekł', 'jezus siedział', 'jezus się', 'jezus surowo', 'jezus szabat', 'jezus usłyszawszy', 'jezus widząc', 'jezus wrócił', 'jezus wszedł', 'jezus wyszedł', 'jezus zdjęty', 'jezusa jego', 'jezusa pytali', 'jezusa rzekła', 'jezusa trędowaty', 'jezusa zaproszono', 'jezusem jego', 'jezusie nazarejczyku', 'jeśli zechcesz', 'jeść wolno', 'judei jerozolimy', 'już jawnie', 'ją gorączka', 'ją ująwszy', 'kafarnaum jezus', 'kafarnaum posłyszano', 'kamiennych przeznaczonych', 'kanie galilejskiej', 'kapłana jadł', 'kapłanom jeść', 'kapłanowi złóż', 'każda mogła', 'każdy człowiek', 'kiedy jeszcze', 'kiedy zabiorą', 'kiedy zabrakło', 'kiedy znalazł', 'kilku uczonych', 'kolana prosił', 'komorze celnej', 'krainie galilejskiej', 'krzykiem wyszedł', 'królestwo boże', 'kto jesteś', 'która stała', 'które tylko', 'którego niosło', 'który ma', 'który miał', 'których każda', 'których leżał', 'którzy czerpali', 'którzy mieli', 'którzy myśleli', 'którzy się', 'którzy szli', 'którzy też', 'którą przepisał', 'któż może', 'kłosy na', 'lecz ci', 'lecz jezus', 'lecz nie', 'lecz on', 'lecz oni', 'lecz przebywał', 'lecz przyjdzie', 'lekarza zdrowi', 'lewiego syna', 'leżał paralityk', 'leżała gorączce', 'litością wyciągnął', 'lub trzy', 'lub twoja', 'lud przychodził', 'ludzi galilei', 'ludzi natychmiast', 'ludzi że', 'ludzie zewsząd', 'ma na', 'ma władzę', 'mają nie', 'mają pośród', 'mają wina', 'matka jego', 'matka jezusa', 'miary jezus', 'miasta lecz', 'miasto zebrało', 'miał uschniętą', 'miejsca on', 'miejscach pustynnych', 'miejsce pustynne', 'miejscem gdzie', 'miejscowości abym', 'mieli jakieś', 'mieli właśnie', 'milcz wyjdź', 'milczeli wtedy', 'miotać głośnym', 'mnie oczyścić', 'mnóstwo ludzi', 'mnóstwo wielkie', 'mną sprawię', 'mną ten', 'mocą nawet', 'modlił pośpieszył', 'mogą pościć', 'mogąc powodu', 'mogła pomieścić', 'moja lub', 'moja wtedy', 'mojżesz na', 'może odpuszczać', 'możesz mnie', 'mu bacz', 'mu niej', 'mu posłuszne', 'mu przykazał', 'mu surowo', 'mu wszyscy', 'myśleli sercach', 'myśli te', 'myślą rzekł', 'mógł już', 'mógł nauczać', 'mówi on', 'mówili do', 'mówiąc mu', 'mówiąc nigdy', 'mówić ponieważ', 'mówię ci', 'mówił ale', 'mówił czas', 'młode wino', 'młodego lecz', 'młodego powiedział', 'młodego wina', 'młodego wtedy', 'młody jest', 'na jego', 'na kolana', 'na komorze', 'na których', 'na miejsce', 'na nich', 'na niego', 'na oczach', 'na to', 'na tłum', 'na wieść', 'na ziemi', 'na środek', 'na świadectwo', 'nad jezioro', 'nad miejscem', 'nad ranem', 'nadeszła godzina', 'najemnikami łodzi', 'najpierw dobre', 'najwyższego kapłana', 'należy wlewać', 'napełnijcie stągwie', 'napełnili je', 'napierano wielu', 'napiją wówczas', 'naprawiali sieci', 'naradzali przeciwko', 'nas jezusie', 'nas zgubić', 'nastaniem wieczora', 'natychmiast porzuciwszy', 'nauczając ich', 'nauczać bo', 'nauczał przechodząc', 'nauczał zdumiewali', 'nauka mocą', 'nauką uczył', 'naukę przyszli', 'nawet duchom', 'nawet duchy', 'nawet przed', 'nawracajcie się', 'nazarejczyku przyszedłeś', 'nic nie', 'nich czemu', 'nich dokoła', 'nich jezus', 'nich lecz', 'nich nie', 'nich powiedział', 'nich pójdźmy', 'nich zaczerpnijcie', 'nie było', 'nie czytaliście', 'nie człowiek', 'nie jak', 'nie mają', 'nie mogą', 'nie mogąc', 'nie mógł', 'nie mówił', 'nie nadeszła', 'nie napierano', 'nie poszczą', 'nie potrzebują', 'nie pozwalał', 'nie przyszedłem', 'nie przyszywa', 'nie ujawniały', 'nie widzieliśmy', 'nie wiedział', 'nie wlewa', 'nie wolno', 'nieco dalej', 'nieczyste na', 'nieczystego zaczął', 'nieczysty zaczął', 'nieczystym rozkazuje', 'niego aby', 'niego chcę', 'niego jego', 'niego każdy', 'niego mnóstwo', 'niego nie', 'niego odkryli', 'niego on', 'niego paralitykiem', 'niego patrz', 'niego pójdź', 'niego stale', 'niego wszyscy', 'niego wszystkich', 'niego wtedy', 'niej on', 'niektórzy uczeni', 'niemu jaki', 'niewiasto czy', 'nigdy jeszcze', 'nigdy nie', 'nikomu nic', 'nikt nie', 'nikt też', 'nim gdy', 'nim idąc', 'nim miotać', 'nim niektórzy', 'nim szymon', 'nim wielkie', 'nim wołały', 'nim wszędzie', 'nimi nie', 'niosło czterech', 'nosze chodź', 'nosze idź', 'nosze na', 'nosze wyszedł', 'nowa jakaś', 'nowa łata', 'nowych bukłaków', 'nurtują waszych', 'objawił swoją', 'obok jeziora', 'obrywa jeszcze', 'oczach wszystkich', 'oczyszczenie ofiarę', 'oczyszczeń których', 'oczyszczony jezus', 'oczyszczony zaraz', 'oczyścić jezus', 'od nas', 'odbywało się', 'oddalił się', 'odkryli dach', 'odpowiedział czy', 'odpowiedział czyż', 'odprawił mówiąc', 'odpuszczania grzechów', 'odpuszczać grzechy', 'odpuszczone są', 'ofiarę którą', 'ojca swego', 'okolic tyru', 'okolicznej krainie', 'on bluźni', 'on go', 'on głosił', 'on im', 'on je', 'on jego', 'on po', 'on podszedł', 'on rzekł', 'on surowo', 'on tak', 'on wołać', 'on wstał', 'on zaś', 'oni czynią', 'oni milczeli', 'oni zostawiwszy', 'ono pochodzi', 'opowiadać rozgłaszać', 'opuścił został', 'opuściła ją', 'opętany przez', 'opętanych całe', 'oraz okolic', 'oskarżyć on', 'otwór spuścili', 'otóż żebyście', 'padały przed', 'pan młody', 'pana młodego', 'panem także', 'paralityk jezus', 'paralityka dziecko', 'paralityka mówię', 'paralitykiem którego', 'paralitykowi odpuszczone', 'patrz czemu', 'pewnego dnia', 'pewnego razu', 'pewnym czasie', 'pije celnikami', 'piśmie był', 'piśmie którzy', 'piśmie spośród', 'po brzegi', 'po całej', 'po drodze', 'po pewnym', 'po to', 'po wyjściu', 'pochodzi ale', 'poczuł głód', 'początek znaków', 'podnieś się', 'podniósł ją', 'podszedł podniósł', 'pogotowiu ze', 'pokaż się', 'pokładne które', 'polecił swym', 'pomieścić dwie', 'ponieważ go', 'pory taki', 'porzuciwszy sieci', 'post przyszli', 'poszczą jezus', 'poszczą twoi', 'poszedł za', 'poszli za', 'posłuszne wnet', 'posłyszano że', 'potem powiedział', 'potrzebie poczuł', 'potrzebują lekarza', 'powie stało', 'powiedział co', 'powiedział do', 'powiedziała do', 'powiedzieli mu', 'powiedzieć paralitykowi', 'powiedzieć wstań', 'powodu tłumu', 'powodu zatwardziałości', 'powołać sprawiedliwych', 'powołał oni', 'poznał zaraz', 'pozwalał złym', 'pościć dopóki', 'pościć jak', 'pościć nikt', 'pośpieszył za', 'pośród siebie', 'pośród zbóż', 'prosił go', 'przebywał miejscach', 'przechodził szabat', 'przechodząc obok', 'przechodząc ujrzał', 'przeciwko niemu', 'przeciwnym razie', 'przed drzwiami', 'przed nim', 'przedarcie nikt', 'przepadną raczej', 'przepisał mojżesz', 'przez ducha', 'przez otwór', 'przeznaczonych do', 'przy stole', 'przychodził do', 'przyjdzie czas', 'przykazał zaraz', 'przynieść go', 'przynosili do', 'przyszedł do', 'przyszedł jakubem', 'przyszedłem aby', 'przyszedłeś nas', 'przyszli do', 'przyszli więc', 'przyszywa łaty', 'przyszło za', 'przywołał pana', 'prócz jednego', 'pustynne tam', 'pustynnych ludzie', 'pytali dlaczego', 'pytał co', 'pójdź za', 'pójdźcie za', 'pójdźmy gdzie', 'raczej młode', 'ranem kiedy', 'razem jezusem', 'razem najemnikami', 'razie nowa', 'razie wino', 'razu gdy', 'rozerwie bukłaki', 'rozeszła się', 'rozgłaszać to', 'rozkazał mu', 'rozkazuje są', 'rozmaitymi chorobami', 'rybakami ludzi', 'rybakami rzekł', 'rzekł do', 'rzekła do', 'również swoim', 'ręka jego', 'ręką podnieś', 'rękę dotknął', 'rękę opuściła', 'rękę wyciągnął', 'rękę śledzili', 'schodzili się', 'serc rzekł', 'sercach cóż', 'sercach swoich', 'siebie pana', 'sieci poszli', 'sieci zaraz', 'siedział jego', 'siedziało razem', 'siedziało tam', 'siedzącego na', 'sieć jezioro', 'się do', 'się drzwi', 'się jego', 'się kapłanowi', 'się modlił', 'się na', 'się napiją', 'się naradzali', 'się potrzebie', 'się przedarcie', 'się staniecie', 'się wesele', 'się wierzcie', 'się wieść', 'się winem', 'się wszyscy', 'się wylewa', 'się wypełnił', 'się zatem', 'się zdumieli', 'się ze', 'się znajdował', 'się znów', 'się źle', 'skosztował wody', 'skąd ono', 'spojrzawszy na', 'sposób go', 'spośród faryzeuszów', 'sprawa niewiasto', 'sprawiedliwych ale', 'sprawię że', 'spuścili nosze', 'staje się', 'stale pogotowiu', 'staniecie rybakami', 'starego ubrania', 'starosta weselny', 'staroście weselnemu', 'starych bukłaków', 'stawia najpierw', 'stała się', 'stało zaś', 'stole wielu', 'stronę jeziora', 'stągwi kamiennych', 'stągwie wodą', 'sukna do', 'surowego sukna', 'surowo im', 'surowo milcz', 'surowo mu', 'swe oczyszczenie', 'swego domu', 'swego zebedeusza', 'swoich czemu', 'swoim towarzyszom', 'swoje nosze', 'swoją chwałę', 'swym duchu', 'swym uczniom', 'swymi uczniami', 'sydonu szło', 'syn boży', 'syn człowieczy', 'syna alfeusza', 'syna zebedeusza', 'synagodze człowiek', 'synagogach wyrzucając', 'synagogi był', 'synagogi jezus', 'synagogi nauczał', 'szabat pośród', 'szabat to', 'szabat uczynić', 'szabat wszedł', 'szabat został', 'szabat żeby', 'szabatu jezus', 'szabatu zatem', 'sześć stągwi', 'szli za', 'szukają lecz', 'szymon towarzyszami', 'szymona andrzeja', 'szymona brata', 'szymona leżała', 'szymonowego andrzeja', 'szło do', 'są mu', 'są twoje', 'sąsiednich miejscowości', 'słońce zaszło', 'słudzy którzy', 'sług napełnijcie', 'sług zróbcie', 'tak myślą', 'tak mówi', 'tak że', 'taki to', 'także jezusa', 'także judei', 'także szabatu', 'tam człowiek', 'tam kilku', 'tam matka', 'tam mógł', 'tam się', 'tam sześć', 'te nurtują', 'tego wszyscy', 'tej pory', 'ten który', 'ten wstał', 'teraz zanieście', 'teściowa zaś', 'też byli', 'też młodego', 'też powiedzieć', 'to co', 'to czego', 'to faryzeusze', 'to jest', 'to moja', 'to początek', 'to rzekł', 'to szabat', 'to wesele', 'to wyszedłem', 'toteż polecił', 'towarzyszami gdy', 'towarzysze jak', 'towarzyszom dodał', 'trzy miary', 'trąd go', 'trędowaty upadłszy', 'twoi uczniowie', 'twoja sprawa', 'twoje grzechy', 'ty jesteś', 'ty zachowałeś', 'tych którzy', 'tylko kapłanom', 'tylu ludzi', 'tym jak', 'tyru sydonu', 'tłum aby', 'tłumu przynieść', 'ubrania gorsze', 'ubrania przeciwnym', 'uczeni piśmie', 'uczniami stronę', 'uczniami wielu', 'uczniom żeby', 'uczniowie faryzeuszów', 'uczniowie jana', 'uczniowie jego', 'uczniowie nie', 'uczniów czemu', 'uczniów kiedy', 'uczonych piśmie', 'uczynić coś', 'uczynił dawid', 'uczynił jezus', 'uczył ich', 'udał się', 'ujrzał jakuba', 'ujrzał lewiego', 'ujrzał szymona', 'ująwszy za', 'upadłszy na', 'uratować czy', 'uschniętą rękę', 'uschłą ręką', 'ustanowiony dla', 'usługiwała im', 'usłyszawszy to', 'uwierzyli niego', 'uwięziony jezus', 'uzdrowi go', 'uzdrowił wielu', 'uzdrowił wskutek', 'wam powie', 'waszych sercach', 'wejść do', 'wesele była', 'wesele także', 'weselnemu ci', 'weselni mogą', 'weselny skosztował', 'weź swoje', 'wiarę rzekł', 'widok padały', 'widzieliśmy czegoś', 'widząc ich', 'widząc że', 'wieczora gdy', 'wiedział skąd', 'wiedzieli iż', 'wiedzieli przywołał', 'wielbili boga', 'wiele działał', 'wiele opowiadać', 'wiele złych', 'wielkie mnóstwo', 'wielkie na', 'wielu bowiem', 'wielu celników', 'wielu dotkniętych', 'wiem kto', 'wierzcie ewangelię', 'wieść nim', 'wieść tym', 'wina jezus', 'wina matka', 'wina nie', 'winem nie', 'wino aż', 'wino gdy', 'wino należy', 'wino rozerwie', 'wino się', 'więc do', 'więc zanieśli', 'wlewa do', 'wlewać do', 'wnet rozeszła', 'wody która', 'wodą napełnili', 'wodę wiedzieli', 'wolno dał', 'wolno on', 'wolno szabat', 'wołać czego', 'wołały ty', 'wrócił do', 'wskutek tego', 'wstał poszedł', 'wstał wyszedł', 'wstał wziął', 'wstań weź', 'wszedł do', 'wszyscy cię', 'wszyscy którzy', 'wszyscy się', 'wszyscy wielbili', 'wszystkich chorych', 'wszystkich zdumieli', 'wszystko cokolwiek', 'wszędzie po', 'wtedy duch', 'wtedy matka', 'wtedy spojrzawszy', 'wtedy ów', 'wyciągnij rękę', 'wyciągnął ręka', 'wyciągnął rękę', 'wyjdź niego', 'wyjściu synagogi', 'wyjściu zaczął', 'wylewa bukłaki', 'wypełnił bliskie', 'wyrzucając złe', 'wyrzucił lecz', 'wyszedł na', 'wyszedł niego', 'wyszedł udał', 'wyszedł znowu', 'wyszedłem chodził', 'wyszli ze', 'względu na', 'wziął zaraz', 'wówczas gorsze', 'władzę nie', 'władzę odpuszczania', 'właśnie ich', 'właśnie post', 'za abiatara', 'za mną', 'za nim', 'za rękę', 'za swe', 'zabiorą im', 'zabić lecz', 'zabrakło wina', 'zabraniał żeby', 'zachowałeś dobre', 'zaczerpnijcie teraz', 'zaczął nim', 'zaczął on', 'zaczął wiele', 'zaczęli po', 'zajordania oraz', 'zanieście staroście', 'zanieśli gdy', 'zaproszono na', 'zaraz go', 'zaraz ich', 'zaraz powiedzieli', 'zaraz się', 'zaraz swoje', 'zaraz swym', 'zaraz trąd', 'zarzucali sieć', 'zasmucony powodu', 'zaszło przynosili', 'zaszło tak', 'zatem syn', 'zatem tylu', 'zatwardziałości ich', 'zaś rzekł', 'zaś starosta', 'zaś szymona', 'zaś tam', 'zbóż uczniowie', 'zdjęty litością', 'zdrowa faryzeusze', 'zdrowi lecz', 'zdumieli się', 'zdumieli tak', 'zdumiewali się', 'ze starego', 'ze swymi', 'ze względu', 'ze zwolennikami', 'zebedeusza brata', 'zebedeusza razem', 'zebrało się', 'zechcesz możesz', 'zewsząd schodzili', 'zgubić wiem', 'ziemi władzę', 'znajdował przez', 'znaków uczynił', 'znalazł się', 'znaleźli powiedzieli', 'znały nad', 'znowu nad', 'znów zdrowa', 'zostawiwszy ojca', 'został oczyszczony', 'został ustanowiony', 'został uwięziony', 'zrywać kłosy', 'zróbcie wszystko', 'zwolennikami heroda', 'złe duchy', 'złego życie', 'złych duchów', 'złym duchom', 'złóż za', 'ów dzień', 'łata obrywa', 'łatwiej powiedzieć', 'łaty surowego', 'łodzi naprawiali', 'łodzi poszli', 'łódka była', 'śledzili go', 'środek do', 'świadectwo dla', 'święty boga', 'źle mają', 'że je', 'że jeden', 'że jest', 'że jezus', 'że nawet', 'że się', 'że tak', 'żeby go', 'żeby łódka', 'żebyście wiedzieli', 'życie uratować', 'żydowskich oczyszczeń']\n"
     ]
    }
   ],
   "source": [
    "ngram_vect = CountVectorizer(ngram_range=(2,2))\n",
    "X_counts = ngram_vect.fit_transform(df['Ewangelia'])\n",
    "\n",
    "print(X_counts.shape)\n",
    "print(ngram_vect.get_feature_names())"
   ]
  },
  {
   "cell_type": "code",
   "execution_count": 52,
   "metadata": {},
   "outputs": [
    {
     "name": "stdout",
     "output_type": "stream",
     "text": [
      "(187, 6883)\n",
      "['abba ojcze', 'abrahama izaaka', 'abrahama pomny', 'abrahama ref', 'abrahamowi jego', 'aby każdy', 'aby nami', 'aby nas', 'aby niewinnie', 'aby twój', 'aby wysłuchać', 'aby żyć', 'abym gasił', 'abym mógł', 'abym nie', 'abym przejrzał', 'abym przemówił', 'abym stał', 'abyś mógł', 'abyś nowe', 'abyśmy też', 'adonai nadejdzie', 'adonai odkąd', 'adonai wszyscy', 'albowiem dobry', 'albowiem tylko', 'albowiem uczynił', 'ale miłość', 'ale wiem', 'ale życie', 'alleluja abyśmy', 'alleluja alleluja', 'alleluja amen', 'alleluja chwała', 'alleluja jezus', 'alleluja niech', 'alleluja on', 'alleluja pan', 'alleluja panu', 'alleluja pokłońmy', 'alleluja posyła', 'alleluja radujmy', 'alleluja ref', 'alleluja słońce', 'alleluja ujrzały', 'alleluja wielbimy', 'alleluja śpiewajcie', 'amen alleluja', 'amen amen', 'amen będziemy', 'amen ref', 'amor ubi', 'ani bajką', 'ani jednej', 'aniołami tak', 'aniołami wielbią', 'aniołowie błogosławcie', 'anioły wywyższona', 'aniołów tobie', 'aniołów śpiewa', 'ave maria', 'ave maryja', 'aż na', 'aż odnowi', 'aż po', 'aż zakończy', 'ażebym znał', 'bajką wolność', 'balsamem błogosławcie', 'baranek na', 'baranek wśród', 'baranka krew', 'baranka święta', 'barankiem jest', 'barankowi ref', 'baranku boży', 'baranku mój', 'baranku przed', 'bardziej cenię', 'bardzo chcę', 'bardzo kocha', 'bardzo miłuje', 'bać powiedz', 'bać zabierz', 'bał cóż', 'benedicta tu', 'bez ciebie', 'bez dna', 'bez sił', 'bez twej', 'bez znaczenia', 'bezdennym oceanie', 'bezdomnych przyjdź', 'bezpiecznie ref', 'bezsennej nocy', 'białych szatach', 'biednego przyjdź', 'biednych łasce', 'biegł mijają', 'biegł nie', 'biel nowych', 'bieli wchłoń', 'bielszym od', 'bije tylko', 'bijące dzwony', 'blask do', 'blask gdy', 'blask pochmurny', 'blaskiem jaśnieje', 'blaskiem lśnić', 'blaskiem rozświetlasz', 'blaskiem swym', 'blasku chcę', 'blasku twej', 'blasku świec', 'bliski ty', 'bliskim dla', 'blisko blisko', 'blisko ciebie', 'blisko jest', 'blisko jesteś', 'blisko mnie', 'blisko tak', 'bliżej będzie', 'bliżej nieba', 'bo całym', 'bo chciał', 'bo dla', 'bo do', 'bo góry', 'bo jak', 'bo jam', 'bo jego', 'bo jezus', 'bo ją', 'bo każdą', 'bo kościół', 'bo moc', 'bo nas', 'bo nie', 'bo nim', 'bo on', 'bo pan', 'bo przyszedłeś', 'bo słodki', 'bo to', 'bo twa', 'bo ty', 'bo tylko', 'bo tyś', 'bo we', 'bo wejrzał', 'bo wiara', 'bo wielka', 'bo wielkiś', 'bo łan', 'boga dar', 'boga jak', 'boga jest', 'boga ludzi', 'boga matko', 'boga na', 'boga nam', 'boga naszego', 'boga obiecany', 'boga odtrącić', 'boga ojca', 'boga powierz', 'boga spójrz', 'boga tron', 'boga wciąż', 'boga więc', 'boga zbawcę', 'bogarodzico córo', 'bogatego ref', 'bogaty miłość', 'bogatych niczym', 'bogiem bliskim', 'bogiem był', 'bogiem ciebie', 'bogiem jest', 'bogiem mym', 'bogiem oddajmy', 'bogiem on', 'bogiem ref', 'bogiem tyś', 'bogiem wiernym', 'bogu cześć', 'bogu królowi', 'bogu który', 'bogu na', 'bogu oddajmy', 'bogu ojcu', 'bogu póki', 'bogu radosnym', 'bogu swym', 'bogu wykrzykujcie', 'bogu zbawicielu', 'bojaźni bożej', 'boją dni', 'boją okazał', 'boję się', 'boku twym', 'boskich korona', 'boskie miłosierdzie', 'bowiem odtąd', 'bowiem twoją', 'boś obiecał', 'boś odwiecznym', 'boś ty', 'boże baranku', 'boże bo', 'boże boże', 'boże cię', 'boże dusza', 'boże jesteś', 'boże królu', 'boże mój', 'boże nasz', 'boże nikt', 'boże ojcze', 'boże panie', 'boże serce', 'boże trzeba', 'boże twa', 'boże uzdrów', 'boże wiem', 'boże znasz', 'bożego do', 'bożej duchu', 'bożej ziarno', 'boży baranku', 'boży gniew', 'boży syn', 'boży synu', 'boży tron', 'boży ufność', 'bożą rolą', 'bracia on', 'braciom ref', 'brak ref', 'brak zaufaj', 'braknie moim', 'braknie na', 'braknie pozwala', 'braknie prowadzi', 'braknie sił', 'bram dziękczynieniem', 'bram tam', 'bram uwielbieniem', 'brama pana', 'bramy wstępujcie', 'bramą do', 'brat zaufaj', 'bratem nauczył', 'bratnią czynisz', 'brać tabernakulum', 'braćmi jesteśmy', 'brzeg za', 'brzegiem dni', 'brzegiem nocy', 'brzmi jego', 'brzmi synowi', 'budzi boży', 'budzi się', 'budzi uśmiechnij', 'buja skrzydłami', 'burz bo', 'burz kto', 'burza ofiaruj', 'by ci', 'by inny', 'by jezus', 'by miłości', 'by mnie', 'by mój', 'by nie', 'by niepokój', 'by objawiać', 'by oddawać', 'by radość', 'by rajem', 'by się', 'by stać', 'by syn', 'by sławić', 'by służyć', 'by uwielbiać', 'by wielbić', 'by wyznać', 'by za', 'by świat', 'byli gdy', 'bym bóstwem', 'bym ja', 'bym jak', 'bym mógł', 'bym na', 'bym nie', 'bym zwyciężał', 'być cóż', 'być dobrym', 'być jak', 'być jezu', 'być nie', 'być posłusznym', 'być pozwól', 'być ref', 'być tobą', 'być święty', 'był by', 'był będę', 'był ciebie', 'był jest', 'był ref', 'była cicha', 'była na', 'byłem jak', 'było tyle', 'było źle', 'byś był', 'byś dotknął', 'byś matczyną', 'byś mówił', 'byś został', 'byśmy do', 'byśmy jedną', 'byśmy razem', 'byśmy wytrwali', 'bóg abrahama', 'bóg abyśmy', 'bóg blaskiem', 'bóg do', 'bóg dobry', 'bóg dom', 'bóg hojnym', 'bóg innym', 'bóg izraela', 'bóg jak', 'bóg jedyny', 'bóg jest', 'bóg jezus', 'bóg jeśli', 'bóg król', 'bóg króluje', 'bóg ma', 'bóg mesjasz', 'bóg miłości', 'bóg mój', 'bóg na', 'bóg nas', 'bóg nasz', 'bóg niezwyciężony', 'bóg odpocznę', 'bóg ofiarował', 'bóg ojciec', 'bóg on', 'bóg ponad', 'bóg poprowadzi', 'bóg ref', 'bóg sam', 'bóg siedzący', 'bóg tak', 'bóg to', 'bóg twój', 'bóg tyś', 'bóg uzdrawia', 'bóg więc', 'bóg wszystko', 'bóg wywyższamy', 'bój się', 'bójcie się', 'ból cierpienie', 'ból pozwól', 'ból skrzętnie', 'ból smutek', 'bóstwem jezusa', 'bądź boży', 'bądź jak', 'bądź jezu', 'bądź miłością', 'bądź na', 'bądź nadziei', 'bądź nam', 'bądź uwielbiony', 'bądź wolnością', 'bądź światłem', 'bębnie swym', 'będzie być', 'będzie ci', 'będzie już', 'będzie piosenką', 'będzie pokory', 'będzie tak', 'będzie trwać', 'będzie trwał', 'będzie śpiewać', 'będzie żył', 'będziemy klaskać', 'będziemy niezmiernie', 'będziemy tańczyć', 'będziemy śpiewać', 'będziesz mógł', 'będziesz nas', 'będziesz żyć', 'będą wszystkie', 'będę będę', 'będę ci', 'będę cieszyć', 'będę do', 'będę istniał', 'będę klaskać', 'będę mieszkał', 'będę nim', 'będę pragnę', 'będę się', 'będę tańczyć', 'będę tańczył', 'będę twoje', 'będę za', 'będę śpiewać', 'będę śpiewał', 'będę żył', 'błagamy madonno', 'błaganie nasze', 'błaganie pomóż', 'błahych też', 'błogosław duszo', 'błogosławcie go', 'błogosławcie imię', 'błogosławcie pana', 'błogosławieństw twych', 'błogosławieństwo cześć', 'błogosławieństwo na', 'błogosławimy cię', 'błogosławione jest', 'błogosławiony ten', 'błogosławioną ref', 'błogosławisz boś', 'błogosławisz mocą', 'błogosławią niech', 'błogosławią wszystkie', 'błogosławić będę', 'błogosławić jezus', 'błogosławić mnie', 'błyskawic moc', 'błąkał się', 'caritas deus', 'caritas et', 'cała ziemia', 'cała ziemio', 'całe zdanie', 'całe życie', 'całej siły', 'całej ziemi', 'cały czas', 'cały jestem', 'cały tak', 'cały świat', 'całym sercem', 'całym wielbię', 'całą duszą', 'całą ziemią', 'cel mej', 'cenię niźli', 'cenny dla', 'cenę śmierci', 'chce bić', 'chce będę', 'chce ci', 'chce gdzie', 'chce wiecznie', 'chce zostać', 'chcemy więcej', 'chcesz ją', 'chcesz moją', 'chcesz prowadzić', 'chcesz przez', 'chciał ażebym', 'chciał wejrzeć', 'chciała prosić', 'chciej ref', 'chcą porwać', 'chcę bez', 'chcę bo', 'chcę by', 'chcę być', 'chcę całej', 'chcę chwalić', 'chcę ci', 'chcę czystego', 'chcę dziękować', 'chcę go', 'chcę iść', 'chcę jak', 'chcę kiedy', 'chcę kochać', 'chcę on', 'chcę panie', 'chcę radosną', 'chcę ramionach', 'chcę się', 'chcę słyszeć', 'chcę tobą', 'chcę ty', 'chcę ujrzeć', 'chcę widzieć', 'chcę wspaniałe', 'chcę wywyższać', 'chcę wyznać', 'chcę zawsze', 'chcę zaśpiewać', 'chcę zbyt', 'chcę zostać', 'chcę śpiewać', 'chcę życie', 'chleb bądź', 'chleb co', 'chleb komunią', 'chleb rozmnożył', 'chleb spożywa', 'chleb teraz', 'chleba daj', 'chleba dobry', 'chleba które', 'chleba nami', 'chleba nie', 'chleba tego', 'chlebem abym', 'chlebem dajmy', 'chlebem mym', 'chlebem nieba', 'chlebem niech', 'chlebem pobłogosław', 'chlebem żywym', 'chlebie najcichszy', 'chociaż było', 'chociaż tak', 'chodzić po', 'choroby okazuje', 'chować lecz', 'choć czasem', 'choć jest', 'choć mym', 'choć nie', 'choć zazdrości', 'choć świat', 'choćby na', 'choćbym nawet', 'chryste dotknij', 'chryste duchem', 'chryste jezu', 'chryste ref', 'chryste swoim', 'chrystus moim', 'chrystus pan', 'chrystus stając', 'chrystus to', 'chrystus zmartwychwstał', 'chrystusa ciało', 'chrystusa przyjdź', 'chrystusa stało', 'chrystusie panu', 'chrystusie synu', 'chwal adonai', 'chwal boga', 'chwal chwal', 'chwal duszo', 'chwal go', 'chwal oddaj', 'chwalcie cieniste', 'chwalcie go', 'chwalcie króla', 'chwalcie nami', 'chwalcie pana', 'chwalcie wszystkie', 'chwalcie łąki', 'chwale boga', 'chwale jego', 'chwale twojego', 'chwalimy cię', 'chwalimy święte', 'chwalić boże', 'chwalić ciebie', 'chwalić pana', 'chwalmy go', 'chwalę ciebie', 'chwast zakiełkuje', 'chwasty bo', 'chwał amen', 'chwał jego', 'chwał pokłońmy', 'chwał przyjąć', 'chwał uwielbiajmy', 'chwała barankowi', 'chwała bogu', 'chwała brzmi', 'chwała chociaż', 'chwała cześć', 'chwała jezusowi', 'chwała niebiosach', 'chwała ojcu', 'chwała ref', 'chwała temu', 'chwała twa', 'chwała twoja', 'chwała wszelka', 'chwała wznosi', 'chwały ikono', 'chwały pieśń', 'chwały przyjąć', 'chwały twej', 'chwały wylej', 'chwałą nam', 'chwałą tobie', 'chwałę bowiem', 'chwałę co', 'chwałę cześć', 'chwałę jestem', 'chwałę moc', 'chwałę mu', 'chwałę nic', 'chwałę panie', 'chwałę po', 'chwałę przyjdź', 'chwałę serca', 'chwil nie', 'chwil niespokojnie', 'chwile smutne', 'chwili gdy', 'chwyć mnie', 'chylą się', 'chór aniołów', 'ci bo', 'ci boże', 'ci cześć', 'ci dziękować', 'ci hołd', 'ci jego', 'ci już', 'ci kazała', 'ci miłość', 'ci najpiękniejszą', 'ci oczyść', 'ci panie', 'ci pieśń', 'ci pomoże', 'ci przysłoni', 'ci radością', 'ci ref', 'ci składamy', 'ci tak', 'ci ty', 'ci uwielbiam', 'ci wszystko', 'ci śpiewać', 'ci śpiewał', 'ci że', 'ci życie', 'ciał pokrzep', 'ciałem chwalmy', 'ciało jest', 'ciało krew', 'ciało me', 'ciało swe', 'ciało wielu', 'cicha piękna', 'cichy ciemny', 'cichą noc', 'ciebie abba', 'ciebie blasku', 'ciebie boże', 'ciebie być', 'ciebie całą', 'ciebie chwalić', 'ciebie co', 'ciebie dobry', 'ciebie duchu', 'ciebie jedno', 'ciebie mam', 'ciebie me', 'ciebie miłości', 'ciebie moja', 'ciebie mówi', 'ciebie mówić', 'ciebie nie', 'ciebie od', 'ciebie ojca', 'ciebie ojcze', 'ciebie otwieram', 'ciebie panie', 'ciebie raz', 'ciebie ref', 'ciebie słuchaj', 'ciebie troską', 'ciebie twa', 'ciebie ty', 'ciebie umarł', 'ciebie uwierzy', 'ciebie wiem', 'ciebie więc', 'ciebie więcej', 'ciebie wznoszę', 'ciebie żyć', 'ciemności blaskiem', 'ciemności człowiek', 'ciemności dałeś', 'ciemności zwracając', 'ciemność ma', 'ciemność przemień', 'ciemność ułomki', 'ciemność zło', 'ciemny kościół', 'ciemną doliną', 'cieniem chcę', 'cieniste gaiki', 'cieniu twoich', 'cieniu twym', 'ciepła co', 'ciepły deszcz', 'ciepły wiatr', 'cierpiał za', 'cierpienia sokole', 'cierpienia znieść', 'cierpienie błogosławcie', 'cierpienie zanurzy', 'cierpiąc zmarł', 'cierpiących przyjdź', 'cierpliwa wierna', 'cieszcie się', 'cieszyć powiedz', 'cieszyć się', 'cień twych', 'cieśli pokój', 'ciszy na', 'ciszy przy', 'ciągle czekam', 'ciągle czekasz', 'ciągu życia', 'cię alleluja', 'cię amen', 'cię bogaty', 'cię burza', 'cię byś', 'cię będzie', 'cię będę', 'cię błogosławimy', 'cię błogosławią', 'cię cała', 'cię chcę', 'cię chociaż', 'cię często', 'cię daję', 'cię do', 'cię drogi', 'cię duchu', 'cię dzięki', 'cię ja', 'cię moje', 'cię na', 'cię niech', 'cię nowy', 'cię otoczy', 'cię panie', 'cię poznam', 'cię przy', 'cię przyjdzie', 'cię przyjąć', 'cię ref', 'cię spożywa', 'cię twa', 'cię twoja', 'cię tyś', 'cię uwielbiać', 'cię wielbimy', 'cię wysławia', 'cię wysławiamy', 'cię za', 'cięte rysy', 'ciężko kiedy', 'ciężko pracujących', 'co budzi', 'co ciebie', 'co czeka', 'co czuje', 'co dawno', 'co dnia', 'co dotąd', 'co dziełem', 'co dzień', 'co igra', 'co jest', 'co kusi', 'co mam', 'co masz', 'co mieszkasz', 'co morza', 'co mym', 'co nam', 'co nas', 'co nim', 'co oświeca', 'co pociesza', 'co przede', 'co roztacza', 'co sami', 'co się', 'co spragnione', 'co stwarza', 'co stworzyłeś', 'co we', 'co wierzę', 'co zmienia', 'co złe', 'co złączył', 'co życie', 'co żyje', 'codziennie bliżej', 'codzienność pokazuje', 'cokolwiek jest', 'coś mnie', 'coś wystarczy', 'cud abyś', 'cud największy', 'cud niespokojny', 'cud się', 'cuda zwycięstwo', 'cudem staje', 'cudownych słów', 'cudownym wiatrem', 'cytry przy', 'cytrze chwalcie', 'czarna madonno', 'czas by', 'czas dzisiaj', 'czas mego', 'czas pan', 'czas posuchy', 'czas przez', 'czas ref', 'czas swej', 'czas szukam', 'czas to', 'czas tyś', 'czas wszystko', 'czasem było', 'czasem sił', 'czasie burz', 'czasu mało', 'czasów król', 'czczą aniołami', 'czego chcesz', 'czego pragnę', 'czego szukałem', 'czeka nas', 'czeka wierci', 'czekają na', 'czekają wciąż', 'czekam na', 'czekam przyjdź', 'czekam wciąż', 'czekasz na', 'czemu miłością', 'cześć bo', 'cześć całej', 'cześć dzięki', 'cześć głosimy', 'cześć jesteśmy', 'cześć lepiej', 'cześć mądrość', 'cześć niech', 'cześć odrzucony', 'cześć ogłaszać', 'cześć pana', 'cześć panie', 'cześć panu', 'cześć potężnym', 'cześć ref', 'cześć tak', 'cześć tyś', 'cześć wejdźmy', 'cześć wiecznemu', 'cześć wielbijmy', 'cześć wszelka', 'cześć świętemu', 'czterech wiatrów', 'czuj się', 'czuje co', 'czuje na', 'czuję tchnienie', 'czuję znów', 'czuję że', 'czuwa nade', 'czuwajmy x2', 'czułe ma', 'czy cię', 'czy życie', 'czym śnię', 'czyni nas', 'czynisz dziś', 'czynisz nas', 'czyste srebro', 'czystego złota', 'często słabnę', 'człowiek powstaje', 'człowiek powstanie', 'człowiek schronić', 'człowieka są', 'człowiekiem by', 'człowiekiem stał', 'córko ludu', 'córo twego', 'cóż może', 'cóż my', 'da ci', 'da więc', 'daj by', 'daj czterech', 'daj głodującym', 'daj mi', 'daj mężne', 'daj nam', 'daj nowe', 'daj przynosić', 'daj ref', 'daj zasadź', 'daj zdolne', 'daje ci', 'daje nam', 'daje pokój', 'daje radość', 'daje siłę', 'daje wszystkim', 'dajesz ciało', 'dajesz mi', 'dajesz nie', 'dajesz swojego', 'dajmy świadectwo', 'dają hołd', 'daję ci', 'daję każdy', 'dal twym', 'daleko wschód', 'daleką wędrówkę', 'dam pić', 'dam ref', 'dam tobie', 'dana przyjdź', 'dane mi', 'dano nam', 'dar daj', 'dar ja', 'dar jego', 'dar twojego', 'dar tyś', 'dar życia', 'dary naszymi', 'darzy mnie', 'darzysz łaską', 'dawania ref', 'dawcą jest', 'dawid kiedy', 'dawno już', 'dać ref', 'dać ref2', 'dał aby', 'dał chwała', 'dał ci', 'dał mu', 'dał nam', 'dał ref1', 'dał stoję', 'dałeś mi', 'dałeś nam', 'dało wolność', 'deo gloria', 'deszcz błogosławieństw', 'deszcz do', 'deszcz duchu', 'deszcz na', 'deszcz obfity', 'deszcz ożyw', 'deszcz panie', 'deszcz twoja', 'deszczem błogosławcie', 'deus ibi', 'dla biednych', 'dla ciebie', 'dla domu', 'dla duszy', 'dla izraela', 'dla ludzi', 'dla mnie', 'dla nas', 'dla niego', 'dla spragnionych', 'dla tego', 'dla tych', 'dla ufnych', 'dla wszystkich', 'dlatego jesteś', 'dlatego modlę', 'dna wielka', 'dni bądź', 'dni codziennie', 'dni człowieka', 'dni serce', 'dni wysławiać', 'dni zajaśniały', 'dnia czekasz', 'dnia nadzieją', 'dnia przy', 'dnia twoja', 'dnia wszedłeś', 'dniem wszystkim', 'do boga', 'do chrystusa', 'do ciebie', 'do ciężko', 'do drzwi', 'do dzieci', 'do dzisiaj', 'do jego', 'do końca', 'do ludzi', 'do matki', 'do mego', 'do miłości', 'do mnie', 'do nadziei', 'do nas', 'do naszych', 'do nieba', 'do niego', 'do ojca', 'do ołtarza', 'do pana', 'do pokolenia', 'do siebie', 'do spragnionych', 'do swego', 'do swej', 'do syna', 'do wieczności', 'do wielkiej', 'do ładu', 'do źródła', 'dobrami bogatych', 'dobrem aż', 'dobro nas', 'dobroci by', 'dobroci niepojętej', 'dobroci nieskończonej', 'dobroci nigdy', 'dobroci wzywajmy', 'dobroć będę', 'dobroć dla', 'dobroć na', 'dobroć tam', 'dobroć twą', 'dobry boże', 'dobry bóg', 'dobry cały', 'dobry jak', 'dobry jest', 'dobry owoc', 'dobry panie', 'dobry łaska', 'dobry łaskawy', 'dobry święty', 'dobrym powiedz', 'dobrze jest', 'dobrze kiedy', 'dobrze twym', 'dobrze że', 'dodaj sił', 'dojdę dojdę', 'dojdę gdy', 'dojrzewa pachnie', 'dojść kiedy', 'dokąd iść', 'doliny tam', 'doliny zielone', 'doliną zła', 'dom klęknijcie', 'dom ref', 'dom swój', 'dominus tecum', 'domu bogu', 'domu izraela', 'dorówna tobie', 'dosięga nas', 'dotknij mnie', 'dotknij nas', 'dotknij naszych', 'dotknij ogniem', 'dotknij panie', 'dotknął mnie', 'dotykasz mnie', 'dotąd przy', 'dość zaufaj', 'drodze mej', 'drodze muszą', 'drodze nie', 'drodze za', 'droga mą', 'drogach nam', 'drogach prowadź', 'drogi jezu', 'drogi najprostsze', 'drogi odnowy', 'drogi pomyli', 'drogi spotkam', 'drogą hen', 'drogą jezus', 'drogą kroczyć', 'drogą najpiękniejszą', 'drogą ref', 'drogę do', 'drogę krzyża', 'drogę mą', 'drogę ref', 'drogę ty', 'drogę wiodącą', 'drogę wskaż', 'drugi brzeg', 'drzewo życia', 'drzwi kołaczesz', 'drzwi kołaczę', 'drzwi otworzy', 'drzwi przychodzisz', 'drzwi zamkniętych', 'dróg powiedz', 'dróg tyś', 'drżeniem mej', 'drży na', 'duch barankiem', 'duch dziś', 'duch ja', 'duch jest', 'duch mój', 'duch nas', 'duch ogarnia', 'duch twój', 'duch święty', 'ducha abym', 'ducha nam', 'ducha on', 'ducha panie', 'ducha uwielbiam', 'ducha świętego', 'duchem całym', 'duchem płonącym', 'duchem twym', 'duchem świętym', 'duchowi który', 'duchowi świętemu', 'duchu byśmy', 'duchu miłości', 'duchu mądrości', 'duchu pana', 'duchu powiej', 'duchu poznania', 'duchu przyjdź', 'duchu tworzysz', 'duchu uwielbiam', 'duchu święty', 'duchy niebieskie', 'dusz wiernych', 'dusz zdrój', 'dusza ma', 'dusza moja', 'dusze mą', 'duszo ma', 'duszo moja', 'duszy daj', 'duszy która', 'duszy mej', 'duszy mojej', 'duszy niech', 'duszy szukam', 'duszą pragnę', 'duszę mą', 'duszę panie', 'dwa kiedy', 'dwie wzrok', 'dwóch niech', 'działa gdy', 'działaj mocą', 'działasz mocy', 'dzieci nie', 'dzieci ona', 'dzieci swe', 'dzieci twych', 'dzieci wzgardzonych', 'dzieckiem być', 'dziecko wzywające', 'dziedzictwo jest', 'dzieje się', 'dzielić chleba', 'dzielić nikt', 'dzielić odrzućmy', 'dzielmy się', 'dziesięciostrunnej harfie', 'dziewico matko', 'dziewico nami', 'dziewico posłuszna', 'dziewico wzorze', 'dziećmi abba', 'dziećmi pan', 'dziećmi potrzebujemy', 'dziećmi twymi', 'dziećmi wiary', 'dzieł boskich', 'dzieła będę', 'dzieła błogosławcie', 'dzieła czynisz', 'dzieła które', 'dzieła swej', 'dzieła twoich', 'dzieła święci', 'dziełem są', 'dzieło twych', 'dzień boże', 'dzień chwal', 'dzień gdy', 'dzień jego', 'dzień jest', 'dzień który', 'dzień którym', 'dzień miej', 'dzień nadejdzie', 'dzień nastaje', 'dzień nocy', 'dzień się', 'dzień uczyń', 'dzień upewnia', 'dzień uwielbi', 'dzień wraz', 'dzień zobaczy', 'dzisiaj ofiarować', 'dzisiaj sam', 'dzisiaj światu', 'dziękczynienie chwałę', 'dziękczynieniem jego', 'dziękczynieniem wśród', 'dzięki ci', 'dzięki nam', 'dzięki panie', 'dzięki składajmy', 'dzięki wszechmogący', 'dzięki łasce', 'dziękować ci', 'dziękować dziś', 'dziękować mu', 'dziś blaskiem', 'dziś bogu', 'dziś błogosławić', 'dziś czuje', 'dziś do', 'dziś gdy', 'dziś jak', 'dziś miłość', 'dziś możemy', 'dziś najwyższy', 'dziś nie', 'dziś nieba', 'dziś niech', 'dziś nowe', 'dziś objawi', 'dziś ogarnia', 'dziś pan', 'dziś prawica', 'dziś przenika', 'dziś przenikaj', 'dziś raduję', 'dziś ramionach', 'dziś ref', 'dziś serce', 'dziś suchą', 'dziś swoje', 'dziś swoją', 'dziś zaufaj', 'dziś ze', 'dzwony padnij', 'dłoni ma', 'dłoni swej', 'dłoniach twych', 'dłonie cała', 'dłonie góry', 'dłonie hymny', 'dłonie stawajmy', 'dłonie swe', 'dłonie wykrzykujcie', 'dłonią swą', 'dłoń bym', 'dłoń nasza', 'dłoń tobą', 'dług grobu', 'długo będę', 'długo słowa', 'dźwięcznej cytrze', 'dźwięk jego', 'dźwięku harfy', 'emmanuel bóg', 'es tam', 'et amor', 'ewangelię wiele', 'excelsis deo', 'fala spłynie', 'falami powietrzu', 'fale mórz', 'fale twoje', 'fali knowań', 'fikcją ani', 'gaiki źródła', 'gardzi dary', 'gasił twe', 'gałązka krzewie', 'gdy bez', 'gdy boga', 'gdy boję', 'gdy będziesz', 'gdy do', 'gdy drogi', 'gdy dzień', 'gdy jego', 'gdy jej', 'gdy jest', 'gdy kiedyś', 'gdy klęczę', 'gdy księgę', 'gdy ktoś', 'gdy mnie', 'gdy na', 'gdy nadejdzie', 'gdy nie', 'gdy po', 'gdy podnosi', 'gdy powtórzysz', 'gdy przemówi', 'gdy schodzimy', 'gdy serca', 'gdy twym', 'gdy ucztę', 'gdy udręczył', 'gdy wielbimy', 'gdy wokół', 'gdy wyniosłość', 'gdy wzywamy', 'gdy zabrzmi', 'gdy zagraża', 'gdy zaufam', 'gdy śpiewam', 'gdy święci', 'gdyby nie', 'gdybym umarł', 'gdyż nie', 'gdyż wielkie', 'gdzie jej', 'gdzie króluje', 'gdzie ma', 'gdzie miłość', 'gdzie mogę', 'gdzie nie', 'gdzie otworzyć', 'gdzie pasiesz', 'gdzie powracać', 'gdzie pycha', 'gdzie się', 'gdzie ty', 'gdzie ustaje', 'gdzie usychają', 'gdzie światłością', 'gdzieś nowy', 'giną jeden', 'gloria chwalimy', 'gloria gloria', 'gloria in', 'gloria panie', 'gniew oddalasz', 'gniew wdziejmy', 'gniew świat', 'gniewać się', 'go albowiem', 'go alleluja', 'go boją', 'go cały', 'go chciej', 'go czczą', 'go duszo', 'go dziś', 'go jego', 'go kocha', 'go miejsce', 'go na', 'go nie', 'go pan', 'go ref', 'go swym', 'go tak', 'go ucieka', 'go wiedzcie', 'go wiem', 'go więc', 'go wołaj', 'go wspomnij', 'go wszystkie', 'go wysławiać', 'godny świata', 'godzien godzien', 'godzien jest', 'godzina abba', 'godziny mija', 'golgoty za', 'goliat nie', 'gorycz żal', 'gorzkie łzy', 'gorący ref', 'gotowości dawania', 'gotów by', 'gości duszy', 'gości trwoga', 'grajcie ref', 'gratia plena', 'grała na', 'grobu on', 'grobu powstał', 'grobu wstałeś', 'gron pochodzi', 'grzech baranek', 'grzech kiedy', 'grzech ref', 'grzech za', 'grzechem mym', 'grzechu kamienie', 'grzechu odmywa', 'grzechy dzięki', 'grzechy leczy', 'grzechy pohańbieniu', 'grzechy świata', 'grzechów nie', 'grzechów oczyść', 'grzeszny świat', 'grzmią panu', 'grób abyśmy', 'gubię sens', 'gwałtowne żywioły', 'gwiazd nie', 'gwiazd wtedy', 'gwiazd za', 'gwiazdo przewodnia', 'gwiazdo zaranna', 'gwiazdy stworzyłeś', 'gwiazdy świecące', 'gwiazdą na', 'gwieździstą noc', 'gór jego', 'gór stworzenie', 'gór wyższa', 'górskie morskie', 'góry chylą', 'góry doliny', 'góry mogą', 'góry mój', 'góry na', 'góry niech', 'góry przenosi', 'góry ustąpią', 'górze cel', 'górę swoje', 'gładzisz grzech', 'gładzisz grzechy', 'głodem wstrząsnąć', 'głodnych nasycił', 'głodnych zaspokoić', 'głodującym modlących', 'głos bo', 'głos drzwi', 'głos drży', 'głos ref', 'głos twarz', 'głos twój', 'głos zaśpiewaj', 'głosem bo', 'głosem sercu', 'głosem śpiewajcie', 'głosie rogu', 'głosimy chwałę', 'głoszą chwałę', 'głoszą twoją', 'głód ciebie', 'głód głębią', 'głód poniża', 'głód serca', 'głąb duszy', 'głębia woła', 'głębiny ref', 'głębią mórz', 'głębię jest', 'głębokości mórz', 'głębsza niż', 'harfie lutni', 'harfy przy', 'hańbie słudzy', 'hen górze', 'historii świata', 'historię wpiszą', 'hojnym dawcą', 'hołd miłość', 'hołd mu', 'hołd przedsionku', 'hołd ref', 'hołd tobie', 'hołd weź', 'hołd wieczystych', 'hymny śpiewajcie', 'hymnów jego', 'ibi es', 'ich gdy', 'ich mieszkanie', 'ich ręki', 'ich że', 'idziemy wciąż', 'idziemy więc', 'idziemy zdobywając', 'idąca przyjdź', 'idź dziewico', 'idź królowo', 'idź matko', 'idź pociecho', 'idź pokoju', 'idź wszystkich', 'igra morza', 'ikono dziewico', 'imienia nim', 'imienia otchłani', 'imieniem pan', 'imieniu nie', 'imieniu opowiadać', 'imieniu wezwie', 'imię boga', 'imię błogosław', 'imię jak', 'imię jego', 'imię jest', 'imię jezus', 'imię nasz', 'imię pana', 'imię twe', 'imię twoje', 'imię uwielbiam', 'in excelsis', 'innego imienia', 'innego pokochać', 'inny mógł', 'inny nie', 'innym imieniu', 'innym zbawienia', 'istniał chcę', 'istnieć będę', 'izaaka jakuba', 'izraela niech', 'izraela ref', 'izraela swoich', 'izraelem pomny', 'iść drogę', 'iść ref', 'iść zaufaj', 'ja chcę', 'ja dojdę', 'ja jestem', 'ja kocham', 'ja mógł', 'ja nie', 'ja nim', 'ja poślij', 'ja pragnącemu', 'ja przypomnę', 'ja ufam', 'ja wiem', 'ja wierzę', 'jak być', 'jak była', 'jak bóg', 'jak chleb', 'jak chlebem', 'jak chwast', 'jak ciepły', 'jak czyste', 'jak daleko', 'jak dawid', 'jak deszcz', 'jak do', 'jak dobrze', 'jak drzewo', 'jak długo', 'jak jego', 'jak kiedy', 'jak lampa', 'jak mam', 'jak miriam', 'jak miód', 'jak morze', 'jak my', 'jak nadzieję', 'jak nie', 'jak obiecał', 'jak ognisty', 'jak ojciec', 'jak on', 'jak ona', 'jak orła', 'jak ożywczy', 'jak pokonać', 'jak polny', 'jak potężna', 'jak pukasz', 'jak ranię', 'jak rzeka', 'jak rzekło', 'jak ręka', 'jak się', 'jak skrzydła', 'jak sokół', 'jak spragniona', 'jak spękana', 'jak szeol', 'jak słońca', 'jak ten', 'jak trawa', 'jak ty', 'jak uczyłeś', 'jak uwierzyć', 'jak wiatr', 'jak wielki', 'jak wiosna', 'jak woda', 'jak wody', 'jak wysoko', 'jak złoto', 'jak ślepy', 'jak śmierć', 'jak śpiewamy', 'jakby chciała', 'jakim jestem', 'jakiś znak', 'jako jedno', 'jakuba ref', 'jakże to', 'jam jest', 'jasno jest', 'jasną spokojną', 'jaśnieje niebie', 'jaśnieje noc', 'je niech', 'je przed', 'je ref', 'je tak', 'jeden chleb', 'jeden jest', 'jeden kościół', 'jeden krok', 'jeden pan', 'jeden wiesz', 'jeden zawsze', 'jednak ty', 'jednej kropli', 'jednej swej', 'jedno ciało', 'jedno nich', 'jedno tchnienie', 'jedno wino', 'jedno ziarenko', 'jednoczy nas', 'jednocząc cały', 'jednorodzonego dał', 'jednorodzony jezu', 'jedności prawdzie', 'jedność tobą', 'jedną nich', 'jedną rodziną', 'jedną stali', 'jedną tę', 'jedyna słowa', 'jedynego bo', 'jedynie jest', 'jedynie panem', 'jedynie ty', 'jedyny odkupiciel', 'jedyny ojca', 'jedyny pan', 'jedyny przyjdźcie', 'jedyny trójcy', 'jedynym panem', 'jedyną jest', 'jego blask', 'jego bogiem', 'jego bram', 'jego bramy', 'jego chwalcie', 'jego chwała', 'jego chwały', 'jego cześć', 'jego dobroci', 'jego dom', 'jego domu', 'jego dzieła', 'jego głos', 'jego imienia', 'jego imieniem', 'jego imię', 'jego jest', 'jego krew', 'jego ludem', 'jego ludzie', 'jego miecz', 'jego mieszkańcy', 'jego miłosierdzia', 'jego miłosierdzie', 'jego na', 'jego najświętsze', 'jego odjąć', 'jego potomstwu', 'jego prawica', 'jego prowadzisz', 'jego przedsionki', 'jego ramienia', 'jego ramię', 'jego ranach', 'jego ref', 'jego stóp', 'jego syn', 'jego synowi', 'jego słowo', 'jego słów', 'jego tron', 'jego tronu', 'jego ukryte', 'jego wciąż', 'jego wierność', 'jego wnętrza', 'jego własnością', 'jego zastępy', 'jego zbawia', 'jego łaska', 'jego łaskawość', 'jego śmierci', 'jego świętym', 'jego życie', 'jej dłoń', 'jej godzina', 'jej nieprzejednana', 'jej oblicze', 'jej opiekę', 'jej radością', 'jej ramionach', 'jej ref', 'jej rzeki', 'jej serce', 'jej to', 'jej światu', 'jemu cześć', 'jemu składam', 'jemu wierny', 'jeruzalem ref', 'jesieni po', 'jest alleluja', 'jest baranka', 'jest bogiem', 'jest brama', 'jest bramą', 'jest bóg', 'jest chwal', 'jest chwała', 'jest dla', 'jest dobroć', 'jest dobry', 'jest dzień', 'jest dziękować', 'jest fikcją', 'jest góry', 'jest imię', 'jest jak', 'jest jeden', 'jest jedno', 'jest jego', 'jest jej', 'jest już', 'jest królem', 'jest kto', 'jest któż', 'jest lwem', 'jest mało', 'jest mi', 'jest miłosierny', 'jest miłość', 'jest moim', 'jest moją', 'jest możliwe', 'jest mym', 'jest na', 'jest nad', 'jest nami', 'jest nasz', 'jest niczym', 'jest niebo', 'jest niech', 'jest nim', 'jest oczekuj', 'jest od', 'jest ojcem', 'jest on', 'jest pan', 'jest panem', 'jest panią', 'jest pasterzem', 'jest pełna', 'jest pieśnią', 'jest pomocą', 'jest potężny', 'jest prawdziwa', 'jest przeciwko', 'jest przemieniona', 'jest przy', 'jest przyjąć', 'jest ref', 'jest sensem', 'jest serc', 'jest silny', 'jest sz', 'jest szczęśliwy', 'jest tak', 'jest taki', 'jest tam', 'jest tu', 'jest twoja', 'jest twój', 'jest ty', 'jest tylko', 'jest tyś', 'jest wcale', 'jest we', 'jest wielka', 'jest wielki', 'jest wierność', 'jest wszechmogący', 'jest wzniosłe', 'jest x2', 'jest zakątek', 'jest zamiarem', 'jest zaufaj', 'jest zawsze', 'jest zbawieniem', 'jest ziemia', 'jest zmarłeś', 'jest śpiewaj', 'jest światło', 'jest światłością', 'jest świecisz', 'jest święte', 'jest święty', 'jest życia', 'jest życie', 'jestem chlebem', 'jestem mym', 'jestem przy', 'jestem tu', 'jestem twój', 'jesteś blisko', 'jesteś bogiem', 'jesteś bóg', 'jesteś chlebem', 'jesteś dobry', 'jesteś droga', 'jesteś dzień', 'jesteś jak', 'jesteś królem', 'jesteś moim', 'jesteś mym', 'jesteś nami', 'jesteś niebo', 'jesteś niewidoczny', 'jesteś panie', 'jesteś pokojem', 'jesteś przewodnikiem', 'jesteś skałą', 'jesteś stoisz', 'jesteś tak', 'jesteś tu', 'jesteś ty', 'jesteś wkoło', 'jesteś ze', 'jesteś zstępuje', 'jesteś zwan', 'jesteś źródłem', 'jesteś życiem', 'jesteśmy braćmi', 'jesteśmy jedną', 'jesteśmy jego', 'jesteśmy ludem', 'jesteśmy twymi', 'jesteśmy zbawieni', 'jeszcze że', 'jezu baranku', 'jezu chcę', 'jezu chryste', 'jezu dziś', 'jezu ja', 'jezu jakże', 'jezu jesteś', 'jezu mój', 'jezu pragnę', 'jezu prowadź', 'jezu przyjdź', 'jezu twych', 'jezu ty', 'jezu tyś', 'jezu wybaw', 'jezu zbawco', 'jezu zmartwychwstały', 'jezus chrystus', 'jezus cierpiał', 'jezus daje', 'jezus drogą', 'jezus jest', 'jezus jezus', 'jezus mój', 'jezus mówi', 'jezus najwyższe', 'jezus on', 'jezus panem', 'jezus pieśnią', 'jezus powiedział', 'jezus prawdą', 'jezus ref', 'jezus siłą', 'jezus to', 'jezus tylko', 'jezus we', 'jezus wierzę', 'jezus wtedy', 'jezus zwyciężył', 'jezus śpiewajmy', 'jezus święte', 'jezus święty', 'jezus życiem', 'jezus żyje', 'jezus żyłby', 'jezusa jezusa', 'jezusa nazaretu', 'jezusa on', 'jezusa przecież', 'jezusa wieczny', 'jezusa zajaśniał', 'jezusowi który', 'jeśli chcesz', 'jeśli kto', 'jeśli nasz', 'jeśli spełnimy', 'jeśli zeszli', 'jeśli zgubisz', 'już całe', 'już dotykasz', 'już dość', 'już dziś', 'już gości', 'już głos', 'już jesteś', 'już jezu', 'już kończy', 'już moich', 'już mówić', 'już na', 'już nachylił', 'już nic', 'już nie', 'już objawił', 'już pragnął', 'już teraz', 'już większy', 'już wśród', 'już za', 'już żyć', 'ją na', 'ją schować', 'ją wnieść', 'język nasz', 'kajdan samych', 'kamienie potknę', 'kamieniem węgielnym', 'karmi nas', 'karmisz moją', 'karmić się', 'kazała krzyż', 'każda moja', 'każda myśl', 'każde serce', 'każde słowo', 'każdego nas', 'każdej ciemności', 'każdy chce', 'każdy czas', 'każdy dzień', 'każdy krok', 'każdy kto', 'każdy mrok', 'każdy mógł', 'każdy naród', 'każdy nas', 'każdy ruch', 'każdy sen', 'każdy skrawek', 'każdy spragniony', 'każdy usłyszał', 'każdy zamiar', 'każdym drżeniem', 'każdym nas', 'każdą myśl', 'każdą myślą', 'każdą nich', 'każdą potrzebę', 'kiedy braknie', 'kiedy fale', 'kiedy gniew', 'kiedy jasną', 'kiedy już', 'kiedy końcu', 'kiedy masz', 'kiedy mi', 'kiedy mocniej', 'kiedy nasz', 'kiedy nie', 'kiedy pokus', 'kiedy przed', 'kiedy płyną', 'kiedy rani', 'kiedy rozpacz', 'kiedy ruszysz', 'kiedy siebie', 'kiedy silnej', 'kiedy spokój', 'kiedy strachu', 'kiedy wiem', 'kiedy wszystko', 'kiedy świat', 'kiedy życiu', 'kiedyś pan', 'kiedyś wino', 'kielich łączy', 'kij twój', 'kilka chwil', 'klaskajcie dłonie', 'klaskać dłonie', 'klaskać ze', 'klaszczcie dłonie', 'klaszczą dłonie', 'klęczę przed', 'klękamy przed', 'klęknijcie wszyscy', 'knowań każdym', 'kocha mnie', 'kocha nas', 'kocham ciebie', 'kocham cię', 'kocham ich', 'kocham kroki', 'kocham więc', 'kochać cię', 'kochać powiedz', 'kochać się', 'kolana przed', 'kolory porannych', 'kolorów jesieni', 'komunią dla', 'korcem skoro', 'korona nad', 'korzenie przenika', 'kosztownym nasieniem', 'kołaczesz długo', 'kołaczę jeśli', 'kołaczę oto', 'końca nas', 'końca tu', 'końcem on', 'końcu drogi', 'końcu ty', 'kończy ranek', 'kościele na', 'kościele pasterzu', 'kościoła bo', 'kościoła do', 'kościoła módl', 'kościół dziecko', 'kościół jak', 'kościół zbierz', 'krańcach ziemi', 'krańce ziemi', 'krew czyni', 'krew do', 'krew grzechu', 'krew jego', 'krew moją', 'krew możesz', 'krew to', 'krew wzywasz', 'kroczyć chcę', 'krok nie', 'krok stawiam', 'kroki twe', 'kropel wiele', 'kropli krwi', 'krwawej męce', 'krwi we', 'krwią chrystusa', 'krwią spraw', 'kryć mogę', 'krzew niech', 'krzewie winnym', 'krzycz na', 'krzyż który', 'krzyż na', 'krzyż ref', 'krzyż to', 'krzyża do', 'krzyża dodaj', 'krzyża siedem', 'krzyża stojąca', 'krzyżem stała', 'krzyżu oddał', 'krzyżu zmarłeś', 'król nami', 'król odziany', 'król panów', 'król ref', 'król wywyższony', 'król zstępuje', 'króla chcę', 'króla chwał', 'króla się', 'króla świata', 'królem był', 'królem całej', 'królem jest', 'królem jesteś', 'królem królem', 'królem mym', 'królem nad', 'królem tyś', 'królem wiecznym', 'królestwa niech', 'królestwo jest', 'królowi będę', 'królowi klaszczcie', 'królowo narodu', 'królowo ognisk', 'królową tyś', 'królu nieba', 'królu niebie', 'królu wejdź', 'króluje jej', 'króluje nad', 'króluje wesel', 'królów król', 'krąg abyśmy', 'krąg jego', 'krąg niebieską', 'krąg ziemi', 'kręte strumyki', 'krętą drogą', 'książe pokoju', 'książętom pan', 'księgę swą', 'księgę życia', 'księżyc wśród', 'księżycu wielbijcie', 'kto ciebie', 'kto cię', 'kto ma', 'kto maluje', 'kto mu', 'kto niego', 'kto posłyszy', 'kto spożywa', 'kto spragniony', 'kto ten', 'kto twój', 'kto uwalnia', 'kto wierzy', 'ktoś życie', 'która by', 'która nas', 'która pod', 'która się', 'która szuka', 'która trwa', 'która trzyma', 'która uczyć', 'która ukojenie', 'która wszystko', 'które by', 'które czekają', 'które duch', 'które giną', 'które zostaną', 'którego miłuje', 'któremu pan', 'który dał', 'który gładzisz', 'który jest', 'który jezus', 'który mnie', 'który nas', 'który pierwszy', 'który przez', 'który pychą', 'który rozpostarł', 'który siedzisz', 'który stworzył', 'który swą', 'który wszystko', 'który za', 'który zmartwychwstał', 'który zstąpił', 'których będziesz', 'których głód', 'którym roztapiasz', 'którym wszystko', 'którzy nie', 'którzy się', 'którzy tu', 'którą do', 'którą mam', 'którą mi', 'któż by', 'któż jest', 'ku niebu', 'ku tobie', 'ku wieczorowi', 'ku źródłom', 'kusi nas', 'kwiat kiedy', 'kwiaty zioła', 'kwileniem co', 'kwitnie nas', 'kwitnie on', 'kwitną twe', 'kwitły gdyby', 'laj laj', 'lampa mych', 'lampy żeby', 'laska twoja', 'lat nic', 'laudato si', 'lecz będę', 'lecz tobie', 'leczy ref', 'leczy wszystkie', 'lepiej się', 'lepszym był', 'leżeć na', 'lgnę do', 'lituje się', 'liście me', 'los zły', 'lub nie', 'ludem dziećmi', 'ludem jesteśmy', 'ludem króla', 'ludem pan', 'ludowi prochu', 'ludu biednego', 'ludu bożego', 'ludu utrudzony', 'ludy jego', 'ludy rzuca', 'ludzi bezdomnych', 'ludzi cierpiących', 'ludzi gdy', 'ludzi których', 'ludzi którzy', 'ludzi na', 'ludzi pokój', 'ludzi przebiega', 'ludzi ref', 'ludzi wyzwoli', 'ludzi zniszczmy', 'ludzie błogosławcie', 'ludzie historię', 'ludzie klaszczą', 'ludzie mogli', 'ludzie niech', 'ludzie przeżyją', 'ludzie przyniosą', 'ludzie ze', 'ludziom bogu', 'ludziom bóg', 'ludziom innego', 'ludziom nieśmy', 'ludziom że', 'ludzkich serc', 'ludzką rękę', 'ludźmi dzielić', 'lutni dźwięcznej', 'lwem barankiem', 'lwem ref', 'lęk przyjdź', 'lękaj się', 'lękam się', 'lękiem wypełnij', 'lśni chwała', 'lśnić jak', 'lśnić ref', 'ma ani', 'ma będzie', 'ma cię', 'ma gdzie', 'ma innym', 'ma izrael', 'ma moc', 'ma nadzieję', 'ma nie', 'ma od', 'ma opieką', 'ma pana', 'ma przebaczenia', 'ma pójść', 'ma rzeczy', 'ma sens', 'ma się', 'ma siła', 'ma smutny', 'ma tobie', 'ma tylko', 'ma uwielbiam', 'ma wielbi', 'ma większej', 'ma za', 'ma zbawienia', 'ma zbyt', 'madonno czarna', 'madonno jak', 'madonno ramiona', 'madonno skieruj', 'majestat swój', 'majestat twój', 'maluje kolory', 'mam co', 'mam duchu', 'mam już', 'mam kochać', 'mam oddaję', 'mam tobie', 'mam uleciał', 'mam walczyć', 'mamy się', 'manną wędrowców', 'maria gratia', 'marności któż', 'martw się', 'maryja ave', 'maryja boga', 'maryjo miej', 'maryjo śliczna', 'masz chwile', 'masz dla', 'masz kto', 'masz moc', 'masz otwarte', 'masz panie', 'masz przebaczenia', 'masz przez', 'matce gdy', 'matce kiedy', 'matce która', 'matczyną jej', 'matka która', 'matka ziemia', 'matka zobaczyć', 'matki która', 'matko boga', 'matko chrystusa', 'matko dzieci', 'matko kościoła', 'matko która', 'matko ludzi', 'matko moja', 'matko przez', 'matko prześladowanych', 'matko sercem', 'matko tkliwego', 'matko żyjących', 'mało czasu', 'mało dni', 'me bo', 'me cały', 'me chcę', 'me gdy', 'me najtajniejszych', 'me nie', 'me niemoce', 'me obmyj', 'me oczy', 'me oddaję', 'me pragnę', 'me serce', 'me skruszone', 'mego dam', 'mego końca', 'mego króla', 'mego ref', 'mego serca', 'mego tobie', 'mego życia', 'mej duszy', 'mej nikt', 'mej ref', 'mej twe', 'mej wędrówki', 'memu bogu', 'mesjasz prawdziwy', 'mgłą zasnuje', 'mi bliski', 'mi dajesz', 'mi dobrze', 'mi dziś', 'mi gdzie', 'mi jedną', 'mi jesteś', 'mi kiedy', 'mi leżeć', 'mi miejscu', 'mi moc', 'mi nie', 'mi nigdy', 'mi nowe', 'mi panie', 'mi podał', 'mi ref', 'mi siebie', 'mi signore', 'mi stać', 'mi swego', 'mi tego', 'mi twe', 'mi ust', 'mi usłyszeć', 'mi wszechmocny', 'mi wzrok', 'mi śmierć', 'mi źle', 'miarę siebie', 'miasta wznieś', 'miał ref', 'miecz moc', 'miej opiece', 'miej sobie', 'miejsce to', 'miejscu stać', 'mieszka bóg', 'mieszkanie choć', 'mieszkanie mądrości', 'mieszkasz na', 'mieszkał razem', 'mieszkańcu miasta', 'mieszkańcy rzeki', 'mieć kiedy', 'mija czas', 'mijają godziny', 'milczeniem ukryj', 'mimo drzwi', 'miniemy zło', 'miriam aby', 'miriam grała', 'miriam tyś', 'mistrzu na', 'miód na', 'miłe wielkie', 'miłosierdzia ref', 'miłosierdzie boże', 'miłosierdzie jak', 'miłosierdzie nocy', 'miłosierdzie obietnicy', 'miłosierdzie on', 'miłosierdzie pokolenia', 'miłosierdzie prosimy', 'miłosierdziu bóg', 'miłosierdziu niech', 'miłosierny jezu', 'miłosierny pan', 'miłosierny wobec', 'miłowanie dało', 'miłować uczysz', 'miłości blask', 'miłości bożej', 'miłości do', 'miłości która', 'miłości którym', 'miłości mocy', 'miłości mądrości', 'miłości nie', 'miłości niż', 'miłości pełnię', 'miłości przebaczenia', 'miłości twej', 'miłości twojej', 'miłości ty', 'miłości wierny', 'miłości wylewaj', 'miłości śpiewaj', 'miłości żyć', 'miłości żył', 'miłością darzy', 'miłością duchu', 'miłością ku', 'miłością mą', 'miłością naszych', 'miłość ci', 'miłość dzięki', 'miłość gniew', 'miłość jak', 'miłość jest', 'miłość mnie', 'miłość moc', 'miłość moja', 'miłość mą', 'miłość nam', 'miłość ognia', 'miłość panie', 'miłość pragnie', 'miłość przenikaj', 'miłość przychodzi', 'miłość sprawia', 'miłość swą', 'miłość ta', 'miłość twa', 'miłość twą', 'miłość wdzięczność', 'miłość wierna', 'miłość wskażą', 'miłość wylewa', 'miłość wznieć', 'miłość zagości', 'miłość zazdrość', 'miłość łączy', 'miłość świętą', 'miłuje dusza', 'miłuje jest', 'mnie alleluja', 'mnie boś', 'mnie będą', 'mnie chcę', 'mnie czuj', 'mnie daj', 'mnie do', 'mnie dotknij', 'mnie duchu', 'mnie gałązka', 'mnie gdy', 'mnie gdybym', 'mnie ja', 'mnie jakim', 'mnie jasno', 'mnie jego', 'mnie jest', 'mnie jezu', 'mnie jezus', 'mnie już', 'mnie która', 'mnie kwitną', 'mnie miłość', 'mnie mocy', 'mnie mój', 'mnie na', 'mnie nad', 'mnie nadzieję', 'mnie naucz', 'mnie nie', 'mnie niech', 'mnie nieś', 'mnie nowe', 'mnie obmył', 'mnie odtąd', 'mnie on', 'mnie otwórz', 'mnie pan', 'mnie panie', 'mnie pełen', 'mnie pije', 'mnie pocieszają', 'mnie pod', 'mnie pomódl', 'mnie popchnięto', 'mnie poprowadź', 'mnie pozwól', 'mnie połam', 'mnie prowadzi', 'mnie prowadź', 'mnie ref', 'mnie rozraduj', 'mnie siebie', 'mnie silnej', 'mnie skrusz', 'mnie spotkał', 'mnie strzeże', 'mnie swojej', 'mnie swym', 'mnie tam', 'mnie ten', 'mnie tobą', 'mnie twe', 'mnie tęsknie', 'mnie umacnia', 'mnie umilkną', 'mnie umrzeć', 'mnie uwielbienia', 'mnie uwierz', 'mnie uwiodła', 'mnie uświęć', 'mnie wciąż', 'mnie weź', 'mnie wielkie', 'mnie wodzie', 'mnie wołam', 'mnie wróć', 'mnie wypal', 'mnie zbawić', 'mnie zniżasz', 'mnie złam', 'mnie łaską', 'mnie ścieżkami', 'mnie życie', 'mnie żył', 'mną bóg', 'mną laska', 'mną się', 'mną to', 'mną tyś', 'mną wiem', 'moc błogosławieństwo', 'moc chwałę', 'moc czasie', 'moc cześć', 'moc dziś', 'moc gdy', 'moc jego', 'moc krzyż', 'moc na', 'moc nas', 'moc objawia', 'moc odziani', 'moc on', 'moc orzeźwienie', 'moc pieśń', 'moc prawicy', 'moc przyjąć', 'moc swego', 'moc tchnij', 'moc twoja', 'moc tyś', 'mocniej wiatr', 'mocno trwaj', 'mocy ducha', 'mocy jego', 'mocy miłości', 'mocy pośród', 'mocy swej', 'mocy twej', 'mocy więcej', 'mocą krzyża', 'mocą moją', 'mocą na', 'mocą nas', 'mocą ożyw', 'mocą swą', 'mocą wywyższaj', 'modlących ciebie', 'modlę się', 'mogli zwać', 'mogą niechaj', 'mogą ustąpić', 'mogę bez', 'mogę już', 'mogę odpocząć', 'mogę sobą', 'mogę tym', 'moich dróg', 'moich oczu', 'moich potrzebach', 'moich warg', 'moim bo', 'moim bogiem', 'moim cieniem', 'moim cudem', 'moim jest', 'moim niczego', 'moim niebem', 'moim nogom', 'moim panem', 'moim pasterzem', 'moim sercu', 'moim życiem', 'moja miłość', 'moja moc', 'moja nigdy', 'moja pana', 'moja pełna', 'moja słabość', 'moja tęskni', 'moja tęsknota', 'moja wskaż', 'moja wznieś', 'moje ciało', 'moje ciemności', 'moje rany', 'moje serce', 'moje uciszeniem', 'moje wzwyż', 'moje zstąp', 'mojej rozpal', 'moją ciemność', 'moją drogą', 'moją duszę', 'moją jest', 'moją pije', 'moją prawdą', 'moją rozkoszą', 'moją siłą', 'moją słabą', 'moją śmierć', 'morskie głębiny', 'morza falami', 'morza przemierzasz', 'morze gwiazd', 'morze wszystko', 'mową wzbogacasz', 'może czuję', 'może nim', 'może równać', 'może zburzyć', 'może zrobić', 'możemy mu', 'możemy stać', 'możemy tu', 'możesz pomóc', 'możesz wierzyć', 'możesz wypełnić', 'możliwe jest', 'możliwe że', 'możliwych pokaż', 'możni świata', 'mrok bądź', 'mrok rozjaśnia', 'mruczeniem ptaszęta', 'mu bo', 'mu chcę', 'mu dać', 'mu on', 'mu ref', 'mu ręku', 'mu swą', 'mu służy', 'mu ubliża', 'mu ufam', 'mu wysławiaj', 'mu zgotowała', 'mu złożą', 'mu śpiewajcie', 'mur żadna', 'musimy świadczyć', 'musisz mówić', 'muszą ustąpić', 'muszę się', 'my bez', 'my chcemy', 'my mamy', 'my ona', 'my łaską', 'mych drogach', 'mych natchnień', 'mych otarł', 'mych panie', 'mych sercu', 'mych stóp', 'mych twój', 'mym grzechem', 'mym jak', 'mym lękiem', 'mym mocy', 'mym natchnieniem', 'mym nie', 'mym oczekiwaniem', 'mym oczom', 'mym pokojem', 'mym powszednim', 'mym ratunkiem', 'mym ref', 'mym sercu', 'mym więc', 'mym wspomożycielem', 'mym x2', 'myśl każde', 'myśl matko', 'myśl serca', 'myśli abyś', 'myślą swą', 'myślę czy', 'módl razem', 'módl się', 'mógł być', 'mógł jak', 'mógł mówić', 'mógł stać', 'mógł widzieć', 'mógł zaprowadzić', 'mógł żyć', 'mój blisko', 'mój bogu', 'mój brat', 'mój bóg', 'mój całe', 'mój dom', 'mój grzech', 'mój głos', 'mój głód', 'mój jezu', 'mój jezus', 'mój król', 'mój mistrzu', 'mój nie', 'mój ogrom', 'mój pan', 'mój panie', 'mój poprowadź', 'mój przychodzę', 'mój ref', 'mój strach', 'mój tyś', 'mój za', 'mój zajaśnieje', 'mój zapłacić', 'mój zbawca', 'mój zbawco', 'mój zbawiciel', 'mój śmiech', 'mórz aż', 'mórz chcą', 'mórz potęgą', 'mów do', 'mówi ci', 'mówi pan', 'mówią chwale', 'mówić chcę', 'mówić moich', 'mówić nic', 'mówić ty', 'mówił coś', 'mą choćby', 'mą drogę', 'mą jedyną', 'mą jezus', 'mą nadzieją', 'mą pokrzepia', 'mą potrzebach', 'mą ref', 'mą więc', 'mą wyznaje', 'mądrości módl', 'mądrości rozumu', 'mądrości swej', 'mądrości święty', 'mądrość moc', 'męce ref', 'męki ty', 'mężne walce', 'młodość jak', 'na bębnie', 'na cichy', 'na cud', 'na cytrze', 'na cześć', 'na dobroć', 'na drodze', 'na drogach', 'na drugi', 'na dzieci', 'na dzieło', 'na dźwięk', 'na ewangelię', 'na grzeszny', 'na głębię', 'na jakiś', 'na jeden', 'na jego', 'na kolana', 'na końcu', 'na krzyżu', 'na które', 'na miarę', 'na nas', 'na niebie', 'na niebo', 'na nim', 'na nowo', 'na oczach', 'na pewno', 'na plecy', 'na początku', 'na pokolenia', 'na pustkowiu', 'na pustynię', 'na ramiona', 'na ramionach', 'na ruchliwe', 'na spragnione', 'na spragniony', 'na swe', 'na swych', 'na swój', 'na swą', 'na syjonie', 'na szlaku', 'na tej', 'na ten', 'na to', 'na tronie', 'na twym', 'na twój', 'na twą', 'na uniżenie', 'na ustach', 'na wieczny', 'na wieki', 'na wieku', 'na wierność', 'na wszechświat', 'na wybawienie', 'na wysokościach', 'na wyspach', 'na wzgórzu', 'na zawsze', 'na zielonych', 'na ziemi', 'na ziemię', 'na świat', 'nad anioły', 'nad brzegiem', 'nad całą', 'nad nami', 'nad pokornym', 'nad płynąca', 'nad swoimi', 'nad swym', 'nad sługą', 'nad tymi', 'nad wody', 'nad wszelką', 'nad ziemią', 'nade mną', 'nadejdzie czas', 'nadejdzie dzień', 'nadejdzie zmrok', 'nadszedł czas', 'nadziei bóg', 'nadziei dniem', 'nadziei do', 'nadziei mieszkanie', 'nadziei na', 'nadziei swoim', 'nadzieja gdzie', 'nadzieja kwitnie', 'nadzieja zagości', 'nadziejo do', 'nadzieją mym', 'nadzieją serc', 'nadzieją świeć', 'nadzieję dajesz', 'nadzieję mam', 'nadzieję panu', 'nadzieję sercu', 'najbliżej jest', 'najburzliwszą noc', 'najcichszy otul', 'najcięższych burz', 'najlepiej wie', 'najlepsza pokój', 'najpiękniejszą dróg', 'najpiękniejszą pieśń', 'najprostsze możliwych', 'najtajniejszych grzechów', 'największa nawet', 'największy dzieje', 'największy on', 'najwyższe imię', 'najwyższego boga', 'najwyższy jest', 'najwyższy jezu', 'najwyższy składam', 'najwyższy straszliwy', 'najwyższych gór', 'najświętsze imię', 'należą jest', 'nam chwalimy', 'nam chwalić', 'nam ciebie', 'nam daj', 'nam dajesz', 'nam dana', 'nam do', 'nam ducha', 'nam jemu', 'nam ludziom', 'nam miłość', 'nam mową', 'nam nadzieją', 'nam narody', 'nam pan', 'nam pod', 'nam przebaczasz', 'nam przez', 'nam przykazałeś', 'nam przyniosła', 'nam przywracasz', 'nam ref', 'nam samym', 'nam siebie', 'nam wiarę', 'nam wybłagaj', 'nam wyznaczył', 'nam x2', 'nam zbawienie', 'nam zesłał', 'nam zgotuje', 'nam znaku', 'nam śpiewać', 'nam światłem', 'namaszczeniem naszych', 'namaszczony pan', 'nami albowiem', 'nami bogarodzico', 'nami bóg', 'nami chwały', 'nami dzięki', 'nami dziś', 'nami gwiazdo', 'nami idąca', 'nami idź', 'nami jest', 'nami każdy', 'nami który', 'nami któż', 'nami matko', 'nami odkupiciel', 'nami panią', 'nami potężna', 'nami pozostałeś', 'nami poślij', 'nami sławi', 'nami trwać', 'nami twarzą', 'nami ty', 'napełnia twoje', 'napełnij miłością', 'napełnij mnie', 'napełnij serce', 'napisz tekst', 'naprawdę dzieje', 'narodem wielbijmy', 'narodem wybranym', 'narodu naszego', 'narody jest', 'narody klaskajcie', 'narody wysławiajcie', 'narody śpiewajcie', 'narodów jedyny', 'narodów ras', 'naród wyzna', 'nas bardzo', 'nas bielszym', 'nas byśmy', 'nas bądź', 'nas chryste', 'nas daj', 'nas do', 'nas ducha', 'nas duchu', 'nas działa', 'nas dziedzictwo', 'nas dziś', 'nas gdy', 'nas ich', 'nas jego', 'nas jesteśmy', 'nas już', 'nas ku', 'nas ma', 'nas masz', 'nas matka', 'nas miłować', 'nas miłość', 'nas nadejdzie', 'nas nasze', 'nas nazwałeś', 'nas nie', 'nas niech', 'nas niepokój', 'nas obecności', 'nas ofiarna', 'nas panie', 'nas pokorą', 'nas pomimo', 'nas prawda', 'nas prowadź', 'nas przebitego', 'nas przed', 'nas przenikasz', 'nas przyszedł', 'nas ref', 'nas spotkało', 'nas swoim', 'nas sądził', 'nas słuchasz', 'nas ta', 'nas tak', 'nas tchnieniem', 'nas teraz', 'nas to', 'nas tylko', 'nas umie', 'nas umiłował', 'nas umiłowałeś', 'nas uniżył', 'nas utul', 'nas wiedziesz', 'nas wołać', 'nas wrócimy', 'nas wszystkich', 'nas wszystkie', 'nas zamieszkuje', 'nas zawsze', 'nas zbawić', 'nas znasz', 'nas zrodził', 'nas zstąp', 'nas śmierci', 'nas śpiewajcie', 'nas światłem', 'nas życie', 'nas żywi', 'nasieniem zobaczysz', 'nastaje już', 'nasycił dobrami', 'nasz boże', 'nasz bóg', 'nasz król', 'nasz królu', 'nasz obmyj', 'nasz odwieczny', 'nasz pan', 'nasz przed', 'nasz ref', 'nasz rodzinę', 'nasz zbawiciel', 'nasz zgodził', 'nasz światłem', 'nasza matka', 'nasza stanie', 'nasza wieniec', 'nasze dłonie', 'nasze grzechy', 'nasze który', 'nasze serca', 'nasze winy', 'nasze życie', 'naszego przyjdź', 'naszego wołaj', 'naszego życia', 'naszej hańbie', 'naszych ciał', 'naszych drzwi', 'naszych dusz', 'naszych gotowości', 'naszych serc', 'naszych sercach', 'naszym ojcom', 'naszym panem', 'naszym życiem', 'naszymi wdzięcznym', 'naszą codzienność', 'naszą myśl', 'natchnieniem do', 'natchnień sił', 'natchnął trzeba', 'naucz sobie', 'nauczył nas', 'nawet szedł', 'nawet tama', 'nawiedź dusz', 'nawróć nas', 'nazaretu że', 'nazwałeś swymi', 'nic innego', 'nic już', 'nic mnie', 'nic nas', 'nic nie', 'nic odpocznij', 'nic zaufaj', 'nic złego', 'nich kiedy', 'nich ref', 'nich wciąż', 'nich znasz', 'nich życie', 'niczego mi', 'niczym nie', 'niczym odprawił', 'nie bać', 'nie braknie', 'nie bój', 'nie bójcie', 'nie będzie', 'nie będę', 'nie błąkał', 'nie chce', 'nie chcę', 'nie cierpienie', 'nie dano', 'nie do', 'nie dorówna', 'nie dzięki', 'nie gardzi', 'nie jest', 'nie kwitły', 'nie lecz', 'nie lękaj', 'nie lękam', 'nie ma', 'nie martw', 'nie mogą', 'nie mogę', 'nie może', 'nie musisz', 'nie muszę', 'nie nie', 'nie odbierze', 'nie odchodź', 'nie odpłaca', 'nie odpłacę', 'nie odstąpi', 'nie odwraca', 'nie pamiętaj', 'nie poddawaj', 'nie pozwól', 'nie przemawia', 'nie płonęła', 'nie równa', 'nie spojrzę', 'nie spotka', 'nie sądź', 'nie to', 'nie trzeba', 'nie ulęknę', 'nie umrze', 'nie umrę', 'nie upadł', 'nie ustali', 'nie widział', 'nie wiem', 'nie wierzą', 'nie wierzę', 'nie zabraknie', 'nie zamknie', 'nie zapala', 'nie zapominaj', 'nie zapomnę', 'nie zatopią', 'nie zatrwoży', 'nie zatrzyma', 'nie zaćmi', 'nie zbłądzić', 'nie zdołają', 'nie zgasi', 'nie zginął', 'nie zgubię', 'nie zwiędną', 'nie złamał', 'nieba biegł', 'nieba bo', 'nieba boże', 'nieba drodze', 'nieba jezu', 'nieba jeśli', 'nieba królem', 'nieba moim', 'nieba na', 'nieba nieba', 'nieba ref', 'nieba rządzi', 'nieba sięga', 'nieba twoja', 'nieba warto', 'nieba ziemi', 'nieba zstąpiłeś', 'niebem jest', 'niebie chrystusie', 'niebie dał', 'niebie każdą', 'niebie księżyc', 'niebie pośród', 'niebie tobie', 'niebie tron', 'niebie twój', 'niebie ty', 'niebie za', 'niebieskie wielbijcie', 'niebieską łaskę', 'niebios chwalcie', 'niebios wielbijcie', 'niebiosa niebios', 'niebiosa utwierdził', 'niebiosach na', 'niebo bliżej', 'niebo jego', 'niebo jest', 'niebo pełne', 'niebo staje', 'niebo ziemia', 'niebo ziemię', 'niebu wspólną', 'niech bogu', 'niech ból', 'niech całe', 'niech cały', 'niech ciemność', 'niech cię', 'niech drodze', 'niech go', 'niech głoszą', 'niech głębia', 'niech hołd', 'niech każdy', 'niech klaszczą', 'niech liście', 'niech miłość', 'niech mój', 'niech mówią', 'niech nadzieja', 'niech nami', 'niech niebo', 'niech oblicze', 'niech oddadzą', 'niech popłynie', 'niech przenika', 'niech przyjdzie', 'niech razem', 'niech się', 'niech spełni', 'niech spocznie', 'niech spłynie', 'niech szumi', 'niech słowa', 'niech twa', 'niech twój', 'niech we', 'niech wiara', 'niech wszyscy', 'niech wyznajemy', 'niech zabrzmi', 'niech zawsze', 'niech ziemia', 'niech łzy', 'niech święty', 'niechaj cię', 'niechaj miłość', 'niechaj na', 'niechaj ujrzy', 'niechaj zjednoczenia', 'niechaj zstąpi', 'niego będę', 'niego dziś', 'niego należą', 'niego wierzy', 'niego zaniosłeś', 'niemoce ból', 'niepojęta łaska', 'niepojętej on', 'niepojęty mocy', 'niepojęty niezmierzony', 'niepojęty swej', 'niepokój gdzie', 'niepokój zwyciężyć', 'nieprzejednana jak', 'nieprzyjaciela odpędź', 'nieskończenie dobry', 'nieskończonej łaski', 'nieskończony zachwycie', 'niespokojnie czeka', 'niespokojny twój', 'niestworzona kto', 'niewiast wybrana', 'niewidoczny ty', 'niewiele możemy', 'niewinnie cierpiąc', 'niezmiernej swej', 'niezmiernie wciąż', 'niezmierzony gwiazdy', 'niezwyciężony niepojęty', 'nieś niech', 'nieśmy go', 'nieść tam', 'nigdy chleba', 'nigdy nie', 'nigdy oczyść', 'nigdy wody', 'nikt inny', 'nikt nie', 'nim będzie', 'nim cięte', 'nim co', 'nim jako', 'nim ludu', 'nim ludźmi', 'nim nadzieję', 'nim ogłaszaj', 'nim on', 'nim panie', 'nim równać', 'nim samym', 'nim serca', 'nim twym', 'nim wieczerzał', 'nim wywyższać', 'nim zbawienie', 'nim znalazłem', 'nim ślad', 'nim światłości', 'nim żyje', 'niszcząc zło', 'niwach pasie', 'nią wejdź', 'niźli życie', 'niż ocean', 'niż ta', 'niż zaufać', 'noc gdy', 'noc jest', 'noc nie', 'noc spoglądam', 'noc tylko', 'noc tyś', 'nocy brzegiem', 'nocy błogosławcie', 'nocy gwiazdy', 'nocy jak', 'nocy ty', 'nocy wierność', 'nocy łzy', 'nogom to', 'nowe dni', 'nowe oczy', 'nowe pragnienie', 'nowe staje', 'nowe życie', 'nowi ludzie', 'nowo przygarnij', 'nowy człowiek', 'nowy dzień', 'nowy świat', 'nowych szat', 'nowym jeruzalem', 'nową albowiem', 'nową ogłoś', 'nową pieśń', 'nucąc pieśń', 'nów wszystko', 'obdarz wraz', 'obdarzeni tonie', 'obecności twojej', 'obecność twoja', 'obfity na', 'obiecany nam', 'obiecał naszym', 'obiecał to', 'obietnicy swej', 'objaw mi', 'objawi się', 'objawia gdy', 'objawia majestat', 'objawiać jego', 'objawił bóg', 'objawił swą', 'objąć świat', 'obleczona słońce', 'oblicze na', 'oblicze twe', 'obliczem pana', 'oblubienico cieśli', 'obmyj gorycz', 'obmyj mnie', 'obmyj swoją', 'obmyje swe', 'obmył win', 'obraz miłość', 'obrońco źródło', 'ocal nas', 'ocean bez', 'oceanie czuję', 'oceany grzmią', 'oczach pana', 'oczach pogan', 'oczach wciąż', 'oczekiwaniem ref', 'oczekiwaniem uspokajasz', 'oczekuj go', 'oczekuję ciebie', 'oczekuję jak', 'oczom jesteś', 'oczu abym', 'oczu mych', 'oczy mego', 'oczy mgłą', 'oczy panie', 'oczy serce', 'oczy ześlij', 'oczyszcza leczy', 'oczyszczenie jego', 'oczyść je', 'oczyść mnie', 'oczyść serce', 'od ciebie', 'od kolorów', 'od najwyższych', 'od nas', 'od pokolenia', 'od swego', 'od wieków', 'od zachodu', 'od zguby', 'od zła', 'od śniegu', 'odbierze mi', 'oddadzą wielbijcie', 'oddaj bogu', 'oddaje bym', 'oddajmy cześć', 'oddajmy jemu', 'oddajmy mu', 'oddając ci', 'oddaję ci', 'oddaję moje', 'oddaję mu', 'oddaję tobie', 'oddala od', 'oddalasz panie', 'oddam tobie', 'oddany gotów', 'oddany panie', 'oddasz swe', 'oddawać chwałę', 'oddał się', 'oddał znaku', 'oddałem to', 'oddałeś życie', 'oddychać mi', 'odjąć władzę', 'odkupiciel słowo', 'odkupiciel tyś', 'odkupienia zmartwychwstał', 'odkąd słońce', 'odmywa nas', 'odnajduję wszystką', 'odnowi się', 'odnowi ziemię', 'odnowy ludzkich', 'odnów mnie', 'odpocznij we', 'odpocznę dziś', 'odpocząć niczego', 'odpocząłbym przyspiesz', 'odprawił ujął', 'odpuszcza wszystkie', 'odpędź dal', 'odpłaca według', 'odpłacę się', 'odrzucimy chwasty', 'odrzucony pan', 'odrzućmy zwątpienie', 'odstąpi od', 'odtrącić na', 'odtąd błogosławić', 'odtąd wszyscy', 'odważnie służbie', 'odwieczny ojciec', 'odwiecznym synem', 'odwraca się', 'odziani tak', 'odziany majestat', 'ofiarna jak', 'ofiarować chce', 'ofiarował nam', 'ofiaruj się', 'ofiaruję tobie', 'ogarnia każdego', 'ogarnia lęk', 'ogarnia mnie', 'ogarniasz mnie', 'ogarnij mnie', 'ogarnij nas', 'ogień gorący', 'ogień jedność', 'ognia płomień', 'ognia żar', 'ogniem moich', 'ognisk rodzinnych', 'ognisty krzew', 'ogniu zstąp', 'ogrody już', 'ogrom win', 'ogłaszaj wszędzie', 'ogłaszając ref', 'ogłaszać chcę', 'ogłoś chwałę', 'ojca amen', 'ojca który', 'ojca masz', 'ojca podnieś', 'ojca syn', 'ojca zanurz', 'ojca zmiłuj', 'ojca znać', 'ojcem sierot', 'ojcem swym', 'ojciec nad', 'ojciec syn', 'ojciec twe', 'ojcom abrahamowi', 'ojcu chwale', 'ojcu chwała', 'ojcu co', 'ojcu synowi', 'ojcze abba', 'ojcze bo', 'ojcze bóg', 'ojcze nasz', 'ojcze obmyj', 'ojcze uwielbiam', 'ojcze wiarę', 'ojcze wszechmogący', 'ojcze wszyscy', 'okazał moc', 'okazał swoje', 'okazał swą', 'okazuje swoje', 'okrywa światłość', 'okrzyków radości', 'on bardzo', 'on bogiem', 'on bóg', 'on czas', 'on da', 'on daje', 'on dał', 'on jak', 'on jedynie', 'on jedyny', 'on jedynym', 'on jest', 'on kocha', 'on który', 'on ma', 'on mi', 'on mnie', 'on najbliżej', 'on najlepiej', 'on największy', 'on napełnia', 'on nasz', 'on naszym', 'on niepojęty', 'on oddala', 'on odpuszcza', 'on osuszy', 'on pamięta', 'on panem', 'on początkiem', 'on poddaje', 'on poprowadzi', 'on porusza', 'on przyszedł', 'on przywrócił', 'on ratuje', 'on ratunkiem', 'on rzeknie', 'on sam', 'on się', 'on synem', 'on wasz', 'on wszechmocny', 'on wybaczać', 'on wyswobodził', 'on wzniosły', 'on za', 'on zasiada', 'on ze', 'on zmarł', 'on zna', 'on źródłem', 'ona boga', 'ona dzieł', 'ona jest', 'ona matka', 'ona ref', 'ona serce', 'ono śmierć', 'opiece dzieci', 'opiekunem wdów', 'opieką cię', 'opiekę oddał', 'opowiadać rano', 'oprę się', 'opuszczonym zsyła', 'opuszczą grób', 'orzeźwienie przynosi', 'orła nie', 'osuszy twoje', 'otarł dłonią', 'otchłani grobu', 'oto bowiem', 'oto ja', 'oto jest', 'oto moje', 'oto stoję', 'otoczy gdy', 'otoczą krąg', 'otrzyj łzy', 'otul mnie', 'otwarte błogosławisz', 'otwarte serce', 'otwieram przed', 'otwieram serce', 'otwieram się', 'otworzy bóg', 'otworzy będzie', 'otworzy wejdę', 'otworzyć ukryte', 'otwórz me', 'otwórz oczy', 'owce które', 'owczarni zabłąkane', 'owoc wyzwól', 'owoce kwiaty', 'ozłoci trzeba', 'ołtarza bogu', 'ołtarzem chleb', 'oświeca mnie', 'oświeć drogę', 'ożyw dziś', 'ożyw nas', 'ożywczy deszcz', 'pachnie każdy', 'pachnie świeżym', 'padnie wróg', 'padnij na', 'pagórki się', 'pamięta żeśmy', 'pamiętaj że', 'pan aby', 'pan abyśmy', 'pan alleluja', 'pan białych', 'pan blisko', 'pan boży', 'pan bóg', 'pan cała', 'pan całej', 'pan dla', 'pan jednoczy', 'pan jego', 'pan jest', 'pan jezus', 'pan karmi', 'pan król', 'pan królem', 'pan lituje', 'pan miłości', 'pan mnie', 'pan mocą', 'pan moja', 'pan mój', 'pan najwyższy', 'pan noc', 'pan okazał', 'pan powróci', 'pan prawdziwy', 'pan sam', 'pan stanie', 'pan stał', 'pan swym', 'pan tutaj', 'pan twój', 'pan tylko', 'pan uwielbiamy', 'pan wasz', 'pan weselmy', 'pan wysłuchał', 'pan wywyższony', 'pan władca', 'pan zastępów', 'pan łaskawość', 'pan święty', 'pan żyje', 'pana alleluja', 'pana bo', 'pana boga', 'pana błogosławcie', 'pana cała', 'pana chcę', 'pana chwal', 'pana duchu', 'pana duchy', 'pana dziś', 'pana gwiazdy', 'pana jak', 'pana jego', 'pana jeśli', 'pana króla', 'pana ludzkich', 'pana mego', 'pana niebios', 'pana niebiosa', 'pana niech', 'pana niż', 'pana raduj', 'pana raduje', 'pana ref', 'pana rozraduj', 'pana swego', 'pana uniżmy', 'pana wielbiąc', 'pana wody', 'pana wszyscy', 'pana wszystkie', 'pana wszystko', 'pana że', 'panem amen', 'panem duchowi', 'panem jest', 'panem królem', 'panem mym', 'panem powstań', 'panem swym', 'panem tylko', 'panem wszechświata', 'pani błaganie', 'pani matko', 'pani wszelkiej', 'pani świat', 'panie bardziej', 'panie boże', 'panie byś', 'panie byśmy', 'panie chcę', 'panie choć', 'panie coś', 'panie czego', 'panie dlatego', 'panie do', 'panie dobry', 'panie dziś', 'panie gdzie', 'panie jesteś', 'panie jezu', 'panie kajdan', 'panie królem', 'panie mego', 'panie mimo', 'panie moich', 'panie mój', 'panie na', 'panie nasz', 'panie niech', 'panie obrońco', 'panie otwórz', 'panie patrzeć', 'panie podobni', 'panie pozostań', 'panie przy', 'panie przyjdź', 'panie przywołaj', 'panie ref', 'panie serce', 'panie sięga', 'panie składamy', 'panie swą', 'panie synu', 'panie to', 'panie tobie', 'panie trwa', 'panie twe', 'panie ty', 'panie tych', 'panie tylko', 'panie tym', 'panie uczynimy', 'panie uwielbiam', 'panie wejdź', 'panie wielbią', 'panie wielka', 'panie wiem', 'panie wierzę', 'panie woła', 'panie wylej', 'panie wywyższam', 'panie śpiewać', 'panią nieba', 'panią świata', 'panu alleluja', 'panu bogu', 'panu chwał', 'panu chwała', 'panu dają', 'panu już', 'panu nowy', 'panu pieśń', 'panu przy', 'panu ziemio', 'panu śpiewajmy', 'panują nad', 'panów pan', 'pasie mnie', 'pasiesz stada', 'pasterzem moim', 'pasterzem niczego', 'pasterzu zgromadź', 'pastwiskach niczego', 'patrzeć tam', 'patrzę podziwem', 'pałac ref', 'pańska módl', 'pańska wzniesiona', 'pański wody', 'pewnej nocy', 'pewno ty', 'pełen troski', 'pełna blasku', 'pełna jego', 'pełna szczęścia', 'pełna wdzięku', 'pełne gwiazd', 'pełni się', 'pełnię miłości', 'pełnię radości', 'pełnię wolności', 'pełnym rozczarowań', 'pełną cudownych', 'piasku bezdennym', 'pierwszy umiłował', 'pieśni wiele', 'pieśnią mego', 'pieśnią zbawieniem', 'pieśń alleluja', 'pieśń aniołami', 'pieśń chwała', 'pieśń cokolwiek', 'pieśń mocą', 'pieśń nową', 'pieśń pełną', 'pieśń podtrzymał', 'pieśń ref', 'pieśń rozraduj', 'pieśń teraz', 'pieśń wielbić', 'pije jak', 'pije trwa', 'pismo strumienie', 'pić ze', 'piękna jak', 'piękna zabrzmi', 'piękne winnice', 'piękności niestworzona', 'plecy brać', 'plena dominus', 'po bezsennej', 'po imieniu', 'po krańcach', 'po nim', 'po nocy', 'po prawicy', 'po szczyty', 'po wiosenny', 'po wszystkich', 'pobłogosław mnie', 'pochmurny czas', 'pochodzi ref', 'pociecho ludu', 'pociesz zrozpaczonych', 'pociesza mnie', 'pociesza nas', 'pocieszają laj', 'pocieszycielem jesteś', 'początkiem końcem', 'początku kościoła', 'początku teraz', 'pod korcem', 'pod krzyżem', 'pod skrzydła', 'pod stopy', 'podał dłoń', 'podczas łamania', 'poddaje nam', 'poddawaj się', 'podniebne wielbijcie', 'podniesiesz mnie', 'podnieś mnie', 'podnieśmy wszyscy', 'podnosi przemienia', 'podnosi swoich', 'podnosisz mnie', 'podnoszę ręce', 'podobni stajemy', 'podtrzymał gdy', 'podziwem na', 'podziwie dla', 'pogan objawił', 'pogrążony ciemności', 'pohańbieniu przyjął', 'pokazuje nam', 'pokaż mi', 'pokaż swoją', 'pokochać nie', 'pokojem mym', 'pokojem najburzliwszą', 'pokojem obdarz', 'pokoju emmanuel', 'pokoju ref', 'pokolenia do', 'pokolenia gdyż', 'pokolenia na', 'pokolenia nad', 'pokolenia on', 'pokolenia pozostaje', 'pokolenia ref', 'pokoleniem by', 'pokonać własny', 'pokonał śmierć', 'pokorna pokój', 'pokornego wszystkich', 'pokornych głodnych', 'pokornym on', 'pokory cierpienia', 'pokorą stań', 'pokrzep stałością', 'pokrzepia wiedzie', 'pokus tyle', 'pokój nam', 'pokój wam', 'pokój znaku', 'pokój światu', 'pokłońmy się', 'polny kwiat', 'pomimo tego', 'pomny na', 'pomocą kto', 'pomocą mą', 'pomoże jeśli', 'pomoże kiedy', 'pomoże ona', 'pomyli los', 'pomóc mi', 'pomódl się', 'pomóż nam', 'ponad szczyty', 'ponad wszystkim', 'ponad wszystko', 'poniża ref', 'popchnięto już', 'poprowadzi cię', 'poprowadzi was', 'poprowadź jak', 'poprowadź panie', 'poprowadź tobie', 'poprzez świat', 'popłynie pieśń', 'popłyną jego', 'porannych zórz', 'porusza góry', 'porwać mnie', 'posuchy wody', 'posyła nam', 'posłał ludziom', 'posłuszna módl', 'posłusznym daj', 'posłusznym nie', 'posłyszy mój', 'potem spojrzał', 'potknę się', 'potomstwu na', 'potrzeba dobroci', 'potrzeba tylko', 'potrzebach mych', 'potrzebach panie', 'potrzebujemy ciebie', 'potrzebę znasz', 'potęgą wód', 'potęgę moc', 'potężna fala', 'potężna jego', 'potężna jest', 'potężny jesteś', 'potężny mocy', 'potężnym bogiem', 'powiedz jak', 'powiedz ludziom', 'powiedz mi', 'powiedz panie', 'powiedz że', 'powiedział mi', 'powiej mocą', 'powiej wiatrem', 'powiem słowo', 'powierz się', 'powierzam mą', 'powietrzem moim', 'powietrzu buja', 'powodów by', 'powracać każdy', 'powrotu nie', 'powróci znów', 'powstaje marności', 'powstanie każdym', 'powstaniemy ref', 'powstał aby', 'powstał dziś', 'powstałeś aby', 'powstań chwal', 'powstań pana', 'powstań wołaj', 'powszednim chlebem', 'powtórzysz jej', 'poznam ale', 'poznania bojaźni', 'poznany był', 'poznawać co', 'poznał ten', 'pozostaje miłosierny', 'pozostałeś dla', 'pozostań ma', 'pozwala mi', 'pozwalasz wciąż', 'pozwól czarna', 'pozwól dziś', 'pozwól kochać', 'pozwól mi', 'pozwól sobie', 'połam rozdaj', 'poślij do', 'poślij mnie', 'pośredniczko najlepsza', 'pośród gwiazd', 'pośród nas', 'pracujących których', 'pragnie ciebie', 'pragniemy ciebie', 'pragniemy więcej', 'pragnienia myśli', 'pragnienie moje', 'pragnienie ref', 'pragnącemu dam', 'pragnął na', 'pragnę blisko', 'pragnę być', 'pragnę ciebie', 'pragnę to', 'pragnę twą', 'pragnę tęsknotą', 'pragnę umrzeć', 'prawda jedyna', 'prawda ludzi', 'prawda ta', 'prawdy nic', 'prawdy pokój', 'prawdzie cię', 'prawdzie oddając', 'prawdziwa wszystkie', 'prawdziwy bóg', 'prawdziwy jedyny', 'prawdą co', 'prawdą jezus', 'prawica mnie', 'prawica pańska', 'prawica święte', 'prawicy ojca', 'prochem on', 'prochu podnosi', 'progi ciszy', 'progu siedzieć', 'promieniu do', 'proroków musimy', 'prosimy twoje', 'prosić cię', 'prosto zwyczajnie', 'prostoty do', 'prosząc cię', 'proszę mnie', 'proszę na', 'prowadzi duszę', 'prowadzi mnie', 'prowadzi ref', 'prowadzisz przez', 'prowadzić mnie', 'prowadź bym', 'prowadź do', 'prowadź dziewico', 'prowadź matko', 'prowadź mnie', 'prowadź nas', 'prowadź oblubienico', 'prowadź pośredniczko', 'prowadź stóp', 'prowadź służebnico', 'prowadź ty', 'prowadź światło', 'prośbę którą', 'przebaczasz grzechy', 'przebaczenia dar', 'przebaczenia karmisz', 'przebaczenia przenikną', 'przebiega krętą', 'przebitego serca', 'przecież on', 'przecież ważne', 'przecież wiesz', 'przecież wszystko', 'przeciwko nam', 'przed adonai', 'przed bogiem', 'przed boży', 'przed jezusa', 'przed nim', 'przed obliczem', 'przed ojcem', 'przed panem', 'przed tobą', 'przed tronem', 'przed twym', 'przed świętym', 'przede mną', 'przedsionki błogosławcie', 'przedsionku chwały', 'przejdę poprzez', 'przejrzał dotknij', 'przemawia do', 'przemienia serca', 'przemieniona tańczmy', 'przemierzasz ty', 'przemień mnie', 'przemień smutku', 'przemówi stwórca', 'przemówił uwielbieniem', 'przenika mnie', 'przenika naszą', 'przenikaj nas', 'przenikaj życie', 'przenikasz serca', 'przenikną dusze', 'przenosi ja', 'przeszytym do', 'przewodem twym', 'przewodnia służebnico', 'przewodnikiem nam', 'przez baranka', 'przez boga', 'przez ciebie', 'przez dar', 'przez drogi', 'przez grzechu', 'przez nią', 'przez pokolenia', 'przez syna', 'przez twój', 'przez wszystkie', 'przez ziemię', 'przez łaski', 'prześladowanych do', 'przeżyją własne', 'przy blasku', 'przy boku', 'przy dziesięciostrunnej', 'przy dźwięku', 'przy głosie', 'przy nas', 'przy sercu', 'przy tobie', 'przy trąbach', 'przy wtórze', 'przybądź duchu', 'przychodzi wciąż', 'przychodzisz do', 'przychodzisz jak', 'przychodzisz panie', 'przychodzę dziś', 'przygarniając do', 'przygarniasz nas', 'przygarnij byśmy', 'przyjaciela mam', 'przyjacielu chcę', 'przyjacielu otwieram', 'przyjaciół jego', 'przyjaciółmi jeśli', 'przyjaźnie wysokiego', 'przyjdzie do', 'przyjdzie dzień', 'przyjdź czekam', 'przyjdź dotknij', 'przyjdź drogę', 'przyjdź duchu', 'przyjdź działaj', 'przyjdź jak', 'przyjdź jezu', 'przyjdź napełnij', 'przyjdź nawiedź', 'przyjdź oczyść', 'przyjdź przemień', 'przyjdź ref', 'przyjdź rozpal', 'przyjdź umocnij', 'przyjdźcie do', 'przyjdźcie tu', 'przyjm błaganie', 'przyjm skłaniam', 'przyjąć chciej', 'przyjąć chwałę', 'przyjąć dziś', 'przyjąć od', 'przyjąć wdzięczność', 'przyjął winy', 'przykazałeś cóż', 'przyniosą ziemi', 'przyniosła na', 'przynosi gwieździstą', 'przynosić dobry', 'przypatrz się', 'przypomnę że', 'przyspiesz moją', 'przyspiesz przyspiesz', 'przyszedł aby', 'przyszedł nieba', 'przyszedłeś by', 'przysłoni zazdrość', 'przytulisz je', 'przywoła ciebie', 'przywołaj mnie', 'przywracasz życie', 'przywrócił mi', 'psalm twojemu', 'pszenicznych się', 'ptaszęta słodkim', 'pukasz do', 'pustkowiu chleb', 'pustynię niech', 'pycha lśni', 'pychą mu', 'pynie chwał', 'pyszniących się', 'pójść jak', 'póki będę', 'póki tylko', 'płacz dla', 'płomień pański', 'płonącym jak', 'płonęła miłością', 'płyną gorzkie', 'płyną jak', 'płynąca żywa', 'racz sercom', 'radosnym głosem', 'radosną nucąc', 'radosną panu', 'radosną twarz', 'radosną śpiewać', 'radości do', 'radości na', 'radości pełnię', 'radości wysławiajcie', 'radością ref', 'radością słowa', 'radością za', 'radością śpiewam', 'radość całym', 'radość na', 'radość nieść', 'radość zmienia', 'radość życia', 'raduj się', 'radujcie ref', 'raduje się', 'radujmy się', 'radują się', 'raduję się', 'rajem stał', 'ramienia nad', 'ramienia rozproszył', 'ramiona mnie', 'ramiona swoje', 'ramiona twoje', 'ramionach jak', 'ramionach się', 'ramionach skryć', 'ramionach twych', 'ramionach znajdziesz', 'ramię jego', 'ramię oprę', 'ranach uzdrowienie', 'ranek się', 'rani mnie', 'ranię cię', 'rano twoje', 'rany na', 'rany zadane', 'ras od', 'ratuje ciebie', 'ratunkiem będzie', 'ratunkiem gdy', 'raz poznał', 'razem chwalmy', 'razem czuwajmy', 'razem panem', 'razem szli', 'razem wołają', 'ref ale', 'ref alleluja', 'ref amen', 'ref ave', 'ref bez', 'ref bo', 'ref boże', 'ref bóg', 'ref będziemy', 'ref będę', 'ref błogosław', 'ref błogosławić', 'ref cała', 'ref chlebie', 'ref choćbym', 'ref chrystus', 'ref chwal', 'ref chwalcie', 'ref chwała', 'ref chwyć', 'ref daj', 'ref dla', 'ref dobry', 'ref duszo', 'ref dzielmy', 'ref dzięki', 'ref dziś', 'ref fale', 'ref gloria', 'ref ja', 'ref jak', 'ref jedyny', 'ref jestem', 'ref jesteśmy', 'ref jezu', 'ref jezus', 'ref kiedy', 'ref kiedyś', 'ref krzycz', 'ref królem', 'ref laudato', 'ref madonno', 'ref maryja', 'ref matce', 'ref matka', 'ref matko', 'ref miłosierdzie', 'ref my', 'ref mów', 'ref nadejdzie', 'ref nasz', 'ref nie', 'ref nieba', 'ref niech', 'ref niepojęta', 'ref niepojęty', 'ref nikt', 'ref oczekuję', 'ref odnów', 'ref on', 'ref oto', 'ref otwieram', 'ref pan', 'ref panie', 'ref panu', 'ref podnieśmy', 'ref pokój', 'ref pokłońmy', 'ref pomódl', 'ref powiedz', 'ref powstań', 'ref pozwól', 'ref przyjdź', 'ref rozpięty', 'ref serce', 'ref tchnij', 'ref twe', 'ref twoja', 'ref twych', 'ref ty', 'ref tylko', 'ref uwielbiam', 'ref wielbimy', 'ref wiele', 'ref więc', 'ref wykrzykujcie', 'ref wywyższonego', 'ref wywyższony', 'ref zabierzesz', 'ref zaufaj', 'ref zbawca', 'ref ześlij', 'ref zmartwychwstał', 'ref zstąp', 'ref śpiewajcie', 'ref śpiewajmy', 'ref święty', 'ref1 wierzę', 'ref2 wierzę', 'robię tobie', 'rodzi jedno', 'rodzinnych przyjdź', 'rodziną ref', 'rodziną tej', 'rodzinę bratnią', 'rogu na', 'rosy dusza', 'rozczarowań przez', 'rozdaj tym', 'rozdaj łaknącym', 'rozdziera twe', 'rozgość się', 'rozjaśnia tobie', 'rozjaśnij naszą', 'rozkoszą będzie', 'rozmnoży się', 'rozmnożył panie', 'rozpacz rozdziera', 'rozpal nas', 'rozpal ognia', 'rozpal żar', 'rozpięty na', 'rozpostarł niebiosa', 'rozpoznasz mnie', 'rozproszył pyszniących', 'rozpędź smutek', 'rozraduj mnie', 'rozraduj się', 'roztacza zmartwychwstały', 'roztapiasz mój', 'rozumie sercem', 'rozumiesz pokój', 'rozumu duchu', 'rozświetlasz ciemności', 'ruch robię', 'ruchliwe ulice', 'ruszysz daleką', 'rysy dwie', 'rzeczy bez', 'rzeczy uczynił', 'rzeka powstań', 'rzeki niech', 'rzeknie nie', 'rzekł ref', 'rzekło pismo', 'rzuca nam', 'rzuć me', 'rządzi mocy', 'równa się', 'równać się', 'rąk mój', 'rąk naszych', 'rąk pocieszycielem', 'rąk ukryj', 'rąk zawsze', 'ręce moje', 'ręce swe', 'ręce tak', 'ręce uwielbiając', 'ręka która', 'ręki nawróć', 'ręku słowa', 'rękę ujmij', 'sam jeden', 'sam mi', 'sam stworzył', 'sam umacnia', 'sam wystarczy', 'sam wywyższy', 'sam zobaczysz', 'sami wrócić', 'samych obłoków', 'samych siebie', 'samym odnajduję', 'schodzimy się', 'schowaj mnie', 'schować pod', 'schronić ma', 'sen każdą', 'sens jednak', 'sens wołam', 'sensem naszego', 'serc bijące', 'serc które', 'serc nowi', 'serc przyjdź', 'serc ref', 'serc rozpal', 'serc swoich', 'serc tak', 'serc uniża', 'serca gładzisz', 'serca głód', 'serca jezusa', 'serca mego', 'serca moc', 'serca mów', 'serca nam', 'serca napełnij', 'serca oczyść', 'serca podnieśmy', 'serca pokój', 'serca są', 'serca ty', 'serca uwalnia', 'sercach światłem', 'sercach życiem', 'serce bije', 'serce bo', 'serce chce', 'serce chcę', 'serce czułe', 'serce głąb', 'serce me', 'serce miłe', 'serce moje', 'serce nam', 'serce nie', 'serce obmyj', 'serce obmyje', 'serce oddasz', 'serce ofiaruj', 'serce ogarnia', 'serce przecież', 'serce ref', 'serce ręce', 'serce swe', 'serce twoje', 'serce uwielbiam', 'serce wielkie', 'serce wlał', 'serce wszystko', 'sercem do', 'sercem lgnę', 'sercem ogarnia', 'sercem przeszytym', 'sercem swym', 'sercom co', 'sercu ból', 'sercu dzieje', 'sercu jesteś', 'sercu mieć', 'sercu mym', 'sercu twym', 'sercu znów', 'si mi', 'siebie bym', 'siebie chrystus', 'siebie mam', 'siebie my', 'siebie przez', 'siebie ty', 'siebie tyś', 'siebie uczynił', 'siebie uczynki', 'siedem słów', 'siedemkroć bo', 'siedmioraki dar', 'siedzieć będę', 'siedzisz po', 'siedzący na', 'sierot opiekunem', 'signore niech', 'signore siostra', 'signore trzeba', 'silnej dłoni', 'silnej woli', 'silny boże', 'siostra nasza', 'się aż', 'się balsamem', 'się bać', 'się bał', 'się bezpiecznie', 'się bo', 'się boży', 'się bożą', 'się bracia', 'się bratem', 'się budzi', 'się by', 'się bóg', 'się będę', 'się cała', 'się chlebem', 'się chować', 'się chrystusa', 'się cieszyć', 'się ciągle', 'się co', 'się czuję', 'się człowiek', 'się człowiekiem', 'się do', 'się duch', 'się dusza', 'się gdy', 'się gdybym', 'się go', 'się jego', 'się jej', 'się jestem', 'się już', 'się kamieniem', 'się kiedy', 'się krwią', 'się kryć', 'się królów', 'się ku', 'się manną', 'się matce', 'się miriam', 'się miłość', 'się módl', 'się mój', 'się na', 'się nad', 'się nadzieja', 'się naszej', 'się nich', 'się nie', 'się niech', 'się nim', 'się noc', 'się nowym', 'się oceany', 'się od', 'się okrywa', 'się on', 'się ołtarzem', 'się panie', 'się podczas', 'się podniesiesz', 'się pokaż', 'się ponad', 'się powstaniemy', 'się przed', 'się przyjaźnie', 'się radość', 'się radujcie', 'się radujmy', 'się ref', 'się rodzi', 'się rodziną', 'się skryć', 'się składam', 'się stanie', 'się synem', 'się szukając', 'się temu', 'się tobą', 'się twoja', 'się twych', 'się tylko', 'się tym', 'się uciec', 'się ujął', 'się wesel', 'się weselcie', 'się weźmijcie', 'się wiarą', 'się widząc', 'się winem', 'się wszyscy', 'się wypatrujesz', 'się wypłyń', 'się wywyższało', 'się wziąć', 'się za', 'się zachwiać', 'się zamysłami', 'się zaufaj', 'się ziemio', 'się zlituje', 'się śmieje', 'się śpiewam', 'się że', 'sięga nieba', 'sięga wzwyż', 'sięgać panie', 'sił braknie', 'sił dajesz', 'sił księgę', 'sił niech', 'sił przed', 'sił ref', 'sił zostanę', 'siła moc', 'siły ref', 'siły swej', 'siły sławić', 'siłą mą', 'siłą tobie', 'siłę moc', 'siłę swemu', 'skałą zbawienia', 'skieruj wzrok', 'skoro bóg', 'skrawek nieba', 'skrusz tak', 'skruszone przyjm', 'skrywany po', 'skryć cieniu', 'skryć dziś', 'skryć jej', 'skryć się', 'skryć słodycz', 'skrzydeł daje', 'skrzydła dwa', 'skrzydła swe', 'skrzydłami chwalcie', 'skrzętnie skrywany', 'skąd powrotu', 'składajmy mu', 'składam dziękczynienie', 'składam hołd', 'składam ja', 'składamy bo', 'składamy dzięki', 'składamy hołd', 'skłaniam się', 'smutek otrzyj', 'smutek żal', 'smutku czas', 'smutne twym', 'smutny zatroskany', 'sobie trwać', 'sobie tę', 'sobą być', 'sobą dojść', 'sokole na', 'soku wielu', 'sokół na', 'spełni prośbę', 'spełni się', 'spełnia się', 'spełnimy co', 'spienionych wód', 'splata ona', 'spocznie dłoniach', 'spocznij na', 'spoglądam na', 'spojrzał na', 'spojrzenie miłości', 'spojrzyj przypatrz', 'spojrzę tam', 'spokojne mnie', 'spokojną cichą', 'spokój uchronisz', 'spokój utonie', 'spotka tobie', 'spotkam cię', 'spotkamy się', 'spotkał mój', 'spotkało spojrzyj', 'spożywa będzie', 'spożywa moje', 'spożywa nie', 'spragniona ziemia', 'spragnione serce', 'spragnione wyczerpane', 'spragniony jest', 'spragniony słaby', 'spragniony świat', 'spragnionych ciebie', 'spragnionych serc', 'spraw bym', 'spraw nie', 'sprawca odkupienia', 'sprawia że', 'sprawiedliwości swojej', 'sprawiedliwość wspomniał', 'sprawił we', 'spójrz cierpienia', 'spójrz proszę', 'spękana zeschła', 'spłynie deszcz', 'spłynie tu', 'srebro oczyść', 'stada swe', 'staje się', 'stajemy się', 'stając się', 'staję radością', 'stali się', 'stanie nami', 'stanie prowadź', 'stanie się', 'starych ludzi', 'stawajmy przed', 'stawi nas', 'stawiam tobie', 'stać ciągle', 'stać dzięki', 'stać się', 'stać łaska', 'stał się', 'stała matce', 'stała matka', 'stało soku', 'stałością mocy', 'stań przed', 'stoi pośród', 'stoimy wpatrzeni', 'stoisz naszych', 'stoisz pośród', 'stojąca pokój', 'stoję drzwi', 'stoję dziś', 'stopy jest', 'strach jezus', 'strach on', 'strach ref', 'strach usłysz', 'strach wszystko', 'strachu żyje', 'straszliwy jest', 'strumienie wody', 'strumyki co', 'strumyki mruczeniem', 'strzeże czuwa', 'strzeże pan', 'strącił władców', 'stwarza jego', 'stwarza wciąż', 'stworzenie objawia', 'stworzenie wielbi', 'stworzycielu duchu', 'stworzycielu rozraduj', 'stworzył na', 'stworzył nas', 'stworzył niebo', 'stworzyłeś na', 'stworzyłeś słońce', 'stwórca ziem', 'stóp cały', 'stóp jezu', 'stóp krzyża', 'stóp padnie', 'suchą ziemię', 'swe gdy', 'swe kiedy', 'swe krew', 'swe królu', 'swe ku', 'swe maryjo', 'swe miłosierdzie', 'swe mój', 'swe na', 'swe niech', 'swe podnoszę', 'swe ramiona', 'swe ref', 'swe serce', 'swe ukryj', 'swe wysłuchaj', 'swego będę', 'swego ducha', 'swego jednorodzonego', 'swego kościoła', 'swego ramienia', 'swego syna', 'swego łona', 'swej abym', 'swej bądź', 'swej chwały', 'swej dobroci', 'swej dłoni', 'swej króluje', 'swej mądrości', 'swej nasz', 'swej nie', 'swej nim', 'swej oddaję', 'swej owczarni', 'swej ref', 'swej uwielbić', 'swemu ludowi', 'swoich dzieci', 'swoich przyjaciół', 'swoich strącił', 'swoich wybranych', 'swoim sługą', 'swoim wielkim', 'swoim złącz', 'swoim świętym', 'swoimi dziećmi', 'swoje miłosierdzie', 'swoje ręce', 'swoje serce', 'swoje troski', 'swoje weź', 'swoje zbawienie', 'swojego ducha', 'swojej bieli', 'swojej deszczem', 'swojej ref', 'swojej służebnicy', 'swoją chwałę', 'swoją dam', 'swoją dla', 'swoją duszę', 'swoją dłoń', 'swoją krwią', 'swoją mam', 'swych ustach', 'swym bogu', 'swym będę', 'swym ludem', 'swym milczeniem', 'swym miłosierdziu', 'swym oddaję', 'swym ogarniasz', 'swym przed', 'swym ref', 'swym uwielbić', 'swym we', 'swym zmartwychwstaniem', 'swymi przyjaciółmi', 'swój daje', 'swój głos', 'swój głód', 'swój obraz', 'swój ogień', 'swój opuszczą', 'swój ziemio', 'swą błogosławisz', 'swą drogę', 'swą jezus', 'swą miłość', 'swą moc', 'swą nie', 'swą oddaję', 'swą otworzy', 'swą sprawiedliwość', 'swą sługę', 'swą twarz', 'swą uwielbić', 'syjonie król', 'syjonie przez', 'syn chwałą', 'syn duch', 'syn miłość', 'syn poznany', 'syn umiłowany', 'syn weź', 'syn zbawca', 'syn żył', 'syna módl', 'syna nam', 'syna posłał', 'syna swego', 'syna twego', 'synem boga', 'synem ojca', 'synem twym', 'synem żegnała', 'synowi duchowi', 'synowi który', 'synu boga', 'synu boży', 'synu jednorodzony', 'synu ojca', 'sz ma', 'szat chrystusie', 'szatach stawi', 'szczyty gór', 'szczyty górskie', 'szczęścia będzie', 'szczęśliwy ten', 'szedł ciemną', 'szeol żar', 'szlak idziemy', 'szlaku zaskoczy', 'szli usta', 'szuka go', 'szukając cię', 'szukam cię', 'szukam ich', 'szukam jesteś', 'szukam póki', 'szukam twej', 'szukałem do', 'szumi morze', 'są jak', 'są otwarte', 'są twych', 'sądził boskie', 'sądź na', 'słabnę gubię', 'słabość naszych', 'słabość upokorzenie', 'słaby też', 'słabą ludzką', 'sławi maryję', 'sławić cię', 'sławić imię', 'słodki jest', 'słodkie owoce', 'słodkim kwileniem', 'słodycz twą', 'słowa jego', 'słowa jezusa', 'słowa miłości', 'słowa te', 'słowa życia', 'słowo dane', 'słowo jak', 'słowo niech', 'słowo stwarza', 'słowo ty', 'słowo żywota', 'słońca blask', 'słońca znów', 'słońce budzi', 'słońce księżycu', 'słońce módl', 'słońce na', 'słońce stworzył', 'słuchaj wybacz', 'słuchasz do', 'słudzy jego', 'słudzy panują', 'sługą izraelem', 'sługą twym', 'sługę uniżony', 'służbie ludziom', 'służebnico pańska', 'służebnico pokorna', 'służebnicy oto', 'służy chce', 'służyć ci', 'słyszeć cię', 'słyszysz mój', 'słów gdy', 'słów ogłaszając', 'ta co', 'ta gdy', 'ta krew', 'ta on', 'ta zabiera', 'tabernakulum zostałeś', 'tak aby', 'tak bardzo', 'tak będę', 'tak cierpliwa', 'tak idziemy', 'tak jak', 'tak jest', 'tak mi', 'tak mnie', 'tak nas', 'tak niech', 'tak niewiele', 'tak pełnym', 'tak pragniemy', 'tak rzekł', 'tak umiłował', 'tak wielki', 'tak wierzę', 'tak wspaniały', 'tak wyciągam', 'tak wyniosłe', 'tak że', 'taki zły', 'tam byli', 'tam gdzie', 'tam mieszka', 'tam przygarniasz', 'tam skąd', 'tam wciąż', 'tama już', 'tańczmy dla', 'tańczyć będziemy', 'tańczyć przed', 'tańczył ze', 'tchnienie dwóch', 'tchnienie twe', 'tchnieniem mocy', 'tchnij miłość', 'tchnij moc', 'te ref', 'tecum benedicta', 'tego co', 'tego kto', 'tego który', 'tego nie', 'tego że', 'tej chwili', 'tej prawdy', 'tej ziemi', 'tekst pieśni', 'temu co', 'temu który', 'ten chleb', 'ten dzień', 'ten kielich', 'ten krzyż', 'ten kto', 'ten któremu', 'ten który', 'ten nic', 'ten świat', 'teraz ciało', 'teraz jest', 'teraz stoi', 'teraz uzdrawiać', 'teraz we', 'teraz zawsze', 'też dla', 'też niech', 'też tam', 'tkliwego serca', 'tkwi choć', 'to błogosławisz', 'to co', 'to czego', 'to ja', 'to jest', 'to jezus', 'to każdy', 'to ma', 'to możliwe', 'to mój', 'to naprawdę', 'to nasz', 'to oczyszczenie', 'to on', 'to panów', 'to przecież', 'to twe', 'to twoje', 'to umarłem', 'to wszystko', 'to wybrał', 'to żar', 'to że', 'to żeś', 'tobie boże', 'tobie być', 'tobie będzie', 'tobie chcę', 'tobie chrystus', 'tobie chwałę', 'tobie chór', 'tobie daję', 'tobie duchu', 'tobie jest', 'tobie jezu', 'tobie królestwo', 'tobie krąg', 'tobie ma', 'tobie miłosierny', 'tobie moja', 'tobie mój', 'tobie nikt', 'tobie oddany', 'tobie panie', 'tobie pełnię', 'tobie pieśni', 'tobie powierzam', 'tobie ref', 'tobie skryć', 'tobie składam', 'tobie składamy', 'tobie synu', 'tobie ty', 'tobie wytrwali', 'tobie znów', 'tobie śpiewamy', 'tobą by', 'tobą będę', 'tobą chodzić', 'tobą daj', 'tobą dziś', 'tobą gdy', 'tobą modlę', 'tobą nasz', 'tobą piękna', 'tobą przejdę', 'tobą przy', 'tobą serce', 'tobą widzę', 'tobą wzniosę', 'tonie składamy', 'tonę nim', 'toń moją', 'trawa kwitnie', 'tron góry', 'tron my', 'tron otoczą', 'tron ref', 'tron zszedłeś', 'tronem dziś', 'tronem oddam', 'tronem twym', 'tronie baranek', 'tronie jest', 'tronu oddajmy', 'tronu wywyższył', 'troski oddajmy', 'troski tak', 'troską szukam', 'troszczy się', 'troszczę jeśli', 'trudnych dni', 'trudnych spraw', 'trwa dobroci', 'trwa na', 'trwa niebo', 'trwa początkiem', 'trwa we', 'trwa wiecznie', 'trwaj nigdy', 'trwać jedności', 'trwać jesteś', 'trwać ref', 'trwać ty', 'trwał tobie', 'trwoga ofiaruj', 'trwogę choć', 'trzeba boga', 'trzeba byś', 'trzeba ciepła', 'trzeba nam', 'trzeba tym', 'trzyma mnie', 'trójcy bóg', 'trąbach przy', 'tu by', 'tu chwała', 'tu dusza', 'tu gdy', 'tu przez', 'tu stać', 'tu teraz', 'tu wchodzicie', 'tu wszystko', 'tu zbawi', 'tu ze', 'tutaj jest', 'tutaj jesteś', 'twa do', 'twa gdy', 'twa głębsza', 'twa jak', 'twa miłość', 'twa moc', 'twa od', 'twa panie', 'twa prawica', 'twa radosną', 'twa tak', 'twa wypełnia', 'twa łaska', 'twa święta', 'twarz daj', 'twarz każda', 'twarz pełna', 'twarz ref', 'twarz spojrzenie', 'twarz spotkamy', 'twarzą twarz', 'twe błogosławione', 'twe chcę', 'twe dzieła', 'twe imię', 'twe królestwo', 'twe ogrody', 'twe panie', 'twe pragnienia', 'twe pragnienie', 'twe progi', 'twe przychodzisz', 'twe płyną', 'twe ref', 'twe serce', 'twe stworzenie', 'twe słowo', 'twe wiem', 'twe wiemy', 'twe wywyższone', 'twe ze', 'twe światło', 'twe żywe', 'twego nas', 'twego syna', 'twej chwały', 'twej miłości', 'twej nieprzyjaciela', 'twej pragniemy', 'twej rozraduj', 'twej staję', 'twej zdrój', 'twej świątyni', 'twoi niech', 'twoich rąk', 'twoja jest', 'twoja kij', 'twoja miłość', 'twoja młodość', 'twoja panie', 'twoja wierność', 'twoja wola', 'twoja święta', 'twoje choroby', 'twoje dzieci', 'twoje dzieła', 'twoje grzechy', 'twoje imię', 'twoje miłosierdzie', 'twoje miłowanie', 'twoje panie', 'twoje serce', 'twoje się', 'twoje tym', 'twoje łaski', 'twoje łzy', 'twoje życie', 'twojego chleba', 'twojego królestwa', 'twojej blask', 'twojemu imieniu', 'twoją drogą', 'twoją drogę', 'twoją miłość', 'twoją potęgę', 'twoją przy', 'tworzysz jedno', 'tworząc wspólnym', 'twych dusza', 'twych ojcze', 'twych ramionach', 'twych ref', 'twych rąk', 'twych skrzydeł', 'twych stóp', 'twym dzieckiem', 'twym kocham', 'twym miniemy', 'twym nami', 'twym niech', 'twym panie', 'twym pokojem', 'twym potem', 'twym progu', 'twym sercu', 'twym stoimy', 'twym stworzycielu', 'twym tronem', 'twym trwać', 'twym wznoszę', 'twym zbawicielu', 'twym życiu', 'twymi bądź', 'twymi dziećmi', 'twój aż', 'twój bóg', 'twój duch', 'twój głos', 'twój krzyż', 'twój mnie', 'twój niebie', 'twój od', 'twój odnowi', 'twój syjonie', 'twój syn', 'twój szlak', 'twój tron', 'twój usłyszy', 'twój usłyszę', 'twój święty', 'twój że', 'twą dobroć', 'twą dobry', 'twą potęgę', 'twą poznawać', 'twą twarz', 'twą za', 'ty blaskiem', 'ty boże', 'ty byś', 'ty chcę', 'ty co', 'ty czasów', 'ty dar', 'ty darzysz', 'ty do', 'ty jeden', 'ty jedynie', 'ty jesteś', 'ty jeśli', 'ty każdej', 'ty którego', 'ty mi', 'ty mieszkańcu', 'ty moim', 'ty możesz', 'ty nam', 'ty nas', 'ty niech', 'ty nim', 'ty ocal', 'ty oddałeś', 'ty panie', 'ty podnosisz', 'ty pozwalasz', 'ty przecież', 'ty przez', 'ty przytulisz', 'ty ref', 'ty rozpoznasz', 'ty stał', 'ty ty', 'ty tylko', 'ty wielkie', 'ty wiesz', 'ty wskazałeś', 'ty wyzwoliłeś', 'ty ze', 'ty zmieniasz', 'ty zmieniłeś', 'ty znasz', 'ty światłość', 'ty żywy', 'tych co', 'tyle jest', 'tyle trudnych', 'tylko istnieć', 'tylko jego', 'tylko jezus', 'tylko kilka', 'tylko mnie', 'tylko on', 'tylko pan', 'tylko rąk', 'tylko twoją', 'tylko ty', 'tylko tyś', 'tym co', 'tym kosztownym', 'tym który', 'tym którzy', 'tym światłem', 'tymi którzy', 'tyś do', 'tyś gwiazdą', 'tyś jedynie', 'tyś jedyny', 'tyś jest', 'tyś miłością', 'tyś mój', 'tyś mą', 'tyś na', 'tyś najwyższy', 'tyś nam', 'tyś namaszczeniem', 'tyś nasz', 'tyś naszym', 'tyś pomocą', 'tyś spienionych', 'tyś stał', 'tyś synem', 'tyś za', 'tyś świata', 'tę chwałę', 'tę jedną', 'tę pieśń', 'tę ref', 'tę ufność', 'tęskni ciało', 'tęsknie za', 'tęsknota przywoła', 'tęsknotą oczekuję', 'ubi caritas', 'ubliża ref', 'uchronisz się', 'uciec do', 'ucieka ciemność', 'uciszeniem jesteś', 'uciśnionych nadziejo', 'ucztę nam', 'uczynimy tyś', 'uczynił cuda', 'uczynił mi', 'uczynił swoimi', 'uczynki starych', 'uczysz nas', 'uczyć cię', 'uczyłeś nas', 'uczyń go', 'uczyń mnie', 'udręczył znów', 'ufam ci', 'ufam jeszcze', 'ufam tobie', 'ufność nie', 'ufność swoją', 'ufnych dla', 'ugasić miłości', 'ujmij swoją', 'ujrzały wszystkie', 'ujrzeć ciebie', 'ujrzeć pragnę', 'ujrzy świat', 'ujął się', 'ujął za', 'ukaż mi', 'ukojenie da', 'ukryj mnie', 'ukryj proszę', 'ukryte doliny', 'ukryte źródła', 'uleciał strach', 'ulice zabieganych', 'ulęknę boś', 'umacnia ref', 'umacnia żaden', 'umajone góry', 'umarł jezus', 'umarł miłości', 'umarł odpocząłbym', 'umarłem za', 'umie ona', 'umierającym spójrz', 'umilkną pragnienia', 'umiłowany zgładził', 'umiłował do', 'umiłował mnie', 'umiłował ty', 'umiłował tyś', 'umiłował ziarna', 'umiłował świat', 'umocnij nas', 'umrze kto', 'umrzeć aby', 'umrzeć chciał', 'umrę nie', 'uniża każdy', 'uniżenie swojej', 'uniżmy się', 'uniżony by', 'uniżył się', 'upadł ref', 'upewnia mnie', 'upokorzenie błogosławcie', 'uspokajasz serce', 'usprawiedliwieni przez', 'ust żaden', 'usta głoszą', 'ustach gorzkie', 'ustach mych', 'ustaje wiara', 'ustali tyś', 'ustąpią na', 'ustąpić bo', 'ustąpić pagórki', 'usychają piękne', 'usłysz pani', 'usłyszeć twój', 'usłyszy głos', 'usłyszę karmić', 'utonie fali', 'utrudzony on', 'utul nas', 'utwierdził ziemi', 'uwalnia błyskawic', 'uwalnia nas', 'uwielbi go', 'uwielbiajcie pana', 'uwielbiajmy go', 'uwielbiając imię', 'uwielbiam boże', 'uwielbiam ciebie', 'uwielbiam cię', 'uwielbiam imię', 'uwielbiam prawdzie', 'uwielbiam twoje', 'uwielbiam twoją', 'uwielbiam wznoszę', 'uwielbiam święte', 'uwielbiamy cię', 'uwielbiać cię', 'uwielbiać wieczności', 'uwielbienia niech', 'uwielbieniem dotknij', 'uwielbieniem radosną', 'uwielbij go', 'uwielbiony od', 'uwielbić cię', 'uwierz jezusa', 'uwierzy nie', 'uwierzyć powiedz', 'uwiodła jezu', 'uzdrawia jest', 'uzdrawia łaski', 'uzdrawiać ma', 'uzdrawiać masz', 'uzdrowienie jego', 'uzdrów nasze', 'ułomki chleba', 'uśmiechnij się', 'uświęć mnie', 'walce ze', 'walczyć powiedz', 'wali się', 'wam nie', 'wam pokój', 'warg abym', 'warg powiedz', 'warto żyć', 'was przyjdźcie', 'wasz bóg', 'wasz pan', 'ważne jest', 'wcale ciężko', 'wchodzicie razem', 'wchłoń moją', 'wciąż byś', 'wciąż dosięga', 'wciąż działasz', 'wciąż napełnij', 'wciąż oddychać', 'wciąż on', 'wciąż radosną', 'wciąż sam', 'wciąż strach', 'wciąż troszczę', 'wciąż trwać', 'wciąż uzdrawia', 'wciąż widzę', 'wciąż wszystko', 'wdziejmy biel', 'wdzięczność siłę', 'wdzięcznym strumyki', 'wdzięku ukaż', 'wdów jest', 'we mnie', 'według grzechów', 'wejdę do', 'wejdź rozgość', 'wejdź zamieszkaj', 'wejdź zbliżmy', 'wejdźmy do', 'wejrzał na', 'wejrzeć nieba', 'wesel się', 'weselcie grajcie', 'weselmy się', 'wezwie pan', 'weź mnie', 'weź mocą', 'weź panie', 'weź ten', 'weźmijcie ducha', 'wiara góry', 'wiara spełnia', 'wiara zagości', 'wiary abrahama', 'wiary jednocząc', 'wiarą jak', 'wiarę swoją', 'wiarę za', 'wiatr otwieram', 'wiatr rozpędź', 'wiatr zawieje', 'wiatrem jesteś', 'wiatrem mocą', 'wiatry gwałtowne', 'wiatrów przybądź', 'widział zaufaj', 'widzieć chcę', 'widzieć ciebie', 'widzieć twą', 'widzą któż', 'widząc twą', 'widzę cię', 'widzę twa', 'wie nic', 'wie ref', 'wieczerzał on', 'wieczne miał', 'wiecznego masz', 'wiecznemu panu', 'wiecznie gniewać', 'wiecznie ludzie', 'wieczności bram', 'wieczności tobą', 'wieczności zapuszcza', 'wieczny czas', 'wieczny tron', 'wiecznym on', 'wieczorowi dzień', 'wieczystych pynie', 'wiedzcie że', 'wiedział że', 'wiedzie mnie', 'wiedziesz przed', 'wieki albowiem', 'wieki amen', 'wieki będziesz', 'wieki chwała', 'wieki duchem', 'wieki gdy', 'wieki godzien', 'wieki jaśnieje', 'wieki królów', 'wieki mocy', 'wieki na', 'wieki on', 'wieki oto', 'wieki powstań', 'wieki ref', 'wieki sprawił', 'wieki trwa', 'wieki wieków', 'wieki wielbię', 'wieki żył', 'wieku brzmi', 'wieków amen', 'wieków na', 'wielbi cię', 'wielbi dusza', 'wielbi imię', 'wielbi pana', 'wielbijcie pana', 'wielbijmy imię', 'wielbijmy jezusa', 'wielbimy ciebie', 'wielbimy cię', 'wielbią go', 'wielbią imię', 'wielbią wszystkie', 'wielbiąc go', 'wielbić by', 'wielbić pana', 'wielbię bo', 'wielbię pana', 'wiele jest', 'wiele powodów', 'wiele tak', 'wielka dobroć', 'wielka jest', 'wielka radość', 'wielki jak', 'wielki jest', 'wielki nasz', 'wielkie dzieła', 'wielkie imię', 'wielkie nam', 'wielkie nie', 'wielkie rzeczy', 'wielkiej nadziei', 'wielkim miłosierdziu', 'wielkiś ty', 'wielu winnych', 'wielu ziaren', 'wiem będę', 'wiem czemu', 'wiem czy', 'wiem dokąd', 'wiem jak', 'wiem jesteś', 'wiem nie', 'wiem że', 'wiemy dobrze', 'wieniec splata', 'wierci się', 'wierna jest', 'wierna łaskawa', 'wierność przez', 'wierność samych', 'wierność swoją', 'wierność trwa', 'wierność twa', 'wierność twoją', 'wierny jest', 'wierny ref', 'wiernych tobie', 'wiernym na', 'wierzy choć', 'wierzy nie', 'wierzyć lub', 'wierzą swój', 'wierzę ci', 'wierzę ciebie', 'wierzę nic', 'wierzę oddaję', 'wierzę tobie', 'wierzę że', 'wiesz co', 'wiesz dobrze', 'wiesz gdzie', 'wiesz każdą', 'wiesz tyś', 'wiesz wszystko', 'win wiedział', 'win wierzę', 'winem abym', 'winnice ty', 'winnych gron', 'winnym duchem', 'wino chleb', 'wino co', 'wino ślepi', 'winy jak', 'winy wszystkich', 'wiodącą na', 'wiosenny nów', 'wiosna żyła', 'więc by', 'więc błagamy', 'więc idziemy', 'więc każdy', 'więc ludziom', 'więc mocno', 'więc nie', 'więc uwielbij', 'więc weź', 'więcej ciebie', 'więcej miłości', 'więcej mocy', 'więcej łaski', 'większej miłości', 'większy jest', 'większy większy', 'wkoło nas', 'wlej wątłą', 'wnieść do', 'wnętrza ja', 'wobec tego', 'woda duszy', 'wodne ogień', 'wody bo', 'wody gdzie', 'wody podniebne', 'wody spokojne', 'wody wielkie', 'wody wylewaj', 'wody łaknie', 'wody żywej', 'wodzie jego', 'wodą uświęć', 'wodę zamieniłeś', 'wokół mrok', 'wokół nas', 'wola niech', 'wola pełni', 'woli brak', 'wolności mam', 'wolnością naszych', 'wolność którą', 'wolność nam', 'wolność prawda', 'woła dusza', 'woła nas', 'wołaj całym', 'wołaj po', 'wołaj radości', 'wołają radości', 'wołam cię', 'wołam do', 'wołać do', 'wpatrzeni twej', 'wpisz mnie', 'wpiszą miłość', 'wraz niech', 'wraz ze', 'wrócimy do', 'wrócić już', 'wróg bo', 'wróć zbawię', 'wschodem słońca', 'wschód od', 'wskazałeś drogę', 'wskaż córko', 'wskaż dziewico', 'wskaż historii', 'wskaż matko', 'wskaż mi', 'wskaż pani', 'wskaż uciśnionych', 'wskażą drogi', 'wspaniałe dzieła', 'wspaniały ponad', 'wspaniałym bogiem', 'wspomniał na', 'wspomnij panie', 'wspomożycielem cień', 'wspólnym wysiłkiem', 'wspólną drogą', 'wstałeś dziś', 'wstrząsnąć bogatego', 'wstępujcie dziękczynieniem', 'wszechmocny jego', 'wszechmocny on', 'wszechmogący nasz', 'wszechmogący nieskończony', 'wszechmogący panie', 'wszechświat na', 'wszechświata jest', 'wszedłeś moje', 'wszelka chwała', 'wszelka cześć', 'wszelka moc', 'wszelkiej radości', 'wszelką chwałę', 'wszyscy aniołowie', 'wszyscy jego', 'wszyscy jesteśmy', 'wszyscy którzy', 'wszyscy ludzie', 'wszyscy nasze', 'wszyscy on', 'wszyscy słudzy', 'wszyscy wielbią', 'wszystkich aby', 'wszystkich głodnych', 'wszystkich mych', 'wszystkich narodów', 'wszystkich nas', 'wszystkich niewiast', 'wszystkich sił', 'wszystkich swoich', 'wszystkich ty', 'wszystkie dni', 'wszystkie góry', 'wszystkie jego', 'wszystkie krańce', 'wszystkie ludy', 'wszystkie me', 'wszystkie moje', 'wszystkie narody', 'wszystkie pokolenia', 'wszystkie swoje', 'wszystkie twoje', 'wszystkie wieki', 'wszystkie ziemie', 'wszystkie łzy', 'wszystkie świata', 'wszystkim czym', 'wszystkim on', 'wszystkim opuszczonym', 'wszystko bo', 'wszystko cenny', 'wszystko co', 'wszystko czego', 'wszystko dał', 'wszystko dziś', 'wszystko jest', 'wszystko mogę', 'wszystko objaw', 'wszystko rozumie', 'wszystko spełni', 'wszystko to', 'wszystko tobie', 'wszystko wali', 'wszystko wie', 'wszystko wiesz', 'wszystko śpiewa', 'wszystko śpiewaj', 'wszystką radość', 'wszędzie że', 'wtedy byłem', 'wtedy myślę', 'wtórze cytry', 'wybacz umierającym', 'wybaczać co', 'wybaw nas', 'wybawienie ref', 'wybrana przyjdź', 'wybranych on', 'wybranym pokoleniem', 'wybrał dla', 'wybrał pan', 'wybłagaj zdroje', 'wychowuje słodkie', 'wychwalajcie go', 'wyciągam podziwie', 'wyczerpane jest', 'wydźwignąć pokornego', 'wykrzykujcie bogu', 'wykrzykujcie królowi', 'wykrzykujcie na', 'wylej na', 'wylej swą', 'wylewaj się', 'wylewaj swe', 'wyniosłe ich', 'wyniosłość serc', 'wypal panie', 'wypatrujesz co', 'wypełnia nas', 'wypełnij nas', 'wypełnij życie', 'wypełnić serca', 'wypłyń na', 'wysiłkiem nowy', 'wysokiego krzyża', 'wysoko niebo', 'wysoko sięgać', 'wysokościach cześć', 'wyspach ty', 'wystarczy byś', 'wystarczy x2', 'wyswobodził nas', 'wysławia to', 'wysławiaj go', 'wysławiajcie go', 'wysławiamy cię', 'wysławiać chcę', 'wysławiać śpiewać', 'wysłuchaj jak', 'wysłuchać nas', 'wysłuchał mnie', 'wytrwali miłości', 'wytrwali ref', 'wywyższaj go', 'wywyższam cię', 'wywyższamy cię', 'wywyższać go', 'wywyższać imię', 'wywyższało serce', 'wywyższona choć', 'wywyższone nad', 'wywyższonego widzieć', 'wywyższony bądź', 'wywyższony na', 'wywyższony nasz', 'wywyższony oddajmy', 'wywyższony pan', 'wywyższony wśród', 'wywyższy nas', 'wywyższył pokornych', 'wyzna jego', 'wyznaczył drogę', 'wyznaje ci', 'wyznajemy wszystkich', 'wyznać to', 'wyznać że', 'wyzwoli niszcząc', 'wyzwoliłeś nas', 'wyzwól mnie', 'wyższa jest', 'wzbogacasz język', 'wzgardzonych pokój', 'względu na', 'wzgórzu golgoty', 'wziąć mój', 'wzniesiona ref', 'wznieć ref', 'wznieś je', 'wznieś swój', 'wzniosę się', 'wzniosłe niechaj', 'wzniosły jego', 'wznosi się', 'wznoszę górę', 'wznoszę mój', 'wznoszę ręce', 'wzorze prostoty', 'wzrok abym', 'wzrok ma', 'wzrok na', 'wzrok ref', 'wzwyż miłość', 'wzywajmy jego', 'wzywające ciebie', 'wzywam cię', 'wzywamy go', 'wzywasz nas', 'wód boże', 'wód ja', 'wątłą słabość', 'wędrowców przez', 'wędrówki tkwi', 'wędrówkę powierz', 'węgielnym pan', 'władca narodów', 'władców tronu', 'władzę wydźwignąć', 'własne życie', 'własnością ref', 'własny grzech', 'wśród chwał', 'wśród hymnów', 'wśród najcięższych', 'wśród nocy', 'wśród okrzyków', 'wśród łez', 'x2 jezus', 'x2 któż', 'x2 nie', 'x2 obecność', 'x2 pokłońmy', 'x2 posyła', 'x2 radujmy', 'x2 twe', 'za cenę', 'za ciebie', 'za dnia', 'za dobroć', 'za duchem', 'za miłość', 'za mnie', 'za mną', 'za nam', 'za nami', 'za nas', 'za nasze', 'za nich', 'za przewodem', 'za swoim', 'za swym', 'za ten', 'za to', 'za tobą', 'za trudnych', 'za twe', 'za twój', 'za wszystkich', 'zabieganych ludzi', 'zabiera strach', 'zabierz mój', 'zabierz tam', 'zabierzesz mnie', 'zabraknie mi', 'zabraknie rozmnoży', 'zabrzmi chwała', 'zabrzmi panu', 'zabrzmi pieśń', 'zabłąkane owce', 'zachodu jak', 'zachwiać ref', 'zachwycie klękamy', 'zadane krwawej', 'zagości nadzieja', 'zagości nas', 'zagości niech', 'zagraża toń', 'zajaśniał jak', 'zajaśniały ref', 'zajaśnieje nad', 'zakiełkuje miej', 'zakończy każdy', 'zakątek na', 'zamiar może', 'zamiarem boga', 'zamieniłeś wino', 'zamieszkaj nas', 'zamieszkuje przez', 'zamknie mi', 'zamkniętych jezu', 'zamysłami serc', 'zanim powiem', 'zanurz mnie', 'zanurzy pan', 'zapala lampy', 'zapominaj błogosławcie', 'zapominaj on', 'zapominaj tak', 'zapomnę tej', 'zaprowadzić do', 'zaprowadź mnie', 'zapuszcza korzenie', 'zapłacić dług', 'zaranna obleczona', 'zasadź mnie', 'zasiada na', 'zaskoczy cię', 'zasnuje miej', 'zaspokoić głodem', 'zastępy ref', 'zastępów moc', 'zastępów pan', 'zatopią jej', 'zatopią nie', 'zatroskany jakby', 'zatrwoży już', 'zatrzyma mnie', 'zatrzyma ref', 'zaufaj dziś', 'zaufaj panu', 'zaufam ci', 'zaufać książętom', 'zawieje znika', 'zawsze być', 'zawsze chcę', 'zawsze cię', 'zawsze jestem', 'zawsze już', 'zawsze masz', 'zawsze na', 'zawsze oddany', 'zawsze rozumiesz', 'zawsze sprawca', 'zawsze troszczy', 'zawsze wielbi', 'zawsze święty', 'zazdrości godny', 'zazdrość jak', 'zazdrość jej', 'zaćmi teraz', 'zaśpiewaj ref', 'zaśpiewać tobie', 'zbawca nasz', 'zbawca on', 'zbawco do', 'zbawco duchu', 'zbawco któż', 'zbawcę jedynego', 'zbawi was', 'zbawia oczyszcza', 'zbawiciel książe', 'zbawiciel on', 'zbawicielu moim', 'zbawicielu rozraduj', 'zbawieni łaski', 'zbawienia bo', 'zbawienia gdyż', 'zbawienia mego', 'zbawienia moc', 'zbawienie boga', 'zbawienie jest', 'zbawienie jezus', 'zbawienie na', 'zbawieniem moim', 'zbawieniem on', 'zbawić ref', 'zbawię cię', 'zbierz na', 'zbierzemy odrzucimy', 'zbliżmy się', 'zburzyć który', 'zbyt błahych', 'zbyt wysoko', 'zbłądzić powiedz', 'zdanie uwielbiam', 'zdobywając ziemię', 'zdolne objąć', 'zdołają ugasić', 'zdroje łask', 'zdrojów zbawienia', 'zdrój chryste', 'zdrój żywy', 'ze mną', 'ze wschodem', 'ze wszystkich', 'ze względu', 'ze zdrojów', 'ze złem', 'ze śladami', 'zeschła ziemia', 'zeszli już', 'zesłać racz', 'ześlij ogień', 'ześlij swój', 'ześlij światło', 'zgasi go', 'zginął ale', 'zgodził się', 'zgotowała jego', 'zgotuje bóg', 'zgromadź jednej', 'zgubisz swą', 'zgubię się', 'zguby on', 'zgładził grzech', 'ziaren pszenicznych', 'ziarenko piasku', 'ziarna tak', 'ziarna zbierzemy', 'ziarno rzuć', 'zielone chwalcie', 'zielonych niwach', 'zielonych pastwiskach', 'ziem patrzę', 'ziemi bo', 'ziemi bóg', 'ziemi gdzie', 'ziemi jego', 'ziemi król', 'ziemi krąg', 'ziemi ludy', 'ziemi możni', 'ziemi nie', 'ziemi niech', 'ziemi on', 'ziemi pokój', 'ziemi tej', 'ziemi tyś', 'ziemi wolność', 'ziemi wśród', 'ziemi zbawienie', 'ziemi śpiewajcie', 'ziemia czas', 'ziemia jest', 'ziemia którą', 'ziemia nasza', 'ziemia radują', 'ziemia rosy', 'ziemia ta', 'ziemia śpiewa', 'ziemie wśród', 'ziemio bo', 'ziemio bóg', 'ziemio chwalcie', 'ziemio cieszcie', 'ziemio raduj', 'ziemio wołaj', 'ziemią ref', 'ziemią tak', 'ziemię by', 'ziemię dla', 'ziemię gdy', 'ziemię na', 'ziemię naszych', 'ziemię pociesz', 'ziemię tę', 'ziemię wszystko', 'ziemię życiodajny', 'zioła szczyty', 'zjednoczenia cud', 'zlituje niezmiernej', 'zmartwychwstaniem ty', 'zmartwychwstał on', 'zmartwychwstał pan', 'zmartwychwstał pokonał', 'zmartwychwstał temu', 'zmartwychwstałeś dzięki', 'zmartwychwstały pan', 'zmartwychwstały ze', 'zmarł powstał', 'zmarł za', 'zmarłeś by', 'zmarłeś powstałeś', 'zmienia się', 'zmienia strach', 'zmieniasz mnie', 'zmieniłeś świat', 'zmiłuj się', 'zmrok ref', 'zna każde', 'znaczenia dlatego', 'znajdziesz spokój', 'znak ja', 'znaku chleba', 'znaku nadziei', 'znaku wiary', 'znalazłem to', 'znasz dziećmi', 'znasz jego', 'znasz już', 'znasz słyszysz', 'znasz wspaniałym', 'znać daj', 'znał mój', 'znieść ci', 'znika po', 'zniknie gdzieś', 'zniszczmy wszystko', 'zniżasz się', 'znów abyśmy', 'znów gdy', 'znów gości', 'znów nadszedł', 'znów się', 'znów widzą', 'znów że', 'zobaczy to', 'zobaczysz że', 'zobaczyć dobro', 'zostaną rozdaj', 'zostanę nadejdzie', 'zostać jemu', 'zostać tobą', 'został tylko', 'zostałeś aby', 'zostań tu', 'zrobić mi', 'zrodził do', 'zrozpaczonych chleba', 'zstąp bądź', 'zstąp miłości', 'zstąp ogniu', 'zstąp przyjdź', 'zstąpi duch', 'zstąpił nieba', 'zstąpiłeś chcesz', 'zstępuje duch', 'zstępuje nieba', 'zsyła deszcz', 'zszedłeś na', 'zwan najwyższego', 'zwać błogosławioną', 'zwiędną nigdy', 'zwleczmy siebie', 'zwracając się', 'zwycięstwo mu', 'zwycięża ufam', 'zwyciężał każdy', 'zwyciężyć zło', 'zwyciężył śmierć', 'zwyczajnie jak', 'zwątpienie trwogę', 'zórz słońce', 'zła bo', 'zła się', 'złam tak', 'złe zniknie', 'złego mnie', 'złem nowi', 'złem zwleczmy', 'zło co', 'zło drży', 'zło trzeba', 'złota blaskiem', 'złote ziarna', 'złoto lśnić', 'złożą jest', 'zły oczy', 'zły zaufaj', 'złącz kościele', 'złączył złote', 'ładu sobą', 'łaknie ref', 'łaknących prawdy', 'łaknącym braciom', 'łamania potrzeba', 'łan dojrzewa', 'łasce nie', 'łasce swej', 'łask by', 'łaska grobu', 'łaska jego', 'łaska na', 'łaska nad', 'łaska twa', 'łaska usprawiedliwieni', 'łaskawa chcesz', 'łaskawość jego', 'łaskawość nad', 'łaskawość twoja', 'łaskawy cały', 'łaski możemy', 'łaski nadziei', 'łaski panie', 'łaski swojej', 'łaski twej', 'łaską jesteśmy', 'łaską obdarzeni', 'łaską przebaczenia', 'łaską siedemkroć', 'łaskę zesłać', 'łez nowe', 'łona bym', 'łzy oczu', 'łzy on', 'łzy sercu', 'łzy twe', 'łzy zabierz', 'łzy zaufaj', 'łzy żale', 'łączy kropel', 'łączy nas', 'łąki umajone', 'ściana największa', 'ścieżkami sprawiedliwości', 'ślad ref', 'śladami męki', 'ślepi przy', 'ślepy on', 'śliczna pani', 'śmiech płacz', 'śmieje proroków', 'śmierci przygarniając', 'śmierci życia', 'śmierci życie', 'śmierć jezus', 'śmierć nie', 'śmierć potężna', 'śmierć pragnę', 'śmierć więc', 'śmierć ześlij', 'śmierć zwycięża', 'śniegu ta', 'śnię głosem', 'śpiewa alleluja', 'śpiewa ci', 'śpiewa nową', 'śpiewa wielka', 'śpiewa śpiewa', 'śpiewaj mu', 'śpiewaj panu', 'śpiewaj pieśń', 'śpiewajcie jest', 'śpiewajcie królowi', 'śpiewajcie mu', 'śpiewajcie on', 'śpiewajcie pan', 'śpiewajcie panu', 'śpiewajcie radosnym', 'śpiewajcie wszyscy', 'śpiewajcie wszystkie', 'śpiewajcie wybrał', 'śpiewajmy alleluja', 'śpiewajmy panu', 'śpiewajmy pieśń', 'śpiewam chwały', 'śpiewam ci', 'śpiewam święty', 'śpiewamy prosząc', 'śpiewamy radością', 'śpiewać alleluja', 'śpiewać będziemy', 'śpiewać ci', 'śpiewać gdy', 'śpiewać memu', 'śpiewać pieśń', 'śpiewać psalm', 'śpiewać tobie', 'śpiewał całej', 'śpiewał ci', 'śpiewał tę', 'świadczyć odważnie', 'świadectwo nadziei', 'świat aby', 'świat błogosławiony', 'świat ci', 'świat ciągu', 'świat dotknij', 'świat dziś', 'świat jest', 'świat lepszym', 'świat nam', 'świat nowi', 'świat panie', 'świat pogrążony', 'świat ref', 'świat się', 'świat swym', 'świat ty', 'świat tę', 'świat wszystko', 'świat zaufaj', 'świat że', 'świata bo', 'świata hołd', 'świata jej', 'świata królową', 'świata pałac', 'świata promieniu', 'świata przyjm', 'świata strony', 'świata zmiłuj', 'światu brak', 'światu daj', 'światu potrzeba', 'światłem bądź', 'światłem dnia', 'światłem iść', 'światłem natchnął', 'światłem ogarnij', 'światłem rozjaśnij', 'światło jest', 'światło każdy', 'światło niechaj', 'światło łaknących', 'światłości twej', 'światłością mej', 'światłością pachnie', 'światłość dnia', 'światłość go', 'świec cud', 'świecisz ty', 'świecące wiatry', 'świecące wielbijcie', 'świeć synem', 'świeżym chlebem', 'świątyni ujrzeć', 'święci swój', 'święci twoi', 'święta krew', 'święta sercu', 'święta wola', 'święte imię', 'święte jego', 'święte ramię', 'święte rany', 'świętego on', 'świętego weźmijcie', 'świętemu jak', 'świętemu śpiewaj', 'święty boże', 'święty bóg', 'święty chcę', 'święty cudownym', 'święty czekam', 'święty duch', 'święty gdzie', 'święty ja', 'święty jest', 'święty namaszczony', 'święty oczyść', 'święty ogarnij', 'święty ojcze', 'święty pan', 'święty potężny', 'święty powiej', 'święty przyjdź', 'święty ref', 'święty staje', 'święty tobie', 'święty tylko', 'święty święty', 'świętym chwale', 'świętym ciałem', 'świętym narodem', 'świętym tronem', 'świętą wlej', 'źle przyjacielu', 'źle wiesz', 'źródła kręte', 'źródła niech', 'źródła serce', 'źródłem mym', 'źródłem życia', 'źródło mych', 'źródłom wody', 'żaden goliat', 'żaden mur', 'żadna ściana', 'żal ból', 'żal oczach', 'żale każda', 'żar dziś', 'żar jej', 'żar ognia', 'żar siedmioraki', 'żar ty', 'że bóg', 'że ciszy', 'że czasem', 'że czuję', 'że człowiekiem', 'że dałeś', 'że gdy', 'że ja', 'że jest', 'że jesteś', 'że kocham', 'że krew', 'że miłość', 'że mnie', 'że mu', 'że na', 'że nie', 'że nieskończenie', 'że on', 'że pan', 'że ref', 'że się', 'że swego', 'że syna', 'że szukam', 'że tak', 'że to', 'że tonę', 'że tutaj', 'że tylko', 'że tyś', 'że wspaniałym', 'że wszystko', 'że zanim', 'że zawsze', 'że zmartwychwstałeś', 'żeby ją', 'żegnała która', 'żeś ducha', 'żeśmy prochem', 'życia dar', 'życia jest', 'życia królem', 'życia lat', 'życia masz', 'życia mego', 'życia niech', 'życia on', 'życia wiecznego', 'życia wieczności', 'życia wpisz', 'życie będzie', 'życie chwałą', 'życie daj', 'życie dać', 'życie dał', 'życie dobrem', 'życie dzisiaj', 'życie ludzi', 'życie me', 'życie oddaje', 'życie oddałem', 'życie on', 'życie ono', 'życie ozłoci', 'życie ref', 'życie swe', 'życie to', 'życie tworząc', 'życie wieczne', 'życie za', 'życiem boś', 'życiem jezus', 'życiem kocham', 'życiem mym', 'życiem oczekiwaniem', 'życiem wypełnij', 'życiodajny spłynie', 'życiu powierz', 'życiu tak', 'żyje dziś', 'żyje krąg', 'żyje niech', 'żyje wywyższony', 'żyje śpiewa', 'żyje świat', 'żyjących początku', 'żywa wodą', 'żywe słowo', 'żywej mnie', 'żywej popłyną', 'żywi wychowuje', 'żywioły wodne', 'żywota ref', 'żywy bóg', 'żywy miłość', 'żywym kto', 'żywym który', 'żyć by', 'żyć chcę', 'żyć dla', 'żyć nie', 'żyć ref', 'żyć tak', 'żyć za', 'żył chcę', 'żył gdzie', 'żył maryjo', 'żył na', 'żył pan', 'żył we', 'żyła prosto', 'żyłby we']\n"
     ]
    }
   ],
   "source": [
    "ngram_vect_p = CountVectorizer(ngram_range=(2,2))\n",
    "X_counts_p = ngram_vect_p.fit_transform(df_p['Tekst'])\n",
    "\n",
    "print(X_counts_p.shape)\n",
    "print(ngram_vect_p.get_feature_names())"
   ]
  },
  {
   "cell_type": "markdown",
   "metadata": {},
   "source": [
    "### Tf-idf \n",
    "\n",
    "#### Term frequency - inverse document frequency\n",
    "Ważenie częstością termów - odwrotna częstość w dokumentach - jedna z metod obliczania wagi słów w oparciu o liczbę ich wystąpień, należąca do grupy algorytmów obliczających statystyczne wagi termów. \n",
    "- Każdy dokument reprezentowany jest przez wektor, składający się z wag słów występujących w tym dokumencie. \n",
    "- TFIDF informuje o częstości wystąpienia termów uwzględniając jednocześnie odpowiednie wyważenie znaczenia lokalnego termu i jego znaczenia w kontekście pełnej kolekcji dokumentów. \n",
    "\n",
    "https://pl.wikipedia.org/wiki/TFIDF\n",
    "\n",
    "- Pozwala na określenie rzadkich, ale ważnych słów każdym dokumencie\n",
    "\n",
    "$$w(i,j) = tf(i,j) * log(\\frac{N}{df(i)})$$\n",
    "\n",
    "gdzie:\n",
    "\n",
    ">* w(i,f) - waga tokenu i w dokumencie j\n",
    ">* tf(i,j) - liczba wystąpień tokenu i w dokumencie j\n",
    ">* df(i) - licza dokumentów zawierających token i\n",
    ">*N - liczba wszystkich dokumentów"
   ]
  },
  {
   "cell_type": "code",
   "execution_count": 53,
   "metadata": {},
   "outputs": [],
   "source": [
    "def clean_text3(text):\n",
    "    text = \"\".join([word for word in text if word not in string.punctuation])\n",
    "    tokens = re.split('\\W+', text)\n",
    "    #text = [ps.stem(word) for word in tokens if word not in stopwords]\n",
    "    return tokens"
   ]
  },
  {
   "cell_type": "code",
   "execution_count": 54,
   "metadata": {},
   "outputs": [
    {
     "name": "stdout",
     "output_type": "stream",
     "text": [
      "(11, 719)\n",
      "['', 'A', 'Abiatara', 'Alfeusza', 'Andrzeja', 'Bacz', 'Boga', 'Boże', 'Bożego', 'Boży', 'Bożą', 'Był', 'Cały', 'Chcę', 'Ci', 'Cię', 'Co', 'Czas', 'Czego', 'Czemu', 'Czy', 'Czyż', 'Człowieczy', 'Cóż', 'Dawid', 'Dlaczego', 'Dziecko', 'Ewangelię', 'Galilei', 'Galilejskiego', 'Galilejskiej', 'Gdy', 'Go', 'Heroda', 'I', 'Idumei', 'Idąc', 'Jak', 'Jakuba', 'Jakubem', 'Jan', 'Jana', 'Janem', 'Jego', 'Jej', 'Jerozolimy', 'Jeziora', 'Jezus', 'Jezusa', 'Jezusem', 'Jezusie', 'Jeśli', 'Judei', 'Kafarnaum', 'Kanie', 'Każdy', 'Któż', 'Lecz', 'Lewiego', 'Matka', 'Milcz', 'Mną', 'Mojżesz', 'Mu', 'Mówię', 'Mówił', 'Na', 'Napełnijcie', 'Nawet', 'Nawracajcie', 'Nazarejczyku', 'Nie', 'Niego', 'Niektórzy', 'Niemu', 'Niewiasto', 'Nigdy', 'Nikt', 'Nim', 'Nowa', 'Objawił', 'Odpuszczone', 'On', 'Otóż', 'Panem', 'Patrz', 'Pewnego', 'Piśmie', 'Po', 'Podnieś', 'Potem', 'Pośpieszył', 'Przechodząc', 'Przyszedłeś', 'Przyszli', 'Pójdź', 'Pójdźcie', 'Pójdźmy', 'Raczej', 'Stało', 'Sydonu', 'Syn', 'Szymon', 'Szymona', 'Szymonowego', 'Taki', 'Także', 'Ten', 'Teściowa', 'To', 'Toteż', 'Twoi', 'Twoja', 'Ty', 'Tyru', 'Uczniowie', 'Uzdrowił', 'W', 'Wielu', 'Wiem', 'Wino', 'Wstań', 'Wszyscy', 'Wtedy', 'Wyciągnij', 'Wyciągnął', 'Z', 'Zaczerpnijcie', 'Zaczął', 'Zajordania', 'Zaproszono', 'Zaraz', 'Zatem', 'Zdumieli', 'Zdumiewali', 'Zebedeusza', 'Zebrało', 'Zróbcie', 'a', 'aby', 'abym', 'abyś', 'ale', 'aż', 'bliskie', 'bluźni', 'bo', 'bowiem', 'brata', 'brzegi', 'bukłaki', 'bukłaków', 'byli', 'była', 'było', 'bądź', 'będą', 'całe', 'całej', 'celnej', 'celnikami', 'celników', 'chcesz', 'chleby', 'chodził', 'chodź', 'chorobami', 'choroby', 'chorych', 'chwałę', 'ci', 'ciemno', 'cisnęli', 'co', 'cokolwiek', 'coś', 'czas', 'czasie', 'czego', 'czegoś', 'czemu', 'czerpali', 'czterech', 'czy', 'czynią', 'czytaliście', 'część', 'człowiek', 'człowieka', 'dach', 'dalej', 'dał', 'dla', 'dnia', 'do', 'dobre', 'dobrego', 'dodał', 'dokoła', 'domu', 'dopóki', 'dotkniętych', 'dotknąć', 'dotknął', 'drodze', 'drugiego', 'drzwi', 'drzwiami', 'duch', 'ducha', 'duchom', 'duchu', 'duchy', 'duchów', 'dwie', 'działał', 'dzień', 'długo', 'faryzeusze', 'faryzeuszów', 'galilejskiej', 'gdy', 'gdzie', 'gniewem', 'go', 'godzina', 'gorsze', 'gorączce', 'gorączka', 'goście', 'grzechy', 'grzechów', 'grzesznikami', 'grzeszników', 'głosił', 'głośnym', 'głód', 'i', 'ich', 'idź', 'im', 'indziej', 'iż', 'jadł', 'jak', 'jakaś', 'jaki', 'jakieś', 'jawnie', 'je', 'jeden', 'jednego', 'jego', 'jest', 'jesteś', 'jeszcze', 'jeziora', 'jezioro', 'jeść', 'już', 'ją', 'kamiennych', 'kapłana', 'kapłanom', 'kapłanowi', 'każda', 'kiedy', 'kilku', 'kolana', 'komorze', 'krainie', 'krzykiem', 'królestwo', 'kto', 'która', 'które', 'którego', 'który', 'których', 'którzy', 'którą', 'kłosy', 'lecz', 'lekarza', 'leżał', 'leżała', 'litością', 'lub', 'lud', 'ludzi', 'ludzie', 'ma', 'mają', 'miary', 'miasta', 'miasto', 'miał', 'miejsca', 'miejscach', 'miejsce', 'miejscem', 'miejscowości', 'mieli', 'milczeli', 'miotać', 'mnie', 'mnóstwo', 'mocą', 'modlił', 'mogą', 'mogąc', 'mogła', 'moja', 'może', 'możesz', 'mu', 'myśleli', 'myśli', 'myślą', 'mógł', 'mówi', 'mówili', 'mówiąc', 'mówić', 'mówił', 'młode', 'młodego', 'młody', 'na', 'nad', 'nadeszła', 'najemnikami', 'najpierw', 'najwyższego', 'należy', 'napełnili', 'napierano', 'napiją', 'naprawiali', 'naradzali', 'nas', 'nastaniem', 'natychmiast', 'nauczając', 'nauczać', 'nauczał', 'nauka', 'nauką', 'naukę', 'nawet', 'nic', 'nich', 'nie', 'nieco', 'nieczyste', 'nieczystego', 'nieczysty', 'nieczystym', 'niego', 'niej', 'nigdy', 'nikomu', 'nim', 'nimi', 'niosło', 'nosze', 'nowa', 'nowych', 'nurtują', 'o', 'obok', 'obrywa', 'oczach', 'oczyszczenie', 'oczyszczeń', 'oczyszczony', 'oczyścić', 'od', 'odbywało', 'oddalił', 'odkryli', 'odpowiedział', 'odprawił', 'odpuszczania', 'odpuszczać', 'odpuszczone', 'ofiarę', 'ojca', 'okolic', 'okolicznej', 'on', 'oni', 'ono', 'opowiadać', 'opuścił', 'opuściła', 'opętany', 'opętanych', 'oraz', 'oskarżyć', 'otwór', 'padały', 'pan', 'pana', 'paralityk', 'paralityka', 'paralitykiem', 'paralitykowi', 'pewnym', 'pije', 'po', 'pochodzi', 'poczuł', 'początek', 'podniósł', 'podobnego', 'podszedł', 'pogotowiu', 'pokaż', 'pokładne', 'polecił', 'pomieścić', 'ponieważ', 'pory', 'porzuciwszy', 'post', 'poszczą', 'poszedł', 'poszli', 'posłuszne', 'posłyszano', 'potrzebie', 'potrzebują', 'powie', 'powiedział', 'powiedziała', 'powiedzieli', 'powiedzieć', 'powodu', 'powołać', 'powołał', 'poznał', 'pozwalał', 'pościć', 'pośród', 'prosił', 'przebywał', 'przechodził', 'przechodząc', 'przeciwko', 'przeciwnym', 'przed', 'przedarcie', 'przepadną', 'przepisał', 'przez', 'przeznaczonych', 'przy', 'przychodził', 'przyjdzie', 'przykazał', 'przynieść', 'przynosili', 'przyszedł', 'przyszedłem', 'przyszli', 'przyszywa', 'przyszło', 'przywołał', 'prócz', 'pustynne', 'pustynnych', 'pytali', 'pytał', 'ranem', 'razem', 'razie', 'razu', 'rozerwie', 'rozeszła', 'rozgłaszać', 'rozkazał', 'rozkazuje', 'rozmaitymi', 'rybakami', 'rzekł', 'rzekła', 'również', 'ręka', 'ręką', 'rękę', 'schodzili', 'serc', 'sercach', 'siebie', 'sieci', 'siedział', 'siedziało', 'siedzącego', 'sieć', 'się', 'skosztował', 'skąd', 'spojrzawszy', 'sposób', 'spośród', 'sprawa', 'sprawiedliwych', 'sprawię', 'spuścili', 'staje', 'stale', 'staniecie', 'starego', 'starosta', 'staroście', 'starych', 'stawia', 'stała', 'stole', 'stronę', 'stągwi', 'stągwie', 'sukna', 'surowego', 'surowo', 'swe', 'swego', 'swoich', 'swoim', 'swoje', 'swoją', 'swym', 'swymi', 'syna', 'synagodze', 'synagogach', 'synagogi', 'szabat', 'szabatu', 'sześć', 'szli', 'szukają', 'szło', 'są', 'sąsiednich', 'słońce', 'słudzy', 'sług', 'tak', 'także', 'tam', 'te', 'tego', 'tej', 'ten', 'teraz', 'też', 'to', 'towarzyszami', 'towarzysze', 'towarzyszom', 'trzy', 'trąd', 'trędowaty', 'twoje', 'tych', 'tylko', 'tylu', 'tym', 'tłum', 'tłumu', 'u', 'ubrania', 'uczeni', 'uczniami', 'uczniom', 'uczniowie', 'uczniów', 'uczonych', 'uczynić', 'uczynił', 'uczył', 'udał', 'ujawniały', 'ujrzał', 'ująwszy', 'upadłszy', 'uratować', 'uschniętą', 'uschłą', 'ustanowiony', 'usługiwała', 'usłyszawszy', 'uwierzyli', 'uwięziony', 'uzdrowi', 'uzdrowił', 'w', 'wam', 'waszych', 'wejść', 'wesele', 'weselnemu', 'weselni', 'weselny', 'weź', 'wiarę', 'widok', 'widzieliśmy', 'widząc', 'wieczora', 'wiedział', 'wiedzieli', 'wielbili', 'wiele', 'wielkie', 'wielu', 'wierzcie', 'wieść', 'wina', 'winem', 'wino', 'więc', 'wlewa', 'wlewać', 'wnet', 'wody', 'wodą', 'wodę', 'wolno', 'wołać', 'wołały', 'wrócił', 'wskutek', 'wstał', 'wszedł', 'wszyscy', 'wszystkich', 'wszystko', 'wszędzie', 'wtedy', 'wyciągnął', 'wyjdź', 'wyjściu', 'wylewa', 'wypełnił', 'wyrzucając', 'wyrzucił', 'wyszedł', 'wyszedłem', 'wyszli', 'względu', 'wziął', 'wówczas', 'władzę', 'właśnie', 'z', 'za', 'zabiorą', 'zabić', 'zabrakło', 'zabraniał', 'zachowałeś', 'zaczął', 'zaczęli', 'zanieście', 'zanieśli', 'zaraz', 'zarzucali', 'zasmucony', 'zaszło', 'zatem', 'zatwardziałości', 'zaś', 'zbóż', 'zdjęty', 'zdrowa', 'zdrowi', 'zdumieli', 'ze', 'zebrało', 'zechcesz', 'zewsząd', 'zgubić', 'zgładzić', 'ziemi', 'znajdował', 'znaków', 'znalazł', 'znaleźli', 'znałyNad', 'znowu', 'znów', 'zostawiwszy', 'został', 'zrywać', 'zwolennikami', 'złe', 'złego', 'złych', 'złym', 'złóż', 'ów', 'łata', 'łatwiej', 'łaty', 'łodzi', 'łódka', 'Święty', 'śledzili', 'środek', 'świadectwo', 'źle', 'Życie', 'że', 'żeby', 'żebyście', 'żydowskich']\n"
     ]
    }
   ],
   "source": [
    "#from gensim.models.tfidfmodel import TfidfModel\n",
    "#from nltk.corpus import wordnet as wn\n",
    "import string\n",
    "from sklearn.feature_extraction.text import TfidfVectorizer\n",
    "\n",
    "tfidf_vect = TfidfVectorizer(analyzer=clean_text3)\n",
    "X_tfidf = tfidf_vect.fit_transform(df['Ewangelia'])\n",
    "print(X_tfidf.shape)\n",
    "print(tfidf_vect.get_feature_names())"
   ]
  },
  {
   "cell_type": "code",
   "execution_count": 55,
   "metadata": {},
   "outputs": [
    {
     "data": {
      "text/html": [
       "<div>\n",
       "<style scoped>\n",
       "    .dataframe tbody tr th:only-of-type {\n",
       "        vertical-align: middle;\n",
       "    }\n",
       "\n",
       "    .dataframe tbody tr th {\n",
       "        vertical-align: top;\n",
       "    }\n",
       "\n",
       "    .dataframe thead th {\n",
       "        text-align: right;\n",
       "    }\n",
       "</style>\n",
       "<table border=\"1\" class=\"dataframe\">\n",
       "  <thead>\n",
       "    <tr style=\"text-align: right;\">\n",
       "      <th></th>\n",
       "      <th></th>\n",
       "      <th>A</th>\n",
       "      <th>Abiatara</th>\n",
       "      <th>Alfeusza</th>\n",
       "      <th>Andrzeja</th>\n",
       "      <th>Bacz</th>\n",
       "      <th>Boga</th>\n",
       "      <th>Boże</th>\n",
       "      <th>Bożego</th>\n",
       "      <th>Boży</th>\n",
       "      <th>...</th>\n",
       "      <th>Święty</th>\n",
       "      <th>śledzili</th>\n",
       "      <th>środek</th>\n",
       "      <th>świadectwo</th>\n",
       "      <th>źle</th>\n",
       "      <th>Życie</th>\n",
       "      <th>że</th>\n",
       "      <th>żeby</th>\n",
       "      <th>żebyście</th>\n",
       "      <th>żydowskich</th>\n",
       "    </tr>\n",
       "  </thead>\n",
       "  <tbody>\n",
       "    <tr>\n",
       "      <th>0</th>\n",
       "      <td>0.037271</td>\n",
       "      <td>0.047993</td>\n",
       "      <td>0.000000</td>\n",
       "      <td>0.000000</td>\n",
       "      <td>0.000000</td>\n",
       "      <td>0.000</td>\n",
       "      <td>0.000000</td>\n",
       "      <td>0.000000</td>\n",
       "      <td>0.000000</td>\n",
       "      <td>0.104052</td>\n",
       "      <td>...</td>\n",
       "      <td>0.000000</td>\n",
       "      <td>0.000000</td>\n",
       "      <td>0.000000</td>\n",
       "      <td>0.000</td>\n",
       "      <td>0.000000</td>\n",
       "      <td>0.000000</td>\n",
       "      <td>0.000000</td>\n",
       "      <td>0.177879</td>\n",
       "      <td>0.000000</td>\n",
       "      <td>0.000000</td>\n",
       "    </tr>\n",
       "    <tr>\n",
       "      <th>1</th>\n",
       "      <td>0.038888</td>\n",
       "      <td>0.150227</td>\n",
       "      <td>0.000000</td>\n",
       "      <td>0.000000</td>\n",
       "      <td>0.000000</td>\n",
       "      <td>0.000</td>\n",
       "      <td>0.000000</td>\n",
       "      <td>0.000000</td>\n",
       "      <td>0.000000</td>\n",
       "      <td>0.000000</td>\n",
       "      <td>...</td>\n",
       "      <td>0.000000</td>\n",
       "      <td>0.108566</td>\n",
       "      <td>0.108566</td>\n",
       "      <td>0.000</td>\n",
       "      <td>0.000000</td>\n",
       "      <td>0.108566</td>\n",
       "      <td>0.000000</td>\n",
       "      <td>0.092799</td>\n",
       "      <td>0.000000</td>\n",
       "      <td>0.000000</td>\n",
       "    </tr>\n",
       "    <tr>\n",
       "      <th>2</th>\n",
       "      <td>0.040685</td>\n",
       "      <td>0.000000</td>\n",
       "      <td>0.113583</td>\n",
       "      <td>0.000000</td>\n",
       "      <td>0.000000</td>\n",
       "      <td>0.000</td>\n",
       "      <td>0.000000</td>\n",
       "      <td>0.000000</td>\n",
       "      <td>0.113583</td>\n",
       "      <td>0.000000</td>\n",
       "      <td>...</td>\n",
       "      <td>0.000000</td>\n",
       "      <td>0.000000</td>\n",
       "      <td>0.000000</td>\n",
       "      <td>0.000</td>\n",
       "      <td>0.000000</td>\n",
       "      <td>0.000000</td>\n",
       "      <td>0.000000</td>\n",
       "      <td>0.000000</td>\n",
       "      <td>0.000000</td>\n",
       "      <td>0.000000</td>\n",
       "    </tr>\n",
       "    <tr>\n",
       "      <th>3</th>\n",
       "      <td>0.031222</td>\n",
       "      <td>0.000000</td>\n",
       "      <td>0.000000</td>\n",
       "      <td>0.000000</td>\n",
       "      <td>0.000000</td>\n",
       "      <td>0.000</td>\n",
       "      <td>0.000000</td>\n",
       "      <td>0.000000</td>\n",
       "      <td>0.000000</td>\n",
       "      <td>0.000000</td>\n",
       "      <td>...</td>\n",
       "      <td>0.000000</td>\n",
       "      <td>0.000000</td>\n",
       "      <td>0.000000</td>\n",
       "      <td>0.000</td>\n",
       "      <td>0.000000</td>\n",
       "      <td>0.000000</td>\n",
       "      <td>0.000000</td>\n",
       "      <td>0.000000</td>\n",
       "      <td>0.000000</td>\n",
       "      <td>0.000000</td>\n",
       "    </tr>\n",
       "    <tr>\n",
       "      <th>4</th>\n",
       "      <td>0.027403</td>\n",
       "      <td>0.035286</td>\n",
       "      <td>0.000000</td>\n",
       "      <td>0.000000</td>\n",
       "      <td>0.000000</td>\n",
       "      <td>0.000</td>\n",
       "      <td>0.000000</td>\n",
       "      <td>0.000000</td>\n",
       "      <td>0.000000</td>\n",
       "      <td>0.000000</td>\n",
       "      <td>...</td>\n",
       "      <td>0.000000</td>\n",
       "      <td>0.000000</td>\n",
       "      <td>0.000000</td>\n",
       "      <td>0.000</td>\n",
       "      <td>0.000000</td>\n",
       "      <td>0.000000</td>\n",
       "      <td>0.000000</td>\n",
       "      <td>0.000000</td>\n",
       "      <td>0.000000</td>\n",
       "      <td>0.076502</td>\n",
       "    </tr>\n",
       "    <tr>\n",
       "      <th>5</th>\n",
       "      <td>0.037493</td>\n",
       "      <td>0.048279</td>\n",
       "      <td>0.000000</td>\n",
       "      <td>0.104671</td>\n",
       "      <td>0.000000</td>\n",
       "      <td>0.000</td>\n",
       "      <td>0.000000</td>\n",
       "      <td>0.000000</td>\n",
       "      <td>0.000000</td>\n",
       "      <td>0.000000</td>\n",
       "      <td>...</td>\n",
       "      <td>0.000000</td>\n",
       "      <td>0.000000</td>\n",
       "      <td>0.000000</td>\n",
       "      <td>0.000</td>\n",
       "      <td>0.104671</td>\n",
       "      <td>0.000000</td>\n",
       "      <td>0.063481</td>\n",
       "      <td>0.000000</td>\n",
       "      <td>0.000000</td>\n",
       "      <td>0.000000</td>\n",
       "    </tr>\n",
       "    <tr>\n",
       "      <th>6</th>\n",
       "      <td>0.025346</td>\n",
       "      <td>0.032637</td>\n",
       "      <td>0.000000</td>\n",
       "      <td>0.000000</td>\n",
       "      <td>0.000000</td>\n",
       "      <td>0.000</td>\n",
       "      <td>0.120964</td>\n",
       "      <td>0.000000</td>\n",
       "      <td>0.000000</td>\n",
       "      <td>0.000000</td>\n",
       "      <td>...</td>\n",
       "      <td>0.000000</td>\n",
       "      <td>0.000000</td>\n",
       "      <td>0.000000</td>\n",
       "      <td>0.000</td>\n",
       "      <td>0.000000</td>\n",
       "      <td>0.000000</td>\n",
       "      <td>0.128742</td>\n",
       "      <td>0.000000</td>\n",
       "      <td>0.070759</td>\n",
       "      <td>0.000000</td>\n",
       "    </tr>\n",
       "    <tr>\n",
       "      <th>7</th>\n",
       "      <td>0.038685</td>\n",
       "      <td>0.099629</td>\n",
       "      <td>0.000000</td>\n",
       "      <td>0.000000</td>\n",
       "      <td>0.000000</td>\n",
       "      <td>0.108</td>\n",
       "      <td>0.000000</td>\n",
       "      <td>0.000000</td>\n",
       "      <td>0.000000</td>\n",
       "      <td>0.000000</td>\n",
       "      <td>...</td>\n",
       "      <td>0.000000</td>\n",
       "      <td>0.000000</td>\n",
       "      <td>0.000000</td>\n",
       "      <td>0.108</td>\n",
       "      <td>0.000000</td>\n",
       "      <td>0.000000</td>\n",
       "      <td>0.065500</td>\n",
       "      <td>0.000000</td>\n",
       "      <td>0.000000</td>\n",
       "      <td>0.000000</td>\n",
       "    </tr>\n",
       "    <tr>\n",
       "      <th>8</th>\n",
       "      <td>0.032023</td>\n",
       "      <td>0.000000</td>\n",
       "      <td>0.000000</td>\n",
       "      <td>0.000000</td>\n",
       "      <td>0.076417</td>\n",
       "      <td>0.000</td>\n",
       "      <td>0.000000</td>\n",
       "      <td>0.000000</td>\n",
       "      <td>0.000000</td>\n",
       "      <td>0.000000</td>\n",
       "      <td>...</td>\n",
       "      <td>0.000000</td>\n",
       "      <td>0.000000</td>\n",
       "      <td>0.000000</td>\n",
       "      <td>0.000</td>\n",
       "      <td>0.000000</td>\n",
       "      <td>0.000000</td>\n",
       "      <td>0.000000</td>\n",
       "      <td>0.000000</td>\n",
       "      <td>0.000000</td>\n",
       "      <td>0.000000</td>\n",
       "    </tr>\n",
       "    <tr>\n",
       "      <th>9</th>\n",
       "      <td>0.038081</td>\n",
       "      <td>0.049036</td>\n",
       "      <td>0.000000</td>\n",
       "      <td>0.000000</td>\n",
       "      <td>0.000000</td>\n",
       "      <td>0.000</td>\n",
       "      <td>0.090872</td>\n",
       "      <td>0.000000</td>\n",
       "      <td>0.000000</td>\n",
       "      <td>0.000000</td>\n",
       "      <td>...</td>\n",
       "      <td>0.106313</td>\n",
       "      <td>0.000000</td>\n",
       "      <td>0.000000</td>\n",
       "      <td>0.000</td>\n",
       "      <td>0.000000</td>\n",
       "      <td>0.000000</td>\n",
       "      <td>0.064477</td>\n",
       "      <td>0.000000</td>\n",
       "      <td>0.000000</td>\n",
       "      <td>0.000000</td>\n",
       "    </tr>\n",
       "    <tr>\n",
       "      <th>10</th>\n",
       "      <td>0.036564</td>\n",
       "      <td>0.047082</td>\n",
       "      <td>0.000000</td>\n",
       "      <td>0.000000</td>\n",
       "      <td>0.087252</td>\n",
       "      <td>0.000</td>\n",
       "      <td>0.000000</td>\n",
       "      <td>0.102077</td>\n",
       "      <td>0.000000</td>\n",
       "      <td>0.000000</td>\n",
       "      <td>...</td>\n",
       "      <td>0.000000</td>\n",
       "      <td>0.000000</td>\n",
       "      <td>0.000000</td>\n",
       "      <td>0.000</td>\n",
       "      <td>0.000000</td>\n",
       "      <td>0.000000</td>\n",
       "      <td>0.061908</td>\n",
       "      <td>0.000000</td>\n",
       "      <td>0.000000</td>\n",
       "      <td>0.000000</td>\n",
       "    </tr>\n",
       "  </tbody>\n",
       "</table>\n",
       "<p>11 rows × 719 columns</p>\n",
       "</div>"
      ],
      "text/plain": [
       "                     A  Abiatara  Alfeusza  Andrzeja   Bacz      Boga  \\\n",
       "0   0.037271  0.047993  0.000000  0.000000  0.000000  0.000  0.000000   \n",
       "1   0.038888  0.150227  0.000000  0.000000  0.000000  0.000  0.000000   \n",
       "2   0.040685  0.000000  0.113583  0.000000  0.000000  0.000  0.000000   \n",
       "3   0.031222  0.000000  0.000000  0.000000  0.000000  0.000  0.000000   \n",
       "4   0.027403  0.035286  0.000000  0.000000  0.000000  0.000  0.000000   \n",
       "5   0.037493  0.048279  0.000000  0.104671  0.000000  0.000  0.000000   \n",
       "6   0.025346  0.032637  0.000000  0.000000  0.000000  0.000  0.120964   \n",
       "7   0.038685  0.099629  0.000000  0.000000  0.000000  0.108  0.000000   \n",
       "8   0.032023  0.000000  0.000000  0.000000  0.076417  0.000  0.000000   \n",
       "9   0.038081  0.049036  0.000000  0.000000  0.000000  0.000  0.090872   \n",
       "10  0.036564  0.047082  0.000000  0.000000  0.087252  0.000  0.000000   \n",
       "\n",
       "        Boże    Bożego      Boży     ...        Święty  śledzili    środek  \\\n",
       "0   0.000000  0.000000  0.104052     ...      0.000000  0.000000  0.000000   \n",
       "1   0.000000  0.000000  0.000000     ...      0.000000  0.108566  0.108566   \n",
       "2   0.000000  0.113583  0.000000     ...      0.000000  0.000000  0.000000   \n",
       "3   0.000000  0.000000  0.000000     ...      0.000000  0.000000  0.000000   \n",
       "4   0.000000  0.000000  0.000000     ...      0.000000  0.000000  0.000000   \n",
       "5   0.000000  0.000000  0.000000     ...      0.000000  0.000000  0.000000   \n",
       "6   0.000000  0.000000  0.000000     ...      0.000000  0.000000  0.000000   \n",
       "7   0.000000  0.000000  0.000000     ...      0.000000  0.000000  0.000000   \n",
       "8   0.000000  0.000000  0.000000     ...      0.000000  0.000000  0.000000   \n",
       "9   0.000000  0.000000  0.000000     ...      0.106313  0.000000  0.000000   \n",
       "10  0.102077  0.000000  0.000000     ...      0.000000  0.000000  0.000000   \n",
       "\n",
       "    świadectwo       źle     Życie        że      żeby  żebyście  żydowskich  \n",
       "0        0.000  0.000000  0.000000  0.000000  0.177879  0.000000    0.000000  \n",
       "1        0.000  0.000000  0.108566  0.000000  0.092799  0.000000    0.000000  \n",
       "2        0.000  0.000000  0.000000  0.000000  0.000000  0.000000    0.000000  \n",
       "3        0.000  0.000000  0.000000  0.000000  0.000000  0.000000    0.000000  \n",
       "4        0.000  0.000000  0.000000  0.000000  0.000000  0.000000    0.076502  \n",
       "5        0.000  0.104671  0.000000  0.063481  0.000000  0.000000    0.000000  \n",
       "6        0.000  0.000000  0.000000  0.128742  0.000000  0.070759    0.000000  \n",
       "7        0.108  0.000000  0.000000  0.065500  0.000000  0.000000    0.000000  \n",
       "8        0.000  0.000000  0.000000  0.000000  0.000000  0.000000    0.000000  \n",
       "9        0.000  0.000000  0.000000  0.064477  0.000000  0.000000    0.000000  \n",
       "10       0.000  0.000000  0.000000  0.061908  0.000000  0.000000    0.000000  \n",
       "\n",
       "[11 rows x 719 columns]"
      ]
     },
     "execution_count": 55,
     "metadata": {},
     "output_type": "execute_result"
    }
   ],
   "source": [
    "X_tfidf_df = pd.DataFrame(X_tfidf.toarray())\n",
    "X_tfidf_df.columns = tfidf_vect.get_feature_names()\n",
    "X_tfidf_df"
   ]
  },
  {
   "cell_type": "markdown",
   "metadata": {},
   "source": [
    "### Statystyki"
   ]
  },
  {
   "cell_type": "code",
   "execution_count": 56,
   "metadata": {},
   "outputs": [],
   "source": [
    "def lexical_diversity(text):\n",
    "    return len(text)/len(set(text))\n",
    "\n",
    "def percentage(count,total):\n",
    "    return 100 * count/total"
   ]
  },
  {
   "cell_type": "code",
   "execution_count": 57,
   "metadata": {},
   "outputs": [
    {
     "data": {
      "text/plain": [
       "13.375"
      ]
     },
     "execution_count": 57,
     "metadata": {},
     "output_type": "execute_result"
    }
   ],
   "source": [
    "lexical_diversity(text)"
   ]
  },
  {
   "cell_type": "code",
   "execution_count": 58,
   "metadata": {},
   "outputs": [
    {
     "data": {
      "text/plain": [
       "0.3115264797507788"
      ]
     },
     "execution_count": 58,
     "metadata": {},
     "output_type": "execute_result"
    }
   ],
   "source": [
    "percentage(text.count(bow.most_common(1)[0][0]),len(text))"
   ]
  },
  {
   "cell_type": "code",
   "execution_count": null,
   "metadata": {},
   "outputs": [],
   "source": []
  }
 ],
 "metadata": {
  "kernelspec": {
   "display_name": "Python 3",
   "language": "python",
   "name": "python3"
  },
  "language_info": {
   "codemirror_mode": {
    "name": "ipython",
    "version": 3
   },
   "file_extension": ".py",
   "mimetype": "text/x-python",
   "name": "python",
   "nbconvert_exporter": "python",
   "pygments_lexer": "ipython3",
   "version": "3.6.8"
  }
 },
 "nbformat": 4,
 "nbformat_minor": 2
}
