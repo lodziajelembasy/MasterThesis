{
 "cells": [
  {
   "cell_type": "markdown",
   "metadata": {},
   "source": [
    "# Przygotowanie do lemmatyzacji PL - czytania\n"
   ]
  },
  {
   "cell_type": "code",
   "execution_count": 198,
   "metadata": {},
   "outputs": [],
   "source": [
    "import pandas as pd\n",
    "from download_readings import download_readings\n",
    "from clean_text import clean_text\n",
    "import zipfile\n",
    "\n",
    "\n",
    "def get_cleaned_readings(n):\n",
    "    df_raw = download_readings(n)\n",
    "    df = df_raw.copy()\n",
    "    for each in df_raw.columns:\n",
    "        df[each] = df[each].apply(lambda x: clean_text(x))\n",
    "    return df\n",
    "\n",
    "def prepare_for_lem():\n",
    "    df = get_cleaned_readings(1)\n",
    "    df['Tekst'] = df['Pierwsze czytanie'][0] +' '+ df['Psalm_ref'][0] + ' ' + df['Psalm'][0] +' '+ df['Werset przed Ewangelią'][0] +' ' + df['Ewangelia'][0]\n",
    "    df[['Tekst']].to_csv('PiosenKator\\\\czytania_do_lem\\\\' + str(df.index[0]) + '.txt', header=False, index=False)\n",
    "    zf = zipfile.ZipFile('PiosenKator\\\\czytania_do_lem\\\\czytanie.zip', mode='w')\n",
    "    zf.write('PiosenKator\\\\czytania_do_lem\\\\' + str(df.index[0]) + '.txt')\n",
    "    zf.close()"
   ]
  },
  {
   "cell_type": "code",
   "execution_count": 199,
   "metadata": {},
   "outputs": [],
   "source": [
    "prepare_for_lem()"
   ]
  },
  {
   "cell_type": "code",
   "execution_count": 200,
   "metadata": {},
   "outputs": [],
   "source": [
    "extract()"
   ]
  },
  {
   "cell_type": "code",
   "execution_count": 201,
   "metadata": {},
   "outputs": [
    {
     "data": {
      "text/plain": [
       "'\" Paweł z Milet posłać do Efez i wezwać starsza kościół . a gdy do on przybyły , przemówić do on : „ wiedzieć , jaki być być wśród wy od pierwsza chwila , w który stanąć być w Azja . jak służyć być pan z cały pokora wśród łza i doświadczenie , który ja spotkać z powód zasadzka żydowski . jak nie uchylać być się tchórzliwie od nic , co pożyteczny , tak że przemawiać być i nauczać być wy publicznie i po dom , nawoływać zarówno Żyd żyd , jak i Grek grek do nawrócenie się do bóg i do wiara w Pan pan nasze Jezus . a teraz , naglić duch , udawać się do Jerozolima ; nie wiedzieć , co ja tam spotkać oprócz to , że czekać ja więzy i utrapienie , o czym zapewniać ja duch święty w każdy miasto . lecz ja zgoła nie cenić siebie życie , byleby być tylko dokończyć bieg i posługiwać , który otrzymać być od Pan pan Jezus : byleby być dać świadectwo o Ewangelia ewangelia łaska boży . wiedzieć teraz , że wy wszyscy , wśród który przejść być głosić królestwo , już ja nie ujrzeć . dlatego oświadczać wy dzisiaj : nie być winny niczyj krew , bo nie uchylać być się tchórzliwie od głosić wy cały wola boży ” śpiewać bóg wszystek lud ziemia deszcz obfity zesłać być , bóg , ty być orzeźwić swoje znużony dziedzictwo . twoja rodzina , bóg , znaleźć to mieszkanie , który w swój dobroć dać być ubogi . Pan pan niech być przez wszystek dzień błogosławiony : bóg , który my dźwigać co dzienia , zbawienie nasze bóg nasz być bóg , który wyzwalać , Pan pan my ratować od śmierć . ja być prosić ojciec , a dać wy inny pocieszyciel , aby z wy pozostać na zawsze . w czas ostatni wieczerza Jezus podnieść oko ku niebo , rzec : „ ojciec , nadeszły godzina ! otocz swój syn chwała , aby syn ty on otoczyć i aby moc władza udzielić on przez ty nad każdy człowiek dać życie wieczny wszyscy tym , który on dać być . a to być życie wieczny : aby znal ty , jedyne prawdziwy bóg , oraz to , który posłać być , Jezus Chrystus . ja ty otoczyć być chwała na ziemia przez to , że wypełnić być dzieło , który mi dać być do wykonanie . a teraz ty , ojciec , otocz ja u siebie ten chwała , który miał u ty pierwej , zanim świat powstać . objawić być imię twoja człowiek ludzie , który mi dać być z świat . twoi twój były i ty mi on dać być , a on zachować słowo twoja . teraz poznać , że wszystko , cokolwiek mi dać być , pochodzić od ty . słowo bowiem , który mi powierzyć być , im przekazać być , a on on przyjąć i prawdziwie poznać , że od ty wyjść wynijść wyniść być , oraz uwierzyć , że być ty ja posłać . ja za on prosić , nie prosić za świat , ale za ten , który mi dać być , ponieważ być twoi twój . wszystko bowiem moja być twoja , a twoja być moja , i w on zostać być otoczyć chwała . już nie być na świat , ale on być jeszcze na świat , a ja iść do ty ” . \"'"
      ]
     },
     "execution_count": 201,
     "metadata": {},
     "output_type": "execute_result"
    }
   ],
   "source": [
    "get_txt()"
   ]
  },
  {
   "cell_type": "code",
   "execution_count": 188,
   "metadata": {},
   "outputs": [],
   "source": []
  },
  {
   "cell_type": "code",
   "execution_count": 197,
   "metadata": {},
   "outputs": [],
   "source": []
  },
  {
   "cell_type": "code",
   "execution_count": null,
   "metadata": {},
   "outputs": [],
   "source": []
  }
 ],
 "metadata": {
  "kernelspec": {
   "display_name": "Python 3",
   "language": "python",
   "name": "python3"
  },
  "language_info": {
   "codemirror_mode": {
    "name": "ipython",
    "version": 3
   },
   "file_extension": ".py",
   "mimetype": "text/x-python",
   "name": "python",
   "nbconvert_exporter": "python",
   "pygments_lexer": "ipython3",
   "version": "3.6.8"
  }
 },
 "nbformat": 4,
 "nbformat_minor": 2
}
