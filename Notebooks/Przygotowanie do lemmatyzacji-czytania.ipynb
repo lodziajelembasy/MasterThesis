{
 "cells": [
  {
   "cell_type": "markdown",
   "metadata": {},
   "source": [
    "# Przygotowanie do lemmatyzacji PL - czytania\n"
   ]
  },
  {
   "cell_type": "code",
   "execution_count": 21,
   "metadata": {},
   "outputs": [],
   "source": [
    "import pandas as pd\n",
    "import sys\n",
    "sys.path.insert(0, '../PiosenKatoR')\n",
    "from download_readings import download_readings\n",
    "from clean_text import clean_text\n",
    "import zipfile\n",
    "\n",
    "def get_cleaned_readings(n):\n",
    "    df_raw = download_readings(n)\n",
    "    df = df_raw.copy()\n",
    "    for each in df_raw.columns:\n",
    "        df[each] = df[each].apply(lambda x: clean_text(x))\n",
    "    return df\n",
    "\n",
    "def prepare_for_lem():\n",
    "    df = get_cleaned_readings(1)\n",
    "    df['Tekst'] = df['Pierwsze czytanie'][0] +' '+ df['Psalm_ref'][0] + ' ' + df['Psalm'][0] +' '+ df['Werset przed Ewangelią'][0] +' ' + df['Ewangelia'][0]\n",
    "    df[['Tekst']].to_csv('..\\\\PiosenKatoR\\\\czytania_do_lem\\\\' + str(df.index[0]) + '.txt', header=False, index=False)\n",
    "    zf = zipfile.ZipFile('..\\\\PiosenKatoR\\\\czytania_do_lem\\\\czytanie.zip', mode='w')\n",
    "    zf.write('..\\\\PiosenKatoR\\\\czytania_do_lem\\\\' + str(df.index[0]) + '.txt')\n",
    "    zf.close()"
   ]
  },
  {
   "cell_type": "code",
   "execution_count": 18,
   "metadata": {},
   "outputs": [],
   "source": [
    "prepare_for_lem()"
   ]
  },
  {
   "cell_type": "code",
   "execution_count": null,
   "metadata": {},
   "outputs": [],
   "source": [
    "extract()"
   ]
  },
  {
   "cell_type": "code",
   "execution_count": 22,
   "metadata": {},
   "outputs": [
    {
     "ename": "NameError",
     "evalue": "name 'get_txt' is not defined",
     "output_type": "error",
     "traceback": [
      "\u001b[1;31m---------------------------------------------------------------------------\u001b[0m",
      "\u001b[1;31mNameError\u001b[0m                                 Traceback (most recent call last)",
      "\u001b[1;32m<ipython-input-22-2e707d9a3f55>\u001b[0m in \u001b[0;36m<module>\u001b[1;34m\u001b[0m\n\u001b[1;32m----> 1\u001b[1;33m \u001b[0mget_txt\u001b[0m\u001b[1;33m(\u001b[0m\u001b[1;33m)\u001b[0m\u001b[1;33m\u001b[0m\u001b[1;33m\u001b[0m\u001b[0m\n\u001b[0m",
      "\u001b[1;31mNameError\u001b[0m: name 'get_txt' is not defined"
     ]
    }
   ],
   "source": [
    "get_txt()"
   ]
  },
  {
   "cell_type": "code",
   "execution_count": 188,
   "metadata": {},
   "outputs": [],
   "source": []
  },
  {
   "cell_type": "code",
   "execution_count": 197,
   "metadata": {},
   "outputs": [],
   "source": []
  },
  {
   "cell_type": "code",
   "execution_count": null,
   "metadata": {},
   "outputs": [],
   "source": []
  }
 ],
 "metadata": {
  "kernelspec": {
   "display_name": "Python 3",
   "language": "python",
   "name": "python3"
  },
  "language_info": {
   "codemirror_mode": {
    "name": "ipython",
    "version": 3
   },
   "file_extension": ".py",
   "mimetype": "text/x-python",
   "name": "python",
   "nbconvert_exporter": "python",
   "pygments_lexer": "ipython3",
   "version": "3.6.8"
  }
 },
 "nbformat": 4,
 "nbformat_minor": 2
}
