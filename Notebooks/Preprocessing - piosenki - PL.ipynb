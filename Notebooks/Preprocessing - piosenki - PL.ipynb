{
 "cells": [
  {
   "cell_type": "markdown",
   "metadata": {},
   "source": [
    "# Preprocessing - piosenki PL "
   ]
  },
  {
   "cell_type": "code",
   "execution_count": 2,
   "metadata": {},
   "outputs": [],
   "source": [
    "import pandas as pd\n",
    "import nltk"
   ]
  },
  {
   "cell_type": "code",
   "execution_count": 25,
   "metadata": {},
   "outputs": [
    {
     "name": "stdout",
     "output_type": "stream",
     "text": [
      "(186, 2)\n"
     ]
    },
    {
     "data": {
      "text/html": [
       "<div>\n",
       "<style scoped>\n",
       "    .dataframe tbody tr th:only-of-type {\n",
       "        vertical-align: middle;\n",
       "    }\n",
       "\n",
       "    .dataframe tbody tr th {\n",
       "        vertical-align: top;\n",
       "    }\n",
       "\n",
       "    .dataframe thead th {\n",
       "        text-align: right;\n",
       "    }\n",
       "</style>\n",
       "<table border=\"1\" class=\"dataframe\">\n",
       "  <thead>\n",
       "    <tr style=\"text-align: right;\">\n",
       "      <th></th>\n",
       "      <th>txt_pl_lem</th>\n",
       "      <th>title</th>\n",
       "    </tr>\n",
       "  </thead>\n",
       "  <tbody>\n",
       "    <tr>\n",
       "      <th>0</th>\n",
       "      <td>\"  wyzwolić     kajdany   siebie ,  Chrystus s...</td>\n",
       "      <td>Abba Ojcze</td>\n",
       "    </tr>\n",
       "    <tr>\n",
       "      <th>1</th>\n",
       "      <td>\" alleluja , alleluja , alleluja , alleluja . ...</td>\n",
       "      <td>Alleluja (Niech zabrzmi Panu)</td>\n",
       "    </tr>\n",
       "    <tr>\n",
       "      <th>2</th>\n",
       "      <td>\" Bóg  umiłować świat ,  syn swój jednorodzony...</td>\n",
       "      <td>Alleluja, Alleluja, Amen Amen, Alleluja</td>\n",
       "    </tr>\n",
       "    <tr>\n",
       "      <th>3</th>\n",
       "      <td>\"  piękność stworzyć   raz poznać    pokochać ...</td>\n",
       "      <td>Blisko, blisko, blisko jesteś</td>\n",
       "    </tr>\n",
       "    <tr>\n",
       "      <th>4</th>\n",
       "      <td>\"  stworzyciel , Duch , przyjść , nawiedzić du...</td>\n",
       "      <td>Bo góry mogą ustąpić</td>\n",
       "    </tr>\n",
       "  </tbody>\n",
       "</table>\n",
       "</div>"
      ],
      "text/plain": [
       "                                          txt_pl_lem  \\\n",
       "0  \"  wyzwolić     kajdany   siebie ,  Chrystus s...   \n",
       "1  \" alleluja , alleluja , alleluja , alleluja . ...   \n",
       "2  \" Bóg  umiłować świat ,  syn swój jednorodzony...   \n",
       "3  \"  piękność stworzyć   raz poznać    pokochać ...   \n",
       "4  \"  stworzyciel , Duch , przyjść , nawiedzić du...   \n",
       "\n",
       "                                     title  \n",
       "0                               Abba Ojcze  \n",
       "1            Alleluja (Niech zabrzmi Panu)  \n",
       "2  Alleluja, Alleluja, Amen Amen, Alleluja  \n",
       "3            Blisko, blisko, blisko jesteś  \n",
       "4                     Bo góry mogą ustąpić  "
      ]
     },
     "execution_count": 25,
     "metadata": {},
     "output_type": "execute_result"
    }
   ],
   "source": [
    "#df = pd.read_csv('piosenki_pl_en.csv', header=0, names=['title_pl', 'txt_pl', 'txt_en'])\n",
    "df = pd.read_csv('piosenki_lem_stop_morp1.csv', header=0, index_col=None)\n",
    "#df = pd.read_csv('readings_en.csv', header=0, index_col=0)\n",
    "print(df.shape)\n",
    "df.head()"
   ]
  },
  {
   "cell_type": "code",
   "execution_count": 26,
   "metadata": {},
   "outputs": [
    {
     "data": {
      "text/plain": [
       "'\"  wyzwolić     kajdany   siebie ,  Chrystus stawać  brat nauczyć  wołać   : abba ojciec ! abba ojciec ! abba ojciec !  kościół  drzewo życie  wieczność zapuszczać korzenie , przenikać  codzienność  pokazywać   . abba ojciec ! abba ojciec ! abba ojciec ! Bóg hojny dawca  życie ,  wyswobodzić   śmierć  przygarniać  siebie uczynić swój dziecko . abba ojciec ! abba ojciec ! abba ojciec !   brat ,   rodzina .  prawda    zaćmić     godzina . abba ojciec ! abba ojciec ! abba ojciec ! \" '"
      ]
     },
     "execution_count": 26,
     "metadata": {},
     "output_type": "execute_result"
    }
   ],
   "source": [
    "df['txt_pl_lem'][0]"
   ]
  },
  {
   "cell_type": "markdown",
   "metadata": {},
   "source": [
    "## Tokenizacja"
   ]
  },
  {
   "cell_type": "code",
   "execution_count": 27,
   "metadata": {},
   "outputs": [],
   "source": [
    "from gensim.utils import tokenize"
   ]
  },
  {
   "cell_type": "code",
   "execution_count": 28,
   "metadata": {},
   "outputs": [
    {
     "data": {
      "text/html": [
       "<div>\n",
       "<style scoped>\n",
       "    .dataframe tbody tr th:only-of-type {\n",
       "        vertical-align: middle;\n",
       "    }\n",
       "\n",
       "    .dataframe tbody tr th {\n",
       "        vertical-align: top;\n",
       "    }\n",
       "\n",
       "    .dataframe thead th {\n",
       "        text-align: right;\n",
       "    }\n",
       "</style>\n",
       "<table border=\"1\" class=\"dataframe\">\n",
       "  <thead>\n",
       "    <tr style=\"text-align: right;\">\n",
       "      <th></th>\n",
       "      <th>txt_pl_lem</th>\n",
       "      <th>title</th>\n",
       "      <th>txt_pl_lem_tokenized</th>\n",
       "    </tr>\n",
       "  </thead>\n",
       "  <tbody>\n",
       "    <tr>\n",
       "      <th>0</th>\n",
       "      <td>\"  wyzwolić     kajdany   siebie ,  Chrystus s...</td>\n",
       "      <td>Abba Ojcze</td>\n",
       "      <td>[wyzwolić, kajdany, siebie, chrystus, stawać, ...</td>\n",
       "    </tr>\n",
       "    <tr>\n",
       "      <th>1</th>\n",
       "      <td>\" alleluja , alleluja , alleluja , alleluja . ...</td>\n",
       "      <td>Alleluja (Niech zabrzmi Panu)</td>\n",
       "      <td>[alleluja, alleluja, alleluja, alleluja, zabrz...</td>\n",
       "    </tr>\n",
       "    <tr>\n",
       "      <th>2</th>\n",
       "      <td>\" Bóg  umiłować świat ,  syn swój jednorodzony...</td>\n",
       "      <td>Alleluja, Alleluja, Amen Amen, Alleluja</td>\n",
       "      <td>[bóg, umiłować, świat, syn, swój, jednorodzony...</td>\n",
       "    </tr>\n",
       "    <tr>\n",
       "      <th>3</th>\n",
       "      <td>\"  piękność stworzyć   raz poznać    pokochać ...</td>\n",
       "      <td>Blisko, blisko, blisko jesteś</td>\n",
       "      <td>[piękność, stworzyć, raz, poznać, pokochać, mó...</td>\n",
       "    </tr>\n",
       "    <tr>\n",
       "      <th>4</th>\n",
       "      <td>\"  stworzyciel , Duch , przyjść , nawiedzić du...</td>\n",
       "      <td>Bo góry mogą ustąpić</td>\n",
       "      <td>[stworzyciel, duch, przyjść, nawiedzić, dusz, ...</td>\n",
       "    </tr>\n",
       "  </tbody>\n",
       "</table>\n",
       "</div>"
      ],
      "text/plain": [
       "                                          txt_pl_lem  \\\n",
       "0  \"  wyzwolić     kajdany   siebie ,  Chrystus s...   \n",
       "1  \" alleluja , alleluja , alleluja , alleluja . ...   \n",
       "2  \" Bóg  umiłować świat ,  syn swój jednorodzony...   \n",
       "3  \"  piękność stworzyć   raz poznać    pokochać ...   \n",
       "4  \"  stworzyciel , Duch , przyjść , nawiedzić du...   \n",
       "\n",
       "                                     title  \\\n",
       "0                               Abba Ojcze   \n",
       "1            Alleluja (Niech zabrzmi Panu)   \n",
       "2  Alleluja, Alleluja, Amen Amen, Alleluja   \n",
       "3            Blisko, blisko, blisko jesteś   \n",
       "4                     Bo góry mogą ustąpić   \n",
       "\n",
       "                                txt_pl_lem_tokenized  \n",
       "0  [wyzwolić, kajdany, siebie, chrystus, stawać, ...  \n",
       "1  [alleluja, alleluja, alleluja, alleluja, zabrz...  \n",
       "2  [bóg, umiłować, świat, syn, swój, jednorodzony...  \n",
       "3  [piękność, stworzyć, raz, poznać, pokochać, mó...  \n",
       "4  [stworzyciel, duch, przyjść, nawiedzić, dusz, ...  "
      ]
     },
     "execution_count": 28,
     "metadata": {},
     "output_type": "execute_result"
    }
   ],
   "source": [
    "df['txt_pl_lem_tokenized'] = df['txt_pl_lem'].apply(lambda x: list(tokenize(x, to_lower=True)))\n",
    "df.head()"
   ]
  },
  {
   "cell_type": "code",
   "execution_count": 29,
   "metadata": {},
   "outputs": [
    {
     "data": {
      "text/html": [
       "<div>\n",
       "<style scoped>\n",
       "    .dataframe tbody tr th:only-of-type {\n",
       "        vertical-align: middle;\n",
       "    }\n",
       "\n",
       "    .dataframe tbody tr th {\n",
       "        vertical-align: top;\n",
       "    }\n",
       "\n",
       "    .dataframe thead th {\n",
       "        text-align: right;\n",
       "    }\n",
       "</style>\n",
       "<table border=\"1\" class=\"dataframe\">\n",
       "  <thead>\n",
       "    <tr style=\"text-align: right;\">\n",
       "      <th></th>\n",
       "      <th>title</th>\n",
       "      <th>txt_pl_lem_tokenized</th>\n",
       "    </tr>\n",
       "  </thead>\n",
       "  <tbody>\n",
       "    <tr>\n",
       "      <th>0</th>\n",
       "      <td>Abba Ojcze</td>\n",
       "      <td>[wyzwolić, kajdany, siebie, chrystus, stawać, ...</td>\n",
       "    </tr>\n",
       "    <tr>\n",
       "      <th>1</th>\n",
       "      <td>Alleluja (Niech zabrzmi Panu)</td>\n",
       "      <td>[alleluja, alleluja, alleluja, alleluja, zabrz...</td>\n",
       "    </tr>\n",
       "    <tr>\n",
       "      <th>2</th>\n",
       "      <td>Alleluja, Alleluja, Amen Amen, Alleluja</td>\n",
       "      <td>[bóg, umiłować, świat, syn, swój, jednorodzony...</td>\n",
       "    </tr>\n",
       "    <tr>\n",
       "      <th>3</th>\n",
       "      <td>Blisko, blisko, blisko jesteś</td>\n",
       "      <td>[piękność, stworzyć, raz, poznać, pokochać, mó...</td>\n",
       "    </tr>\n",
       "    <tr>\n",
       "      <th>4</th>\n",
       "      <td>Bo góry mogą ustąpić</td>\n",
       "      <td>[stworzyciel, duch, przyjść, nawiedzić, dusz, ...</td>\n",
       "    </tr>\n",
       "  </tbody>\n",
       "</table>\n",
       "</div>"
      ],
      "text/plain": [
       "                                     title  \\\n",
       "0                               Abba Ojcze   \n",
       "1            Alleluja (Niech zabrzmi Panu)   \n",
       "2  Alleluja, Alleluja, Amen Amen, Alleluja   \n",
       "3            Blisko, blisko, blisko jesteś   \n",
       "4                     Bo góry mogą ustąpić   \n",
       "\n",
       "                                txt_pl_lem_tokenized  \n",
       "0  [wyzwolić, kajdany, siebie, chrystus, stawać, ...  \n",
       "1  [alleluja, alleluja, alleluja, alleluja, zabrz...  \n",
       "2  [bóg, umiłować, świat, syn, swój, jednorodzony...  \n",
       "3  [piękność, stworzyć, raz, poznać, pokochać, mó...  \n",
       "4  [stworzyciel, duch, przyjść, nawiedzić, dusz, ...  "
      ]
     },
     "execution_count": 29,
     "metadata": {},
     "output_type": "execute_result"
    }
   ],
   "source": [
    "df = df[['title','txt_pl_lem_tokenized']]\n",
    "df.head()"
   ]
  },
  {
   "cell_type": "code",
   "execution_count": 30,
   "metadata": {},
   "outputs": [
    {
     "data": {
      "text/plain": [
       "(186, 2)"
      ]
     },
     "execution_count": 30,
     "metadata": {},
     "output_type": "execute_result"
    }
   ],
   "source": [
    "df.shape"
   ]
  },
  {
   "cell_type": "markdown",
   "metadata": {},
   "source": [
    "## Zapis do pliku csv"
   ]
  },
  {
   "cell_type": "code",
   "execution_count": 31,
   "metadata": {},
   "outputs": [],
   "source": [
    "df.to_csv(path_or_buf='prep_songs_pl_lem_stop_morp1.csv', header=df.columns, index=False)"
   ]
  },
  {
   "cell_type": "code",
   "execution_count": null,
   "metadata": {},
   "outputs": [],
   "source": []
  }
 ],
 "metadata": {
  "kernelspec": {
   "display_name": "Python 3",
   "language": "python",
   "name": "python3"
  },
  "language_info": {
   "codemirror_mode": {
    "name": "ipython",
    "version": 3
   },
   "file_extension": ".py",
   "mimetype": "text/x-python",
   "name": "python",
   "nbconvert_exporter": "python",
   "pygments_lexer": "ipython3",
   "version": "3.7.1"
  }
 },
 "nbformat": 4,
 "nbformat_minor": 2
}
