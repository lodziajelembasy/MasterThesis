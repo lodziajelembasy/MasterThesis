{
 "cells": [
  {
   "cell_type": "markdown",
   "metadata": {},
   "source": [
    "# Pokrycie"
   ]
  },
  {
   "cell_type": "code",
   "execution_count": 1,
   "metadata": {},
   "outputs": [
    {
     "name": "stderr",
     "output_type": "stream",
     "text": [
      "F:\\ProgramData\\Anaconda3\\envs\\NLP\\lib\\site-packages\\gensim\\utils.py:1197: UserWarning: detected Windows; aliasing chunkize to chunkize_serial\n",
      "  warnings.warn(\"detected Windows; aliasing chunkize to chunkize_serial\")\n"
     ]
    }
   ],
   "source": [
    "import pandas as pd\n",
    "from gensim.utils import tokenize"
   ]
  },
  {
   "cell_type": "markdown",
   "metadata": {},
   "source": [
    "## Prezentacje "
   ]
  },
  {
   "cell_type": "code",
   "execution_count": 2,
   "metadata": {},
   "outputs": [
    {
     "name": "stdout",
     "output_type": "stream",
     "text": [
      "(185, 2)\n"
     ]
    },
    {
     "data": {
      "text/html": [
       "<div>\n",
       "<style scoped>\n",
       "    .dataframe tbody tr th:only-of-type {\n",
       "        vertical-align: middle;\n",
       "    }\n",
       "\n",
       "    .dataframe tbody tr th {\n",
       "        vertical-align: top;\n",
       "    }\n",
       "\n",
       "    .dataframe thead th {\n",
       "        text-align: right;\n",
       "    }\n",
       "</style>\n",
       "<table border=\"1\" class=\"dataframe\">\n",
       "  <thead>\n",
       "    <tr style=\"text-align: right;\">\n",
       "      <th></th>\n",
       "      <th>title</th>\n",
       "      <th>txt_pl_lem_tokenized</th>\n",
       "    </tr>\n",
       "  </thead>\n",
       "  <tbody>\n",
       "    <tr>\n",
       "      <th>0</th>\n",
       "      <td>Abba Ojcze</td>\n",
       "      <td>['wyzwolić', 'kajdany', 'siebie', 'chrystus', ...</td>\n",
       "    </tr>\n",
       "    <tr>\n",
       "      <th>1</th>\n",
       "      <td>Alleluja (Niech zabrzmi Panu)</td>\n",
       "      <td>['alleluja', 'alleluja', 'alleluja', 'alleluja...</td>\n",
       "    </tr>\n",
       "    <tr>\n",
       "      <th>2</th>\n",
       "      <td>Alleluja, Alleluja, Amen Amen, Alleluja</td>\n",
       "      <td>['bóg', 'umiłować', 'świat', 'syn', 'swój', 'j...</td>\n",
       "    </tr>\n",
       "    <tr>\n",
       "      <th>3</th>\n",
       "      <td>Blisko, blisko, blisko jesteś</td>\n",
       "      <td>['piękność', 'niestworzony', 'raz', 'poznać', ...</td>\n",
       "    </tr>\n",
       "    <tr>\n",
       "      <th>4</th>\n",
       "      <td>Bo góry mogą ustąpić</td>\n",
       "      <td>['stworzyciel', 'duch', 'przyjść', 'nawiedzić'...</td>\n",
       "    </tr>\n",
       "  </tbody>\n",
       "</table>\n",
       "</div>"
      ],
      "text/plain": [
       "                                     title  \\\n",
       "0                               Abba Ojcze   \n",
       "1            Alleluja (Niech zabrzmi Panu)   \n",
       "2  Alleluja, Alleluja, Amen Amen, Alleluja   \n",
       "3            Blisko, blisko, blisko jesteś   \n",
       "4                     Bo góry mogą ustąpić   \n",
       "\n",
       "                                txt_pl_lem_tokenized  \n",
       "0  ['wyzwolić', 'kajdany', 'siebie', 'chrystus', ...  \n",
       "1  ['alleluja', 'alleluja', 'alleluja', 'alleluja...  \n",
       "2  ['bóg', 'umiłować', 'świat', 'syn', 'swój', 'j...  \n",
       "3  ['piękność', 'niestworzony', 'raz', 'poznać', ...  \n",
       "4  ['stworzyciel', 'duch', 'przyjść', 'nawiedzić'...  "
      ]
     },
     "execution_count": 2,
     "metadata": {},
     "output_type": "execute_result"
    }
   ],
   "source": [
    "df = pd.read_csv('prep_songs_pl_lem_stop_wcrft1.csv', header=0, index_col=None)\n",
    "df = df.dropna()\n",
    "print(df.shape)\n",
    "df.head()"
   ]
  },
  {
   "cell_type": "markdown",
   "metadata": {},
   "source": [
    "### Tokenize & clean"
   ]
  },
  {
   "cell_type": "code",
   "execution_count": 3,
   "metadata": {},
   "outputs": [
    {
     "data": {
      "text/html": [
       "<div>\n",
       "<style scoped>\n",
       "    .dataframe tbody tr th:only-of-type {\n",
       "        vertical-align: middle;\n",
       "    }\n",
       "\n",
       "    .dataframe tbody tr th {\n",
       "        vertical-align: top;\n",
       "    }\n",
       "\n",
       "    .dataframe thead th {\n",
       "        text-align: right;\n",
       "    }\n",
       "</style>\n",
       "<table border=\"1\" class=\"dataframe\">\n",
       "  <thead>\n",
       "    <tr style=\"text-align: right;\">\n",
       "      <th></th>\n",
       "      <th>title</th>\n",
       "      <th>txt_pl_lem_tokenized</th>\n",
       "      <th>title_tokenized</th>\n",
       "      <th>title_cleaned</th>\n",
       "    </tr>\n",
       "  </thead>\n",
       "  <tbody>\n",
       "    <tr>\n",
       "      <th>0</th>\n",
       "      <td>Abba Ojcze</td>\n",
       "      <td>['wyzwolić', 'kajdany', 'siebie', 'chrystus', ...</td>\n",
       "      <td>[abba, ojcze]</td>\n",
       "      <td>abba ojcze</td>\n",
       "    </tr>\n",
       "    <tr>\n",
       "      <th>1</th>\n",
       "      <td>Alleluja (Niech zabrzmi Panu)</td>\n",
       "      <td>['alleluja', 'alleluja', 'alleluja', 'alleluja...</td>\n",
       "      <td>[alleluja, niech, zabrzmi, panu]</td>\n",
       "      <td>alleluja niech zabrzmi panu</td>\n",
       "    </tr>\n",
       "    <tr>\n",
       "      <th>2</th>\n",
       "      <td>Alleluja, Alleluja, Amen Amen, Alleluja</td>\n",
       "      <td>['bóg', 'umiłować', 'świat', 'syn', 'swój', 'j...</td>\n",
       "      <td>[alleluja, alleluja, amen, amen, alleluja]</td>\n",
       "      <td>alleluja alleluja amen amen alleluja</td>\n",
       "    </tr>\n",
       "    <tr>\n",
       "      <th>3</th>\n",
       "      <td>Blisko, blisko, blisko jesteś</td>\n",
       "      <td>['piękność', 'niestworzony', 'raz', 'poznać', ...</td>\n",
       "      <td>[blisko, blisko, blisko, jesteś]</td>\n",
       "      <td>blisko blisko blisko jesteś</td>\n",
       "    </tr>\n",
       "    <tr>\n",
       "      <th>4</th>\n",
       "      <td>Bo góry mogą ustąpić</td>\n",
       "      <td>['stworzyciel', 'duch', 'przyjść', 'nawiedzić'...</td>\n",
       "      <td>[bo, góry, mogą, ustąpić]</td>\n",
       "      <td>bo góry mogą ustąpić</td>\n",
       "    </tr>\n",
       "  </tbody>\n",
       "</table>\n",
       "</div>"
      ],
      "text/plain": [
       "                                     title  \\\n",
       "0                               Abba Ojcze   \n",
       "1            Alleluja (Niech zabrzmi Panu)   \n",
       "2  Alleluja, Alleluja, Amen Amen, Alleluja   \n",
       "3            Blisko, blisko, blisko jesteś   \n",
       "4                     Bo góry mogą ustąpić   \n",
       "\n",
       "                                txt_pl_lem_tokenized  \\\n",
       "0  ['wyzwolić', 'kajdany', 'siebie', 'chrystus', ...   \n",
       "1  ['alleluja', 'alleluja', 'alleluja', 'alleluja...   \n",
       "2  ['bóg', 'umiłować', 'świat', 'syn', 'swój', 'j...   \n",
       "3  ['piękność', 'niestworzony', 'raz', 'poznać', ...   \n",
       "4  ['stworzyciel', 'duch', 'przyjść', 'nawiedzić'...   \n",
       "\n",
       "                              title_tokenized  \\\n",
       "0                               [abba, ojcze]   \n",
       "1            [alleluja, niech, zabrzmi, panu]   \n",
       "2  [alleluja, alleluja, amen, amen, alleluja]   \n",
       "3            [blisko, blisko, blisko, jesteś]   \n",
       "4                   [bo, góry, mogą, ustąpić]   \n",
       "\n",
       "                          title_cleaned  \n",
       "0                            abba ojcze  \n",
       "1           alleluja niech zabrzmi panu  \n",
       "2  alleluja alleluja amen amen alleluja  \n",
       "3           blisko blisko blisko jesteś  \n",
       "4                  bo góry mogą ustąpić  "
      ]
     },
     "execution_count": 3,
     "metadata": {},
     "output_type": "execute_result"
    }
   ],
   "source": [
    "df['title_tokenized'] = df['title'].apply(lambda x: list(tokenize(x, to_lower=True)))\n",
    "df['title_cleaned'] = df['title_tokenized'].apply(lambda x: \" \".join([z.lower() for z in x if z.isalpha()]))\n",
    "df.head()"
   ]
  },
  {
   "cell_type": "code",
   "execution_count": 4,
   "metadata": {},
   "outputs": [
    {
     "data": {
      "text/html": [
       "<div>\n",
       "<style scoped>\n",
       "    .dataframe tbody tr th:only-of-type {\n",
       "        vertical-align: middle;\n",
       "    }\n",
       "\n",
       "    .dataframe tbody tr th {\n",
       "        vertical-align: top;\n",
       "    }\n",
       "\n",
       "    .dataframe thead th {\n",
       "        text-align: right;\n",
       "    }\n",
       "</style>\n",
       "<table border=\"1\" class=\"dataframe\">\n",
       "  <thead>\n",
       "    <tr style=\"text-align: right;\">\n",
       "      <th></th>\n",
       "      <th>dayID</th>\n",
       "      <th>date</th>\n",
       "      <th>title</th>\n",
       "      <th>title_tokenized</th>\n",
       "      <th>title_cleaned</th>\n",
       "    </tr>\n",
       "  </thead>\n",
       "  <tbody>\n",
       "    <tr>\n",
       "      <th>0</th>\n",
       "      <td>1</td>\n",
       "      <td>2018-12-20</td>\n",
       "      <td>Roraty</td>\n",
       "      <td>['roraty']</td>\n",
       "      <td>roraty</td>\n",
       "    </tr>\n",
       "    <tr>\n",
       "      <th>1</th>\n",
       "      <td>1</td>\n",
       "      <td>2018-12-20</td>\n",
       "      <td>Archanioł Boży Gabriel</td>\n",
       "      <td>['archanioł', 'boży', 'gabriel']</td>\n",
       "      <td>archanioł boży gabriel</td>\n",
       "    </tr>\n",
       "    <tr>\n",
       "      <th>2</th>\n",
       "      <td>1</td>\n",
       "      <td>2018-12-20</td>\n",
       "      <td>Oto Pan Bóg przyjdzie</td>\n",
       "      <td>['oto', 'pan', 'bóg', 'przyjdzie']</td>\n",
       "      <td>oto pan bóg przyjdzie</td>\n",
       "    </tr>\n",
       "    <tr>\n",
       "      <th>3</th>\n",
       "      <td>1</td>\n",
       "      <td>2018-12-20</td>\n",
       "      <td>Chleb niebiański</td>\n",
       "      <td>['chleb', 'niebiański']</td>\n",
       "      <td>chleb niebiański</td>\n",
       "    </tr>\n",
       "    <tr>\n",
       "      <th>4</th>\n",
       "      <td>1</td>\n",
       "      <td>2018-12-20</td>\n",
       "      <td>Dzielmy się wiarą jak chlebem</td>\n",
       "      <td>['dzielmy', 'się', 'wiarą', 'jak', 'chlebem']</td>\n",
       "      <td>dzielmy się wiarą jak chlebem</td>\n",
       "    </tr>\n",
       "  </tbody>\n",
       "</table>\n",
       "</div>"
      ],
      "text/plain": [
       "   dayID        date                          title  \\\n",
       "0      1  2018-12-20                         Roraty   \n",
       "1      1  2018-12-20         Archanioł Boży Gabriel   \n",
       "2      1  2018-12-20          Oto Pan Bóg przyjdzie   \n",
       "3      1  2018-12-20               Chleb niebiański   \n",
       "4      1  2018-12-20  Dzielmy się wiarą jak chlebem   \n",
       "\n",
       "                                 title_tokenized  \\\n",
       "0                                     ['roraty']   \n",
       "1               ['archanioł', 'boży', 'gabriel']   \n",
       "2             ['oto', 'pan', 'bóg', 'przyjdzie']   \n",
       "3                        ['chleb', 'niebiański']   \n",
       "4  ['dzielmy', 'się', 'wiarą', 'jak', 'chlebem']   \n",
       "\n",
       "                   title_cleaned  \n",
       "0                         roraty  \n",
       "1         archanioł boży gabriel  \n",
       "2          oto pan bóg przyjdzie  \n",
       "3               chleb niebiański  \n",
       "4  dzielmy się wiarą jak chlebem  "
      ]
     },
     "execution_count": 4,
     "metadata": {},
     "output_type": "execute_result"
    }
   ],
   "source": [
    "dff = pd.read_csv('ewaluacja_cleaned.csv', header=0, index_col=None)\n",
    "dff.head()"
   ]
  },
  {
   "cell_type": "code",
   "execution_count": 19,
   "metadata": {},
   "outputs": [],
   "source": [
    "songs_p = df['title_cleaned'].unique()\n",
    "songs_p.sort()\n",
    "songs_h = dff['title_cleaned'].unique()\n",
    "songs_h.sort()\n",
    "dates = dff['date'].unique()\n",
    "dates.sort()"
   ]
  },
  {
   "cell_type": "code",
   "execution_count": 20,
   "metadata": {},
   "outputs": [
    {
     "data": {
      "text/plain": [
       "279"
      ]
     },
     "execution_count": 20,
     "metadata": {},
     "output_type": "execute_result"
    }
   ],
   "source": [
    "len(songs_h)"
   ]
  },
  {
   "cell_type": "code",
   "execution_count": 21,
   "metadata": {},
   "outputs": [
    {
     "data": {
      "text/plain": [
       "185"
      ]
     },
     "execution_count": 21,
     "metadata": {},
     "output_type": "execute_result"
    }
   ],
   "source": [
    "len(songs_p)"
   ]
  },
  {
   "cell_type": "code",
   "execution_count": 22,
   "metadata": {},
   "outputs": [
    {
     "name": "stdout",
     "output_type": "stream",
     "text": [
      "87\n"
     ]
    }
   ],
   "source": [
    "count = 0\n",
    "for i in songs_h:\n",
    "    if i in songs_p:\n",
    "        count += 1\n",
    "print(count)"
   ]
  },
  {
   "cell_type": "code",
   "execution_count": 9,
   "metadata": {},
   "outputs": [],
   "source": [
    "dff['in_presentation'] = dff['title_cleaned'].apply(lambda x: 1 if x in songs_p else 0)"
   ]
  },
  {
   "cell_type": "code",
   "execution_count": 10,
   "metadata": {},
   "outputs": [
    {
     "data": {
      "text/html": [
       "<div>\n",
       "<style scoped>\n",
       "    .dataframe tbody tr th:only-of-type {\n",
       "        vertical-align: middle;\n",
       "    }\n",
       "\n",
       "    .dataframe tbody tr th {\n",
       "        vertical-align: top;\n",
       "    }\n",
       "\n",
       "    .dataframe thead th {\n",
       "        text-align: right;\n",
       "    }\n",
       "</style>\n",
       "<table border=\"1\" class=\"dataframe\">\n",
       "  <thead>\n",
       "    <tr style=\"text-align: right;\">\n",
       "      <th></th>\n",
       "      <th>dayID</th>\n",
       "      <th>date</th>\n",
       "      <th>title</th>\n",
       "      <th>title_tokenized</th>\n",
       "      <th>title_cleaned</th>\n",
       "      <th>in_presentation</th>\n",
       "    </tr>\n",
       "  </thead>\n",
       "  <tbody>\n",
       "    <tr>\n",
       "      <th>0</th>\n",
       "      <td>1</td>\n",
       "      <td>2018-12-20</td>\n",
       "      <td>Roraty</td>\n",
       "      <td>['roraty']</td>\n",
       "      <td>roraty</td>\n",
       "      <td>0</td>\n",
       "    </tr>\n",
       "    <tr>\n",
       "      <th>1</th>\n",
       "      <td>1</td>\n",
       "      <td>2018-12-20</td>\n",
       "      <td>Archanioł Boży Gabriel</td>\n",
       "      <td>['archanioł', 'boży', 'gabriel']</td>\n",
       "      <td>archanioł boży gabriel</td>\n",
       "      <td>0</td>\n",
       "    </tr>\n",
       "    <tr>\n",
       "      <th>2</th>\n",
       "      <td>1</td>\n",
       "      <td>2018-12-20</td>\n",
       "      <td>Oto Pan Bóg przyjdzie</td>\n",
       "      <td>['oto', 'pan', 'bóg', 'przyjdzie']</td>\n",
       "      <td>oto pan bóg przyjdzie</td>\n",
       "      <td>0</td>\n",
       "    </tr>\n",
       "    <tr>\n",
       "      <th>3</th>\n",
       "      <td>1</td>\n",
       "      <td>2018-12-20</td>\n",
       "      <td>Chleb niebiański</td>\n",
       "      <td>['chleb', 'niebiański']</td>\n",
       "      <td>chleb niebiański</td>\n",
       "      <td>0</td>\n",
       "    </tr>\n",
       "    <tr>\n",
       "      <th>4</th>\n",
       "      <td>1</td>\n",
       "      <td>2018-12-20</td>\n",
       "      <td>Dzielmy się wiarą jak chlebem</td>\n",
       "      <td>['dzielmy', 'się', 'wiarą', 'jak', 'chlebem']</td>\n",
       "      <td>dzielmy się wiarą jak chlebem</td>\n",
       "      <td>1</td>\n",
       "    </tr>\n",
       "  </tbody>\n",
       "</table>\n",
       "</div>"
      ],
      "text/plain": [
       "   dayID        date                          title  \\\n",
       "0      1  2018-12-20                         Roraty   \n",
       "1      1  2018-12-20         Archanioł Boży Gabriel   \n",
       "2      1  2018-12-20          Oto Pan Bóg przyjdzie   \n",
       "3      1  2018-12-20               Chleb niebiański   \n",
       "4      1  2018-12-20  Dzielmy się wiarą jak chlebem   \n",
       "\n",
       "                                 title_tokenized  \\\n",
       "0                                     ['roraty']   \n",
       "1               ['archanioł', 'boży', 'gabriel']   \n",
       "2             ['oto', 'pan', 'bóg', 'przyjdzie']   \n",
       "3                        ['chleb', 'niebiański']   \n",
       "4  ['dzielmy', 'się', 'wiarą', 'jak', 'chlebem']   \n",
       "\n",
       "                   title_cleaned  in_presentation  \n",
       "0                         roraty                0  \n",
       "1         archanioł boży gabriel                0  \n",
       "2          oto pan bóg przyjdzie                0  \n",
       "3               chleb niebiański                0  \n",
       "4  dzielmy się wiarą jak chlebem                1  "
      ]
     },
     "execution_count": 10,
     "metadata": {},
     "output_type": "execute_result"
    }
   ],
   "source": [
    "dff.head()"
   ]
  },
  {
   "cell_type": "code",
   "execution_count": 11,
   "metadata": {},
   "outputs": [
    {
     "data": {
      "text/plain": [
       "215"
      ]
     },
     "execution_count": 11,
     "metadata": {},
     "output_type": "execute_result"
    }
   ],
   "source": [
    "dff['in_presentation'].sum()"
   ]
  },
  {
   "cell_type": "code",
   "execution_count": 23,
   "metadata": {},
   "outputs": [
    {
     "data": {
      "text/plain": [
       "0.17611336032388664"
      ]
     },
     "execution_count": 23,
     "metadata": {},
     "output_type": "execute_result"
    }
   ],
   "source": [
    "87/494"
   ]
  },
  {
   "cell_type": "code",
   "execution_count": 13,
   "metadata": {},
   "outputs": [
    {
     "data": {
      "text/plain": [
       "494"
      ]
     },
     "execution_count": 13,
     "metadata": {},
     "output_type": "execute_result"
    }
   ],
   "source": [
    "len(dff)"
   ]
  },
  {
   "cell_type": "code",
   "execution_count": 12,
   "metadata": {},
   "outputs": [
    {
     "data": {
      "text/plain": [
       "0.4352226720647773"
      ]
     },
     "execution_count": 12,
     "metadata": {},
     "output_type": "execute_result"
    }
   ],
   "source": [
    "dff['in_presentation'].sum() / len(dff)"
   ]
  },
  {
   "cell_type": "code",
   "execution_count": 49,
   "metadata": {},
   "outputs": [
    {
     "data": {
      "text/plain": [
       "array(['2018-12-02', '2018-12-03', '2018-12-04', '2018-12-06',\n",
       "       '2018-12-09', '2018-12-10', '2018-12-11', '2018-12-12',\n",
       "       '2018-12-13', '2018-12-16', '2018-12-18', '2018-12-19',\n",
       "       '2018-12-20', '2019-01-03', '2019-01-06', '2019-01-08',\n",
       "       '2019-01-09', '2019-01-10', '2019-01-13', '2019-01-15',\n",
       "       '2019-01-16', '2019-01-17', '2019-01-20', '2019-01-23',\n",
       "       '2019-01-24', '2019-01-27', '2019-01-28', '2019-01-29',\n",
       "       '2019-01-30', '2019-02-03', '2019-02-05', '2019-02-06',\n",
       "       '2019-02-07', '2019-02-10', '2019-02-12', '2019-02-13',\n",
       "       '2019-02-14', '2019-02-17', '2019-02-18', '2019-02-21',\n",
       "       '2019-02-24', '2019-02-25', '2019-02-26', '2019-02-27',\n",
       "       '2019-02-28', '2019-03-03', '2019-03-04', '2019-03-05',\n",
       "       '2019-03-07', '2019-03-10', '2019-03-11', '2019-03-12',\n",
       "       '2019-03-13', '2019-03-14', '2019-03-18', '2019-03-19',\n",
       "       '2019-03-21', '2019-03-22', '2019-03-24', '2019-03-25',\n",
       "       '2019-03-26', '2019-03-28', '2019-03-31', '2019-04-02',\n",
       "       '2019-04-03', '2019-04-04', '2019-04-05', '2019-04-07',\n",
       "       '2019-04-09', '2019-04-11', '2019-04-14', '2019-04-16',\n",
       "       '2019-04-23', '2019-04-25', '2019-04-28', '2019-04-29',\n",
       "       '2019-04-30', '2019-05-05', '2019-05-06', '2019-05-07',\n",
       "       '2019-05-09', '2019-05-12', '2019-05-14', '2019-05-16',\n",
       "       '2019-05-19', '2019-05-20', '2019-05-21'], dtype=object)"
      ]
     },
     "execution_count": 49,
     "metadata": {},
     "output_type": "execute_result"
    }
   ],
   "source": [
    "dates"
   ]
  },
  {
   "cell_type": "code",
   "execution_count": 18,
   "metadata": {},
   "outputs": [
    {
     "data": {
      "text/plain": [
       "array(['ach ubogi żłobie', 'alleluja niech zabrzmi panu',\n",
       "       'archanioł boży gabriel', 'aż sponad mórz i szczytów gór',\n",
       "       'bliskie jest królestwo boże', 'blisko blisko',\n",
       "       'bo góry mogą ustąpić', 'boże mój boże',\n",
       "       'boże mój boże szukam ciebie', 'boże twa łaska',\n",
       "       'boże twa łaska nad nami jest', 'być bliżej ciebie chce',\n",
       "       'być bliżej ciebie chcę', 'bóg kiedyś stał się jednym z nas',\n",
       "       'bóg nasz pan', 'bóg nasz pan jest dobry cały czas',\n",
       "       'bóg się rodzi', 'bądź mi litosciw', 'bądź pochwalony',\n",
       "       'będę wysławiał pana w każdym czasie', 'będę śpiewał ci',\n",
       "       'będę śpiewał tobie', 'będę śpiewał tobie nocy moja',\n",
       "       'błogosław duszo moja pana', 'błogosławcie pana',\n",
       "       'błogosławcie pana wszystkie jego dzieła',\n",
       "       'błogosławione jest imię twe', 'cała ziemio wołaj',\n",
       "       'chleb niebiański', 'chleb niebiański hymn etiopski',\n",
       "       'chleb niebieski', 'chleb żywy', 'chlebie najcichszy',\n",
       "       'chlebie najcieńszy', 'chlebie żywy', 'chrystus pan boży syn',\n",
       "       'chrystus pan karmi nas', 'chrystus zmartwychwstan jest',\n",
       "       'chwal adonai', 'chwal adonai chwalcie pana niebios',\n",
       "       'chwalcie pana niebios', 'chwalę ciebie panie', 'chwała bogu ojcu',\n",
       "       'chwała ojcu', 'chwała ojcu i synowi i duchowi św',\n",
       "       'ci którzy jahwe ufają', 'cicha noc', 'ciebie cała dusza pragnę',\n",
       "       'ciebie pragnie dusza moja', 'com przyrzekł bogu', 'cześć maryi',\n",
       "       'do mnie wróć', 'do mnie wróć zbawie cię', 'do szopy hej pasterze',\n",
       "       'dobranoc glowo święta', 'dobry jest pan',\n",
       "       'dotknij panie moich oczu', 'duchu miłości wylewaj się na nas',\n",
       "       'duchu stworzycielu modlitwa br rogera', 'duchu święty przyjdź',\n",
       "       'duchu święty wołam przyjdź', 'duszo chrystusowa',\n",
       "       'duszo ma pana chwal', 'dzielmy się wiarą jak chlebem',\n",
       "       'dzisiaj w betlejem', 'dzięki ci panie',\n",
       "       'dzięki ci panie za ciało twe i krew', 'emmanuel',\n",
       "       'gdy klęczę przed tobą', 'gdy się chrystus rodzi',\n",
       "       'gdy śliczna panna', 'godzien o godzien',\n",
       "       'gwiazdo śliczna wspaniala', 'hosanna synowi dawida',\n",
       "       'hymn etiopski chleb niebiański', 'idź w pokoju',\n",
       "       'ja wiem w kogo ja wierzę', 'jak dawid',\n",
       "       'jak dobrze jest dziękować ci',\n",
       "       'jak dobrze jest dziękować ci panie', 'jak ożywczy deszcz',\n",
       "       'jakże pójdziemy za tobą chrystusie', 'jaśnieje krzyż',\n",
       "       'jeden chleb', 'jeden chleb co zmienia się w chrystusa ciało',\n",
       "       'jeden jest tylko pan', 'jedyny pan prawdziwy bóg',\n",
       "       'jest jedno ciało', 'jesteś królem', 'jesteś miłością',\n",
       "       'jesteśmy piękni', 'jezu chruste panie miły',\n",
       "       'jezu tys jest światłością', 'jezu tyś jest światłością mej duszy',\n",
       "       'jezus chrystus moim panem jest', 'jezus chrystus to panów pan',\n",
       "       'jezus daje nam zbawienie', 'jezus malusieńki',\n",
       "       'jezus najwyższe imię', 'jezus siła ma', 'jezus zwyciężył',\n",
       "       'jezus zwyciężył to wykonało się',\n",
       "       'jeśli masz matka która pod krzyżem stała',\n",
       "       'każdy dzień upewnia mnie', 'każdy spragniony',\n",
       "       'kiedy masz chwile smutne', 'kiedyś wino i krew',\n",
       "       'kim jesteś ty panie', 'krzyżu chrystusa',\n",
       "       'krzyżu chrystusa badze pochwalony', 'krzyżu święty',\n",
       "       'kto spożywa', 'kto spragniony jest',\n",
       "       'lud twój panie lud pielgrzymi', 'ludu mój ludu', 'marana tha',\n",
       "       'marana tha przyjdź jezu panie',\n",
       "       'marana tha przyjdź panie przyjdź', 'mario czy już wiesz',\n",
       "       'maryjo matko mojego wezwania', 'maryjo wołaj we mnie',\n",
       "       'maryjo wołamy ciebie', 'matka która pod krzyżem stała',\n",
       "       'memu bogu królowi', 'misericordias domini',\n",
       "       'miłosierdzie boga najwyższego', 'miłość mnie ogarnęła',\n",
       "       'miłujcie się wzajemnie', 'mój jezu mój zbawco',\n",
       "       'mój pan mocą moja jest', 'mędrcy świata',\n",
       "       'na komunię kto spożywa moje ciało', 'nad betlejem w ciemną noc',\n",
       "       'nasz bóg jest potężny w mocy swej',\n",
       "       'nasz bóg jest potężny w mocy swej przed tronem twym',\n",
       "       'nasz bóg jest wielki', 'nic nie musisz mówić nic',\n",
       "       'nie bójcie się żyć dla miłości dla tej miłości warto żyć',\n",
       "       'nie ma za trudnych spraw',\n",
       "       'nie mądrość świata tego marana tha niemagotu',\n",
       "       'nie użycze snu moim oczom', 'nie użyczę snu',\n",
       "       'nie użyczę snu moim oczom modlitwa przed zaśnięciem',\n",
       "       'nie zabraknie mi nigdy chleba', 'niech oblicze twe',\n",
       "       'niechaj cię panie', 'niechaj miłość twa',\n",
       "       'niechaj z nami będzie pan', 'niechaj zstąpi duch twój',\n",
       "       'niepojęty', 'niepojęty niezmierzony', 'o gwiazdo betlejemska',\n",
       "       'o jezu cichy i pokorny', 'o krwi najdroższa',\n",
       "       'o pani ufność nasza', 'o panie ty nam dajesz',\n",
       "       'o panie ty nam dajesz ciało swe i krew',\n",
       "       'o piękności nie stworzona', 'oczekuje ciebie panie',\n",
       "       'oczekuję ciebie panie', 'oczyść serce me', 'oddajmy cześć',\n",
       "       'ofiaruje tobie panie mój', 'ofiaruję tobie panie mój',\n",
       "       'ogrodzie oliwny', 'oprócz ciebie nikt miriam',\n",
       "       'oto bóg jest moim zbawieniem', 'oto idzie mój bóg',\n",
       "       'oto ja poślij mnie', 'oto jest dzień', 'oto pan bóg przyjdzie',\n",
       "       'oto stoję u drzwi', 'oto stoję u drzwi i kołaczę',\n",
       "       'oto są baranki', 'oto są baranki młode', 'otwórz me oczy o panie',\n",
       "       'palmy chrystus wodzem', 'pan blisko jest',\n",
       "       'pan blisko jest oczekuj go', 'pan cię uchroni',\n",
       "       'pan jest moim pasterzem', 'pan wywyższony',\n",
       "       'pan wywyższony nasz król', 'pan wywyższony nasz król wywyższony',\n",
       "       'panie dobry jak chleb', 'panie mój przychodzę dziś',\n",
       "       'pasterzem moim jest pan', 'podnieś mnie jezu',\n",
       "       'pokorna służebnico pana', 'pokój wam',\n",
       "       'pokładam w panu ufność swą', 'pospieszcie o wierni',\n",
       "       'pozdrawiam cię matko syna bożego', 'pozwól mi przyjść do ciebie',\n",
       "       'pragnę śpiewać ci', 'pragnę śpiewać ci najpiękniejszą pieśń',\n",
       "       'prawda jedyna', 'przed tronem twym', 'przed tronem twym stoimy',\n",
       "       'przybądź święty niepojęty',\n",
       "       'przychodzisz panie mimo drzwi zamkniętych', 'przyjacielu',\n",
       "       'przyjdź jezu przyjdź', 'przywołaj mnie panie',\n",
       "       'przywołaj mnie panie mów do mego serca', 'pójdźmy wszyscy',\n",
       "       'pójdźmy wszyscy do stajenki', 'radośnie panu hymn',\n",
       "       'raduj się świecie przyszedł pan', 'radujcie się', 'roraty',\n",
       "       'rozpięty na ramionach', 'sekwencja wielkanonca po psalmie',\n",
       "       'skosztujcie i zobaczcie', 'stoisz u naszych drzwi', 'stoję dziś',\n",
       "       'tak mnie skrusz', 'tak mnie skrusz tak mnie złam',\n",
       "       'to on nasz pan i król', 'tobie chór aniołów', 'tryumfy',\n",
       "       'twe imię jak miód', 'twoja miłośc',\n",
       "       'twoja miłość jak ciepły deszcz', 'ty jesteś chlebem żywym',\n",
       "       'ty jesteś skała zbawienia', 'ty jesteś skałą',\n",
       "       'ty jesteś skałą zbawienia', 'ty jesteś skałą zbawienia mego',\n",
       "       'ty światłość dnia', 'tylko w twoim miłosierdziu', 'ubi caritas',\n",
       "       'ucisz burzę', 'ucisz burzę modlitwa przed snem',\n",
       "       'ukaż mi panie swą twarz', 'ukojenie', 'uwielbiajcie pana',\n",
       "       'uwielbiam imię twoje panie', 'uwielbiam twoje imię',\n",
       "       'w naszych ciemnościach', 'w swoim wielkim pieśń o nadziei',\n",
       "       'w tobie jest światło', 'warto dla jednej miłości żyć',\n",
       "       'wejdźmy do jego bram z uwielbieniem', 'wesel się królowo miła',\n",
       "       'wesołą nowinę', 'wielbimy cię', 'wielbię cię',\n",
       "       'wierzę w ciebie panie', 'wisi na krzyżu', 'witaj pokarmie',\n",
       "       'wody jordanu', 'wodę zamieniłeś w wino',\n",
       "       'wykrzykujcie na cześć pana', 'wyprowadź mnie panie na pustynię',\n",
       "       'wywyższony', 'wzywam cię', 'wzywam cię duchu',\n",
       "       'wśród nocnej ciszy', 'z dawna polski tys królowa',\n",
       "       'za nami wstawiaj się maryjo', 'zabierzesz mnie na drugi brzeg',\n",
       "       'zanim powiem słowo', 'zaprowadz mnie tam', 'zaprowadź mnie tam',\n",
       "       'zaufałem panu i już', 'zawitaj królowo', 'zawitaj ukrzyżowany',\n",
       "       'zbawca', 'zbawiciel on porusza góry', 'zbliżam się w pokorze',\n",
       "       'zdrowaś bądź maryja', 'zmartwychwstał pan',\n",
       "       'łaską jesteśmy zbawieni', 'święte imię jezus',\n",
       "       'święty nadchodzi święty', 'święty pan bóg i król', 'święty x',\n",
       "       'święty x pan'], dtype=object)"
      ]
     },
     "execution_count": 18,
     "metadata": {},
     "output_type": "execute_result"
    }
   ],
   "source": [
    "songs_h "
   ]
  },
  {
   "cell_type": "code",
   "execution_count": null,
   "metadata": {},
   "outputs": [],
   "source": []
  }
 ],
 "metadata": {
  "kernelspec": {
   "display_name": "Python 3",
   "language": "python",
   "name": "python3"
  },
  "language_info": {
   "codemirror_mode": {
    "name": "ipython",
    "version": 3
   },
   "file_extension": ".py",
   "mimetype": "text/x-python",
   "name": "python",
   "nbconvert_exporter": "python",
   "pygments_lexer": "ipython3",
   "version": "3.6.8"
  }
 },
 "nbformat": 4,
 "nbformat_minor": 2
}
