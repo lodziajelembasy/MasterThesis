{
 "cells": [
  {
   "cell_type": "markdown",
   "metadata": {},
   "source": [
    "# Downloading English readings"
   ]
  },
  {
   "cell_type": "code",
   "execution_count": 1,
   "metadata": {},
   "outputs": [],
   "source": [
    "#http://usccb.org/bible/readings/020619.cfm"
   ]
  },
  {
   "cell_type": "code",
   "execution_count": 2,
   "metadata": {},
   "outputs": [],
   "source": [
    "from collections import Counter\n",
    "import urllib\n",
    "import codecs\n",
    "import nltk\n",
    "import numpy as np \n",
    "\n",
    "import pandas as pd\n",
    "\n",
    "#downloading the webpage\n",
    "import requests\n",
    "import datetime\n",
    "\n",
    "#parsing a page\n",
    "from bs4 import BeautifulSoup\n",
    "import re\n",
    "#presentation handling\n",
    "from pptx import Presentation\n",
    "\n",
    "#file handling\n",
    "from os import listdir\n",
    "\n",
    "#WordCloud\n",
    "from wordcloud import WordCloud\n",
    "import matplotlib.pyplot as plt\n",
    "\n",
    "import string"
   ]
  },
  {
   "cell_type": "code",
   "execution_count": 3,
   "metadata": {},
   "outputs": [],
   "source": [
    "def get_reading(address):\n",
    "    page = requests.get(address)\n",
    "    soup = BeautifulSoup(page.content, 'html.parser')\n",
    "    content = list(soup.children)[8].find_all('div')\n",
    "    div = content[6]\n",
    "    \n",
    "    return div"
   ]
  },
  {
   "cell_type": "code",
   "execution_count": 4,
   "metadata": {},
   "outputs": [],
   "source": [
    "address = 'http://usccb.org/bible/readings/020619.cfm'"
   ]
  },
  {
   "cell_type": "code",
   "execution_count": 5,
   "metadata": {},
   "outputs": [],
   "source": [
    "text = get_reading(address)"
   ]
  },
  {
   "cell_type": "code",
   "execution_count": 6,
   "metadata": {},
   "outputs": [
    {
     "data": {
      "text/plain": [
       "<div id=\"CS_Element_maincontent\" title=\"\"><div class=\"cs_GridRow\" id=\"gridRow_1_1_1386\"><div class=\"cs_GridColumn\" id=\"gridCol_1_1_1_1_1386\"><div class=\"cs_control hidden\" id=\"cs_control_3991\"><div id=\"CS_CCF_248144_3991\"> </div></div><a id=\"ReadingTitle\" name=\"ReadingTitle\"></a><a id=\"CP_JUMP_3683\" name=\"CP_JUMP_3683\"></a><div class=\"cs_control CS_Element_Textblock\" id=\"cs_control_3683\"><div class=\"CS_Textblock_Text\"><h3>Memorial of Saint Paul Miki and Companions, Martyrs<br/>Lectionary: 325</h3></div></div><a id=\"ReadingComponents\" name=\"ReadingComponents\"></a><a id=\"CP_JUMP_3684\" name=\"CP_JUMP_3684\"></a><div class=\"cs_control CS_Element_Textblock\" id=\"cs_control_3684\"><div class=\"CS_Textblock_Text\"><div class=\"bibleReadingsWrapper\">\n",
       "<h4>Reading 1 <a href=\"/bible/readings/bible/hebews/12:4\">Heb 12:4-7, 11-15 </a></h4>\n",
       "<div class=\"poetry\">Brothers and sisters:<br>\n",
       "In your struggle against sin<br/>\n",
       "you have not yet resisted to the point of shedding blood.<br/>\n",
       "You have also forgotten the exhortation addressed to you as children:<br/>\n",
       "<br/>\n",
       "<em>My son, do not disdain the discipline of the Lord<br/>\n",
       "or lose heart when reproved by him;<br/>\n",
       "for whom the Lord loves, he disciplines;<br/>\n",
       "he scourges every son he acknowledges.</em><br/>\n",
       "<br/>\n",
       "Endure your trials as \"discipline\";<br/>\n",
       "God treats you as his sons.<br/>\n",
       "For what \"son\" is there whom his father does not discipline?<br/>\n",
       "At the time, all discipline seems a cause not for joy but for pain,<br/>\n",
       "yet later it brings the peaceful fruit of righteousness<br/>\n",
       "to those who are trained by it.<br/>\n",
       "<br/>\n",
       "So strengthen your drooping hands and your weak knees.<br/>\n",
       "Make straight paths for your feet,<br/>\n",
       "that what is lame may not be dislocated but healed.<br/>\n",
       "<br/>\n",
       "Strive for peace with everyone,<br/>\n",
       "and for that holiness without which no one will see the Lord.<br/>\n",
       "See to it that no one be deprived of the grace of God,<br/>\n",
       "that no bitter root spring up and cause trouble,<br/>\n",
       "through which many may become defiled.</br></div>\n",
       "</div></div></div><div class=\"cs_control CS_Element_Textblock\" id=\"cs_control_228452\"><div class=\"CS_Textblock_Text\"><div class=\"bibleReadingsWrapper\">\n",
       "<h4>Responsorial Psalm <a href=\"/bible/readings/bible/readings/bible/PSALMS/103:1\">Ps 103:1-2, 13-14, 17-18a</a></h4>\n",
       "<div class=\"poetry\">\n",
       "R. (see 17) <strong> The Lord's kindness is everlasting to those who fear him.</strong><br/>Bless the LORD, O my soul;<br/>and all my being, bless his holy name.<br/>Bless the LORD, O my soul,<br/>and forget not all his benefits.<br/>R. <strong>The Lord's kindness is everlasting to those who fear him.</strong><br/>As a father has compassion on his children,<br/>so the LORD has compassion on those who fear him,<br/>For he knows how we are formed;<br/>he remembers that we are dust.<br/>R. <strong>The Lord's kindness is everlasting to those who fear him.</strong><br/>But the kindness of the LORD is from eternity<br/>to eternity toward those who fear him,<br/>And his justice toward children's children<br/>among those who keep his covenant.<br/>R. <strong>The Lord's kindness is everlasting to those who fear him.</strong><br/>\n",
       "</div>\n",
       "</div></div></div><div class=\"cs_control CS_Element_Textblock\" id=\"cs_control_228454\"><div class=\"CS_Textblock_Text\"><div class=\"bibleReadingsWrapper\">\n",
       "<h4>Alleluia <a href=\"/bible/readings/bible/john/10:27\">Jn 10:27</a></h4>\n",
       "<div class=\"poetry\">\n",
       "R. <strong>Alleluia, alleluia.</strong><br/>My sheep hear my voice, says the Lord;<br/>I know them, and they follow me.<br/>R. <strong>Alleluia, alleluia.</strong><br/>\n",
       "</div>\n",
       "</div></div></div><div class=\"cs_control CS_Element_Textblock\" id=\"cs_control_228453\"><div class=\"CS_Textblock_Text\"><div class=\"bibleReadingsWrapper\">\n",
       "<h4>Gospel <a href=\"/bible/readings/bible/mark/6:1\">Mk 6:1-6</a></h4>\n",
       "<div class=\"poetry\">\n",
       "Jesus departed from there and came to his native place, accompanied by his disciples. <br/>When the sabbath came he began to teach in the synagogue,<br/>and many who heard him were astonished. <br/>They said, \"Where did this man get all this? <br/>What kind of wisdom has been given him? <br/>What mighty deeds are wrought by his hands! <br/>Is he not the carpenter, the son of Mary,<br/>and the brother of James and Joseph and Judas and Simon? <br/>And are not his sisters here with us?\" <br/>And they took offense at him. <br/>Jesus said to them,<br/>\"A prophet is not without honor except in his native place<br/>and among his own kin and in his own house.\" <br/>So he was not able to perform any mighty deed there,<br/>apart from curing a few sick people by laying his hands on them.<br/>He was amazed at their lack of faith.</div><div class=\"poetry\"><br/></div><div class=\"poetry\"><h3>For the readings of the Memorial of Saints Paul Miki and Companions, please go <a class=\"CP___PAGEID_260401\" href=\"/bible/readings/0206-memorial-paul-miki.cfm\">here</a>.</h3><br/>\n",
       "</div>\n",
       "</div></div></div><a id=\"readingssignup\" name=\"readingssignup\"></a><a id=\"CP_JUMP_149242\" name=\"CP_JUMP_149242\"></a><div class=\"cs_control box-yellow\" id=\"cs_control_149242\"><div class=\"CS_Textblock_Text\"><!-- Begin MailChimp Signup Form -->\n",
       "<link href=\"/cdn-images.mailchimp.com/embedcode/classic-081711.css\" rel=\"stylesheet\" type=\"text/css\"/>\n",
       "<style type=\"text/css\">\n",
       "##mc_embed_signup{background:##fff; clear:left; font:14px Helvetica,Arial,sans-serif; }\n",
       "/* Add your own MailChimp form style overrides in your site stylesheet or in this style block.\n",
       "   We recommend moving this block and the preceding CSS link to the HEAD of your HTML file. */\n",
       ".asterisk {\n",
       "color:#990033;\n",
       "}\n",
       "</style>\n",
       "<div id=\"mc_embed_signup\">\n",
       "<form action=\"//usccb.us8.list-manage.com/subscribe/post?u=b927174dbe854683d4b527f98&amp;id=2ece5bc0e5\" class=\"validate\" id=\"mc-embedded-subscribe-form\" method=\"post\" name=\"mc-embedded-subscribe-form\" novalidate=\"\" target=\"_blank\">\n",
       "<h2>Get the daily readings sent to your email every morning</h2>\n",
       "<div class=\"mc-field-group\" style=\"margin: 8px 0;\">\n",
       "<label for=\"mce-EMAIL\">Email Address:<span class=\"asterisk\">*</span>  \n",
       "</label>\n",
       "<input class=\"required email\" id=\"mce-EMAIL\" name=\"EMAIL\" type=\"email\" value=\"\"/>  <span class=\"asterisk\">*</span>indicates required\n",
       "</div>\n",
       "<div class=\"mc-field-group\" style=\"margin: 8px 0;\">\n",
       "<label for=\"mce-DEMO\">About me </label>\n",
       "<select class=\"\" id=\"mce-DEMO\" name=\"DEMO\">\n",
       "<option value=\"\">Choose one</option>\n",
       "<option value=\"Priest/Deacon/Religious\">Priest/Deacon/Religious</option>\n",
       "<option value=\"Employee of the Church\">Employee of the Church</option>\n",
       "<option value=\"Lay person active in ministry\">Lay person active in ministry</option>\n",
       "<option value=\"Regular Mass attender\">Regular Mass attender</option>\n",
       "<option value=\"Occasional Mass attender\">Occasional Mass attender</option>\n",
       "<option value=\"Just curious\">Just curious</option>\n",
       "</select>\n",
       "</div>\n",
       "<div class=\"mc-field-group input-group\">\n",
       "<p><strong>USCCB Resources</strong><br/>\n",
       "   <input checked=\"checked\" id=\"mce-group[10089]-10089-0\" name=\"group[10089][1]\" type=\"checkbox\" value=\"1\"/><label for=\"mce-group[10089]-10089-0\">Send me periodic updates on USCCB resources, news and events</label>\n",
       "</p>\n",
       "</div>\n",
       "<div class=\"clear\" id=\"mce-responses\">\n",
       "<div class=\"response\" id=\"mce-error-response\" style=\"display:none\"></div>\n",
       "<div class=\"response\" id=\"mce-success-response\" style=\"display:none\"></div>\n",
       "</div>\n",
       "<!-- real people should not fill this in and expect good things - do not remove this or risk form bot signups-->\n",
       "<div style=\"position: absolute; left: -5000px;\"><input name=\"b_b927174dbe854683d4b527f98_2ece5bc0e5\" tabindex=\"-1\" type=\"text\" value=\"\"/></div>\n",
       "<div class=\"clear\"><input class=\"button\" id=\"mc-embedded-subscribe\" name=\"subscribe\" type=\"submit\" value=\"Subscribe\"/></div>\n",
       "</form>\n",
       "</div>\n",
       "<!-- OLD CODE conflict with other js <script type=\"text/javascript\" src=\"/bible/readings///s3.amazonaws.com/downloads.mailchimp.com/js/mc-validate.js\"></script>-->\n",
       "<script src=\"http://s3.amazonaws.com/downloads.mailchimp.com/js/mc-validate.js\" type=\"text/javascript\"></script>\n",
       "<script type=\"text/javascript\">\n",
       "(function($) {\n",
       "window.fnames = new Array(); window.ftypes = new Array();fnames[0]='EMAIL';ftypes[0]='email';fnames[1]='DEMO';ftypes[1]='dropdown';\n",
       "}(jQuery));\n",
       "var $mcj = jQuery.noConflict(true);\n",
       "</script>\n",
       "<!--End mc_embed_signup--></div></div><a id=\"ReadingCopyright\" name=\"ReadingCopyright\"></a><a id=\"CP_JUMP_4180\" name=\"CP_JUMP_4180\"></a><div class=\"cs_control readingsFooter\" id=\"cs_control_4180\"><div class=\"CS_Textblock_Text\"><p>Lectionary for Mass for Use in the Dioceses of the United States, second typical edition, Copyright © 2001, 1998, 1997, 1986, 1970 Confraternity of Christian Doctrine; Psalm refrain © 1968, 1981, 1997, International Committee on English in the Liturgy, Inc. All rights reserved. Neither this work nor any part of it may be reproduced, distributed, performed or displayed in any medium, including electronic or digital, without permission in writing from the copyright owner.</p></div></div></div></div></div>"
      ]
     },
     "execution_count": 6,
     "metadata": {},
     "output_type": "execute_result"
    }
   ],
   "source": [
    "list(text.children)[0]"
   ]
  },
  {
   "cell_type": "code",
   "execution_count": 7,
   "metadata": {},
   "outputs": [],
   "source": [
    "x = text.find_all('div')"
   ]
  },
  {
   "cell_type": "code",
   "execution_count": 8,
   "metadata": {},
   "outputs": [
    {
     "data": {
      "text/plain": [
       "<div class=\"cs_control hidden\" id=\"cs_control_3991\"><div id=\"CS_CCF_248144_3991\"> </div></div>"
      ]
     },
     "execution_count": 8,
     "metadata": {},
     "output_type": "execute_result"
    }
   ],
   "source": [
    "x[3]"
   ]
  },
  {
   "cell_type": "code",
   "execution_count": null,
   "metadata": {},
   "outputs": [],
   "source": []
  }
 ],
 "metadata": {
  "kernelspec": {
   "display_name": "Python 3",
   "language": "python",
   "name": "python3"
  },
  "language_info": {
   "codemirror_mode": {
    "name": "ipython",
    "version": 3
   },
   "file_extension": ".py",
   "mimetype": "text/x-python",
   "name": "python",
   "nbconvert_exporter": "python",
   "pygments_lexer": "ipython3",
   "version": "3.6.8"
  }
 },
 "nbformat": 4,
 "nbformat_minor": 2
}
