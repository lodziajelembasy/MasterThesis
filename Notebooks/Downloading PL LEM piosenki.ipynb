{
 "cells": [
  {
   "cell_type": "markdown",
   "metadata": {},
   "source": [
    "# Downloading PL LEM - piosenki"
   ]
  },
  {
   "cell_type": "code",
   "execution_count": 1,
   "metadata": {},
   "outputs": [],
   "source": [
    "import pandas as pd\n",
    "import os\n",
    "import codecs   "
   ]
  },
  {
   "cell_type": "code",
   "execution_count": 2,
   "metadata": {},
   "outputs": [],
   "source": [
    "import re\n",
    "def clean_indent(raw):\n",
    "    cleaner = re.compile('^\\s+')\n",
    "    cleantext = re.sub(cleaner, '',raw)\n",
    "    return cleantext\n",
    "\n",
    "def clean_rest(text):\n",
    "    cleaner = re.compile('\\\\r\\\\n\\s+')\n",
    "    cleantext = re.sub(cleaner, '',text)\n",
    "    return cleantext\n",
    "\n",
    "def clean_rest2(text):\n",
    "    cleaner = re.compile('(\\\\r\\\\n)')\n",
    "    cleantext = re.sub(cleaner, ' ',text)\n",
    "    return cleantext\n",
    "\n",
    "def clean_carriage(text):\n",
    "    cleaner = re.compile('(.*)\\n')\n",
    "    cleantext = re.sub(cleaner, '',text)\n",
    "    return cleantext\n",
    "\n",
    "def clean_rest3(text):\n",
    "    cleaner = re.compile('\\\\n')\n",
    "    cleantext = re.sub(cleaner, '',text)\n",
    "    return cleantext"
   ]
  },
  {
   "cell_type": "code",
   "execution_count": 3,
   "metadata": {},
   "outputs": [],
   "source": [
    "prep = pd.read_csv('../CSV/prep_songs.csv', header=0, index_col=0)"
   ]
  },
  {
   "cell_type": "code",
   "execution_count": 4,
   "metadata": {},
   "outputs": [
    {
     "data": {
      "text/html": [
       "<div>\n",
       "<style scoped>\n",
       "    .dataframe tbody tr th:only-of-type {\n",
       "        vertical-align: middle;\n",
       "    }\n",
       "\n",
       "    .dataframe tbody tr th {\n",
       "        vertical-align: top;\n",
       "    }\n",
       "\n",
       "    .dataframe thead th {\n",
       "        text-align: right;\n",
       "    }\n",
       "</style>\n",
       "<table border=\"1\" class=\"dataframe\">\n",
       "  <thead>\n",
       "    <tr style=\"text-align: right;\">\n",
       "      <th></th>\n",
       "      <th>title_pl</th>\n",
       "      <th>txt_pl</th>\n",
       "      <th>txt_en</th>\n",
       "      <th>title_pl_tokenized</th>\n",
       "      <th>txt_pl_tokenized</th>\n",
       "      <th>txt_en_tokenized</th>\n",
       "      <th>title_pl_tokenized_lower_nostops</th>\n",
       "      <th>txt_pl_tokenized_lower_nostops</th>\n",
       "      <th>txt_en_tokenized_lower_nostops</th>\n",
       "      <th>txt_en_tokenized_lower_nostops_stemmed</th>\n",
       "      <th>txt_en_tokenized_lower_nostops_lemmatized</th>\n",
       "    </tr>\n",
       "  </thead>\n",
       "  <tbody>\n",
       "    <tr>\n",
       "      <th>0</th>\n",
       "      <td>Abba Ojcze</td>\n",
       "      <td>Ty wyzwoliłeś nas Panie  z kajdan i samych sie...</td>\n",
       "      <td>You delivered us from chains and ourselves, an...</td>\n",
       "      <td>['Abba', 'Ojcze']</td>\n",
       "      <td>['Ty', 'wyzwoliłeś', 'nas', 'Panie', 'z', 'kaj...</td>\n",
       "      <td>['You', 'delivered', 'us', 'from', 'chains', '...</td>\n",
       "      <td>['abba', 'ojcze']</td>\n",
       "      <td>['ty', 'wyzwoliłeś', 'panie', 'kajdan', 'samyc...</td>\n",
       "      <td>['you', 'delivered', 'us', 'chains', 'christ',...</td>\n",
       "      <td>['you', 'deliv', 'us', 'chain', 'christ', 'bec...</td>\n",
       "      <td>['you', 'delivered', 'u', 'chain', 'christ', '...</td>\n",
       "    </tr>\n",
       "    <tr>\n",
       "      <th>1</th>\n",
       "      <td>Alleluja (Niech zabrzmi Panu)</td>\n",
       "      <td>Alleluja, Alleluja, Alleluja, Alleluja.   Nie...</td>\n",
       "      <td>Alleluia, Alleluia, Alleluia, Alleluia. Let th...</td>\n",
       "      <td>['Alleluja', 'Niech', 'zabrzmi', 'Panu']</td>\n",
       "      <td>['Alleluja', 'Alleluja', 'Alleluja', 'Alleluja...</td>\n",
       "      <td>['Alleluia', 'Alleluia', 'Alleluia', 'Alleluia...</td>\n",
       "      <td>['alleluja', 'niech', 'zabrzmi', 'panu']</td>\n",
       "      <td>['alleluja', 'alleluja', 'alleluja', 'alleluja...</td>\n",
       "      <td>['alleluia', 'alleluia', 'alleluia', 'alleluia...</td>\n",
       "      <td>['alleluia', 'alleluia', 'alleluia', 'alleluia...</td>\n",
       "      <td>['alleluia', 'alleluia', 'alleluia', 'alleluia...</td>\n",
       "    </tr>\n",
       "    <tr>\n",
       "      <th>2</th>\n",
       "      <td>Alleluja, Alleluja, Amen Amen, Alleluja</td>\n",
       "      <td>Alleluja, Alleluja,  Amen, Amen, Alleluja.   ...</td>\n",
       "      <td>Alleluia, Alleluia, Amen, Amen, Alleluia. Let ...</td>\n",
       "      <td>['Alleluja', 'Alleluja', 'Amen', 'Amen', 'Alle...</td>\n",
       "      <td>['Alleluja', 'Alleluja', 'Amen', 'Amen', 'Alle...</td>\n",
       "      <td>['Alleluia', 'Alleluia', 'Amen', 'Amen', 'Alle...</td>\n",
       "      <td>['alleluja', 'alleluja', 'amen', 'amen', 'alle...</td>\n",
       "      <td>['alleluja', 'alleluja', 'amen', 'amen', 'alle...</td>\n",
       "      <td>['alleluia', 'alleluia', 'amen', 'amen', 'alle...</td>\n",
       "      <td>['alleluia', 'alleluia', 'amen', 'amen', 'alle...</td>\n",
       "      <td>['alleluia', 'alleluia', 'amen', 'amen', 'alle...</td>\n",
       "    </tr>\n",
       "    <tr>\n",
       "      <th>3</th>\n",
       "      <td>Blisko, blisko, blisko jesteś</td>\n",
       "      <td>Blisko, blisko, blisko Jesteś Panie mój Blisk...</td>\n",
       "      <td>Close, close, close You are my Lord, Close to ...</td>\n",
       "      <td>['Blisko', 'blisko', 'blisko', 'jesteś']</td>\n",
       "      <td>['Blisko', 'blisko', 'blisko', 'Jesteś', 'Pani...</td>\n",
       "      <td>['Close', 'close', 'close', 'You', 'are', 'my'...</td>\n",
       "      <td>['blisko', 'blisko', 'blisko', 'jesteś']</td>\n",
       "      <td>['blisko', 'blisko', 'blisko', 'jesteś', 'pani...</td>\n",
       "      <td>['close', 'close', 'close', 'you', 'lord', 'cl...</td>\n",
       "      <td>['close', 'close', 'close', 'you', 'lord', 'cl...</td>\n",
       "      <td>['close', 'close', 'close', 'you', 'lord', 'cl...</td>\n",
       "    </tr>\n",
       "    <tr>\n",
       "      <th>4</th>\n",
       "      <td>Bo góry mogą ustąpić</td>\n",
       "      <td>Bo góry mogą ustąpić i pagórki się zachwiać. ...</td>\n",
       "      <td>Because the mountains can give way and the hil...</td>\n",
       "      <td>['Bo', 'góry', 'mogą', 'ustąpić']</td>\n",
       "      <td>['Bo', 'góry', 'mogą', 'ustąpić', 'i', 'pagórk...</td>\n",
       "      <td>['Because', 'the', 'mountains', 'can', 'give',...</td>\n",
       "      <td>['bo', 'góry', 'ustąpić']</td>\n",
       "      <td>['bo', 'góry', 'ustąpić', 'pagórki', 'zachwiać...</td>\n",
       "      <td>['because', 'mountains', 'give', 'way', 'hills...</td>\n",
       "      <td>['becaus', 'mountain', 'give', 'way', 'hill', ...</td>\n",
       "      <td>['because', 'mountain', 'give', 'way', 'hill',...</td>\n",
       "    </tr>\n",
       "  </tbody>\n",
       "</table>\n",
       "</div>"
      ],
      "text/plain": [
       "                                  title_pl  \\\n",
       "0                               Abba Ojcze   \n",
       "1            Alleluja (Niech zabrzmi Panu)   \n",
       "2  Alleluja, Alleluja, Amen Amen, Alleluja   \n",
       "3            Blisko, blisko, blisko jesteś   \n",
       "4                     Bo góry mogą ustąpić   \n",
       "\n",
       "                                              txt_pl  \\\n",
       "0  Ty wyzwoliłeś nas Panie  z kajdan i samych sie...   \n",
       "1   Alleluja, Alleluja, Alleluja, Alleluja.   Nie...   \n",
       "2   Alleluja, Alleluja,  Amen, Amen, Alleluja.   ...   \n",
       "3   Blisko, blisko, blisko Jesteś Panie mój Blisk...   \n",
       "4   Bo góry mogą ustąpić i pagórki się zachwiać. ...   \n",
       "\n",
       "                                              txt_en  \\\n",
       "0  You delivered us from chains and ourselves, an...   \n",
       "1  Alleluia, Alleluia, Alleluia, Alleluia. Let th...   \n",
       "2  Alleluia, Alleluia, Amen, Amen, Alleluia. Let ...   \n",
       "3  Close, close, close You are my Lord, Close to ...   \n",
       "4  Because the mountains can give way and the hil...   \n",
       "\n",
       "                                  title_pl_tokenized  \\\n",
       "0                                  ['Abba', 'Ojcze']   \n",
       "1           ['Alleluja', 'Niech', 'zabrzmi', 'Panu']   \n",
       "2  ['Alleluja', 'Alleluja', 'Amen', 'Amen', 'Alle...   \n",
       "3           ['Blisko', 'blisko', 'blisko', 'jesteś']   \n",
       "4                  ['Bo', 'góry', 'mogą', 'ustąpić']   \n",
       "\n",
       "                                    txt_pl_tokenized  \\\n",
       "0  ['Ty', 'wyzwoliłeś', 'nas', 'Panie', 'z', 'kaj...   \n",
       "1  ['Alleluja', 'Alleluja', 'Alleluja', 'Alleluja...   \n",
       "2  ['Alleluja', 'Alleluja', 'Amen', 'Amen', 'Alle...   \n",
       "3  ['Blisko', 'blisko', 'blisko', 'Jesteś', 'Pani...   \n",
       "4  ['Bo', 'góry', 'mogą', 'ustąpić', 'i', 'pagórk...   \n",
       "\n",
       "                                    txt_en_tokenized  \\\n",
       "0  ['You', 'delivered', 'us', 'from', 'chains', '...   \n",
       "1  ['Alleluia', 'Alleluia', 'Alleluia', 'Alleluia...   \n",
       "2  ['Alleluia', 'Alleluia', 'Amen', 'Amen', 'Alle...   \n",
       "3  ['Close', 'close', 'close', 'You', 'are', 'my'...   \n",
       "4  ['Because', 'the', 'mountains', 'can', 'give',...   \n",
       "\n",
       "                    title_pl_tokenized_lower_nostops  \\\n",
       "0                                  ['abba', 'ojcze']   \n",
       "1           ['alleluja', 'niech', 'zabrzmi', 'panu']   \n",
       "2  ['alleluja', 'alleluja', 'amen', 'amen', 'alle...   \n",
       "3           ['blisko', 'blisko', 'blisko', 'jesteś']   \n",
       "4                          ['bo', 'góry', 'ustąpić']   \n",
       "\n",
       "                      txt_pl_tokenized_lower_nostops  \\\n",
       "0  ['ty', 'wyzwoliłeś', 'panie', 'kajdan', 'samyc...   \n",
       "1  ['alleluja', 'alleluja', 'alleluja', 'alleluja...   \n",
       "2  ['alleluja', 'alleluja', 'amen', 'amen', 'alle...   \n",
       "3  ['blisko', 'blisko', 'blisko', 'jesteś', 'pani...   \n",
       "4  ['bo', 'góry', 'ustąpić', 'pagórki', 'zachwiać...   \n",
       "\n",
       "                      txt_en_tokenized_lower_nostops  \\\n",
       "0  ['you', 'delivered', 'us', 'chains', 'christ',...   \n",
       "1  ['alleluia', 'alleluia', 'alleluia', 'alleluia...   \n",
       "2  ['alleluia', 'alleluia', 'amen', 'amen', 'alle...   \n",
       "3  ['close', 'close', 'close', 'you', 'lord', 'cl...   \n",
       "4  ['because', 'mountains', 'give', 'way', 'hills...   \n",
       "\n",
       "              txt_en_tokenized_lower_nostops_stemmed  \\\n",
       "0  ['you', 'deliv', 'us', 'chain', 'christ', 'bec...   \n",
       "1  ['alleluia', 'alleluia', 'alleluia', 'alleluia...   \n",
       "2  ['alleluia', 'alleluia', 'amen', 'amen', 'alle...   \n",
       "3  ['close', 'close', 'close', 'you', 'lord', 'cl...   \n",
       "4  ['becaus', 'mountain', 'give', 'way', 'hill', ...   \n",
       "\n",
       "           txt_en_tokenized_lower_nostops_lemmatized  \n",
       "0  ['you', 'delivered', 'u', 'chain', 'christ', '...  \n",
       "1  ['alleluia', 'alleluia', 'alleluia', 'alleluia...  \n",
       "2  ['alleluia', 'alleluia', 'amen', 'amen', 'alle...  \n",
       "3  ['close', 'close', 'close', 'you', 'lord', 'cl...  \n",
       "4  ['because', 'mountain', 'give', 'way', 'hill',...  "
      ]
     },
     "execution_count": 4,
     "metadata": {},
     "output_type": "execute_result"
    }
   ],
   "source": [
    "prep.head()"
   ]
  },
  {
   "cell_type": "code",
   "execution_count": 5,
   "metadata": {},
   "outputs": [],
   "source": [
    "path = '../lemmatyzacjaPL/piosenki_stop/piosenki_stop_morp2/'\n",
    "#filename = 'lemmatyzacjaPL\\\\czytania\\\\czytania_lem_morp\\\\czytania%2018-12-02.txt.txt'"
   ]
  },
  {
   "cell_type": "code",
   "execution_count": 6,
   "metadata": {},
   "outputs": [
    {
     "name": "stdout",
     "output_type": "stream",
     "text": [
      "186\n"
     ]
    }
   ],
   "source": [
    "filelist = os.listdir(path)\n",
    "#print(filelist[0])\n",
    "files = [path + filelist[i] for i in range(len(filelist))]\n",
    "print(len(files))"
   ]
  },
  {
   "cell_type": "code",
   "execution_count": 7,
   "metadata": {},
   "outputs": [
    {
     "name": "stdout",
     "output_type": "stream",
     "text": [
      "(186, 1)\n"
     ]
    }
   ],
   "source": [
    "data = []\n",
    "for file in files:\n",
    "    with codecs.open(file, 'r', encoding='utf8') as f:\n",
    "        text = f.read()\n",
    "        data.append(clean_rest3(text))\n",
    "        \n",
    "        \n",
    "df = pd.DataFrame(data)\n",
    "print(df.shape)"
   ]
  },
  {
   "cell_type": "code",
   "execution_count": 8,
   "metadata": {},
   "outputs": [
    {
     "data": {
      "text/html": [
       "<div>\n",
       "<style scoped>\n",
       "    .dataframe tbody tr th:only-of-type {\n",
       "        vertical-align: middle;\n",
       "    }\n",
       "\n",
       "    .dataframe tbody tr th {\n",
       "        vertical-align: top;\n",
       "    }\n",
       "\n",
       "    .dataframe thead th {\n",
       "        text-align: right;\n",
       "    }\n",
       "</style>\n",
       "<table border=\"1\" class=\"dataframe\">\n",
       "  <thead>\n",
       "    <tr style=\"text-align: right;\">\n",
       "      <th></th>\n",
       "      <th>txt_pl_lem</th>\n",
       "      <th>title</th>\n",
       "    </tr>\n",
       "  </thead>\n",
       "  <tbody>\n",
       "    <tr>\n",
       "      <th>0</th>\n",
       "      <td>\"  wyzwolić     kajdany   siebie ,  Chrystus s...</td>\n",
       "      <td>Abba Ojcze</td>\n",
       "    </tr>\n",
       "    <tr>\n",
       "      <th>1</th>\n",
       "      <td>\" alleluja , alleluja , alleluja , alleluja . ...</td>\n",
       "      <td>Alleluja (Niech zabrzmi Panu)</td>\n",
       "    </tr>\n",
       "    <tr>\n",
       "      <th>2</th>\n",
       "      <td>\" Bóg  umiłować świat ,  syn swój jednorodzony...</td>\n",
       "      <td>Alleluja, Alleluja, Amen Amen, Alleluja</td>\n",
       "    </tr>\n",
       "    <tr>\n",
       "      <th>3</th>\n",
       "      <td>\"  piękność stworzyć   raz poznać    pokochać ...</td>\n",
       "      <td>Blisko, blisko, blisko jesteś</td>\n",
       "    </tr>\n",
       "    <tr>\n",
       "      <th>4</th>\n",
       "      <td>\"  stworzyciel , Duch , przyjść , nawiedzić du...</td>\n",
       "      <td>Bo góry mogą ustąpić</td>\n",
       "    </tr>\n",
       "  </tbody>\n",
       "</table>\n",
       "</div>"
      ],
      "text/plain": [
       "                                          txt_pl_lem  \\\n",
       "0  \"  wyzwolić     kajdany   siebie ,  Chrystus s...   \n",
       "1  \" alleluja , alleluja , alleluja , alleluja . ...   \n",
       "2  \" Bóg  umiłować świat ,  syn swój jednorodzony...   \n",
       "3  \"  piękność stworzyć   raz poznać    pokochać ...   \n",
       "4  \"  stworzyciel , Duch , przyjść , nawiedzić du...   \n",
       "\n",
       "                                     title  \n",
       "0                               Abba Ojcze  \n",
       "1            Alleluja (Niech zabrzmi Panu)  \n",
       "2  Alleluja, Alleluja, Amen Amen, Alleluja  \n",
       "3            Blisko, blisko, blisko jesteś  \n",
       "4                     Bo góry mogą ustąpić  "
      ]
     },
     "execution_count": 8,
     "metadata": {},
     "output_type": "execute_result"
    }
   ],
   "source": [
    "df.columns = ['txt_pl_lem']\n",
    "df['title']= prep['title_pl']\n",
    "df.head()"
   ]
  },
  {
   "cell_type": "code",
   "execution_count": 9,
   "metadata": {},
   "outputs": [
    {
     "data": {
      "text/plain": [
       "'\"  wyzwolić     kajdany   siebie ,  Chrystus stawać  brat nauczyć  wołać   : abba ojciec ! abba ojciec ! abba ojciec !  kościół  drzewo życie  wieczność zapuszczać korzeń , przenikać  codzienność  pokazywać   . abba ojciec ! abba ojciec ! abba ojciec ! Bóg hojny dawca  życie ,  wyswobodzić   śmierć  przygarniać  siebie uczynić swój dziecko . abba ojciec ! abba ojciec ! abba ojciec ! wszystek  brat ,   rodzina .  prawda    zaćmić     godzina . abba ojciec ! abba ojciec ! abba ojciec ! \" '"
      ]
     },
     "execution_count": 9,
     "metadata": {},
     "output_type": "execute_result"
    }
   ],
   "source": [
    "df.iloc[0][0]"
   ]
  },
  {
   "cell_type": "code",
   "execution_count": 10,
   "metadata": {},
   "outputs": [
    {
     "data": {
      "text/plain": [
       "'Ty wyzwoliłeś nas Panie  z kajdan i samych siebie,  a Chrystus stając się bratem  nauczył nas wołać do Ciebie:  Abba Ojcze! Abba Ojcze! Abba Ojcze!  Bo Kościół jak drzewo życia w wieczności zapuszcza korzenie, przenika naszą codzienność i pokazuje nam Ciebie. Abba Ojcze! Abba Ojcze! Abba Ojcze!  Bóg hojnym Dawcą jest życia, on wyswobodził nas z śmierci i przygarniając do siebie uczynił swoimi dziećmi. Abba Ojcze! Abba Ojcze! Abba Ojcze!  Wszyscy jesteśmy braćmi, jesteśmy jedną rodziną. Tej prawdy nic już nie zaćmi i teraz jest jej godzina. Abba Ojcze! Abba Ojcze! Abba Ojcze! '"
      ]
     },
     "execution_count": 10,
     "metadata": {},
     "output_type": "execute_result"
    }
   ],
   "source": [
    "prep['txt_pl'][0]"
   ]
  },
  {
   "cell_type": "code",
   "execution_count": 11,
   "metadata": {},
   "outputs": [],
   "source": [
    "df.to_csv('../CSV/piosenki_lem_stop_morp2.csv', header=True, index=False)"
   ]
  }
 ],
 "metadata": {
  "kernelspec": {
   "display_name": "Python 3",
   "language": "python",
   "name": "python3"
  },
  "language_info": {
   "codemirror_mode": {
    "name": "ipython",
    "version": 3
   },
   "file_extension": ".py",
   "mimetype": "text/x-python",
   "name": "python",
   "nbconvert_exporter": "python",
   "pygments_lexer": "ipython3",
   "version": "3.6.8"
  }
 },
 "nbformat": 4,
 "nbformat_minor": 2
}
