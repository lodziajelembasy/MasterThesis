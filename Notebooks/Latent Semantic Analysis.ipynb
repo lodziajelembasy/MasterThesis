{
 "cells": [
  {
   "cell_type": "markdown",
   "metadata": {},
   "source": [
    "## Latent Semantic Analysis using Gensim - datacamp blog"
   ]
  },
  {
   "cell_type": "code",
   "execution_count": 1,
   "metadata": {},
   "outputs": [],
   "source": [
    "import warnings  \n",
    "warnings.filterwarnings('ignore')\n",
    "\n",
    "#import modules\n",
    "import os.path\n",
    "from gensim import corpora\n",
    "from gensim.models import LsiModel\n",
    "from nltk.tokenize import RegexpTokenizer\n",
    "from nltk.corpus import stopwords\n",
    "from nltk.stem.porter import PorterStemmer\n",
    "from nltk import WordNetLemmatizer\n",
    "from gensim.models.coherencemodel import CoherenceModel\n",
    "import matplotlib.pyplot as plt\n",
    "import pandas as pd"
   ]
  },
  {
   "cell_type": "markdown",
   "metadata": {},
   "source": [
    "### Loading data"
   ]
  },
  {
   "cell_type": "code",
   "execution_count": 2,
   "metadata": {},
   "outputs": [
    {
     "data": {
      "text/html": [
       "<div>\n",
       "<style scoped>\n",
       "    .dataframe tbody tr th:only-of-type {\n",
       "        vertical-align: middle;\n",
       "    }\n",
       "\n",
       "    .dataframe tbody tr th {\n",
       "        vertical-align: top;\n",
       "    }\n",
       "\n",
       "    .dataframe thead th {\n",
       "        text-align: right;\n",
       "    }\n",
       "</style>\n",
       "<table border=\"1\" class=\"dataframe\">\n",
       "  <thead>\n",
       "    <tr style=\"text-align: right;\">\n",
       "      <th></th>\n",
       "      <th>title_pl</th>\n",
       "      <th>txt_pl</th>\n",
       "      <th>txt_en</th>\n",
       "      <th>title_pl_tokenized</th>\n",
       "      <th>txt_pl_tokenized</th>\n",
       "      <th>txt_en_tokenized</th>\n",
       "      <th>title_pl_tokenized_lower_nostops</th>\n",
       "      <th>txt_pl_tokenized_lower_nostops</th>\n",
       "      <th>txt_en_tokenized_lower_nostops</th>\n",
       "      <th>txt_en_tokenized_lower_nostops_stemmed</th>\n",
       "      <th>txt_en_tokenized_lower_nostops_lemmatized</th>\n",
       "    </tr>\n",
       "  </thead>\n",
       "  <tbody>\n",
       "    <tr>\n",
       "      <th>0</th>\n",
       "      <td>Abba Ojcze</td>\n",
       "      <td>Ty wyzwoliłeś nas Panie  z kajdan i samych sie...</td>\n",
       "      <td>You delivered us from chains and ourselves, an...</td>\n",
       "      <td>['Abba', 'Ojcze']</td>\n",
       "      <td>['Ty', 'wyzwoliłeś', 'nas', 'Panie', 'z', 'kaj...</td>\n",
       "      <td>['You', 'delivered', 'us', 'from', 'chains', '...</td>\n",
       "      <td>['abba', 'ojcze']</td>\n",
       "      <td>['ty', 'wyzwoliłeś', 'panie', 'kajdan', 'samyc...</td>\n",
       "      <td>['you', 'delivered', 'us', 'chains', 'christ',...</td>\n",
       "      <td>['you', 'deliv', 'us', 'chain', 'christ', 'bec...</td>\n",
       "      <td>['you', 'delivered', 'u', 'chain', 'christ', '...</td>\n",
       "    </tr>\n",
       "    <tr>\n",
       "      <th>1</th>\n",
       "      <td>Alleluja (Niech zabrzmi Panu)</td>\n",
       "      <td>Alleluja, Alleluja, Alleluja, Alleluja.   Nie...</td>\n",
       "      <td>Alleluia, Alleluia, Alleluia, Alleluia. Let th...</td>\n",
       "      <td>['Alleluja', 'Niech', 'zabrzmi', 'Panu']</td>\n",
       "      <td>['Alleluja', 'Alleluja', 'Alleluja', 'Alleluja...</td>\n",
       "      <td>['Alleluia', 'Alleluia', 'Alleluia', 'Alleluia...</td>\n",
       "      <td>['alleluja', 'niech', 'zabrzmi', 'panu']</td>\n",
       "      <td>['alleluja', 'alleluja', 'alleluja', 'alleluja...</td>\n",
       "      <td>['alleluia', 'alleluia', 'alleluia', 'alleluia...</td>\n",
       "      <td>['alleluia', 'alleluia', 'alleluia', 'alleluia...</td>\n",
       "      <td>['alleluia', 'alleluia', 'alleluia', 'alleluia...</td>\n",
       "    </tr>\n",
       "    <tr>\n",
       "      <th>2</th>\n",
       "      <td>Alleluja, Alleluja, Amen Amen, Alleluja</td>\n",
       "      <td>Alleluja, Alleluja,  Amen, Amen, Alleluja.   ...</td>\n",
       "      <td>Alleluia, Alleluia, Amen, Amen, Alleluia. Let ...</td>\n",
       "      <td>['Alleluja', 'Alleluja', 'Amen', 'Amen', 'Alle...</td>\n",
       "      <td>['Alleluja', 'Alleluja', 'Amen', 'Amen', 'Alle...</td>\n",
       "      <td>['Alleluia', 'Alleluia', 'Amen', 'Amen', 'Alle...</td>\n",
       "      <td>['alleluja', 'alleluja', 'amen', 'amen', 'alle...</td>\n",
       "      <td>['alleluja', 'alleluja', 'amen', 'amen', 'alle...</td>\n",
       "      <td>['alleluia', 'alleluia', 'amen', 'amen', 'alle...</td>\n",
       "      <td>['alleluia', 'alleluia', 'amen', 'amen', 'alle...</td>\n",
       "      <td>['alleluia', 'alleluia', 'amen', 'amen', 'alle...</td>\n",
       "    </tr>\n",
       "    <tr>\n",
       "      <th>3</th>\n",
       "      <td>Blisko, blisko, blisko jesteś</td>\n",
       "      <td>Blisko, blisko, blisko Jesteś Panie mój Blisk...</td>\n",
       "      <td>Close, close, close You are my Lord, Close to ...</td>\n",
       "      <td>['Blisko', 'blisko', 'blisko', 'jesteś']</td>\n",
       "      <td>['Blisko', 'blisko', 'blisko', 'Jesteś', 'Pani...</td>\n",
       "      <td>['Close', 'close', 'close', 'You', 'are', 'my'...</td>\n",
       "      <td>['blisko', 'blisko', 'blisko', 'jesteś']</td>\n",
       "      <td>['blisko', 'blisko', 'blisko', 'jesteś', 'pani...</td>\n",
       "      <td>['close', 'close', 'close', 'you', 'lord', 'cl...</td>\n",
       "      <td>['close', 'close', 'close', 'you', 'lord', 'cl...</td>\n",
       "      <td>['close', 'close', 'close', 'you', 'lord', 'cl...</td>\n",
       "    </tr>\n",
       "    <tr>\n",
       "      <th>4</th>\n",
       "      <td>Bo góry mogą ustąpić</td>\n",
       "      <td>Bo góry mogą ustąpić i pagórki się zachwiać. ...</td>\n",
       "      <td>Because the mountains can give way and the hil...</td>\n",
       "      <td>['Bo', 'góry', 'mogą', 'ustąpić']</td>\n",
       "      <td>['Bo', 'góry', 'mogą', 'ustąpić', 'i', 'pagórk...</td>\n",
       "      <td>['Because', 'the', 'mountains', 'can', 'give',...</td>\n",
       "      <td>['bo', 'góry', 'ustąpić']</td>\n",
       "      <td>['bo', 'góry', 'ustąpić', 'pagórki', 'zachwiać...</td>\n",
       "      <td>['because', 'mountains', 'give', 'way', 'hills...</td>\n",
       "      <td>['becaus', 'mountain', 'give', 'way', 'hill', ...</td>\n",
       "      <td>['because', 'mountain', 'give', 'way', 'hill',...</td>\n",
       "    </tr>\n",
       "  </tbody>\n",
       "</table>\n",
       "</div>"
      ],
      "text/plain": [
       "                                  title_pl  \\\n",
       "0                               Abba Ojcze   \n",
       "1            Alleluja (Niech zabrzmi Panu)   \n",
       "2  Alleluja, Alleluja, Amen Amen, Alleluja   \n",
       "3            Blisko, blisko, blisko jesteś   \n",
       "4                     Bo góry mogą ustąpić   \n",
       "\n",
       "                                              txt_pl  \\\n",
       "0  Ty wyzwoliłeś nas Panie  z kajdan i samych sie...   \n",
       "1   Alleluja, Alleluja, Alleluja, Alleluja.   Nie...   \n",
       "2   Alleluja, Alleluja,  Amen, Amen, Alleluja.   ...   \n",
       "3   Blisko, blisko, blisko Jesteś Panie mój Blisk...   \n",
       "4   Bo góry mogą ustąpić i pagórki się zachwiać. ...   \n",
       "\n",
       "                                              txt_en  \\\n",
       "0  You delivered us from chains and ourselves, an...   \n",
       "1  Alleluia, Alleluia, Alleluia, Alleluia. Let th...   \n",
       "2  Alleluia, Alleluia, Amen, Amen, Alleluia. Let ...   \n",
       "3  Close, close, close You are my Lord, Close to ...   \n",
       "4  Because the mountains can give way and the hil...   \n",
       "\n",
       "                                  title_pl_tokenized  \\\n",
       "0                                  ['Abba', 'Ojcze']   \n",
       "1           ['Alleluja', 'Niech', 'zabrzmi', 'Panu']   \n",
       "2  ['Alleluja', 'Alleluja', 'Amen', 'Amen', 'Alle...   \n",
       "3           ['Blisko', 'blisko', 'blisko', 'jesteś']   \n",
       "4                  ['Bo', 'góry', 'mogą', 'ustąpić']   \n",
       "\n",
       "                                    txt_pl_tokenized  \\\n",
       "0  ['Ty', 'wyzwoliłeś', 'nas', 'Panie', 'z', 'kaj...   \n",
       "1  ['Alleluja', 'Alleluja', 'Alleluja', 'Alleluja...   \n",
       "2  ['Alleluja', 'Alleluja', 'Amen', 'Amen', 'Alle...   \n",
       "3  ['Blisko', 'blisko', 'blisko', 'Jesteś', 'Pani...   \n",
       "4  ['Bo', 'góry', 'mogą', 'ustąpić', 'i', 'pagórk...   \n",
       "\n",
       "                                    txt_en_tokenized  \\\n",
       "0  ['You', 'delivered', 'us', 'from', 'chains', '...   \n",
       "1  ['Alleluia', 'Alleluia', 'Alleluia', 'Alleluia...   \n",
       "2  ['Alleluia', 'Alleluia', 'Amen', 'Amen', 'Alle...   \n",
       "3  ['Close', 'close', 'close', 'You', 'are', 'my'...   \n",
       "4  ['Because', 'the', 'mountains', 'can', 'give',...   \n",
       "\n",
       "                    title_pl_tokenized_lower_nostops  \\\n",
       "0                                  ['abba', 'ojcze']   \n",
       "1           ['alleluja', 'niech', 'zabrzmi', 'panu']   \n",
       "2  ['alleluja', 'alleluja', 'amen', 'amen', 'alle...   \n",
       "3           ['blisko', 'blisko', 'blisko', 'jesteś']   \n",
       "4                          ['bo', 'góry', 'ustąpić']   \n",
       "\n",
       "                      txt_pl_tokenized_lower_nostops  \\\n",
       "0  ['ty', 'wyzwoliłeś', 'panie', 'kajdan', 'samyc...   \n",
       "1  ['alleluja', 'alleluja', 'alleluja', 'alleluja...   \n",
       "2  ['alleluja', 'alleluja', 'amen', 'amen', 'alle...   \n",
       "3  ['blisko', 'blisko', 'blisko', 'jesteś', 'pani...   \n",
       "4  ['bo', 'góry', 'ustąpić', 'pagórki', 'zachwiać...   \n",
       "\n",
       "                      txt_en_tokenized_lower_nostops  \\\n",
       "0  ['you', 'delivered', 'us', 'chains', 'christ',...   \n",
       "1  ['alleluia', 'alleluia', 'alleluia', 'alleluia...   \n",
       "2  ['alleluia', 'alleluia', 'amen', 'amen', 'alle...   \n",
       "3  ['close', 'close', 'close', 'you', 'lord', 'cl...   \n",
       "4  ['because', 'mountains', 'give', 'way', 'hills...   \n",
       "\n",
       "              txt_en_tokenized_lower_nostops_stemmed  \\\n",
       "0  ['you', 'deliv', 'us', 'chain', 'christ', 'bec...   \n",
       "1  ['alleluia', 'alleluia', 'alleluia', 'alleluia...   \n",
       "2  ['alleluia', 'alleluia', 'amen', 'amen', 'alle...   \n",
       "3  ['close', 'close', 'close', 'you', 'lord', 'cl...   \n",
       "4  ['becaus', 'mountain', 'give', 'way', 'hill', ...   \n",
       "\n",
       "           txt_en_tokenized_lower_nostops_lemmatized  \n",
       "0  ['you', 'delivered', 'u', 'chain', 'christ', '...  \n",
       "1  ['alleluia', 'alleluia', 'alleluia', 'alleluia...  \n",
       "2  ['alleluia', 'alleluia', 'amen', 'amen', 'alle...  \n",
       "3  ['close', 'close', 'close', 'you', 'lord', 'cl...  \n",
       "4  ['because', 'mountain', 'give', 'way', 'hill',...  "
      ]
     },
     "execution_count": 2,
     "metadata": {},
     "output_type": "execute_result"
    }
   ],
   "source": [
    "df = pd.read_csv('../CSV/prep_songs.csv', header=0, index_col=0)\n",
    "df.head()"
   ]
  },
  {
   "cell_type": "code",
   "execution_count": 3,
   "metadata": {},
   "outputs": [
    {
     "name": "stdout",
     "output_type": "stream",
     "text": [
      "<class 'pandas.core.frame.DataFrame'>\n",
      "Int64Index: 187 entries, 0 to 186\n",
      "Data columns (total 11 columns):\n",
      "title_pl                                     187 non-null object\n",
      "txt_pl                                       187 non-null object\n",
      "txt_en                                       187 non-null object\n",
      "title_pl_tokenized                           187 non-null object\n",
      "txt_pl_tokenized                             187 non-null object\n",
      "txt_en_tokenized                             187 non-null object\n",
      "title_pl_tokenized_lower_nostops             187 non-null object\n",
      "txt_pl_tokenized_lower_nostops               187 non-null object\n",
      "txt_en_tokenized_lower_nostops               187 non-null object\n",
      "txt_en_tokenized_lower_nostops_stemmed       187 non-null object\n",
      "txt_en_tokenized_lower_nostops_lemmatized    187 non-null object\n",
      "dtypes: object(11)\n",
      "memory usage: 17.5+ KB\n"
     ]
    }
   ],
   "source": [
    "df.info()"
   ]
  },
  {
   "cell_type": "markdown",
   "metadata": {},
   "source": [
    "### Preprocessing"
   ]
  },
  {
   "cell_type": "code",
   "execution_count": 4,
   "metadata": {},
   "outputs": [],
   "source": [
    "def preprocess_data(doc_set):\n",
    "    \"\"\"\n",
    "    Input  : docuemnt list\n",
    "    Purpose: preprocess text (tokenize, removing stopwords, and stemming)\n",
    "    Output : preprocessed text\n",
    "    \"\"\"\n",
    "    # initialize regex tokenizer\n",
    "    tokenizer = RegexpTokenizer(r'\\w+')\n",
    "    # create English stop words list\n",
    "    en_stop = set(stopwords.words('english'))\n",
    "    # Create p_stemmer of class PorterStemmer\n",
    "    p_stemmer = PorterStemmer()\n",
    "    wn_lemmatizer = WordNetLemmatizer()\n",
    "    # list for tokenized documents in loop\n",
    "    texts = []\n",
    "    # loop through document list\n",
    "    for i in doc_set:\n",
    "        # clean and tokenize document string\n",
    "        raw = i.lower()\n",
    "        tokens = tokenizer.tokenize(raw)\n",
    "        # remove stop words from tokens\n",
    "        stopped_tokens = [i for i in tokens if not i in en_stop]\n",
    "        # lemmatized tokens\n",
    "        #lemmatized_tokens = [wn_lemmatizer.lemmatize(i) for i in stopped_tokens]\n",
    "        # add tokens to list\n",
    "        #texts.append(lemmatized_tokens)\n",
    "        texts.append(stopped_tokens)\n",
    "    return texts"
   ]
  },
  {
   "cell_type": "markdown",
   "metadata": {},
   "source": [
    "### Preparing corpus"
   ]
  },
  {
   "cell_type": "code",
   "execution_count": 5,
   "metadata": {},
   "outputs": [],
   "source": [
    "def prepare_corpus(doc_clean):\n",
    "    \"\"\"\n",
    "    Input  : clean document\n",
    "    Purpose: create term dictionary of our courpus and Converting list of documents (corpus) into Document Term Matrix\n",
    "    Output : term dictionary and Document Term Matrix\n",
    "    \"\"\"\n",
    "    # Creating the term dictionary of our courpus, where every unique term is assigned an index. dictionary = corpora.Dictionary(doc_clean)\n",
    "    dictionary = corpora.Dictionary(doc_clean)\n",
    "    # Converting list of documents (corpus) into Document Term Matrix using dictionary prepared above.\n",
    "    doc_term_matrix = [dictionary.doc2bow(doc) for doc in doc_clean]\n",
    "    # generate LDA model\n",
    "    return dictionary,doc_term_matrix"
   ]
  },
  {
   "cell_type": "markdown",
   "metadata": {},
   "source": [
    "### Creating LSA model using Gensim"
   ]
  },
  {
   "cell_type": "code",
   "execution_count": 6,
   "metadata": {},
   "outputs": [],
   "source": [
    "def create_gensim_lsa_model(doc_clean,number_of_topics,words):\n",
    "    \"\"\"\n",
    "    Input  : clean document, number of topics and number of words associated with each topic\n",
    "    Purpose: create LSA model using gensim\n",
    "    Output : return LSA model\n",
    "    \"\"\"\n",
    "    dictionary,doc_term_matrix=prepare_corpus(doc_clean)\n",
    "    # generate LSA model\n",
    "    lsamodel = LsiModel(doc_term_matrix, num_topics=number_of_topics, id2word = dictionary)  # train model\n",
    "    print(lsamodel.print_topics(num_topics=number_of_topics, num_words=words))\n",
    "    return lsamodel"
   ]
  },
  {
   "cell_type": "markdown",
   "metadata": {},
   "source": [
    "### Determine number of topics"
   ]
  },
  {
   "cell_type": "code",
   "execution_count": 7,
   "metadata": {},
   "outputs": [],
   "source": [
    "def compute_coherence_values(dictionary, doc_term_matrix, doc_clean, stop, start=2, step=3):\n",
    "    \"\"\"\n",
    "    Input   : dictionary : Gensim dictionary\n",
    "              corpus : Gensim corpus\n",
    "              texts : List of input texts\n",
    "              stop : Max num of topics\n",
    "    purpose : Compute c_v coherence for various number of topics\n",
    "    Output  : model_list : List of LSA topic models\n",
    "              coherence_values : Coherence values corresponding to the LDA model with respective number of topics\n",
    "    \"\"\"\n",
    "    coherence_values = []\n",
    "    model_list = []\n",
    "    for num_topics in range(start, stop, step):\n",
    "        # generate LSA model\n",
    "        model = LsiModel(doc_term_matrix, num_topics=number_of_topics, id2word = dictionary)  # train model\n",
    "        model_list.append(model)\n",
    "        coherencemodel = CoherenceModel(model=model, texts=doc_clean, dictionary=dictionary, coherence='c_v')\n",
    "        coherence_values.append(coherencemodel.get_coherence())\n",
    "    return model_list, coherence_values"
   ]
  },
  {
   "cell_type": "code",
   "execution_count": 8,
   "metadata": {},
   "outputs": [],
   "source": [
    "def plot_graph(doc_clean,start, stop, step):\n",
    "    dictionary,doc_term_matrix=prepare_corpus(doc_clean)\n",
    "    model_list, coherence_values = compute_coherence_values(dictionary, doc_term_matrix,doc_clean,\n",
    "                                                            stop, start, step)\n",
    "    # Show graph\n",
    "    x = range(start, stop, step)\n",
    "    plt.plot(x, coherence_values)\n",
    "    plt.xlabel(\"Number of Topics\")\n",
    "    plt.ylabel(\"Coherence score\")\n",
    "    plt.legend((\"coherence_values\"), loc='best')\n",
    "    plt.show()"
   ]
  },
  {
   "cell_type": "markdown",
   "metadata": {},
   "source": [
    "### Run"
   ]
  },
  {
   "cell_type": "code",
   "execution_count": 10,
   "metadata": {},
   "outputs": [
    {
     "name": "stdout",
     "output_type": "stream",
     "text": [
      "[(0, '0.696*\"us\" + 0.362*\"lord\" + 0.265*\"let\"'), (1, '-0.675*\"lord\" + 0.320*\"us\" + 0.243*\"mother\"'), (2, '-0.788*\"god\" + 0.257*\"lord\" + 0.240*\"today\"'), (3, '-0.617*\"alleluia\" + 0.387*\"today\" + 0.328*\"trust\"'), (4, '0.447*\"mother\" + -0.348*\"us\" + 0.292*\"son\"')]\n"
     ]
    }
   ],
   "source": [
    "# LSA Model\n",
    "number_of_topics=5\n",
    "words=3\n",
    "model=create_gensim_lsa_model(clean_text,number_of_topics,words)"
   ]
  },
  {
   "cell_type": "code",
   "execution_count": 11,
   "metadata": {},
   "outputs": [
    {
     "data": {
      "image/png": "[encoded data removed]",
      "text/plain": [
       "<Figure size 432x288 with 1 Axes>"
      ]
     },
     "metadata": {
      "needs_background": "light"
     },
     "output_type": "display_data"
    }
   ],
   "source": [
    "clean_text=preprocess_data(df['txt_en'])\n",
    "start,stop,step=1,20,1\n",
    "plot_graph(clean_text,start,stop,step)"
   ]
  },
  {
   "cell_type": "code",
   "execution_count": 36,
   "metadata": {},
   "outputs": [
    {
     "data": {
      "text/plain": [
       "[(0,\n",
       "  '0.685*\"u\" + 0.367*\"lord\" + 0.254*\"let\" + 0.195*\"mother\" + 0.186*\"son\" + 0.183*\"god\" + 0.135*\"give\" + 0.126*\"come\" + 0.126*\"world\" + 0.108*\"path\"'),\n",
       " (1,\n",
       "  '-0.670*\"lord\" + 0.320*\"u\" + 0.246*\"mother\" + -0.216*\"alleluia\" + 0.204*\"son\" + -0.196*\"today\" + -0.155*\"trust\" + -0.149*\"god\" + -0.132*\"praise\" + 0.128*\"path\"'),\n",
       " (2,\n",
       "  '-0.775*\"god\" + 0.267*\"lord\" + 0.246*\"today\" + 0.219*\"trust\" + -0.170*\"praise\" + -0.131*\"great\" + -0.128*\"king\" + -0.116*\"sing\" + 0.101*\"mother\" + -0.092*\"earth\"'),\n",
       " (3,\n",
       "  '0.616*\"alleluia\" + -0.383*\"today\" + -0.323*\"trust\" + -0.229*\"god\" + 0.215*\"amen\" + 0.184*\"earth\" + 0.177*\"let\" + 0.157*\"rejoice\" + 0.142*\"joy\" + 0.132*\"call\"'),\n",
       " (4,\n",
       "  '0.447*\"mother\" + -0.358*\"u\" + 0.294*\"son\" + 0.229*\"alleluia\" + 0.207*\"god\" + 0.193*\"trust\" + -0.179*\"let\" + -0.155*\"holy\" + -0.149*\"bread\" + 0.148*\"today\"'),\n",
       " (5,\n",
       "  '0.405*\"jesus\" + -0.385*\"earth\" + 0.374*\"alleluia\" + 0.340*\"amen\" + -0.206*\"joy\" + -0.199*\"king\" + -0.185*\"whole\" + -0.172*\"call\" + -0.147*\"praise\" + 0.141*\"love\"'),\n",
       " (6,\n",
       "  '-0.419*\"jesus\" + -0.260*\"holy\" + 0.253*\"god\" + -0.231*\"heart\" + 0.231*\"trust\" + 0.217*\"u\" + 0.213*\"alleluia\" + -0.203*\"love\" + 0.198*\"today\" + -0.198*\"bless\"'),\n",
       " (7,\n",
       "  '-0.400*\"jesus\" + 0.323*\"bless\" + -0.258*\"earth\" + -0.230*\"trust\" + -0.227*\"king\" + -0.208*\"today\" + -0.205*\"love\" + 0.175*\"lord\" + 0.171*\"holy\" + 0.153*\"mother\"'),\n",
       " (8,\n",
       "  '-0.399*\"let\" + 0.296*\"bless\" + -0.269*\"come\" + -0.242*\"heart\" + -0.217*\"want\" + 0.177*\"king\" + 0.158*\"father\" + -0.155*\"power\" + 0.151*\"praise\" + 0.149*\"lord\"'),\n",
       " (9,\n",
       "  '0.355*\"heart\" + -0.276*\"jesus\" + -0.214*\"cross\" + -0.210*\"mother\" + 0.193*\"know\" + 0.186*\"holy\" + 0.166*\"alleluia\" + -0.163*\"let\" + 0.163*\"trust\" + 0.161*\"world\"'),\n",
       " (10,\n",
       "  '0.570*\"praise\" + -0.284*\"bless\" + 0.253*\"holy\" + 0.224*\"body\" + 0.217*\"christ\" + 0.217*\"nourishes\" + 0.162*\"forever\" + -0.140*\"earth\" + 0.139*\"trust\" + -0.132*\"like\"'),\n",
       " (11,\n",
       "  '-0.244*\"heart\" + -0.238*\"bread\" + -0.237*\"mother\" + 0.222*\"jesus\" + 0.209*\"king\" + -0.191*\"teach\" + -0.190*\"stood\" + -0.183*\"said\" + -0.179*\"goodbye\" + -0.178*\"end\"'),\n",
       " (12,\n",
       "  '-0.445*\"father\" + -0.365*\"abba\" + 0.274*\"king\" + -0.227*\"call\" + 0.218*\"heaven\" + -0.201*\"joy\" + -0.168*\"rejoice\" + 0.149*\"heart\" + 0.133*\"praise\" + 0.130*\"sing\"'),\n",
       " (13,\n",
       "  '0.441*\"king\" + 0.265*\"father\" + 0.215*\"holy\" + 0.207*\"abba\" + -0.190*\"praise\" + -0.177*\"know\" + 0.176*\"come\" + 0.166*\"amen\" + 0.141*\"whole\" + -0.140*\"jesus\"')]"
      ]
     },
     "execution_count": 36,
     "metadata": {},
     "output_type": "execute_result"
    }
   ],
   "source": [
    "model.show_topics()"
   ]
  }
 ],
 "metadata": {
  "kernelspec": {
   "display_name": "Python 3",
   "language": "python",
   "name": "python3"
  },
  "language_info": {
   "codemirror_mode": {
    "name": "ipython",
    "version": 3
   },
   "file_extension": ".py",
   "mimetype": "text/x-python",
   "name": "python",
   "nbconvert_exporter": "python",
   "pygments_lexer": "ipython3",
   "version": "3.6.8"
  }
 },
 "nbformat": 4,
 "nbformat_minor": 2
}
