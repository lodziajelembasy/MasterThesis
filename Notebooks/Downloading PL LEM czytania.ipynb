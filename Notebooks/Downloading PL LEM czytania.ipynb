{
 "cells": [
  {
   "cell_type": "markdown",
   "metadata": {},
   "source": [
    "# Downloading PL LEM - czytania"
   ]
  },
  {
   "cell_type": "code",
   "execution_count": 155,
   "metadata": {},
   "outputs": [],
   "source": [
    "import pandas as pd\n",
    "import os\n",
    "import codecs   "
   ]
  },
  {
   "cell_type": "code",
   "execution_count": 156,
   "metadata": {},
   "outputs": [],
   "source": [
    "import re\n",
    "def clean_indent(raw):\n",
    "    cleaner = re.compile('^\\s+')\n",
    "    cleantext = re.sub(cleaner, '',raw)\n",
    "    return cleantext\n",
    "\n",
    "def clean_rest(text):\n",
    "    cleaner = re.compile('\\\\r\\\\n\\s+')\n",
    "    cleantext = re.sub(cleaner, '',text)\n",
    "    return cleantext\n",
    "\n",
    "def clean_rest2(text):\n",
    "    cleaner = re.compile('(\\\\r\\\\n)')\n",
    "    cleantext = re.sub(cleaner, ' ',text)\n",
    "    return cleantext\n",
    "\n",
    "def clean_carriage(text):\n",
    "    cleaner = re.compile('(.*)\\n')\n",
    "    cleantext = re.sub(cleaner, '',text)\n",
    "    return cleantext\n",
    "\n",
    "def clean_rest3(text):\n",
    "    cleaner = re.compile('\\\\n')\n",
    "    cleantext = re.sub(cleaner, '',text)\n",
    "    return cleantext"
   ]
  },
  {
   "cell_type": "code",
   "execution_count": 157,
   "metadata": {},
   "outputs": [],
   "source": [
    "prep = pd.read_csv('prep_readings_pl_FILTERED.csv', header=0, index_col=0)"
   ]
  },
  {
   "cell_type": "code",
   "execution_count": 158,
   "metadata": {},
   "outputs": [],
   "source": [
    "prep = prep.sort_index()"
   ]
  },
  {
   "cell_type": "code",
   "execution_count": 184,
   "metadata": {},
   "outputs": [],
   "source": [
    "path = 'lemmatyzacjaPL/czytania_stop/czytania_stop_wcrft2/'\n",
    "#filename = 'lemmatyzacjaPL\\\\czytania\\\\czytania_lem_morp\\\\czytania%2018-12-02.txt.txt'"
   ]
  },
  {
   "cell_type": "code",
   "execution_count": 185,
   "metadata": {},
   "outputs": [
    {
     "name": "stdout",
     "output_type": "stream",
     "text": [
      "87\n"
     ]
    }
   ],
   "source": [
    "filelist = os.listdir(path)\n",
    "#print(filelist[0])\n",
    "files = [path + filelist[i] for i in range(len(filelist))]\n",
    "print(len(files))"
   ]
  },
  {
   "cell_type": "code",
   "execution_count": 186,
   "metadata": {},
   "outputs": [
    {
     "name": "stdout",
     "output_type": "stream",
     "text": [
      "(87, 1)\n"
     ]
    }
   ],
   "source": [
    "data = []\n",
    "for file in files:\n",
    "    with codecs.open(file, 'r', encoding='utf8') as f:\n",
    "        text = f.read()\n",
    "        data.append(clean_rest3(text))\n",
    "        \n",
    "        \n",
    "df = pd.DataFrame(data)\n",
    "print(df.shape)"
   ]
  },
  {
   "cell_type": "code",
   "execution_count": 187,
   "metadata": {},
   "outputs": [
    {
     "data": {
      "text/html": [
       "<div>\n",
       "<style scoped>\n",
       "    .dataframe tbody tr th:only-of-type {\n",
       "        vertical-align: middle;\n",
       "    }\n",
       "\n",
       "    .dataframe tbody tr th {\n",
       "        vertical-align: top;\n",
       "    }\n",
       "\n",
       "    .dataframe thead th {\n",
       "        text-align: right;\n",
       "    }\n",
       "</style>\n",
       "<table border=\"1\" class=\"dataframe\">\n",
       "  <thead>\n",
       "    <tr style=\"text-align: right;\">\n",
       "      <th></th>\n",
       "      <th>txt_pl_lem</th>\n",
       "      <th>date</th>\n",
       "    </tr>\n",
       "  </thead>\n",
       "  <tbody>\n",
       "    <tr>\n",
       "      <th>0</th>\n",
       "      <td>\"Pan mówić: „ nadchodzić dzień,  wypełnić pomy...</td>\n",
       "      <td>2018-12-02</td>\n",
       "    </tr>\n",
       "    <tr>\n",
       "      <th>1</th>\n",
       "      <td>\" owo dzień odrośl Pan stan  ozdoba  chwała,  ...</td>\n",
       "      <td>2018-12-03</td>\n",
       "    </tr>\n",
       "    <tr>\n",
       "      <th>2</th>\n",
       "      <td>\"wyrosnąć różdżka  pień Jessego, wypuścić  odr...</td>\n",
       "      <td>2018-12-04</td>\n",
       "    </tr>\n",
       "    <tr>\n",
       "      <th>3</th>\n",
       "      <td>\"  dzienia śpiewać   pieśń  ziemia judzki: „mi...</td>\n",
       "      <td>2018-12-06</td>\n",
       "    </tr>\n",
       "    <tr>\n",
       "      <th>4</th>\n",
       "      <td>\"złoże, Jeruzalem, szata smutek  utrapienie sw...</td>\n",
       "      <td>2018-12-09</td>\n",
       "    </tr>\n",
       "  </tbody>\n",
       "</table>\n",
       "</div>"
      ],
      "text/plain": [
       "                                          txt_pl_lem        date\n",
       "0  \"Pan mówić: „ nadchodzić dzień,  wypełnić pomy...  2018-12-02\n",
       "1  \" owo dzień odrośl Pan stan  ozdoba  chwała,  ...  2018-12-03\n",
       "2  \"wyrosnąć różdżka  pień Jessego, wypuścić  odr...  2018-12-04\n",
       "3  \"  dzienia śpiewać   pieśń  ziemia judzki: „mi...  2018-12-06\n",
       "4  \"złoże, Jeruzalem, szata smutek  utrapienie sw...  2018-12-09"
      ]
     },
     "execution_count": 187,
     "metadata": {},
     "output_type": "execute_result"
    }
   ],
   "source": [
    "df.columns = ['txt_pl_lem']\n",
    "df['date']= prep.index\n",
    "df.head()"
   ]
  },
  {
   "cell_type": "code",
   "execution_count": 188,
   "metadata": {},
   "outputs": [
    {
     "data": {
      "text/plain": [
       "'\" owo dzień odrośl Pan stan  ozdoba  chwała,  owoc ziemia przepych  krasa  ocalały  Izrael.   : ,  pozostać żywy  Syjon,    ostać  Jeruzalem,   nazwać święta  wpisać  księga życie  Jeruzalem.  Pan obmyć brud córa syjoński  krew rozlany oczyścić wewnątrz Jeruzalem tchnienie sąd  tchnienie pożoga,  Pan przyjść spocząć   przestrzeń góra Syjon   ,    zgromadzić,  dna  obłok  dym,  noc  olśniewający płomień ogień.    chwała Pan  osłona  namiot,   dzień dać cień  skwar, ucieczka   schronienie  nawałnica  ulewa. iść  radość  spotkanie Pan ucieszyć ,   powiedzieć: „pójść  dom Pan”.  stać  stop   bram, Jeruzalem. wstępować pokolenie pańskie,  zgodnie  prawo wielbić imię Pan.  ustawić tron sędziowski, tron dom Dawid.prosić  pokój  Jeruzalem:  żyć  pokój,   miłować.  pokój panować   mur,  pomyślność   pałac. wzgląd  bracia   przyjaciel  wołać: „pokój  .  wzgląd  dom Pan, bóg , modlić   dobro  .  Jezus wejść  Kafarnaum, zwrócić    setnik  prosić , mówić: „Pan, sługa  leż  dom sparaliżować   cierpieć”. rzec  Jezus: „przyjść  uzdrowić ”.  setnik odpowiedzieć: „Pan,   godny,  wejść  dach ,  powiedzieć  słowo,   sługa odzyskać zdrowie.   ,  podlegać władza, mama  siebie żołnierz. mówić temu: \"\"iść\"\",  id; drugi: \"\"chodzić \"\",  przychodzić;  sługa: \"\"zrób \"\",  robić”.  Jezus  usłyszeć, zdziwić   rzec  ,  szla  : „zaprawdę powiadać :  nikt  Izrael  znaleźć  wielki wiara.  powiadać :  przyjść  wschód  zachód  zasiąść  stół  Abraham, Izaak  Jakub  królestwo niebieski”.\" '"
      ]
     },
     "execution_count": 188,
     "metadata": {},
     "output_type": "execute_result"
    }
   ],
   "source": [
    "df.iloc[1][0]"
   ]
  },
  {
   "cell_type": "code",
   "execution_count": 189,
   "metadata": {},
   "outputs": [
    {
     "data": {
      "text/plain": [
       "'W owym dniu Odrośl Pana stanie się ozdobą i chwałą, a owoc ziemi przepychem i krasą dla ocalałych z Izraela. I będzie tak:  Ten, kto pozostał żywy na Syjonie, i który się ostał w Jeruzalem, każdy będzie nazwany świętym i wpisany do księgi życia w Jeruzalem. Gdy Pan obmyje brud Córy Syjońskiej i krew rozlaną oczyści wewnątrz Jeruzalem  tchnieniem sądu i tchnieniem pożogi, wtedy Pan przyjdzie spocząć na całej przestrzeni góry Syjonu i na tych, którzy się tam zgromadzą, we dnie jako obłok z dymu, w nocy jako olśniewający płomień ognia. Albowiem nad wszystkim Chwała Pana będzie osłoną i namiotem, by za dnia dać cień przed skwarem, ucieczkę zaś i schronienie przed nawałnicą i ulewą. Idźmy z radością na spotkanie Pana Ucieszyłem się, gdy mi powiedziano:   „Pójdziemy do domu Pana”.  Już stoją nasze stopy   w twoich bramach, Jeruzalem.Tam wstępują pokolenia Pańskie,   aby zgodnie z prawem wielbić imię Pana.  Tam ustawiono trony sędziowskie,   trony domu Dawida.Proście o pokój dla Jeruzalem:   Niech żyją w pokoju, którzy cię miłują.  Niech pokój panuje w twych murach,   a pomyślność w twoich pałacach.Ze względu na braci moich i przyjaciół   będę wołał: „Pokój z tobą.  Ze względu na dom Pana, Boga naszego,   modlę się o dobro dla ciebie. Gdy Jezus wszedł do Kafarnaum, zwrócił się do Niego setnik i prosił Go, mówiąc: „Panie, sługa mój leży w domu sparaliżowany i bardzo cierpi”. Rzekł mu Jezus: „Przyjdę i uzdrowię go”. Lecz setnik odpowiedział: „Panie, nie jestem godzien, abyś wszedł pod dach mój, ale powiedz tylko słowo, a mój sługa odzyska zdrowie. Bo i ja, choć podlegam władzy, mam pod sobą żołnierzy. Mówię temu: \"Idź\", a idzie; drugiemu: \"Chodź tu\", a przychodzi; a słudze: \"Zrób to\", a robi”. Gdy Jezus to usłyszał, zdziwił się i rzekł do tych, którzy szli za Nim: „Zaprawdę powiadam wam: U nikogo w Izraelu nie znalazłem tak wielkiej wiary. Lecz powiadam wam: Wielu przyjdzie ze Wschodu i Zachodu i zasiądą do stołu z Abrahamem, Izaakiem i Jakubem w królestwie niebieskim”.'"
      ]
     },
     "execution_count": 189,
     "metadata": {},
     "output_type": "execute_result"
    }
   ],
   "source": [
    "prep['total'][1]"
   ]
  },
  {
   "cell_type": "code",
   "execution_count": 190,
   "metadata": {},
   "outputs": [],
   "source": [
    "df.to_csv('czytania_lem_stop_wcrft2.csv', header=True, index=False)"
   ]
  },
  {
   "cell_type": "code",
   "execution_count": null,
   "metadata": {},
   "outputs": [],
   "source": []
  }
 ],
 "metadata": {
  "kernelspec": {
   "display_name": "Python 3",
   "language": "python",
   "name": "python3"
  },
  "language_info": {
   "codemirror_mode": {
    "name": "ipython",
    "version": 3
   },
   "file_extension": ".py",
   "mimetype": "text/x-python",
   "name": "python",
   "nbconvert_exporter": "python",
   "pygments_lexer": "ipython3",
   "version": "3.6.8"
  }
 },
 "nbformat": 4,
 "nbformat_minor": 2
}
