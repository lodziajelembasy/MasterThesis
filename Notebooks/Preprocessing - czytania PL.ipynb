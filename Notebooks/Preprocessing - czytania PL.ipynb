{
 "cells": [
  {
   "cell_type": "markdown",
   "metadata": {},
   "source": [
    "# Preprocessing - czytania PL"
   ]
  },
  {
   "cell_type": "code",
   "execution_count": 78,
   "metadata": {},
   "outputs": [],
   "source": [
    "import pandas as pd\n",
    "import nltk"
   ]
  },
  {
   "cell_type": "code",
   "execution_count": 147,
   "metadata": {},
   "outputs": [
    {
     "name": "stdout",
     "output_type": "stream",
     "text": [
      "(87, 2)\n"
     ]
    },
    {
     "data": {
      "text/html": [
       "<div>\n",
       "<style scoped>\n",
       "    .dataframe tbody tr th:only-of-type {\n",
       "        vertical-align: middle;\n",
       "    }\n",
       "\n",
       "    .dataframe tbody tr th {\n",
       "        vertical-align: top;\n",
       "    }\n",
       "\n",
       "    .dataframe thead th {\n",
       "        text-align: right;\n",
       "    }\n",
       "</style>\n",
       "<table border=\"1\" class=\"dataframe\">\n",
       "  <thead>\n",
       "    <tr style=\"text-align: right;\">\n",
       "      <th></th>\n",
       "      <th>txt_pl_lem</th>\n",
       "      <th>date</th>\n",
       "    </tr>\n",
       "  </thead>\n",
       "  <tbody>\n",
       "    <tr>\n",
       "      <th>0</th>\n",
       "      <td>\"  mówić : „  nadchodzić dzień ,  wypełnić pom...</td>\n",
       "      <td>2018-12-02</td>\n",
       "    </tr>\n",
       "    <tr>\n",
       "      <th>1</th>\n",
       "      <td>\"   dzień odrośl  stać  ozdoba  chwała ,  owoc...</td>\n",
       "      <td>2018-12-03</td>\n",
       "    </tr>\n",
       "    <tr>\n",
       "      <th>2</th>\n",
       "      <td>\" wyrosnąć różdżka  pień Jesse , wypuścić  odr...</td>\n",
       "      <td>2018-12-04</td>\n",
       "    </tr>\n",
       "    <tr>\n",
       "      <th>3</th>\n",
       "      <td>\"   dzień śpiewać   pieśń  ziemia judzki : „ m...</td>\n",
       "      <td>2018-12-06</td>\n",
       "    </tr>\n",
       "    <tr>\n",
       "      <th>4</th>\n",
       "      <td>\" złożyć , Jeruzalem , szata smutek  utrapieni...</td>\n",
       "      <td>2018-12-09</td>\n",
       "    </tr>\n",
       "  </tbody>\n",
       "</table>\n",
       "</div>"
      ],
      "text/plain": [
       "                                          txt_pl_lem        date\n",
       "0  \"  mówić : „  nadchodzić dzień ,  wypełnić pom...  2018-12-02\n",
       "1  \"   dzień odrośl  stać  ozdoba  chwała ,  owoc...  2018-12-03\n",
       "2  \" wyrosnąć różdżka  pień Jesse , wypuścić  odr...  2018-12-04\n",
       "3  \"   dzień śpiewać   pieśń  ziemia judzki : „ m...  2018-12-06\n",
       "4  \" złożyć , Jeruzalem , szata smutek  utrapieni...  2018-12-09"
      ]
     },
     "execution_count": 147,
     "metadata": {},
     "output_type": "execute_result"
    }
   ],
   "source": [
    "#df = pd.read_csv('piosenki_pl_en.csv', header=0, names=['title_pl', 'txt_pl', 'txt_en'])\n",
    "df = pd.read_csv('czytania_lem_stop_morp1.csv', header=0, index_col=None)\n",
    "#df = pd.read_csv('readings_en.csv', header=0, index_col=0)\n",
    "print(df.shape)\n",
    "df.head()"
   ]
  },
  {
   "cell_type": "code",
   "execution_count": 148,
   "metadata": {},
   "outputs": [
    {
     "data": {
      "text/plain": [
       "'\"  mówić : „  nadchodzić dzień ,  wypełnić pomyślny zapowiedź ,  obwieścić  dom izraelski  dom judzki .   dzień    czas wzbudzić Dawid potomek sprawiedliwy ;   wymierzać prawo  sprawiedliwość  ziemia .   dzień Juda dostąpić zbawienie ,  Jerozolima  mieszkać bezpiecznie .    imię ,    nazywać : \" \"   sprawiedliwość \" \" .   ,  , wznosić  dusza dać  poznać ,  droga ,  , nauczyć  chodzić  ścieżka . prowadzić   prawda   pouczenie , Bóg  zbawca ,   mieć nadzieja . dobry    prawy ,  wskazywać droga grzesznik . pomagać pokorny czynić  , pokorny uczyć droga swoich.Wszystkie ścieżka   pewny  pełny łaska  strzec  prawo  przymierze . Bóg powierzać swój zamiar  ,    bać ,  objawiać  swój przymierze . Jezus powiedzieć  swój uczeń : „  znak  słońce , księżyc  gwiazda ,   ziemia trwoga naród bezradny wobec szum morze   nawałnica . człowiek mdleć   strach ,  oczekiwać wydarzenie zagrażać ziemia .  moc niebiosa zostać wstrząsnąć .  ujrzeć syn człowieczy , przychodzić  obłok  wielki moc  chwała .     dziać zacząć , nabrać duch  podnieść głowa ,  zbliżać   odkupienie . uważać  siebie ,   serce   ociężały wskutek obżarstwo , pijaństwo  troska doczesny ,   dzień  przypaść   znienacka  potrzask . przyjść    wszystek ,  mieszkać   ziemia . czuwać   modlić    czas , abyście móc uniknąć   ,  mieć nastąpić ,  stanąć  syn człowieczy ” . \" '"
      ]
     },
     "execution_count": 148,
     "metadata": {},
     "output_type": "execute_result"
    }
   ],
   "source": [
    "df['txt_pl_lem'][0]"
   ]
  },
  {
   "cell_type": "markdown",
   "metadata": {},
   "source": [
    "## Tokenizacja"
   ]
  },
  {
   "cell_type": "code",
   "execution_count": 149,
   "metadata": {},
   "outputs": [],
   "source": [
    "from gensim.utils import tokenize"
   ]
  },
  {
   "cell_type": "code",
   "execution_count": 150,
   "metadata": {},
   "outputs": [
    {
     "data": {
      "text/html": [
       "<div>\n",
       "<style scoped>\n",
       "    .dataframe tbody tr th:only-of-type {\n",
       "        vertical-align: middle;\n",
       "    }\n",
       "\n",
       "    .dataframe tbody tr th {\n",
       "        vertical-align: top;\n",
       "    }\n",
       "\n",
       "    .dataframe thead th {\n",
       "        text-align: right;\n",
       "    }\n",
       "</style>\n",
       "<table border=\"1\" class=\"dataframe\">\n",
       "  <thead>\n",
       "    <tr style=\"text-align: right;\">\n",
       "      <th></th>\n",
       "      <th>txt_pl_lem</th>\n",
       "      <th>date</th>\n",
       "      <th>txt_pl_lem_tokenized</th>\n",
       "    </tr>\n",
       "  </thead>\n",
       "  <tbody>\n",
       "    <tr>\n",
       "      <th>0</th>\n",
       "      <td>\"  mówić : „  nadchodzić dzień ,  wypełnić pom...</td>\n",
       "      <td>2018-12-02</td>\n",
       "      <td>[mówić, nadchodzić, dzień, wypełnić, pomyślny,...</td>\n",
       "    </tr>\n",
       "    <tr>\n",
       "      <th>1</th>\n",
       "      <td>\"   dzień odrośl  stać  ozdoba  chwała ,  owoc...</td>\n",
       "      <td>2018-12-03</td>\n",
       "      <td>[dzień, odrośl, stać, ozdoba, chwała, owoc, zi...</td>\n",
       "    </tr>\n",
       "    <tr>\n",
       "      <th>2</th>\n",
       "      <td>\" wyrosnąć różdżka  pień Jesse , wypuścić  odr...</td>\n",
       "      <td>2018-12-04</td>\n",
       "      <td>[wyrosnąć, różdżka, pień, jesse, wypuścić, odr...</td>\n",
       "    </tr>\n",
       "    <tr>\n",
       "      <th>3</th>\n",
       "      <td>\"   dzień śpiewać   pieśń  ziemia judzki : „ m...</td>\n",
       "      <td>2018-12-06</td>\n",
       "      <td>[dzień, śpiewać, pieśń, ziemia, judzki, miasto...</td>\n",
       "    </tr>\n",
       "    <tr>\n",
       "      <th>4</th>\n",
       "      <td>\" złożyć , Jeruzalem , szata smutek  utrapieni...</td>\n",
       "      <td>2018-12-09</td>\n",
       "      <td>[złożyć, jeruzalem, szata, smutek, utrapienie,...</td>\n",
       "    </tr>\n",
       "  </tbody>\n",
       "</table>\n",
       "</div>"
      ],
      "text/plain": [
       "                                          txt_pl_lem        date  \\\n",
       "0  \"  mówić : „  nadchodzić dzień ,  wypełnić pom...  2018-12-02   \n",
       "1  \"   dzień odrośl  stać  ozdoba  chwała ,  owoc...  2018-12-03   \n",
       "2  \" wyrosnąć różdżka  pień Jesse , wypuścić  odr...  2018-12-04   \n",
       "3  \"   dzień śpiewać   pieśń  ziemia judzki : „ m...  2018-12-06   \n",
       "4  \" złożyć , Jeruzalem , szata smutek  utrapieni...  2018-12-09   \n",
       "\n",
       "                                txt_pl_lem_tokenized  \n",
       "0  [mówić, nadchodzić, dzień, wypełnić, pomyślny,...  \n",
       "1  [dzień, odrośl, stać, ozdoba, chwała, owoc, zi...  \n",
       "2  [wyrosnąć, różdżka, pień, jesse, wypuścić, odr...  \n",
       "3  [dzień, śpiewać, pieśń, ziemia, judzki, miasto...  \n",
       "4  [złożyć, jeruzalem, szata, smutek, utrapienie,...  "
      ]
     },
     "execution_count": 150,
     "metadata": {},
     "output_type": "execute_result"
    }
   ],
   "source": [
    "df['txt_pl_lem_tokenized'] = df['txt_pl_lem'].apply(lambda x: list(tokenize(x, to_lower=True)))\n",
    "df.head()"
   ]
  },
  {
   "cell_type": "code",
   "execution_count": 151,
   "metadata": {},
   "outputs": [
    {
     "data": {
      "text/html": [
       "<div>\n",
       "<style scoped>\n",
       "    .dataframe tbody tr th:only-of-type {\n",
       "        vertical-align: middle;\n",
       "    }\n",
       "\n",
       "    .dataframe tbody tr th {\n",
       "        vertical-align: top;\n",
       "    }\n",
       "\n",
       "    .dataframe thead th {\n",
       "        text-align: right;\n",
       "    }\n",
       "</style>\n",
       "<table border=\"1\" class=\"dataframe\">\n",
       "  <thead>\n",
       "    <tr style=\"text-align: right;\">\n",
       "      <th></th>\n",
       "      <th>date</th>\n",
       "      <th>txt_pl_lem_tokenized</th>\n",
       "    </tr>\n",
       "  </thead>\n",
       "  <tbody>\n",
       "    <tr>\n",
       "      <th>0</th>\n",
       "      <td>2018-12-02</td>\n",
       "      <td>[mówić, nadchodzić, dzień, wypełnić, pomyślny,...</td>\n",
       "    </tr>\n",
       "    <tr>\n",
       "      <th>1</th>\n",
       "      <td>2018-12-03</td>\n",
       "      <td>[dzień, odrośl, stać, ozdoba, chwała, owoc, zi...</td>\n",
       "    </tr>\n",
       "    <tr>\n",
       "      <th>2</th>\n",
       "      <td>2018-12-04</td>\n",
       "      <td>[wyrosnąć, różdżka, pień, jesse, wypuścić, odr...</td>\n",
       "    </tr>\n",
       "    <tr>\n",
       "      <th>3</th>\n",
       "      <td>2018-12-06</td>\n",
       "      <td>[dzień, śpiewać, pieśń, ziemia, judzki, miasto...</td>\n",
       "    </tr>\n",
       "    <tr>\n",
       "      <th>4</th>\n",
       "      <td>2018-12-09</td>\n",
       "      <td>[złożyć, jeruzalem, szata, smutek, utrapienie,...</td>\n",
       "    </tr>\n",
       "  </tbody>\n",
       "</table>\n",
       "</div>"
      ],
      "text/plain": [
       "         date                               txt_pl_lem_tokenized\n",
       "0  2018-12-02  [mówić, nadchodzić, dzień, wypełnić, pomyślny,...\n",
       "1  2018-12-03  [dzień, odrośl, stać, ozdoba, chwała, owoc, zi...\n",
       "2  2018-12-04  [wyrosnąć, różdżka, pień, jesse, wypuścić, odr...\n",
       "3  2018-12-06  [dzień, śpiewać, pieśń, ziemia, judzki, miasto...\n",
       "4  2018-12-09  [złożyć, jeruzalem, szata, smutek, utrapienie,..."
      ]
     },
     "execution_count": 151,
     "metadata": {},
     "output_type": "execute_result"
    }
   ],
   "source": [
    "df = df[['date','txt_pl_lem_tokenized']]\n",
    "df.head()"
   ]
  },
  {
   "cell_type": "code",
   "execution_count": 152,
   "metadata": {},
   "outputs": [
    {
     "data": {
      "text/plain": [
       "(87, 2)"
      ]
     },
     "execution_count": 152,
     "metadata": {},
     "output_type": "execute_result"
    }
   ],
   "source": [
    "df.shape"
   ]
  },
  {
   "cell_type": "markdown",
   "metadata": {},
   "source": [
    "## Zapis do pliku csv"
   ]
  },
  {
   "cell_type": "code",
   "execution_count": 153,
   "metadata": {},
   "outputs": [],
   "source": [
    "df.to_csv(path_or_buf='prep_readings_pl_lem_stop_morp1.csv', header=df.columns, index=False)"
   ]
  },
  {
   "cell_type": "code",
   "execution_count": null,
   "metadata": {},
   "outputs": [],
   "source": []
  }
 ],
 "metadata": {
  "kernelspec": {
   "display_name": "Python 3",
   "language": "python",
   "name": "python3"
  },
  "language_info": {
   "codemirror_mode": {
    "name": "ipython",
    "version": 3
   },
   "file_extension": ".py",
   "mimetype": "text/x-python",
   "name": "python",
   "nbconvert_exporter": "python",
   "pygments_lexer": "ipython3",
   "version": "3.6.8"
  }
 },
 "nbformat": 4,
 "nbformat_minor": 2
}
